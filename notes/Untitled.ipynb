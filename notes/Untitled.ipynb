{
 "cells": [
  {
   "cell_type": "code",
   "execution_count": 7,
   "id": "cf3c70fe",
   "metadata": {},
   "outputs": [
    {
     "data": {
      "text/plain": [
       "57"
      ]
     },
     "execution_count": 7,
     "metadata": {},
     "output_type": "execute_result"
    }
   ],
   "source": [
    "a= 57\n",
    "a "
   ]
  },
  {
   "cell_type": "code",
   "execution_count": 8,
   "id": "252e9701",
   "metadata": {},
   "outputs": [
    {
     "data": {
      "text/plain": [
       "6"
      ]
     },
     "execution_count": 8,
     "metadata": {},
     "output_type": "execute_result"
    }
   ],
   "source": [
    "3+3"
   ]
  },
  {
   "cell_type": "code",
   "execution_count": 9,
   "id": "e4105de5",
   "metadata": {},
   "outputs": [
    {
     "name": "stdout",
     "output_type": "stream",
     "text": [
      "<class 'int'>\n"
     ]
    }
   ],
   "source": [
    "print(type(a))"
   ]
  },
  {
   "cell_type": "code",
   "execution_count": 10,
   "id": "7212b66d",
   "metadata": {},
   "outputs": [
    {
     "data": {
      "text/plain": [
       "int"
      ]
     },
     "execution_count": 10,
     "metadata": {},
     "output_type": "execute_result"
    }
   ],
   "source": [
    "type(a)"
   ]
  },
  {
   "cell_type": "code",
   "execution_count": 11,
   "id": "dc98a830",
   "metadata": {},
   "outputs": [
    {
     "data": {
      "text/plain": [
       "str"
      ]
     },
     "execution_count": 11,
     "metadata": {},
     "output_type": "execute_result"
    }
   ],
   "source": [
    "u = \"pw skills\"\n",
    "u\n",
    "type(u)"
   ]
  },
  {
   "cell_type": "code",
   "execution_count": 12,
   "id": "6eb305e0",
   "metadata": {},
   "outputs": [
    {
     "data": {
      "text/plain": [
       "str"
      ]
     },
     "execution_count": 12,
     "metadata": {},
     "output_type": "execute_result"
    }
   ],
   "source": [
    "m= 'Aryan'\n",
    "type(m)"
   ]
  },
  {
   "cell_type": "code",
   "execution_count": 13,
   "id": "e57f5a44",
   "metadata": {},
   "outputs": [
    {
     "name": "stdout",
     "output_type": "stream",
     "text": [
      "<class 'float'>\n"
     ]
    },
    {
     "data": {
      "text/plain": [
       "float"
      ]
     },
     "execution_count": 13,
     "metadata": {},
     "output_type": "execute_result"
    }
   ],
   "source": [
    "st = 83850.348\n",
    "print(type(st))\n",
    "type(st)"
   ]
  },
  {
   "cell_type": "code",
   "execution_count": 14,
   "id": "548e9a02",
   "metadata": {},
   "outputs": [
    {
     "name": "stdout",
     "output_type": "stream",
     "text": [
      "<class 'complex'>\n"
     ]
    }
   ],
   "source": [
    "c = 39j   # complex number is the combination of real number and imaginary number\n",
    "\n",
    "print(type(c))"
   ]
  },
  {
   "cell_type": "code",
   "execution_count": 15,
   "id": "81c4375a",
   "metadata": {},
   "outputs": [
    {
     "data": {
      "text/plain": [
       "complex"
      ]
     },
     "execution_count": 15,
     "metadata": {},
     "output_type": "execute_result"
    }
   ],
   "source": [
    "st6 = 3+48j\n",
    "type(st6)"
   ]
  },
  {
   "cell_type": "code",
   "execution_count": 16,
   "id": "55e56152",
   "metadata": {},
   "outputs": [
    {
     "data": {
      "text/plain": [
       "0.0"
      ]
     },
     "execution_count": 16,
     "metadata": {},
     "output_type": "execute_result"
    }
   ],
   "source": [
    "c.real\n"
   ]
  },
  {
   "cell_type": "code",
   "execution_count": 17,
   "id": "11679b67",
   "metadata": {},
   "outputs": [
    {
     "data": {
      "text/plain": [
       "3.0"
      ]
     },
     "execution_count": 17,
     "metadata": {},
     "output_type": "execute_result"
    }
   ],
   "source": [
    "st6.real"
   ]
  },
  {
   "cell_type": "code",
   "execution_count": 18,
   "id": "c8ea6f08",
   "metadata": {},
   "outputs": [
    {
     "data": {
      "text/plain": [
       "39.0"
      ]
     },
     "execution_count": 18,
     "metadata": {},
     "output_type": "execute_result"
    }
   ],
   "source": [
    "c.imag\n"
   ]
  },
  {
   "cell_type": "code",
   "execution_count": 19,
   "id": "55c0dcda",
   "metadata": {},
   "outputs": [
    {
     "data": {
      "text/plain": [
       "48.0"
      ]
     },
     "execution_count": 19,
     "metadata": {},
     "output_type": "execute_result"
    }
   ],
   "source": [
    "st6.imag"
   ]
  },
  {
   "cell_type": "code",
   "execution_count": 20,
   "id": "a2cc4d70",
   "metadata": {},
   "outputs": [
    {
     "data": {
      "text/plain": [
       "False"
      ]
     },
     "execution_count": 20,
     "metadata": {},
     "output_type": "execute_result"
    }
   ],
   "source": [
    "b = False\n",
    "b"
   ]
  },
  {
   "cell_type": "code",
   "execution_count": 21,
   "id": "196f4b1f",
   "metadata": {},
   "outputs": [
    {
     "name": "stdout",
     "output_type": "stream",
     "text": [
      "<class 'bool'>\n"
     ]
    }
   ],
   "source": [
    "print(type(b))"
   ]
  },
  {
   "cell_type": "code",
   "execution_count": 22,
   "id": "ea361ec8",
   "metadata": {},
   "outputs": [
    {
     "data": {
      "text/plain": [
       "True"
      ]
     },
     "execution_count": 22,
     "metadata": {},
     "output_type": "execute_result"
    }
   ],
   "source": [
    "\n",
    "b3 = True\n",
    "b3"
   ]
  },
  {
   "cell_type": "code",
   "execution_count": 23,
   "id": "4a39cb86",
   "metadata": {},
   "outputs": [],
   "source": [
    "m = 34\n",
    "n = 3\n",
    "\n"
   ]
  },
  {
   "cell_type": "code",
   "execution_count": 24,
   "id": "8432fbf6",
   "metadata": {},
   "outputs": [
    {
     "data": {
      "text/plain": [
       "37"
      ]
     },
     "execution_count": 24,
     "metadata": {},
     "output_type": "execute_result"
    }
   ],
   "source": [
    "m + n"
   ]
  },
  {
   "cell_type": "code",
   "execution_count": 25,
   "id": "8350e224",
   "metadata": {},
   "outputs": [
    {
     "data": {
      "text/plain": [
       "102"
      ]
     },
     "execution_count": 25,
     "metadata": {},
     "output_type": "execute_result"
    }
   ],
   "source": [
    "m*n"
   ]
  },
  {
   "cell_type": "code",
   "execution_count": 26,
   "id": "d122be09",
   "metadata": {},
   "outputs": [
    {
     "data": {
      "text/plain": [
       "11.333333333333334"
      ]
     },
     "execution_count": 26,
     "metadata": {},
     "output_type": "execute_result"
    }
   ],
   "source": [
    "m/n"
   ]
  },
  {
   "cell_type": "code",
   "execution_count": 27,
   "id": "390e7a0a",
   "metadata": {},
   "outputs": [
    {
     "data": {
      "text/plain": [
       "39304"
      ]
     },
     "execution_count": 27,
     "metadata": {},
     "output_type": "execute_result"
    }
   ],
   "source": [
    "m**n"
   ]
  },
  {
   "cell_type": "code",
   "execution_count": 28,
   "id": "11367262",
   "metadata": {},
   "outputs": [
    {
     "data": {
      "text/plain": [
       "11"
      ]
     },
     "execution_count": 28,
     "metadata": {},
     "output_type": "execute_result"
    }
   ],
   "source": [
    "m//n"
   ]
  },
  {
   "cell_type": "code",
   "execution_count": 29,
   "id": "7d133191",
   "metadata": {},
   "outputs": [
    {
     "data": {
      "text/plain": [
       "31"
      ]
     },
     "execution_count": 29,
     "metadata": {},
     "output_type": "execute_result"
    }
   ],
   "source": [
    "m-n"
   ]
  },
  {
   "cell_type": "code",
   "execution_count": 30,
   "id": "42e73a5d",
   "metadata": {},
   "outputs": [],
   "source": [
    "prints,some,fical,aryan = 353,\"yadav\",43j,True"
   ]
  },
  {
   "cell_type": "code",
   "execution_count": 31,
   "id": "126b1c0b",
   "metadata": {},
   "outputs": [
    {
     "data": {
      "text/plain": [
       "'yadav'"
      ]
     },
     "execution_count": 31,
     "metadata": {},
     "output_type": "execute_result"
    }
   ],
   "source": [
    "some\n"
   ]
  },
  {
   "cell_type": "code",
   "execution_count": 32,
   "id": "cc367031",
   "metadata": {},
   "outputs": [
    {
     "data": {
      "text/plain": [
       "353"
      ]
     },
     "execution_count": 32,
     "metadata": {},
     "output_type": "execute_result"
    }
   ],
   "source": [
    "prints"
   ]
  },
  {
   "cell_type": "code",
   "execution_count": 33,
   "id": "05274d12",
   "metadata": {},
   "outputs": [
    {
     "data": {
      "text/plain": [
       "43j"
      ]
     },
     "execution_count": 33,
     "metadata": {},
     "output_type": "execute_result"
    }
   ],
   "source": [
    "fical"
   ]
  },
  {
   "cell_type": "code",
   "execution_count": 34,
   "id": "f8a86f45",
   "metadata": {},
   "outputs": [
    {
     "data": {
      "text/plain": [
       "True"
      ]
     },
     "execution_count": 34,
     "metadata": {},
     "output_type": "execute_result"
    }
   ],
   "source": [
    "aryan\n"
   ]
  },
  {
   "cell_type": "code",
   "execution_count": 35,
   "id": "9d41f72c",
   "metadata": {},
   "outputs": [],
   "source": [
    "# %t = 346 % is an special character "
   ]
  },
  {
   "cell_type": "code",
   "execution_count": 36,
   "id": "93d8b5af",
   "metadata": {},
   "outputs": [
    {
     "data": {
      "text/plain": [
       "387"
      ]
     },
     "execution_count": 36,
     "metadata": {},
     "output_type": "execute_result"
    }
   ],
   "source": [
    "_gar = 387\n",
    "_gar"
   ]
  },
  {
   "cell_type": "markdown",
   "id": "a94465e1",
   "metadata": {},
   "source": [
    "c1 = True\n",
    "c2 = False\n",
    "c1-c2"
   ]
  },
  {
   "cell_type": "code",
   "execution_count": 37,
   "id": "3014cf59",
   "metadata": {},
   "outputs": [],
   "source": [
    " c1 = True\n",
    " c2 = False"
   ]
  },
  {
   "cell_type": "code",
   "execution_count": 38,
   "id": "2a1f28fb",
   "metadata": {},
   "outputs": [
    {
     "data": {
      "text/plain": [
       "1"
      ]
     },
     "execution_count": 38,
     "metadata": {},
     "output_type": "execute_result"
    }
   ],
   "source": [
    "c1-c2"
   ]
  },
  {
   "cell_type": "code",
   "execution_count": 39,
   "id": "ab6e2c43",
   "metadata": {},
   "outputs": [
    {
     "data": {
      "text/plain": [
       "-1"
      ]
     },
     "execution_count": 39,
     "metadata": {},
     "output_type": "execute_result"
    }
   ],
   "source": [
    "c2-c1 # boolean exicute in computer as 0 and 1  system"
   ]
  },
  {
   "cell_type": "code",
   "execution_count": 40,
   "id": "a6329234",
   "metadata": {},
   "outputs": [
    {
     "data": {
      "text/plain": [
       "0.0"
      ]
     },
     "execution_count": 40,
     "metadata": {},
     "output_type": "execute_result"
    }
   ],
   "source": [
    " c2/c1"
   ]
  },
  {
   "cell_type": "code",
   "execution_count": 41,
   "id": "c50ba205",
   "metadata": {},
   "outputs": [
    {
     "data": {
      "text/plain": [
       "' I am aryan yadav '"
      ]
     },
     "execution_count": 41,
     "metadata": {},
     "output_type": "execute_result"
    }
   ],
   "source": [
    "s1 = ' I am aryan yadav '\n",
    "s1"
   ]
  },
  {
   "cell_type": "code",
   "execution_count": 42,
   "id": "4c341806",
   "metadata": {},
   "outputs": [
    {
     "name": "stdout",
     "output_type": "stream",
     "text": [
      " I am aryan yadav \n"
     ]
    }
   ],
   "source": [
    "print(s1)"
   ]
  },
  {
   "cell_type": "code",
   "execution_count": 43,
   "id": "d7d01f78",
   "metadata": {},
   "outputs": [
    {
     "data": {
      "text/plain": [
       "'  Aryan'"
      ]
     },
     "execution_count": 43,
     "metadata": {},
     "output_type": "execute_result"
    }
   ],
   "source": [
    "nb = \"\"\"  Aryan\"\"\"\n",
    "nb\n"
   ]
  },
  {
   "cell_type": "code",
   "execution_count": 44,
   "id": "4c5e7e33",
   "metadata": {},
   "outputs": [
    {
     "data": {
      "text/plain": [
       "str"
      ]
     },
     "execution_count": 44,
     "metadata": {},
     "output_type": "execute_result"
    }
   ],
   "source": [
    "type(nb)"
   ]
  },
  {
   "cell_type": "code",
   "execution_count": 45,
   "id": "62e7e8f2",
   "metadata": {
    "scrolled": true
   },
   "outputs": [
    {
     "data": {
      "text/plain": [
       "str"
      ]
     },
     "execution_count": 45,
     "metadata": {},
     "output_type": "execute_result"
    }
   ],
   "source": [
    "ar= '''Prince'''\n",
    "ar\n",
    "type(ar)"
   ]
  },
  {
   "cell_type": "code",
   "execution_count": 46,
   "id": "6bbe542e",
   "metadata": {},
   "outputs": [
    {
     "data": {
      "text/plain": [
       "'Riya \\n yadav'"
      ]
     },
     "execution_count": 46,
     "metadata": {},
     "output_type": "execute_result"
    }
   ],
   "source": [
    "ng = \"Riya \\n yadav\"\n",
    "ng"
   ]
  },
  {
   "cell_type": "code",
   "execution_count": 47,
   "id": "bf782465",
   "metadata": {},
   "outputs": [
    {
     "data": {
      "text/plain": [
       "'Riya \\n yadav'"
      ]
     },
     "execution_count": 47,
     "metadata": {},
     "output_type": "execute_result"
    }
   ],
   "source": [
    "ng"
   ]
  },
  {
   "cell_type": "code",
   "execution_count": 48,
   "id": "7b672b3f",
   "metadata": {},
   "outputs": [
    {
     "data": {
      "text/plain": [
       "'PrinceYadav'"
      ]
     },
     "execution_count": 48,
     "metadata": {},
     "output_type": "execute_result"
    }
   ],
   "source": [
    "'Prince'+ 'Yadav' # concationation operation  this is called as "
   ]
  },
  {
   "cell_type": "code",
   "execution_count": 49,
   "id": "f42b6472",
   "metadata": {},
   "outputs": [
    {
     "name": "stdout",
     "output_type": "stream",
     "text": [
      "23jatin\n"
     ]
    }
   ],
   "source": [
    "inputs = 23\n",
    "p = \"jatin\"\n",
    "print(str(inputs)+p) # typecasting"
   ]
  },
  {
   "cell_type": "code",
   "execution_count": 50,
   "id": "33050ef3",
   "metadata": {},
   "outputs": [
    {
     "data": {
      "text/plain": [
       "str"
      ]
     },
     "execution_count": 50,
     "metadata": {},
     "output_type": "execute_result"
    }
   ],
   "source": [
    "h = str(38)\n",
    "type(h)"
   ]
  },
  {
   "cell_type": "code",
   "execution_count": 51,
   "id": "1355bbf8",
   "metadata": {},
   "outputs": [
    {
     "data": {
      "text/plain": [
       "'57'"
      ]
     },
     "execution_count": 51,
     "metadata": {},
     "output_type": "execute_result"
    }
   ],
   "source": [
    "b = str(a)\n",
    "b"
   ]
  },
  {
   "cell_type": "code",
   "execution_count": 52,
   "id": "8b499959",
   "metadata": {},
   "outputs": [
    {
     "data": {
      "text/plain": [
       "57"
      ]
     },
     "execution_count": 52,
     "metadata": {},
     "output_type": "execute_result"
    }
   ],
   "source": [
    "int(b)"
   ]
  },
  {
   "cell_type": "code",
   "execution_count": 53,
   "id": "d0eb683d",
   "metadata": {},
   "outputs": [],
   "source": [
    "tpes= ''' how are you aryan yadav what are you doing\n",
    "             today == I awake 9:-8 am in the morning \n",
    "             then i will start coding'''"
   ]
  },
  {
   "cell_type": "code",
   "execution_count": 54,
   "id": "e09e262c",
   "metadata": {},
   "outputs": [
    {
     "name": "stdout",
     "output_type": "stream",
     "text": [
      " how are you aryan yadav what are you doing\n",
      "             today == I awake 9:-8 am in the morning \n",
      "             then i will start coding\n"
     ]
    }
   ],
   "source": [
    "print(tpes)"
   ]
  },
  {
   "cell_type": "code",
   "execution_count": 85,
   "id": "fa788631",
   "metadata": {},
   "outputs": [
    {
     "name": "stdout",
     "output_type": "stream",
     "text": [
      "2345\n"
     ]
    }
   ],
   "source": [
    "user = int(input())"
   ]
  },
  {
   "cell_type": "code",
   "execution_count": 86,
   "id": "2272614e",
   "metadata": {},
   "outputs": [
    {
     "data": {
      "text/plain": [
       "2345"
      ]
     },
     "execution_count": 86,
     "metadata": {},
     "output_type": "execute_result"
    }
   ],
   "source": [
    "user\n"
   ]
  },
  {
   "cell_type": "markdown",
   "id": "f20e77b6",
   "metadata": {},
   "source": [
    " type(user)"
   ]
  },
  {
   "cell_type": "code",
   "execution_count": 87,
   "id": "e7c0c087",
   "metadata": {},
   "outputs": [
    {
     "data": {
      "text/plain": [
       "int"
      ]
     },
     "execution_count": 87,
     "metadata": {},
     "output_type": "execute_result"
    }
   ],
   "source": [
    " type(user)"
   ]
  },
  {
   "cell_type": "code",
   "execution_count": 58,
   "id": "05cb7518",
   "metadata": {},
   "outputs": [],
   "source": [
    "s = 'prince'"
   ]
  },
  {
   "cell_type": "code",
   "execution_count": 75,
   "id": "082d5bef",
   "metadata": {},
   "outputs": [
    {
     "data": {
      "text/plain": [
       "'r'"
      ]
     },
     "execution_count": 75,
     "metadata": {},
     "output_type": "execute_result"
    }
   ],
   "source": [
    "s[1]  # forward indexing"
   ]
  },
  {
   "cell_type": "code",
   "execution_count": 80,
   "id": "2598d481",
   "metadata": {},
   "outputs": [
    {
     "data": {
      "text/plain": [
       "'n'"
      ]
     },
     "execution_count": 80,
     "metadata": {},
     "output_type": "execute_result"
    }
   ],
   "source": [
    "s[-3] # [-3] are in backword indexing"
   ]
  },
  {
   "cell_type": "code",
   "execution_count": null,
   "id": "622e4270",
   "metadata": {},
   "outputs": [],
   "source": []
  },
  {
   "cell_type": "markdown",
   "id": "b15b19c2",
   "metadata": {},
   "source": [
    "# slicing  operation"
   ]
  },
  {
   "cell_type": "code",
   "execution_count": null,
   "id": "45f90dfd",
   "metadata": {},
   "outputs": [],
   "source": [
    "s[0:2]    # 2 is the upper bound"
   ]
  },
  {
   "cell_type": "code",
   "execution_count": 88,
   "id": "909c9d45",
   "metadata": {},
   "outputs": [
    {
     "data": {
      "text/plain": [
       "'ince'"
      ]
     },
     "execution_count": 88,
     "metadata": {},
     "output_type": "execute_result"
    }
   ],
   "source": [
    "s[2:800]"
   ]
  },
  {
   "cell_type": "code",
   "execution_count": 90,
   "id": "f31b8c88",
   "metadata": {},
   "outputs": [
    {
     "data": {
      "text/plain": [
       "'rince'"
      ]
     },
     "execution_count": 90,
     "metadata": {},
     "output_type": "execute_result"
    }
   ],
   "source": [
    "s[1:]"
   ]
  },
  {
   "cell_type": "code",
   "execution_count": 92,
   "id": "edda3886",
   "metadata": {},
   "outputs": [
    {
     "data": {
      "text/plain": [
       "'pri'"
      ]
     },
     "execution_count": 92,
     "metadata": {},
     "output_type": "execute_result"
    }
   ],
   "source": [
    "s[:-3]"
   ]
  },
  {
   "cell_type": "code",
   "execution_count": 94,
   "id": "90edb195",
   "metadata": {},
   "outputs": [
    {
     "data": {
      "text/plain": [
       "'rne'"
      ]
     },
     "execution_count": 94,
     "metadata": {},
     "output_type": "execute_result"
    }
   ],
   "source": [
    "s[1:7:2]  # it will jump on two difference "
   ]
  },
  {
   "cell_type": "code",
   "execution_count": 95,
   "id": "f992d765",
   "metadata": {},
   "outputs": [
    {
     "data": {
      "text/plain": [
       "'rc'"
      ]
     },
     "execution_count": 95,
     "metadata": {},
     "output_type": "execute_result"
    }
   ],
   "source": [
    "s[1:7:3] # it has jump on 3 difference"
   ]
  },
  {
   "cell_type": "code",
   "execution_count": 96,
   "id": "0afa8f96",
   "metadata": {},
   "outputs": [
    {
     "data": {
      "text/plain": [
       "'prin'"
      ]
     },
     "execution_count": 96,
     "metadata": {},
     "output_type": "execute_result"
    }
   ],
   "source": [
    "s[0:4:1] # it will jump on difference 1"
   ]
  },
  {
   "cell_type": "code",
   "execution_count": 101,
   "id": "ad735721",
   "metadata": {},
   "outputs": [
    {
     "data": {
      "text/plain": [
       "''"
      ]
     },
     "execution_count": 101,
     "metadata": {},
     "output_type": "execute_result"
    }
   ],
   "source": [
    "s[7:2]# it will called backword slicing   , we should not get data \n",
    "         # because we are jumping in the positive direction "
   ]
  },
  {
   "cell_type": "markdown",
   "id": "a32e2872",
   "metadata": {},
   "source": [
    "for solving blank "
   ]
  },
  {
   "cell_type": "code",
   "execution_count": 102,
   "id": "8526a53a",
   "metadata": {},
   "outputs": [
    {
     "data": {
      "text/plain": [
       "'ec'"
      ]
     },
     "execution_count": 102,
     "metadata": {},
     "output_type": "execute_result"
    }
   ],
   "source": [
    "s[7:3:-1]"
   ]
  },
  {
   "cell_type": "code",
   "execution_count": 105,
   "id": "150158f8",
   "metadata": {},
   "outputs": [
    {
     "data": {
      "text/plain": [
       "'ecn'"
      ]
     },
     "execution_count": 105,
     "metadata": {},
     "output_type": "execute_result"
    }
   ],
   "source": [
    "s[-1:2:-1] # s= 'prince'"
   ]
  },
  {
   "cell_type": "code",
   "execution_count": 107,
   "id": "a76a5714",
   "metadata": {},
   "outputs": [
    {
     "data": {
      "text/plain": [
       "'ecnir'"
      ]
     },
     "execution_count": 107,
     "metadata": {},
     "output_type": "execute_result"
    }
   ],
   "source": [
    "s[5:0:-1]"
   ]
  },
  {
   "cell_type": "code",
   "execution_count": 111,
   "id": "93f28bd1",
   "metadata": {},
   "outputs": [
    {
     "data": {
      "text/plain": [
       "'cnir'"
      ]
     },
     "execution_count": 111,
     "metadata": {},
     "output_type": "execute_result"
    }
   ],
   "source": [
    "s[4:0:-1]"
   ]
  },
  {
   "cell_type": "code",
   "execution_count": 112,
   "id": "bdf7b076",
   "metadata": {},
   "outputs": [
    {
     "data": {
      "text/plain": [
       "'i'"
      ]
     },
     "execution_count": 112,
     "metadata": {},
     "output_type": "execute_result"
    }
   ],
   "source": [
    "s[2:-5:-1]"
   ]
  },
  {
   "cell_type": "code",
   "execution_count": 113,
   "id": "a702e889",
   "metadata": {},
   "outputs": [
    {
     "data": {
      "text/plain": [
       "'ecnirp'"
      ]
     },
     "execution_count": 113,
     "metadata": {},
     "output_type": "execute_result"
    }
   ],
   "source": [
    "s[7::-1]"
   ]
  },
  {
   "cell_type": "code",
   "execution_count": 114,
   "id": "62b45357",
   "metadata": {},
   "outputs": [
    {
     "data": {
      "text/plain": [
       "'ecnirp'"
      ]
     },
     "execution_count": 114,
     "metadata": {},
     "output_type": "execute_result"
    }
   ],
   "source": [
    "s[::-1]"
   ]
  },
  {
   "cell_type": "code",
   "execution_count": 5,
   "id": "cd254c4c",
   "metadata": {},
   "outputs": [
    {
     "ename": "NameError",
     "evalue": "name 's' is not defined",
     "output_type": "error",
     "traceback": [
      "\u001b[1;31m---------------------------------------------------------------------------\u001b[0m",
      "\u001b[1;31mNameError\u001b[0m                                 Traceback (most recent call last)",
      "Cell \u001b[1;32mIn[5], line 1\u001b[0m\n\u001b[1;32m----> 1\u001b[0m s\n",
      "\u001b[1;31mNameError\u001b[0m: name 's' is not defined"
     ]
    }
   ],
   "source": []
  },
  {
   "cell_type": "code",
   "execution_count": null,
   "id": "c4ec4d0d",
   "metadata": {},
   "outputs": [],
   "source": []
  },
  {
   "cell_type": "code",
   "execution_count": null,
   "id": "123062eb",
   "metadata": {},
   "outputs": [],
   "source": []
  },
  {
   "cell_type": "code",
   "execution_count": null,
   "id": "88a4c31e",
   "metadata": {},
   "outputs": [],
   "source": []
  },
  {
   "cell_type": "code",
   "execution_count": null,
   "id": "a283aaa0",
   "metadata": {},
   "outputs": [],
   "source": []
  },
  {
   "cell_type": "code",
   "execution_count": null,
   "id": "678ac3cf",
   "metadata": {},
   "outputs": [],
   "source": []
  },
  {
   "cell_type": "code",
   "execution_count": null,
   "id": "996497a5",
   "metadata": {
    "scrolled": false
   },
   "outputs": [],
   "source": [
    " "
   ]
  },
  {
   "cell_type": "code",
   "execution_count": null,
   "id": "bce723ed",
   "metadata": {},
   "outputs": [],
   "source": []
  }
 ],
 "metadata": {
  "kernelspec": {
   "display_name": "Python 3 (ipykernel)",
   "language": "python",
   "name": "python3"
  },
  "language_info": {
   "codemirror_mode": {
    "name": "ipython",
    "version": 3
   },
   "file_extension": ".py",
   "mimetype": "text/x-python",
   "name": "python",
   "nbconvert_exporter": "python",
   "pygments_lexer": "ipython3",
   "version": "3.11.5"
  }
 },
 "nbformat": 4,
 "nbformat_minor": 5
}
