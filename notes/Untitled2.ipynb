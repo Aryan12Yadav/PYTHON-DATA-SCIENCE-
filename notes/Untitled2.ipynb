{
 "cells": [
  {
   "cell_type": "code",
   "execution_count": 1,
   "id": "7f3ed580",
   "metadata": {},
   "outputs": [
    {
     "name": "stdout",
     "output_type": "stream",
     "text": [
      "hello world\n"
     ]
    }
   ],
   "source": [
    " print(\"hello world\")"
   ]
  },
  {
   "cell_type": "code",
   "execution_count": 2,
   "id": "6f30272c",
   "metadata": {},
   "outputs": [],
   "source": [
    "l =[]\n"
   ]
  },
  {
   "cell_type": "code",
   "execution_count": 3,
   "id": "45811390",
   "metadata": {},
   "outputs": [
    {
     "data": {
      "text/plain": [
       "list"
      ]
     },
     "execution_count": 3,
     "metadata": {},
     "output_type": "execute_result"
    }
   ],
   "source": [
    "type(l)"
   ]
  },
  {
   "cell_type": "code",
   "execution_count": 4,
   "id": "6020ea41",
   "metadata": {},
   "outputs": [
    {
     "data": {
      "text/plain": [
       "[3,\n",
       " 35,\n",
       " 33,\n",
       " 'Aryan',\n",
       " [33, 39, 'skg', 34],\n",
       " 'data science',\n",
       " True,\n",
       " [34, 35, 'yadav', False]]"
      ]
     },
     "execution_count": 4,
     "metadata": {},
     "output_type": "execute_result"
    }
   ],
   "source": [
    "lis = [3,35,33,\"Aryan\",[33,39,\"skg\",34],'data science',True,[34,35,\"yadav\",False]]\n",
    "lis"
   ]
  },
  {
   "cell_type": "code",
   "execution_count": 5,
   "id": "c41460ef",
   "metadata": {},
   "outputs": [
    {
     "data": {
      "text/plain": [
       "list"
      ]
     },
     "execution_count": 5,
     "metadata": {},
     "output_type": "execute_result"
    }
   ],
   "source": [
    "type(lis)"
   ]
  },
  {
   "cell_type": "code",
   "execution_count": 6,
   "id": "61e869b7",
   "metadata": {},
   "outputs": [
    {
     "data": {
      "text/plain": [
       "[34, 35, 'yadav', False]"
      ]
     },
     "execution_count": 6,
     "metadata": {},
     "output_type": "execute_result"
    }
   ],
   "source": [
    "lis[7]"
   ]
  },
  {
   "cell_type": "code",
   "execution_count": 7,
   "id": "8e996d10",
   "metadata": {},
   "outputs": [
    {
     "data": {
      "text/plain": [
       "'data science'"
      ]
     },
     "execution_count": 7,
     "metadata": {},
     "output_type": "execute_result"
    }
   ],
   "source": [
    "lis[5]"
   ]
  },
  {
   "cell_type": "code",
   "execution_count": 8,
   "id": "912d2f0e",
   "metadata": {},
   "outputs": [
    {
     "data": {
      "text/plain": [
       "False"
      ]
     },
     "execution_count": 8,
     "metadata": {},
     "output_type": "execute_result"
    }
   ],
   "source": [
    "lis[-1][3]"
   ]
  },
  {
   "cell_type": "code",
   "execution_count": 9,
   "id": "0d7be546",
   "metadata": {},
   "outputs": [
    {
     "data": {
      "text/plain": [
       "[33, 39, 'skg', 34]"
      ]
     },
     "execution_count": 9,
     "metadata": {},
     "output_type": "execute_result"
    }
   ],
   "source": [
    "lis[-4]"
   ]
  },
  {
   "cell_type": "code",
   "execution_count": 10,
   "id": "a8c10ceb",
   "metadata": {},
   "outputs": [
    {
     "data": {
      "text/plain": [
       "'skg'"
      ]
     },
     "execution_count": 10,
     "metadata": {},
     "output_type": "execute_result"
    }
   ],
   "source": [
    "lis[-4][2]"
   ]
  },
  {
   "cell_type": "code",
   "execution_count": 11,
   "id": "583bad6b",
   "metadata": {},
   "outputs": [
    {
     "data": {
      "text/plain": [
       "[3, 35, 33, 'Aryan', [33, 39, 'skg', 34]]"
      ]
     },
     "execution_count": 11,
     "metadata": {},
     "output_type": "execute_result"
    }
   ],
   "source": [
    "lis[0:5]"
   ]
  },
  {
   "cell_type": "code",
   "execution_count": 12,
   "id": "c857a5c1",
   "metadata": {},
   "outputs": [],
   "source": [
    "m=\"aryan\""
   ]
  },
  {
   "cell_type": "code",
   "execution_count": 13,
   "id": "93b4a835",
   "metadata": {},
   "outputs": [
    {
     "data": {
      "text/plain": [
       "['a', 'r', 'y', 'a', 'n']"
      ]
     },
     "execution_count": 13,
     "metadata": {},
     "output_type": "execute_result"
    }
   ],
   "source": [
    "list(m)"
   ]
  },
  {
   "cell_type": "code",
   "execution_count": 14,
   "id": "80dfd3f8",
   "metadata": {},
   "outputs": [
    {
     "data": {
      "text/plain": [
       "{3, 39, 84}"
      ]
     },
     "execution_count": 14,
     "metadata": {},
     "output_type": "execute_result"
    }
   ],
   "source": [
    "k= [3,39,84,]\n",
    "set(k)"
   ]
  },
  {
   "cell_type": "code",
   "execution_count": 15,
   "id": "e0c94332",
   "metadata": {},
   "outputs": [],
   "source": [
    "n=[35,58,58,8]"
   ]
  },
  {
   "cell_type": "code",
   "execution_count": 16,
   "id": "a9dabb3b",
   "metadata": {},
   "outputs": [
    {
     "data": {
      "text/plain": [
       "[3, 39, 84, 35, 58, 58, 8]"
      ]
     },
     "execution_count": 16,
     "metadata": {},
     "output_type": "execute_result"
    }
   ],
   "source": [
    "k+n"
   ]
  },
  {
   "cell_type": "code",
   "execution_count": 17,
   "id": "5eb14b8a",
   "metadata": {},
   "outputs": [
    {
     "data": {
      "text/plain": [
       "[3, 39, 84, 3, 39, 84, 3, 39, 84]"
      ]
     },
     "execution_count": 17,
     "metadata": {},
     "output_type": "execute_result"
    }
   ],
   "source": [
    "k*3     # the list will repeat by three times in the same list over hear"
   ]
  },
  {
   "cell_type": "code",
   "execution_count": 18,
   "id": "51de5045",
   "metadata": {},
   "outputs": [
    {
     "data": {
      "text/plain": [
       "[]"
      ]
     },
     "execution_count": 18,
     "metadata": {},
     "output_type": "execute_result"
    }
   ],
   "source": [
    "lis*0"
   ]
  },
  {
   "cell_type": "code",
   "execution_count": 19,
   "id": "ce3e4db4",
   "metadata": {},
   "outputs": [],
   "source": [
    "k[1]= \"aryan\""
   ]
  },
  {
   "cell_type": "code",
   "execution_count": 20,
   "id": "d333602d",
   "metadata": {},
   "outputs": [
    {
     "data": {
      "text/plain": [
       "[3, 'aryan', 84]"
      ]
     },
     "execution_count": 20,
     "metadata": {},
     "output_type": "execute_result"
    }
   ],
   "source": [
    "k"
   ]
  },
  {
   "cell_type": "markdown",
   "id": "8c2924f9",
   "metadata": {},
   "source": [
    "## Tuple"
   ]
  },
  {
   "cell_type": "code",
   "execution_count": 21,
   "id": "6e664873",
   "metadata": {},
   "outputs": [],
   "source": [
    "now = (2,4,44,3,235,46,\"aryan\",\"m\",\"tang\")"
   ]
  },
  {
   "cell_type": "code",
   "execution_count": 22,
   "id": "8a144dab",
   "metadata": {},
   "outputs": [
    {
     "data": {
      "text/plain": [
       "tuple"
      ]
     },
     "execution_count": 22,
     "metadata": {},
     "output_type": "execute_result"
    }
   ],
   "source": [
    "type(now)"
   ]
  },
  {
   "cell_type": "code",
   "execution_count": 23,
   "id": "890a01be",
   "metadata": {},
   "outputs": [
    {
     "data": {
      "text/plain": [
       "(2, 4, 44, 3, 235, 46, 'aryan', 'm', 'tang')"
      ]
     },
     "execution_count": 23,
     "metadata": {},
     "output_type": "execute_result"
    }
   ],
   "source": [
    "now"
   ]
  },
  {
   "cell_type": "code",
   "execution_count": 24,
   "id": "70cdbeb9",
   "metadata": {},
   "outputs": [
    {
     "data": {
      "text/plain": [
       "44"
      ]
     },
     "execution_count": 24,
     "metadata": {},
     "output_type": "execute_result"
    }
   ],
   "source": [
    "now[2]"
   ]
  },
  {
   "cell_type": "code",
   "execution_count": 25,
   "id": "8283e5f3",
   "metadata": {},
   "outputs": [
    {
     "data": {
      "text/plain": [
       "('a', 'r', 'y', 'a', 'n')"
      ]
     },
     "execution_count": 25,
     "metadata": {},
     "output_type": "execute_result"
    }
   ],
   "source": [
    "tuple(m)  # m=\"aryan\""
   ]
  },
  {
   "cell_type": "code",
   "execution_count": 26,
   "id": "5f4660db",
   "metadata": {},
   "outputs": [
    {
     "data": {
      "text/plain": [
       "('tang', 'm', 'aryan', 46, 235, 3, 44, 4, 2)"
      ]
     },
     "execution_count": 26,
     "metadata": {},
     "output_type": "execute_result"
    }
   ],
   "source": [
    "now[::-1]# reverse the tuple"
   ]
  },
  {
   "cell_type": "code",
   "execution_count": 27,
   "id": "dce14453",
   "metadata": {},
   "outputs": [
    {
     "data": {
      "text/plain": [
       "'tuples and strring are immutable identity\\nbut list are mutable'"
      ]
     },
     "execution_count": 27,
     "metadata": {},
     "output_type": "execute_result"
    }
   ],
   "source": [
    "'''tuples and strring are immutable identity\n",
    "but list are mutable'''"
   ]
  },
  {
   "cell_type": "code",
   "execution_count": 28,
   "id": "180be266",
   "metadata": {},
   "outputs": [],
   "source": [
    "u= (39,88,89,\"neeraj\",\"rahul\")\n",
    " "
   ]
  },
  {
   "cell_type": "code",
   "execution_count": 29,
   "id": "9ea1f550",
   "metadata": {},
   "outputs": [],
   "source": [
    "v=(\"uiet \",\"kanpur\",56,34,235)"
   ]
  },
  {
   "cell_type": "code",
   "execution_count": 30,
   "id": "d8f9941b",
   "metadata": {},
   "outputs": [
    {
     "data": {
      "text/plain": [
       "(39, 88, 89, 'neeraj', 'rahul', 'uiet ', 'kanpur', 56, 34, 235)"
      ]
     },
     "execution_count": 30,
     "metadata": {},
     "output_type": "execute_result"
    }
   ],
   "source": [
    "u+v"
   ]
  },
  {
   "cell_type": "code",
   "execution_count": 31,
   "id": "c35ef85d",
   "metadata": {},
   "outputs": [
    {
     "data": {
      "text/plain": [
       "tuple"
      ]
     },
     "execution_count": 31,
     "metadata": {},
     "output_type": "execute_result"
    }
   ],
   "source": [
    " type(u)"
   ]
  },
  {
   "cell_type": "code",
   "execution_count": 32,
   "id": "b9a845f0",
   "metadata": {},
   "outputs": [
    {
     "data": {
      "text/plain": [
       "(39, 88, 89, 'neeraj', 'rahul', 39, 88, 89, 'neeraj', 'rahul')"
      ]
     },
     "execution_count": 32,
     "metadata": {},
     "output_type": "execute_result"
    }
   ],
   "source": [
    " u*2"
   ]
  },
  {
   "cell_type": "code",
   "execution_count": 33,
   "id": "1e8651bf",
   "metadata": {},
   "outputs": [
    {
     "data": {
      "text/plain": [
       "[39, 88, 89, 'neeraj', 'rahul']"
      ]
     },
     "execution_count": 33,
     "metadata": {},
     "output_type": "execute_result"
    }
   ],
   "source": [
    "list(u)  # to change the tuple in too the list"
   ]
  },
  {
   "cell_type": "code",
   "execution_count": 34,
   "id": "1b8a1e7e",
   "metadata": {},
   "outputs": [
    {
     "data": {
      "text/plain": [
       "5"
      ]
     },
     "execution_count": 34,
     "metadata": {},
     "output_type": "execute_result"
    }
   ],
   "source": [
    "len(v)"
   ]
  },
  {
   "cell_type": "markdown",
   "id": "c6f2d999",
   "metadata": {},
   "source": [
    "# SETS"
   ]
  },
  {
   "cell_type": "code",
   "execution_count": 35,
   "id": "30c54878",
   "metadata": {},
   "outputs": [],
   "source": [
    "S1 = {3,39,39,\"ARYAN\",\"summon\"}\n"
   ]
  },
  {
   "cell_type": "code",
   "execution_count": 36,
   "id": "eb4c85ab",
   "metadata": {},
   "outputs": [
    {
     "data": {
      "text/plain": [
       "set"
      ]
     },
     "execution_count": 36,
     "metadata": {},
     "output_type": "execute_result"
    }
   ],
   "source": [
    "type(S1)"
   ]
  },
  {
   "cell_type": "code",
   "execution_count": 37,
   "id": "c2c9b398",
   "metadata": {},
   "outputs": [
    {
     "data": {
      "text/plain": [
       "dict"
      ]
     },
     "execution_count": 37,
     "metadata": {},
     "output_type": "execute_result"
    }
   ],
   "source": [
    "s= {}# in empty set\n",
    "type(s)"
   ]
  },
  {
   "cell_type": "code",
   "execution_count": 38,
   "id": "b6cdf058",
   "metadata": {},
   "outputs": [
    {
     "data": {
      "text/plain": [
       "{3, 5, 33}"
      ]
     },
     "execution_count": 38,
     "metadata": {},
     "output_type": "execute_result"
    }
   ],
   "source": [
    "s3 ={3,3,33,3,3,5,5,5}\n",
    "s3"
   ]
  },
  {
   "cell_type": "code",
   "execution_count": 39,
   "id": "6d697b6e",
   "metadata": {},
   "outputs": [
    {
     "data": {
      "text/plain": [
       "[33, 3, 5]"
      ]
     },
     "execution_count": 39,
     "metadata": {},
     "output_type": "execute_result"
    }
   ],
   "source": [
    "list(s3)"
   ]
  },
  {
   "cell_type": "code",
   "execution_count": 40,
   "id": "11b55ef4",
   "metadata": {},
   "outputs": [
    {
     "data": {
      "text/plain": [
       "(33, 3, 5)"
      ]
     },
     "execution_count": 40,
     "metadata": {},
     "output_type": "execute_result"
    }
   ],
   "source": [
    "tuple(s3)"
   ]
  },
  {
   "cell_type": "code",
   "execution_count": 41,
   "id": "c47b8f41",
   "metadata": {},
   "outputs": [
    {
     "data": {
      "text/plain": [
       "'{33, 3, 5}'"
      ]
     },
     "execution_count": 41,
     "metadata": {},
     "output_type": "execute_result"
    }
   ],
   "source": [
    "str(s3)"
   ]
  },
  {
   "cell_type": "markdown",
   "id": "5d733618",
   "metadata": {},
   "source": [
    "# dictionay"
   ]
  },
  {
   "cell_type": "code",
   "execution_count": 42,
   "id": "5eb1c389",
   "metadata": {},
   "outputs": [
    {
     "data": {
      "text/plain": [
       "{'u': 'universal', 'm': 'mortal', 'h': 'heaven', 'z': 78, 'L': 90}"
      ]
     },
     "execution_count": 42,
     "metadata": {},
     "output_type": "execute_result"
    }
   ],
   "source": [
    "d4={'u':\"universal\",'m':\"mortal\",'h':\"heaven\",'z':78,'L':90}\n",
    "d4\n"
   ]
  },
  {
   "cell_type": "code",
   "execution_count": 43,
   "id": "43f1e866",
   "metadata": {},
   "outputs": [
    {
     "data": {
      "text/plain": [
       "dict"
      ]
     },
     "execution_count": 43,
     "metadata": {},
     "output_type": "execute_result"
    }
   ],
   "source": [
    "type(d4)"
   ]
  },
  {
   "cell_type": "code",
   "execution_count": 44,
   "id": "53019709",
   "metadata": {},
   "outputs": [
    {
     "data": {
      "text/plain": [
       "5"
      ]
     },
     "execution_count": 44,
     "metadata": {},
     "output_type": "execute_result"
    }
   ],
   "source": [
    "len(d4)"
   ]
  },
  {
   "cell_type": "code",
   "execution_count": 45,
   "id": "02c24f6a",
   "metadata": {},
   "outputs": [
    {
     "data": {
      "text/plain": [
       "('u', 'm', 'h', 'z', 'L')"
      ]
     },
     "execution_count": 45,
     "metadata": {},
     "output_type": "execute_result"
    }
   ],
   "source": [
    "tuple(d4)"
   ]
  },
  {
   "cell_type": "code",
   "execution_count": 46,
   "id": "746fb802",
   "metadata": {},
   "outputs": [],
   "source": [
    "h={\"arya\":\"yadav\",\"arya\":\"prince\"}"
   ]
  },
  {
   "cell_type": "code",
   "execution_count": 47,
   "id": "18033b9b",
   "metadata": {},
   "outputs": [
    {
     "data": {
      "text/plain": [
       "{'arya': 'prince'}"
      ]
     },
     "execution_count": 47,
     "metadata": {},
     "output_type": "execute_result"
    }
   ],
   "source": [
    "h        # this print or execute only the latest value of the dictionary"
   ]
  },
  {
   "cell_type": "code",
   "execution_count": 48,
   "id": "3fda0348",
   "metadata": {},
   "outputs": [
    {
     "data": {
      "text/plain": [
       "{'a': ['daa', 'winn', 'India', 'king'],\n",
       " 'rsinngh': ['proces', 'may', 'be', 'try'],\n",
       " 'price': {3500, 7000, 14000, 20000},\n",
       " 'value': 3,\n",
       " ' loko': 3,\n",
       " 'data science': {'syllabus': ['OOPS',\n",
       "   'pandas',\n",
       "   'SQL',\n",
       "   'ML',\n",
       "   'Deep learning']}}"
      ]
     },
     "execution_count": 48,
     "metadata": {},
     "output_type": "execute_result"
    }
   ],
   "source": [
    "y={\"a\":[\"daa\",\"winn\",\"India\",\"king\"],\"rsinngh\":[\"proces\",\"may\",\"be\",\"try\"],\n",
    "   'price':{3500,7000,14000,20000},\"value\":3,\" loko\":3,'data science':\n",
    "  {'syllabus':['OOPS','pandas','SQL','ML','Deep learning',]}}\n",
    "# dictionary in the nested form\n",
    "y"
   ]
  },
  {
   "cell_type": "code",
   "execution_count": 49,
   "id": "94fcd428",
   "metadata": {},
   "outputs": [
    {
     "data": {
      "text/plain": [
       "['daa', 'winn', 'India', 'king']"
      ]
     },
     "execution_count": 49,
     "metadata": {},
     "output_type": "execute_result"
    }
   ],
   "source": [
    "y[\"a\"]"
   ]
  },
  {
   "cell_type": "code",
   "execution_count": 50,
   "id": "fd060796",
   "metadata": {},
   "outputs": [
    {
     "data": {
      "text/plain": [
       "['proces', 'may', 'be', 'try']"
      ]
     },
     "execution_count": 50,
     "metadata": {},
     "output_type": "execute_result"
    }
   ],
   "source": [
    "y[\"rsinngh\"]"
   ]
  },
  {
   "cell_type": "code",
   "execution_count": 51,
   "id": "227d504e",
   "metadata": {},
   "outputs": [
    {
     "data": {
      "text/plain": [
       "{'syllabus': ['OOPS', 'pandas', 'SQL', 'ML', 'Deep learning']}"
      ]
     },
     "execution_count": 51,
     "metadata": {},
     "output_type": "execute_result"
    }
   ],
   "source": [
    "y['data science']"
   ]
  },
  {
   "cell_type": "code",
   "execution_count": 52,
   "id": "e16dc4bb",
   "metadata": {},
   "outputs": [],
   "source": [
    "y[\"a\"]=\"prince\""
   ]
  },
  {
   "cell_type": "code",
   "execution_count": 53,
   "id": "897d3828",
   "metadata": {},
   "outputs": [
    {
     "data": {
      "text/plain": [
       "{'a': 'prince',\n",
       " 'rsinngh': ['proces', 'may', 'be', 'try'],\n",
       " 'price': {3500, 7000, 14000, 20000},\n",
       " 'value': 3,\n",
       " ' loko': 3,\n",
       " 'data science': {'syllabus': ['OOPS',\n",
       "   'pandas',\n",
       "   'SQL',\n",
       "   'ML',\n",
       "   'Deep learning']}}"
      ]
     },
     "execution_count": 53,
     "metadata": {},
     "output_type": "execute_result"
    }
   ],
   "source": [
    "y"
   ]
  },
  {
   "cell_type": "markdown",
   "id": "c9e27c6d",
   "metadata": {},
   "source": [
    "## string\n",
    "set \n",
    "tuple\n",
    "list\n",
    "dictionary"
   ]
  },
  {
   "cell_type": "code",
   "execution_count": 54,
   "id": "6af78163",
   "metadata": {},
   "outputs": [
    {
     "data": {
      "text/plain": [
       "'pwskills'"
      ]
     },
     "execution_count": 54,
     "metadata": {},
     "output_type": "execute_result"
    }
   ],
   "source": [
    "up=\"pwskills\"\n",
    "up"
   ]
  },
  {
   "cell_type": "code",
   "execution_count": 55,
   "id": "2893c18b",
   "metadata": {},
   "outputs": [
    {
     "data": {
      "text/plain": [
       "2"
      ]
     },
     "execution_count": 55,
     "metadata": {},
     "output_type": "execute_result"
    }
   ],
   "source": [
    "up.count('l')"
   ]
  },
  {
   "cell_type": "code",
   "execution_count": 56,
   "id": "55f61f86",
   "metadata": {},
   "outputs": [
    {
     "data": {
      "text/plain": [
       "5"
      ]
     },
     "execution_count": 56,
     "metadata": {},
     "output_type": "execute_result"
    }
   ],
   "source": [
    "up.find('l')"
   ]
  },
  {
   "cell_type": "code",
   "execution_count": 57,
   "id": "db42313f",
   "metadata": {},
   "outputs": [
    {
     "data": {
      "text/plain": [
       "0"
      ]
     },
     "execution_count": 57,
     "metadata": {},
     "output_type": "execute_result"
    }
   ],
   "source": [
    "up.index('p')"
   ]
  },
  {
   "cell_type": "code",
   "execution_count": 58,
   "id": "964e4d48",
   "metadata": {},
   "outputs": [
    {
     "data": {
      "text/plain": [
       "-1"
      ]
     },
     "execution_count": 58,
     "metadata": {},
     "output_type": "execute_result"
    }
   ],
   "source": [
    "up.find('z')"
   ]
  },
  {
   "cell_type": "code",
   "execution_count": 59,
   "id": "a3af59d2",
   "metadata": {},
   "outputs": [],
   "source": [
    "# up.index('z') # it will give the error"
   ]
  },
  {
   "cell_type": "code",
   "execution_count": 60,
   "id": "be7a1934",
   "metadata": {},
   "outputs": [
    {
     "data": {
      "text/plain": [
       "'PWSKILLS'"
      ]
     },
     "execution_count": 60,
     "metadata": {},
     "output_type": "execute_result"
    }
   ],
   "source": [
    "up.upper()"
   ]
  },
  {
   "cell_type": "code",
   "execution_count": 61,
   "id": "1cdd92f4",
   "metadata": {},
   "outputs": [
    {
     "data": {
      "text/plain": [
       "'pwskills'"
      ]
     },
     "execution_count": 61,
     "metadata": {},
     "output_type": "execute_result"
    }
   ],
   "source": [
    "up.lower()"
   ]
  },
  {
   "cell_type": "code",
   "execution_count": 62,
   "id": "702efb08",
   "metadata": {},
   "outputs": [
    {
     "data": {
      "text/plain": [
       "'Pwskills'"
      ]
     },
     "execution_count": 62,
     "metadata": {},
     "output_type": "execute_result"
    }
   ],
   "source": [
    "up.title()"
   ]
  },
  {
   "cell_type": "code",
   "execution_count": 63,
   "id": "1267c8ee",
   "metadata": {},
   "outputs": [],
   "source": [
    "up1=\"I am a data science engineer\""
   ]
  },
  {
   "cell_type": "code",
   "execution_count": 64,
   "id": "fb630e9e",
   "metadata": {},
   "outputs": [
    {
     "data": {
      "text/plain": [
       "'I Am A Data Science Engineer'"
      ]
     },
     "execution_count": 64,
     "metadata": {},
     "output_type": "execute_result"
    }
   ],
   "source": [
    "up1.title()"
   ]
  },
  {
   "cell_type": "code",
   "execution_count": 65,
   "id": "4e9f9144",
   "metadata": {},
   "outputs": [],
   "source": [
    "ms=up1.split()"
   ]
  },
  {
   "cell_type": "code",
   "execution_count": 66,
   "id": "4586aad3",
   "metadata": {},
   "outputs": [
    {
     "data": {
      "text/plain": [
       "'I'"
      ]
     },
     "execution_count": 66,
     "metadata": {},
     "output_type": "execute_result"
    }
   ],
   "source": [
    "ms[0]"
   ]
  },
  {
   "cell_type": "code",
   "execution_count": 67,
   "id": "f0b0cc47",
   "metadata": {},
   "outputs": [],
   "source": [
    "ms[3]='uim'\n"
   ]
  },
  {
   "cell_type": "code",
   "execution_count": 68,
   "id": "6a371cf0",
   "metadata": {},
   "outputs": [
    {
     "data": {
      "text/plain": [
       "['I', 'am', 'a', 'uim', 'science', 'engineer']"
      ]
     },
     "execution_count": 68,
     "metadata": {},
     "output_type": "execute_result"
    }
   ],
   "source": [
    "ms"
   ]
  },
  {
   "cell_type": "code",
   "execution_count": 69,
   "id": "2547ea47",
   "metadata": {},
   "outputs": [
    {
     "data": {
      "text/plain": [
       "['I am a data ', 'cience engineer']"
      ]
     },
     "execution_count": 69,
     "metadata": {},
     "output_type": "execute_result"
    }
   ],
   "source": [
    " up1.split('s')# remove the list from the data"
   ]
  },
  {
   "cell_type": "code",
   "execution_count": 70,
   "id": "bfdce28e",
   "metadata": {},
   "outputs": [
    {
     "data": {
      "text/plain": [
       "'day after tomorrow will be dewali. I will celebrate it .'"
      ]
     },
     "execution_count": 70,
     "metadata": {},
     "output_type": "execute_result"
    }
   ],
   "source": [
    "sj = \"day after tomorrow will be dewali. I will celebrate it .\"\n",
    "sj"
   ]
  },
  {
   "cell_type": "code",
   "execution_count": 71,
   "id": "e9400332",
   "metadata": {},
   "outputs": [
    {
     "data": {
      "text/plain": [
       "'day after tomorrow will be dewali'"
      ]
     },
     "execution_count": 71,
     "metadata": {},
     "output_type": "execute_result"
    }
   ],
   "source": [
    "sj.split('.')[0]"
   ]
  },
  {
   "cell_type": "code",
   "execution_count": 72,
   "id": "f022e9fc",
   "metadata": {},
   "outputs": [
    {
     "data": {
      "text/plain": [
       "' I will celebrate it '"
      ]
     },
     "execution_count": 72,
     "metadata": {},
     "output_type": "execute_result"
    }
   ],
   "source": [
    "sj.split('.')[1]"
   ]
  },
  {
   "cell_type": "code",
   "execution_count": 73,
   "id": "c81ea5e8",
   "metadata": {},
   "outputs": [
    {
     "data": {
      "text/plain": [
       "'Day After Tomorrow Will Be Dewali. I Will Celebrate It .'"
      ]
     },
     "execution_count": 73,
     "metadata": {},
     "output_type": "execute_result"
    }
   ],
   "source": [
    "sj.title()"
   ]
  },
  {
   "cell_type": "code",
   "execution_count": 74,
   "id": "43bbcee9",
   "metadata": {},
   "outputs": [
    {
     "data": {
      "text/plain": [
       "'Day after tomorrow will be dewali. i will celebrate it .'"
      ]
     },
     "execution_count": 74,
     "metadata": {},
     "output_type": "execute_result"
    }
   ],
   "source": [
    "sj.capitalize()"
   ]
  },
  {
   "cell_type": "code",
   "execution_count": 75,
   "id": "9db5909e",
   "metadata": {},
   "outputs": [
    {
     "data": {
      "text/plain": [
       "'day after tomorrow A be dewali. I A celebrate it .'"
      ]
     },
     "execution_count": 75,
     "metadata": {},
     "output_type": "execute_result"
    }
   ],
   "source": [
    "sj.replace('will','A')"
   ]
  },
  {
   "cell_type": "code",
   "execution_count": 76,
   "id": "d5c4952d",
   "metadata": {},
   "outputs": [
    {
     "data": {
      "text/plain": [
       "'aaaaaapwskillsaaaaaa'"
      ]
     },
     "execution_count": 76,
     "metadata": {},
     "output_type": "execute_result"
    }
   ],
   "source": [
    "up.center(20,'a')"
   ]
  },
  {
   "cell_type": "code",
   "execution_count": 77,
   "id": "d882845e",
   "metadata": {},
   "outputs": [
    {
     "data": {
      "text/plain": [
       "'       Dhanterus'"
      ]
     },
     "execution_count": 77,
     "metadata": {},
     "output_type": "execute_result"
    }
   ],
   "source": [
    "sd = \"       Dhanterus\"\n",
    "sd"
   ]
  },
  {
   "cell_type": "code",
   "execution_count": 78,
   "id": "e4571a7c",
   "metadata": {},
   "outputs": [
    {
     "data": {
      "text/plain": [
       "'Dhanterus'"
      ]
     },
     "execution_count": 78,
     "metadata": {},
     "output_type": "execute_result"
    }
   ],
   "source": [
    "sd.lstrip()"
   ]
  },
  {
   "cell_type": "code",
   "execution_count": 79,
   "id": "3218d6b8",
   "metadata": {},
   "outputs": [
    {
     "data": {
      "text/plain": [
       "'       Dhanterus'"
      ]
     },
     "execution_count": 79,
     "metadata": {},
     "output_type": "execute_result"
    }
   ],
   "source": [
    "sd.rstrip()"
   ]
  },
  {
   "cell_type": "code",
   "execution_count": 80,
   "id": "282dce55",
   "metadata": {},
   "outputs": [
    {
     "data": {
      "text/plain": [
       "'       Dhanterus'"
      ]
     },
     "execution_count": 80,
     "metadata": {},
     "output_type": "execute_result"
    }
   ],
   "source": [
    "sd.rstrip()"
   ]
  },
  {
   "cell_type": "code",
   "execution_count": 81,
   "id": "299aad23",
   "metadata": {},
   "outputs": [
    {
     "data": {
      "text/plain": [
       "'Dhanterus'"
      ]
     },
     "execution_count": 81,
     "metadata": {},
     "output_type": "execute_result"
    }
   ],
   "source": [
    "sd.strip()"
   ]
  },
  {
   "cell_type": "code",
   "execution_count": 82,
   "id": "ba1528fd",
   "metadata": {},
   "outputs": [
    {
     "data": {
      "text/plain": [
       "False"
      ]
     },
     "execution_count": 82,
     "metadata": {},
     "output_type": "execute_result"
    }
   ],
   "source": [
    "sd.isalnum()"
   ]
  },
  {
   "cell_type": "code",
   "execution_count": 83,
   "id": "ce9cbbcc",
   "metadata": {},
   "outputs": [
    {
     "data": {
      "text/plain": [
       "False"
      ]
     },
     "execution_count": 83,
     "metadata": {},
     "output_type": "execute_result"
    }
   ],
   "source": [
    "sd.isnumeric()"
   ]
  },
  {
   "cell_type": "code",
   "execution_count": 84,
   "id": "178849b3",
   "metadata": {},
   "outputs": [
    {
     "data": {
      "text/plain": [
       "False"
      ]
     },
     "execution_count": 84,
     "metadata": {},
     "output_type": "execute_result"
    }
   ],
   "source": [
    "sd.islower()"
   ]
  },
  {
   "cell_type": "code",
   "execution_count": 85,
   "id": "2b96ade2",
   "metadata": {},
   "outputs": [
    {
     "data": {
      "text/plain": [
       "False"
      ]
     },
     "execution_count": 85,
     "metadata": {},
     "output_type": "execute_result"
    }
   ],
   "source": [
    "sd.isupper()"
   ]
  },
  {
   "cell_type": "code",
   "execution_count": 86,
   "id": "81fa5a03",
   "metadata": {},
   "outputs": [
    {
     "data": {
      "text/plain": [
       "False"
      ]
     },
     "execution_count": 86,
     "metadata": {},
     "output_type": "execute_result"
    }
   ],
   "source": [
    "sd.isalpha()"
   ]
  },
  {
   "cell_type": "code",
   "execution_count": 87,
   "id": "e8c0487f",
   "metadata": {},
   "outputs": [
    {
     "data": {
      "text/plain": [
       "'siddj'"
      ]
     },
     "execution_count": 87,
     "metadata": {},
     "output_type": "execute_result"
    }
   ],
   "source": [
    "am=\"siddj\"\n",
    "am"
   ]
  },
  {
   "cell_type": "code",
   "execution_count": 88,
   "id": "5bd4b937",
   "metadata": {},
   "outputs": [
    {
     "data": {
      "text/plain": [
       "True"
      ]
     },
     "execution_count": 88,
     "metadata": {},
     "output_type": "execute_result"
    }
   ],
   "source": [
    "am.isalpha()"
   ]
  },
  {
   "cell_type": "code",
   "execution_count": 89,
   "id": "57899c04",
   "metadata": {},
   "outputs": [],
   "source": [
    "T = sd.lstrip()"
   ]
  },
  {
   "cell_type": "code",
   "execution_count": 90,
   "id": "0b27cced",
   "metadata": {},
   "outputs": [
    {
     "data": {
      "text/plain": [
       "True"
      ]
     },
     "execution_count": 90,
     "metadata": {},
     "output_type": "execute_result"
    }
   ],
   "source": [
    "T.isalpha()"
   ]
  },
  {
   "cell_type": "code",
   "execution_count": 91,
   "id": "8a12a130",
   "metadata": {},
   "outputs": [
    {
     "data": {
      "text/plain": [
       "False"
      ]
     },
     "execution_count": 91,
     "metadata": {},
     "output_type": "execute_result"
    }
   ],
   "source": [
    "T.isupper()"
   ]
  },
  {
   "cell_type": "code",
   "execution_count": 92,
   "id": "2b9e4059",
   "metadata": {},
   "outputs": [
    {
     "data": {
      "text/plain": [
       "False"
      ]
     },
     "execution_count": 92,
     "metadata": {},
     "output_type": "execute_result"
    }
   ],
   "source": [
    "T.isnumeric()"
   ]
  },
  {
   "cell_type": "code",
   "execution_count": 93,
   "id": "02d9d286",
   "metadata": {},
   "outputs": [],
   "source": [
    "uk = list(am)"
   ]
  },
  {
   "cell_type": "code",
   "execution_count": 94,
   "id": "e2f21617",
   "metadata": {},
   "outputs": [
    {
     "data": {
      "text/plain": [
       "['s', 'i', 'd', 'd', 'j']"
      ]
     },
     "execution_count": 94,
     "metadata": {},
     "output_type": "execute_result"
    }
   ],
   "source": [
    "uk "
   ]
  },
  {
   "cell_type": "code",
   "execution_count": 95,
   "id": "44aee2eb",
   "metadata": {},
   "outputs": [],
   "source": [
    "uk.append(\"aryan\")"
   ]
  },
  {
   "cell_type": "code",
   "execution_count": 96,
   "id": "0854addb",
   "metadata": {},
   "outputs": [
    {
     "data": {
      "text/plain": [
       "['s', 'i', 'd', 'd', 'j', 'aryan']"
      ]
     },
     "execution_count": 96,
     "metadata": {},
     "output_type": "execute_result"
    }
   ],
   "source": [
    "uk"
   ]
  },
  {
   "cell_type": "code",
   "execution_count": 97,
   "id": "2ce92df9",
   "metadata": {},
   "outputs": [],
   "source": [
    "uk.insert(3,\"pwskills\")"
   ]
  },
  {
   "cell_type": "code",
   "execution_count": 98,
   "id": "a330d24a",
   "metadata": {},
   "outputs": [
    {
     "data": {
      "text/plain": [
       "['s', 'i', 'd', 'pwskills', 'd', 'j', 'aryan']"
      ]
     },
     "execution_count": 98,
     "metadata": {},
     "output_type": "execute_result"
    }
   ],
   "source": [
    "uk"
   ]
  },
  {
   "cell_type": "code",
   "execution_count": 99,
   "id": "90a6d973",
   "metadata": {},
   "outputs": [],
   "source": [
    "\n",
    "uk.insert(4,\"jppp\")"
   ]
  },
  {
   "cell_type": "code",
   "execution_count": 100,
   "id": "fe0e1d1b",
   "metadata": {},
   "outputs": [
    {
     "data": {
      "text/plain": [
       "['s', 'i', 'd', 'pwskills', 'jppp', 'd', 'j', 'aryan']"
      ]
     },
     "execution_count": 100,
     "metadata": {},
     "output_type": "execute_result"
    }
   ],
   "source": [
    "uk"
   ]
  },
  {
   "cell_type": "code",
   "execution_count": 101,
   "id": "3f2d7b87",
   "metadata": {},
   "outputs": [],
   "source": [
    "uk.extend('aryan')"
   ]
  },
  {
   "cell_type": "code",
   "execution_count": 102,
   "id": "1fd19273",
   "metadata": {},
   "outputs": [
    {
     "data": {
      "text/plain": [
       "['s', 'i', 'd', 'pwskills', 'jppp', 'd', 'j', 'aryan', 'a', 'r', 'y', 'a', 'n']"
      ]
     },
     "execution_count": 102,
     "metadata": {},
     "output_type": "execute_result"
    }
   ],
   "source": [
    "uk"
   ]
  },
  {
   "cell_type": "code",
   "execution_count": 103,
   "id": "6621ff97",
   "metadata": {},
   "outputs": [],
   "source": [
    "uk.extend('pwskills')"
   ]
  },
  {
   "cell_type": "code",
   "execution_count": 104,
   "id": "5a5eeef4",
   "metadata": {},
   "outputs": [
    {
     "data": {
      "text/plain": [
       "['s',\n",
       " 'i',\n",
       " 'd',\n",
       " 'pwskills',\n",
       " 'jppp',\n",
       " 'd',\n",
       " 'j',\n",
       " 'aryan',\n",
       " 'a',\n",
       " 'r',\n",
       " 'y',\n",
       " 'a',\n",
       " 'n',\n",
       " 'p',\n",
       " 'w',\n",
       " 's',\n",
       " 'k',\n",
       " 'i',\n",
       " 'l',\n",
       " 'l',\n",
       " 's']"
      ]
     },
     "execution_count": 104,
     "metadata": {},
     "output_type": "execute_result"
    }
   ],
   "source": [
    "uk"
   ]
  },
  {
   "cell_type": "code",
   "execution_count": 105,
   "id": "b3606c3d",
   "metadata": {},
   "outputs": [
    {
     "data": {
      "text/plain": [
       "['s',\n",
       " 'i',\n",
       " 'd',\n",
       " 'pwskills',\n",
       " 'jppp',\n",
       " 'd',\n",
       " 'j',\n",
       " 'aryan',\n",
       " 'a',\n",
       " 'r',\n",
       " 'y',\n",
       " 'a',\n",
       " 'n',\n",
       " 'p',\n",
       " 'w',\n",
       " 's',\n",
       " 'k',\n",
       " 'i',\n",
       " 'l',\n",
       " 'l',\n",
       " 's',\n",
       " [3, 3, 35]]"
      ]
     },
     "execution_count": 105,
     "metadata": {},
     "output_type": "execute_result"
    }
   ],
   "source": [
    "uk.append([3,3,35])\n",
    "uk"
   ]
  },
  {
   "cell_type": "code",
   "execution_count": 106,
   "id": "f1bfdd27",
   "metadata": {},
   "outputs": [
    {
     "data": {
      "text/plain": [
       "['s',\n",
       " 'i',\n",
       " 'd',\n",
       " 'pwskills',\n",
       " [3, 2.35, 35, 35, 32.0, 35, 235, 235],\n",
       " 'jppp',\n",
       " 'd',\n",
       " 'j',\n",
       " 'aryan',\n",
       " 'a',\n",
       " 'r',\n",
       " 'y',\n",
       " 'a',\n",
       " 'n',\n",
       " 'p',\n",
       " 'w',\n",
       " 's',\n",
       " 'k',\n",
       " 'i',\n",
       " 'l',\n",
       " 'l',\n",
       " 's',\n",
       " [3, 3, 35]]"
      ]
     },
     "execution_count": 106,
     "metadata": {},
     "output_type": "execute_result"
    }
   ],
   "source": [
    "uk.insert(4,[3,2.35,35,35,32.,35,235,235,])\n",
    "uk"
   ]
  },
  {
   "cell_type": "code",
   "execution_count": 107,
   "id": "9f4a22c3",
   "metadata": {},
   "outputs": [
    {
     "data": {
      "text/plain": [
       "['s',\n",
       " 'i',\n",
       " 'd',\n",
       " 'pwskills',\n",
       " [3, 2.35, 35, 35, 32.0, 35, 235, 235],\n",
       " 'jppp',\n",
       " 'd',\n",
       " 'j',\n",
       " 'aryan',\n",
       " 'a',\n",
       " 'r',\n",
       " 'y',\n",
       " 'a',\n",
       " 'n',\n",
       " 'p',\n",
       " 'w',\n",
       " 's',\n",
       " 'k',\n",
       " 'i',\n",
       " 'l',\n",
       " 'l',\n",
       " 's',\n",
       " [3, 3, 35],\n",
       " 4,\n",
       " 5,\n",
       " 6]"
      ]
     },
     "execution_count": 107,
     "metadata": {},
     "output_type": "execute_result"
    }
   ],
   "source": [
    "uk.extend([4,5,6,])\n",
    "uk"
   ]
  },
  {
   "cell_type": "markdown",
   "id": "eb5ff94a",
   "metadata": {},
   "source": [
    "# pop \n"
   ]
  },
  {
   "cell_type": "code",
   "execution_count": 108,
   "id": "6d07c490",
   "metadata": {},
   "outputs": [
    {
     "data": {
      "text/plain": [
       "['aryan', 'verma', 3, 'peinxw']"
      ]
     },
     "execution_count": 108,
     "metadata": {},
     "output_type": "execute_result"
    }
   ],
   "source": [
    "let = ['aryan','verma',3,'peinxw',]\n",
    "let"
   ]
  },
  {
   "cell_type": "code",
   "execution_count": 109,
   "id": "09b7ab34",
   "metadata": {},
   "outputs": [
    {
     "data": {
      "text/plain": [
       "'peinxw'"
      ]
     },
     "execution_count": 109,
     "metadata": {},
     "output_type": "execute_result"
    }
   ],
   "source": [
    "let.pop()"
   ]
  },
  {
   "cell_type": "code",
   "execution_count": 110,
   "id": "bb5b749d",
   "metadata": {},
   "outputs": [
    {
     "data": {
      "text/plain": [
       "['aryan', 'verma', 3]"
      ]
     },
     "execution_count": 110,
     "metadata": {},
     "output_type": "execute_result"
    }
   ],
   "source": [
    "let"
   ]
  },
  {
   "cell_type": "code",
   "execution_count": 111,
   "id": "7ba74771",
   "metadata": {},
   "outputs": [
    {
     "data": {
      "text/plain": [
       "3"
      ]
     },
     "execution_count": 111,
     "metadata": {},
     "output_type": "execute_result"
    }
   ],
   "source": [
    "let.pop()\n"
   ]
  },
  {
   "cell_type": "code",
   "execution_count": 112,
   "id": "7508041e",
   "metadata": {},
   "outputs": [
    {
     "data": {
      "text/plain": [
       "['aryan', 'verma']"
      ]
     },
     "execution_count": 112,
     "metadata": {},
     "output_type": "execute_result"
    }
   ],
   "source": [
    "let"
   ]
  },
  {
   "cell_type": "code",
   "execution_count": 113,
   "id": "db79ca9c",
   "metadata": {},
   "outputs": [
    {
     "data": {
      "text/plain": [
       "['aryan', 'verma']"
      ]
     },
     "execution_count": 113,
     "metadata": {},
     "output_type": "execute_result"
    }
   ],
   "source": [
    "let"
   ]
  },
  {
   "cell_type": "code",
   "execution_count": 114,
   "id": "61daac78",
   "metadata": {},
   "outputs": [
    {
     "data": {
      "text/plain": [
       "['c', 'java', 'r', 'c#', 'python']"
      ]
     },
     "execution_count": 114,
     "metadata": {},
     "output_type": "execute_result"
    }
   ],
   "source": [
    "po=[\"c\",'java','r',\"c#\",'python']\n",
    "po"
   ]
  },
  {
   "cell_type": "code",
   "execution_count": 115,
   "id": "36f44f86",
   "metadata": {},
   "outputs": [
    {
     "data": {
      "text/plain": [
       "'java'"
      ]
     },
     "execution_count": 115,
     "metadata": {},
     "output_type": "execute_result"
    }
   ],
   "source": [
    "po.pop(1)"
   ]
  },
  {
   "cell_type": "code",
   "execution_count": 116,
   "id": "9e0ff912",
   "metadata": {},
   "outputs": [
    {
     "data": {
      "text/plain": [
       "['c', 'r', 'c#', 'python']"
      ]
     },
     "execution_count": 116,
     "metadata": {},
     "output_type": "execute_result"
    }
   ],
   "source": [
    "po"
   ]
  },
  {
   "cell_type": "code",
   "execution_count": 117,
   "id": "85c36e9a",
   "metadata": {},
   "outputs": [
    {
     "data": {
      "text/plain": [
       "'python'"
      ]
     },
     "execution_count": 117,
     "metadata": {},
     "output_type": "execute_result"
    }
   ],
   "source": [
    "po.pop(3)"
   ]
  },
  {
   "cell_type": "code",
   "execution_count": 118,
   "id": "415f82b0",
   "metadata": {},
   "outputs": [
    {
     "data": {
      "text/plain": [
       "['c', 'r', 'c#']"
      ]
     },
     "execution_count": 118,
     "metadata": {},
     "output_type": "execute_result"
    }
   ],
   "source": [
    "po"
   ]
  },
  {
   "cell_type": "code",
   "execution_count": 119,
   "id": "e908a08b",
   "metadata": {},
   "outputs": [],
   "source": [
    "del po"
   ]
  },
  {
   "cell_type": "code",
   "execution_count": 120,
   "id": "f8fcc0af",
   "metadata": {},
   "outputs": [],
   "source": [
    "#po"
   ]
  },
  {
   "cell_type": "code",
   "execution_count": 121,
   "id": "bf792ab6",
   "metadata": {},
   "outputs": [
    {
     "data": {
      "text/plain": [
       "['sovel', 'lko', 'kanpur', 'sitapur', 'barahbanki']"
      ]
     },
     "execution_count": 121,
     "metadata": {},
     "output_type": "execute_result"
    }
   ],
   "source": [
    "arr=[\"sovel\",'lko','kanpur','sitapur','barahbanki']\n",
    "arr"
   ]
  },
  {
   "cell_type": "code",
   "execution_count": 122,
   "id": "6f63fcf6",
   "metadata": {},
   "outputs": [],
   "source": [
    "arr.remove('lko')\n"
   ]
  },
  {
   "cell_type": "code",
   "execution_count": 123,
   "id": "76a40715",
   "metadata": {},
   "outputs": [
    {
     "data": {
      "text/plain": [
       "['sovel', 'kanpur', 'sitapur', 'barahbanki']"
      ]
     },
     "execution_count": 123,
     "metadata": {},
     "output_type": "execute_result"
    }
   ],
   "source": [
    "arr"
   ]
  },
  {
   "cell_type": "code",
   "execution_count": 124,
   "id": "f1a7b7b8",
   "metadata": {},
   "outputs": [],
   "source": [
    "arr.clear()"
   ]
  },
  {
   "cell_type": "code",
   "execution_count": 125,
   "id": "112f18d2",
   "metadata": {},
   "outputs": [
    {
     "data": {
      "text/plain": [
       "[]"
      ]
     },
     "execution_count": 125,
     "metadata": {},
     "output_type": "execute_result"
    }
   ],
   "source": [
    "arr"
   ]
  },
  {
   "cell_type": "code",
   "execution_count": 126,
   "id": "faa9321f",
   "metadata": {},
   "outputs": [],
   "source": [
    "w=['s','dk','psfl','dk']"
   ]
  },
  {
   "cell_type": "code",
   "execution_count": 127,
   "id": "5020be49",
   "metadata": {},
   "outputs": [
    {
     "data": {
      "text/plain": [
       "['s', 'dk', 'psfl', 'dk']"
      ]
     },
     "execution_count": 127,
     "metadata": {},
     "output_type": "execute_result"
    }
   ],
   "source": [
    "w"
   ]
  },
  {
   "cell_type": "code",
   "execution_count": 128,
   "id": "69296a05",
   "metadata": {},
   "outputs": [],
   "source": [
    "w.reverse()"
   ]
  },
  {
   "cell_type": "code",
   "execution_count": 129,
   "id": "77e13e10",
   "metadata": {},
   "outputs": [
    {
     "data": {
      "text/plain": [
       "['dk', 'psfl', 'dk', 's']"
      ]
     },
     "execution_count": 129,
     "metadata": {},
     "output_type": "execute_result"
    }
   ],
   "source": [
    "w"
   ]
  },
  {
   "cell_type": "code",
   "execution_count": 130,
   "id": "e243afda",
   "metadata": {},
   "outputs": [],
   "source": [
    "w.sort() # using in homogenous data "
   ]
  },
  {
   "cell_type": "code",
   "execution_count": 131,
   "id": "0341c1bf",
   "metadata": {},
   "outputs": [
    {
     "data": {
      "text/plain": [
       "['dk', 'dk', 'psfl', 's']"
      ]
     },
     "execution_count": 131,
     "metadata": {},
     "output_type": "execute_result"
    }
   ],
   "source": [
    "w"
   ]
  },
  {
   "cell_type": "code",
   "execution_count": 132,
   "id": "ea7076cc",
   "metadata": {},
   "outputs": [
    {
     "data": {
      "text/plain": [
       "[33,\n",
       " 3,\n",
       " 6,\n",
       " 7,\n",
       " 8,\n",
       " 3,\n",
       " 324534,\n",
       " 64,\n",
       " 764,\n",
       " 7,\n",
       " 3,\n",
       " 3,\n",
       " 6,\n",
       " 3,\n",
       " 6,\n",
       " 47,\n",
       " 3,\n",
       " 5,\n",
       " 8,\n",
       " 76,\n",
       " 5,\n",
       " 42,\n",
       " 2]"
      ]
     },
     "execution_count": 132,
     "metadata": {},
     "output_type": "execute_result"
    }
   ],
   "source": [
    "us=[33,3,6,7,8,3,324534,64,764,7,3,3,6,3,6,47,3,5,8,76,5,42,2]\n",
    "us"
   ]
  },
  {
   "cell_type": "code",
   "execution_count": 133,
   "id": "98f99fb5",
   "metadata": {},
   "outputs": [],
   "source": [
    "us.sort()"
   ]
  },
  {
   "cell_type": "code",
   "execution_count": 134,
   "id": "179cd55c",
   "metadata": {},
   "outputs": [
    {
     "data": {
      "text/plain": [
       "[2,\n",
       " 3,\n",
       " 3,\n",
       " 3,\n",
       " 3,\n",
       " 3,\n",
       " 3,\n",
       " 5,\n",
       " 5,\n",
       " 6,\n",
       " 6,\n",
       " 6,\n",
       " 7,\n",
       " 7,\n",
       " 8,\n",
       " 8,\n",
       " 33,\n",
       " 42,\n",
       " 47,\n",
       " 64,\n",
       " 76,\n",
       " 764,\n",
       " 324534]"
      ]
     },
     "execution_count": 134,
     "metadata": {},
     "output_type": "execute_result"
    }
   ],
   "source": [
    "us"
   ]
  },
  {
   "cell_type": "code",
   "execution_count": 135,
   "id": "b5bb7deb",
   "metadata": {},
   "outputs": [],
   "source": [
    "us.sort(reverse=True)"
   ]
  },
  {
   "cell_type": "code",
   "execution_count": 136,
   "id": "a4caf75b",
   "metadata": {},
   "outputs": [
    {
     "data": {
      "text/plain": [
       "[324534,\n",
       " 764,\n",
       " 76,\n",
       " 64,\n",
       " 47,\n",
       " 42,\n",
       " 33,\n",
       " 8,\n",
       " 8,\n",
       " 7,\n",
       " 7,\n",
       " 6,\n",
       " 6,\n",
       " 6,\n",
       " 5,\n",
       " 5,\n",
       " 3,\n",
       " 3,\n",
       " 3,\n",
       " 3,\n",
       " 3,\n",
       " 3,\n",
       " 2]"
      ]
     },
     "execution_count": 136,
     "metadata": {},
     "output_type": "execute_result"
    }
   ],
   "source": [
    "us"
   ]
  },
  {
   "cell_type": "code",
   "execution_count": 137,
   "id": "c6df2697",
   "metadata": {},
   "outputs": [
    {
     "data": {
      "text/plain": [
       "{2, 3, 5, 6, 7, 8, 33, 42, 47, 64, 76, 764, 324534}"
      ]
     },
     "execution_count": 137,
     "metadata": {},
     "output_type": "execute_result"
    }
   ],
   "source": [
    "set(us)# to find unique value"
   ]
  },
  {
   "cell_type": "code",
   "execution_count": 138,
   "id": "294be947",
   "metadata": {},
   "outputs": [
    {
     "data": {
      "text/plain": [
       "[64, 33, 2, 3, 5, 6, 7, 8, 42, 76, 47, 324534, 764]"
      ]
     },
     "execution_count": 138,
     "metadata": {},
     "output_type": "execute_result"
    }
   ],
   "source": [
    "list(set(us))"
   ]
  },
  {
   "cell_type": "markdown",
   "id": "b2d062aa",
   "metadata": {},
   "source": [
    "Deep copy and shallow copy"
   ]
  },
  {
   "cell_type": "code",
   "execution_count": 139,
   "id": "c9cd07af",
   "metadata": {},
   "outputs": [],
   "source": [
    "l1 = [1,2,3,4,5,6,7,8,]"
   ]
  },
  {
   "cell_type": "code",
   "execution_count": 140,
   "id": "485c2112",
   "metadata": {},
   "outputs": [],
   "source": [
    "l2=[1,2,3,4,5]"
   ]
  },
  {
   "cell_type": "code",
   "execution_count": 141,
   "id": "7a03873e",
   "metadata": {},
   "outputs": [],
   "source": [
    "l1 = l2"
   ]
  },
  {
   "cell_type": "code",
   "execution_count": 142,
   "id": "18a24c43",
   "metadata": {},
   "outputs": [
    {
     "data": {
      "text/plain": [
       "[1, 2, 3, 4, 5]"
      ]
     },
     "execution_count": 142,
     "metadata": {},
     "output_type": "execute_result"
    }
   ],
   "source": [
    "l1"
   ]
  },
  {
   "cell_type": "code",
   "execution_count": 143,
   "id": "996b4a1e",
   "metadata": {},
   "outputs": [
    {
     "data": {
      "text/plain": [
       "[1, 2, 3, 4, 5]"
      ]
     },
     "execution_count": 143,
     "metadata": {},
     "output_type": "execute_result"
    }
   ],
   "source": [
    "l2"
   ]
  },
  {
   "cell_type": "code",
   "execution_count": 144,
   "id": "85818dce",
   "metadata": {},
   "outputs": [],
   "source": [
    "l2[0]=35555"
   ]
  },
  {
   "cell_type": "code",
   "execution_count": 145,
   "id": "9ca5ce27",
   "metadata": {},
   "outputs": [],
   "source": [
    "l1 = l2"
   ]
  },
  {
   "cell_type": "code",
   "execution_count": 146,
   "id": "460cf70c",
   "metadata": {},
   "outputs": [
    {
     "data": {
      "text/plain": [
       "[35555, 2, 3, 4, 5]"
      ]
     },
     "execution_count": 146,
     "metadata": {},
     "output_type": "execute_result"
    }
   ],
   "source": [
    "l1"
   ]
  },
  {
   "cell_type": "code",
   "execution_count": 147,
   "id": "e7fb6c07",
   "metadata": {},
   "outputs": [],
   "source": [
    "L3 = l1.copy() #called as deep copy"
   ]
  },
  {
   "cell_type": "code",
   "execution_count": 148,
   "id": "e12e529b",
   "metadata": {},
   "outputs": [],
   "source": [
    "l2[1]=23323"
   ]
  },
  {
   "cell_type": "code",
   "execution_count": 149,
   "id": "288a9a20",
   "metadata": {},
   "outputs": [
    {
     "data": {
      "text/plain": [
       "[35555, 23323, 3, 4, 5]"
      ]
     },
     "execution_count": 149,
     "metadata": {},
     "output_type": "execute_result"
    }
   ],
   "source": [
    "l1"
   ]
  },
  {
   "cell_type": "code",
   "execution_count": 150,
   "id": "94654109",
   "metadata": {},
   "outputs": [
    {
     "data": {
      "text/plain": [
       "[35555, 23323, 3, 4, 5]"
      ]
     },
     "execution_count": 150,
     "metadata": {},
     "output_type": "execute_result"
    }
   ],
   "source": [
    "l2"
   ]
  },
  {
   "cell_type": "code",
   "execution_count": 151,
   "id": "985d0c7e",
   "metadata": {},
   "outputs": [
    {
     "data": {
      "text/plain": [
       "[35555, 2, 3, 4, 5]"
      ]
     },
     "execution_count": 151,
     "metadata": {},
     "output_type": "execute_result"
    }
   ],
   "source": [
    "L3   # this will not change L3 second place due to deep copy"
   ]
  },
  {
   "cell_type": "code",
   "execution_count": 153,
   "id": "0c910fbd",
   "metadata": {},
   "outputs": [],
   "source": [
    "sets= {12,3,5,6,6,'ram'}"
   ]
  },
  {
   "cell_type": "code",
   "execution_count": 154,
   "id": "6ea3ecff",
   "metadata": {},
   "outputs": [
    {
     "data": {
      "text/plain": [
       "set"
      ]
     },
     "execution_count": 154,
     "metadata": {},
     "output_type": "execute_result"
    }
   ],
   "source": [
    "type(sets)"
   ]
  },
  {
   "cell_type": "code",
   "execution_count": 155,
   "id": "44ecc047",
   "metadata": {},
   "outputs": [
    {
     "data": {
      "text/plain": [
       "{12, 3, 5, 6, 'ram'}"
      ]
     },
     "execution_count": 155,
     "metadata": {},
     "output_type": "execute_result"
    }
   ],
   "source": [
    "sets"
   ]
  },
  {
   "cell_type": "code",
   "execution_count": 156,
   "id": "5d8208ec",
   "metadata": {},
   "outputs": [],
   "source": [
    "sets.add('shyam')"
   ]
  },
  {
   "cell_type": "code",
   "execution_count": 157,
   "id": "92a13e7c",
   "metadata": {},
   "outputs": [
    {
     "data": {
      "text/plain": [
       "{12, 3, 5, 6, 'ram', 'shyam'}"
      ]
     },
     "execution_count": 157,
     "metadata": {},
     "output_type": "execute_result"
    }
   ],
   "source": [
    "sets"
   ]
  },
  {
   "cell_type": "code",
   "execution_count": 160,
   "id": "c06ce8e4",
   "metadata": {},
   "outputs": [],
   "source": [
    "sets.discard(6) # it would able to discard the data "
   ]
  },
  {
   "cell_type": "code",
   "execution_count": 164,
   "id": "66922cd2",
   "metadata": {},
   "outputs": [
    {
     "data": {
      "text/plain": [
       "{12, 3, 5, 'ram', 'shyam'}"
      ]
     },
     "execution_count": 164,
     "metadata": {},
     "output_type": "execute_result"
    }
   ],
   "source": [
    "sets"
   ]
  },
  {
   "cell_type": "code",
   "execution_count": 165,
   "id": "0bf9063c",
   "metadata": {},
   "outputs": [
    {
     "data": {
      "text/plain": [
       "'shyam'"
      ]
     },
     "execution_count": 165,
     "metadata": {},
     "output_type": "execute_result"
    }
   ],
   "source": [
    "sets.pop()"
   ]
  },
  {
   "cell_type": "code",
   "execution_count": 166,
   "id": "174ae421",
   "metadata": {},
   "outputs": [
    {
     "data": {
      "text/plain": [
       "{12, 3, 5, 'ram'}"
      ]
     },
     "execution_count": 166,
     "metadata": {},
     "output_type": "execute_result"
    }
   ],
   "source": [
    "sets"
   ]
  },
  {
   "cell_type": "code",
   "execution_count": 168,
   "id": "4ecc1f47",
   "metadata": {},
   "outputs": [],
   "source": [
    "sets.remove(12)"
   ]
  },
  {
   "cell_type": "code",
   "execution_count": 169,
   "id": "5f929494",
   "metadata": {},
   "outputs": [
    {
     "data": {
      "text/plain": [
       "{3, 5, 'ram'}"
      ]
     },
     "execution_count": 169,
     "metadata": {},
     "output_type": "execute_result"
    }
   ],
   "source": [
    "sets"
   ]
  },
  {
   "cell_type": "code",
   "execution_count": 170,
   "id": "cfed7719",
   "metadata": {},
   "outputs": [],
   "source": [
    "dic = {'name':'aryan','class':'btech','branch':'CSE-AI','visit':[2,3,5,52,2,24,2]}"
   ]
  },
  {
   "cell_type": "code",
   "execution_count": 171,
   "id": "a1d85c61",
   "metadata": {},
   "outputs": [
    {
     "data": {
      "text/plain": [
       "{'name': 'aryan',\n",
       " 'class': 'btech',\n",
       " 'branch': 'CSE-AI',\n",
       " 'visit': [2, 3, 5, 52, 2, 24, 2]}"
      ]
     },
     "execution_count": 171,
     "metadata": {},
     "output_type": "execute_result"
    }
   ],
   "source": [
    "dic"
   ]
  },
  {
   "cell_type": "code",
   "execution_count": 173,
   "id": "b2a8809f",
   "metadata": {},
   "outputs": [
    {
     "data": {
      "text/plain": [
       "dict_keys(['name', 'class', 'branch', 'visit'])"
      ]
     },
     "execution_count": 173,
     "metadata": {},
     "output_type": "execute_result"
    }
   ],
   "source": [
    "dic.keys()"
   ]
  },
  {
   "cell_type": "code",
   "execution_count": 176,
   "id": "c80c5a94",
   "metadata": {},
   "outputs": [
    {
     "data": {
      "text/plain": [
       "dict_values(['aryan', 'btech', 'CSE-AI', [2, 3, 5, 52, 2, 24, 2]])"
      ]
     },
     "execution_count": 176,
     "metadata": {},
     "output_type": "execute_result"
    }
   ],
   "source": [
    "dic.values()"
   ]
  },
  {
   "cell_type": "code",
   "execution_count": 177,
   "id": "02067224",
   "metadata": {},
   "outputs": [
    {
     "data": {
      "text/plain": [
       "dict_items([('name', 'aryan'), ('class', 'btech'), ('branch', 'CSE-AI'), ('visit', [2, 3, 5, 52, 2, 24, 2])])"
      ]
     },
     "execution_count": 177,
     "metadata": {},
     "output_type": "execute_result"
    }
   ],
   "source": [
    "dic.items()"
   ]
  },
  {
   "cell_type": "code",
   "execution_count": 179,
   "id": "03c699b9",
   "metadata": {},
   "outputs": [
    {
     "data": {
      "text/plain": [
       "[2, 3, 5, 52, 2, 24, 2]"
      ]
     },
     "execution_count": 179,
     "metadata": {},
     "output_type": "execute_result"
    }
   ],
   "source": [
    " dic.pop('visit')"
   ]
  },
  {
   "cell_type": "code",
   "execution_count": 180,
   "id": "13b352fd",
   "metadata": {},
   "outputs": [
    {
     "data": {
      "text/plain": [
       "{'name': 'aryan', 'class': 'btech', 'branch': 'CSE-AI'}"
      ]
     },
     "execution_count": 180,
     "metadata": {},
     "output_type": "execute_result"
    }
   ],
   "source": [
    "dic"
   ]
  },
  {
   "cell_type": "code",
   "execution_count": null,
   "id": "4bce54a4",
   "metadata": {},
   "outputs": [],
   "source": []
  },
  {
   "cell_type": "code",
   "execution_count": null,
   "id": "ce5ba618",
   "metadata": {},
   "outputs": [],
   "source": []
  },
  {
   "cell_type": "code",
   "execution_count": null,
   "id": "0fd7f54a",
   "metadata": {},
   "outputs": [],
   "source": []
  },
  {
   "cell_type": "code",
   "execution_count": null,
   "id": "52b9144d",
   "metadata": {},
   "outputs": [],
   "source": []
  },
  {
   "cell_type": "code",
   "execution_count": null,
   "id": "28eb370b",
   "metadata": {},
   "outputs": [],
   "source": []
  },
  {
   "cell_type": "code",
   "execution_count": null,
   "id": "749b477f",
   "metadata": {},
   "outputs": [],
   "source": []
  },
  {
   "cell_type": "code",
   "execution_count": null,
   "id": "b81c15e6",
   "metadata": {},
   "outputs": [],
   "source": []
  },
  {
   "cell_type": "code",
   "execution_count": null,
   "id": "e6576e5f",
   "metadata": {},
   "outputs": [],
   "source": []
  },
  {
   "cell_type": "code",
   "execution_count": null,
   "id": "cb999d3e",
   "metadata": {},
   "outputs": [],
   "source": []
  },
  {
   "cell_type": "code",
   "execution_count": null,
   "id": "158adfe2",
   "metadata": {},
   "outputs": [],
   "source": []
  },
  {
   "cell_type": "code",
   "execution_count": null,
   "id": "33c4486d",
   "metadata": {},
   "outputs": [],
   "source": []
  },
  {
   "cell_type": "code",
   "execution_count": null,
   "id": "0e079437",
   "metadata": {},
   "outputs": [],
   "source": []
  },
  {
   "cell_type": "code",
   "execution_count": null,
   "id": "fa8b7bd4",
   "metadata": {},
   "outputs": [],
   "source": []
  },
  {
   "cell_type": "code",
   "execution_count": null,
   "id": "b44965c2",
   "metadata": {},
   "outputs": [],
   "source": []
  },
  {
   "cell_type": "code",
   "execution_count": null,
   "id": "2bbf4322",
   "metadata": {},
   "outputs": [],
   "source": []
  },
  {
   "cell_type": "code",
   "execution_count": null,
   "id": "09e4eb85",
   "metadata": {},
   "outputs": [],
   "source": []
  },
  {
   "cell_type": "code",
   "execution_count": null,
   "id": "dfa65e39",
   "metadata": {},
   "outputs": [],
   "source": []
  },
  {
   "cell_type": "code",
   "execution_count": null,
   "id": "84ba1c18",
   "metadata": {},
   "outputs": [],
   "source": []
  },
  {
   "cell_type": "code",
   "execution_count": null,
   "id": "84f9a26f",
   "metadata": {},
   "outputs": [],
   "source": []
  },
  {
   "cell_type": "code",
   "execution_count": null,
   "id": "36611b50",
   "metadata": {},
   "outputs": [],
   "source": []
  },
  {
   "cell_type": "code",
   "execution_count": null,
   "id": "2b69b4e9",
   "metadata": {},
   "outputs": [],
   "source": []
  },
  {
   "cell_type": "code",
   "execution_count": null,
   "id": "c3845308",
   "metadata": {},
   "outputs": [],
   "source": []
  },
  {
   "cell_type": "code",
   "execution_count": null,
   "id": "39c0b877",
   "metadata": {},
   "outputs": [],
   "source": []
  },
  {
   "cell_type": "code",
   "execution_count": null,
   "id": "90fbbb8b",
   "metadata": {},
   "outputs": [],
   "source": []
  },
  {
   "cell_type": "code",
   "execution_count": null,
   "id": "7df7e191",
   "metadata": {},
   "outputs": [],
   "source": []
  },
  {
   "cell_type": "code",
   "execution_count": null,
   "id": "4d98faf1",
   "metadata": {},
   "outputs": [],
   "source": []
  },
  {
   "cell_type": "code",
   "execution_count": null,
   "id": "d9139865",
   "metadata": {},
   "outputs": [],
   "source": []
  },
  {
   "cell_type": "code",
   "execution_count": null,
   "id": "1737da28",
   "metadata": {},
   "outputs": [],
   "source": []
  },
  {
   "cell_type": "code",
   "execution_count": null,
   "id": "0ea12302",
   "metadata": {},
   "outputs": [],
   "source": []
  },
  {
   "cell_type": "code",
   "execution_count": null,
   "id": "bba39cfc",
   "metadata": {},
   "outputs": [],
   "source": []
  },
  {
   "cell_type": "code",
   "execution_count": null,
   "id": "7efad3fc",
   "metadata": {},
   "outputs": [],
   "source": []
  },
  {
   "cell_type": "code",
   "execution_count": null,
   "id": "c6528d90",
   "metadata": {},
   "outputs": [],
   "source": []
  },
  {
   "cell_type": "code",
   "execution_count": null,
   "id": "c1d5c265",
   "metadata": {},
   "outputs": [],
   "source": []
  },
  {
   "cell_type": "code",
   "execution_count": null,
   "id": "ab3721be",
   "metadata": {},
   "outputs": [],
   "source": []
  },
  {
   "cell_type": "code",
   "execution_count": null,
   "id": "91b08170",
   "metadata": {},
   "outputs": [],
   "source": []
  },
  {
   "cell_type": "code",
   "execution_count": null,
   "id": "8429646e",
   "metadata": {},
   "outputs": [],
   "source": []
  },
  {
   "cell_type": "code",
   "execution_count": null,
   "id": "de43931a",
   "metadata": {},
   "outputs": [],
   "source": []
  },
  {
   "cell_type": "code",
   "execution_count": null,
   "id": "3793e39b",
   "metadata": {},
   "outputs": [],
   "source": []
  },
  {
   "cell_type": "code",
   "execution_count": null,
   "id": "b58a9535",
   "metadata": {},
   "outputs": [],
   "source": []
  },
  {
   "cell_type": "code",
   "execution_count": null,
   "id": "7bf09c64",
   "metadata": {},
   "outputs": [],
   "source": []
  },
  {
   "cell_type": "code",
   "execution_count": null,
   "id": "e4befec5",
   "metadata": {},
   "outputs": [],
   "source": []
  },
  {
   "cell_type": "code",
   "execution_count": null,
   "id": "72508b8c",
   "metadata": {},
   "outputs": [],
   "source": []
  },
  {
   "cell_type": "code",
   "execution_count": null,
   "id": "5b290289",
   "metadata": {},
   "outputs": [],
   "source": []
  },
  {
   "cell_type": "code",
   "execution_count": null,
   "id": "68572a0b",
   "metadata": {},
   "outputs": [],
   "source": []
  },
  {
   "cell_type": "code",
   "execution_count": null,
   "id": "29b74988",
   "metadata": {},
   "outputs": [],
   "source": []
  },
  {
   "cell_type": "code",
   "execution_count": null,
   "id": "2bebbde8",
   "metadata": {},
   "outputs": [],
   "source": []
  },
  {
   "cell_type": "code",
   "execution_count": null,
   "id": "d4560e05",
   "metadata": {},
   "outputs": [],
   "source": []
  },
  {
   "cell_type": "code",
   "execution_count": null,
   "id": "c68d1fdc",
   "metadata": {},
   "outputs": [],
   "source": []
  },
  {
   "cell_type": "code",
   "execution_count": null,
   "id": "41f135d1",
   "metadata": {},
   "outputs": [],
   "source": []
  },
  {
   "cell_type": "code",
   "execution_count": null,
   "id": "8ced5b76",
   "metadata": {},
   "outputs": [],
   "source": []
  }
 ],
 "metadata": {
  "kernelspec": {
   "display_name": "Python 3 (ipykernel)",
   "language": "python",
   "name": "python3"
  },
  "language_info": {
   "codemirror_mode": {
    "name": "ipython",
    "version": 3
   },
   "file_extension": ".py",
   "mimetype": "text/x-python",
   "name": "python",
   "nbconvert_exporter": "python",
   "pygments_lexer": "ipython3",
   "version": "3.11.5"
  }
 },
 "nbformat": 4,
 "nbformat_minor": 5
}
