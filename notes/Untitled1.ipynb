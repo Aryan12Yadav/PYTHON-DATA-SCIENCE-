{
 "cells": [
  {
   "cell_type": "markdown",
   "id": "1441e984",
   "metadata": {},
   "source": [
    "# Assignment 4"
   ]
  },
  {
   "cell_type": "markdown",
   "id": "ebbaac00",
   "metadata": {},
   "source": [
    "1. Write a Python program to check if a given number is positive or negative"
   ]
  },
  {
   "cell_type": "code",
   "execution_count": 8,
   "id": "dfa48ffc",
   "metadata": {},
   "outputs": [
    {
     "name": "stdout",
     "output_type": "stream",
     "text": [
      "Enter the num : 4\n",
      "hence the given number is positive .\n"
     ]
    }
   ],
   "source": [
    "num = int(input(\"Enter the num : \"))\n",
    "if num>0:\n",
    "    print(\"hence the given number is positive .\")\n",
    "elif num == 0:\n",
    "    print(\"this number is neither positive nor negative.\")\n",
    "else:\n",
    "    print(\"the given number is negative\")"
   ]
  },
  {
   "cell_type": "markdown",
   "id": "b141f5e0",
   "metadata": {},
   "source": [
    "2. Create a program that determines if a person is eligible to vote based on their age."
   ]
  },
  {
   "cell_type": "code",
   "execution_count": 28,
   "id": "91eed969",
   "metadata": {},
   "outputs": [
    {
     "name": "stdout",
     "output_type": "stream",
     "text": [
      "Enter you age :67.5\n",
      "yah! you are eligible for the vote.\n"
     ]
    }
   ],
   "source": [
    "person_age = float(input(\"Enter you age :\"))\n",
    "if person_age<=17:\n",
    "    print(\"Sorry ! this person is not eligible for vote.\")    \n",
    "else:\n",
    "    print(\"yah! you are eligible for the vote.\")"
   ]
  },
  {
   "cell_type": "markdown",
   "id": "71fe1378",
   "metadata": {},
   "source": [
    "3. Develop a program to find the maximum of two numbers using if-else statements"
   ]
  },
  {
   "cell_type": "code",
   "execution_count": 30,
   "id": "43641467",
   "metadata": {},
   "outputs": [
    {
     "name": "stdout",
     "output_type": "stream",
     "text": [
      "Enter the first number : 0\n",
      "Enter the second number :9\n",
      "the maximum number is 9.0\n"
     ]
    }
   ],
   "source": [
    "num_1 = float(input(\"Enter the first number : \"))\n",
    "num_2 = float(input(\"Enter the second number :\"))\n",
    "if num_1>num_2:\n",
    "    print(f\"the maximum number is {num_1}\")\n",
    "elif num_1 == num_2:\n",
    "    print(\"OOPs! the numbers are same .\")\n",
    "else:\n",
    "    print(f\"the maximum number is {num_2}\")\n"
   ]
  },
  {
   "cell_type": "markdown",
   "id": "d8bb8f6f",
   "metadata": {},
   "source": [
    "4. Write a Python script to classify a given year as a leap year or not."
   ]
  },
  {
   "cell_type": "code",
   "execution_count": 48,
   "id": "6bf97983",
   "metadata": {},
   "outputs": [
    {
     "name": "stdout",
     "output_type": "stream",
     "text": [
      "Enter the year : 2023\n",
      "this is not a leap year\n"
     ]
    }
   ],
   "source": [
    "# if the year divible by 400 then that is leap year \n",
    "#  2012,2024 if the year divible by 4 but not divible by 100 this is leap year \n",
    "# now \n",
    "year = int(input(\"Enter the year : \"))\n",
    "def is_leap(i):\n",
    "    if i%400 ==0 or (i%4 == 0 and i%100!=0):\n",
    "        print(\"this is a leap year\")\n",
    "    else:\n",
    "        print(\"this is not a leap year\")\n",
    "is_leap(year)"
   ]
  },
  {
   "cell_type": "markdown",
   "id": "d2336df9",
   "metadata": {},
   "source": [
    "5. Create a program that checks whether a character is a vowel or a consonant."
   ]
  },
  {
   "cell_type": "code",
   "execution_count": 1,
   "id": "9082427f",
   "metadata": {},
   "outputs": [
    {
     "name": "stdout",
     "output_type": "stream",
     "text": [
      "Enter the character : aqryan\n"
     ]
    },
    {
     "ename": "AttributeError",
     "evalue": "'list' object has no attribute 'lower'",
     "output_type": "error",
     "traceback": [
      "\u001b[1;31m---------------------------------------------------------------------------\u001b[0m",
      "\u001b[1;31mAttributeError\u001b[0m                            Traceback (most recent call last)",
      "Cell \u001b[1;32mIn[1], line 9\u001b[0m\n\u001b[0;32m      7\u001b[0m         \u001b[38;5;28;01melse\u001b[39;00m:\n\u001b[0;32m      8\u001b[0m             \u001b[38;5;28mprint\u001b[39m(\u001b[38;5;124m\"\u001b[39m\u001b[38;5;124mconsonant.\u001b[39m\u001b[38;5;124m\"\u001b[39m)\n\u001b[1;32m----> 9\u001b[0m is_vo_con(character\u001b[38;5;241m.\u001b[39mlower())\n",
      "\u001b[1;31mAttributeError\u001b[0m: 'list' object has no attribute 'lower'"
     ]
    }
   ],
   "source": [
    "character = str(input(\"Enter the character : \")).split()\n",
    "\n",
    "def is_vo_con(character):\n",
    "    for i in character:\n",
    "        if i in ['a','e','i','o','u']:\n",
    "            print(\"vowel\")\n",
    "        else:\n",
    "            print(\"consonant.\")\n",
    "is_vo_con(character.lower())\n",
    "    "
   ]
  },
  {
   "cell_type": "markdown",
   "id": "77ac9adb",
   "metadata": {},
   "source": [
    "6. Implement a program to determine whether a given number is even or odd."
   ]
  },
  {
   "cell_type": "code",
   "execution_count": 3,
   "id": "ab541476",
   "metadata": {},
   "outputs": [
    {
     "name": "stdout",
     "output_type": "stream",
     "text": [
      "Enter the num  :  3820\n",
      "the number is even \n"
     ]
    }
   ],
   "source": [
    "num = int(input(\"Enter the num  :  \"))\n",
    "if num%2==0: \n",
    "    print(\"the number is even \")\n",
    "else:\n",
    "    print(\"the number is odd \")"
   ]
  },
  {
   "cell_type": "markdown",
   "id": "ad7350ac",
   "metadata": {},
   "source": [
    "7. Write a Python function to calculate the absolute value of a number without using the `abs()` function"
   ]
  },
  {
   "cell_type": "code",
   "execution_count": 4,
   "id": "e935619a",
   "metadata": {},
   "outputs": [
    {
     "name": "stdout",
     "output_type": "stream",
     "text": [
      "Enter the number : -8894\n",
      "the absolute value is  8894.0\n"
     ]
    }
   ],
   "source": [
    " # absolute means non-negative number \n",
    "absolute = float(input(\"Enter the number : \"))\n",
    "print(\"the absolute value is \",abs(absolute))"
   ]
  },
  {
   "cell_type": "markdown",
   "id": "174aa37c",
   "metadata": {},
   "source": [
    "8. Develop a program that determines the largest of three given numbers using if-else statements"
   ]
  },
  {
   "cell_type": "code",
   "execution_count": 7,
   "id": "f34810dd",
   "metadata": {},
   "outputs": [
    {
     "name": "stdout",
     "output_type": "stream",
     "text": [
      "Enter the first number :65554\n",
      "Enter the second number : 9641\n",
      "Enter the third numbe 254\n",
      "the largest number is 65554\n"
     ]
    }
   ],
   "source": [
    "num_1 = int(input(\"Enter the first number :\"))\n",
    "num_2 = int(input(\"Enter the second number : \"))\n",
    "num_3 = int(input(\"Enter the third numbe \"))\n",
    "if( num_1>num_2 and num_1>=num_3):\n",
    "    print(\"the largest number is\",num_1)\n",
    "elif(num_2>=num_3 and num_1<=num_2):\n",
    "    print(\"the largest number is \",num_2)\n",
    "else:\n",
    "    print(\"the largest number is \",num_3)"
   ]
  },
  {
   "cell_type": "markdown",
   "id": "bc1da78f",
   "metadata": {},
   "source": [
    "9. Create a program that checks if a given string is a palindrome"
   ]
  },
  {
   "cell_type": "code",
   "execution_count": 148,
   "id": "3a7a03be",
   "metadata": {},
   "outputs": [
    {
     "name": "stdout",
     "output_type": "stream",
     "text": [
      "Enter the input malayalam\n",
      "\n",
      "\n",
      "yes,\n",
      " it is the palindrone\n"
     ]
    }
   ],
   "source": [
    "check = input(\"Enter the input \")\n",
    "if check == check[::-1]:\n",
    "    print(\"\\n\\nyes,\\n it is the palindrone\")\n",
    "else:\n",
    "    print(\"\\n it is not a palindrone\")"
   ]
  },
  {
   "cell_type": "markdown",
   "id": "022ac15f",
   "metadata": {},
   "source": [
    "10. Write a Python program to calculate the grade based on a student's score"
   ]
  },
  {
   "cell_type": "code",
   "execution_count": 8,
   "id": "4f5229f0",
   "metadata": {},
   "outputs": [
    {
     "name": "stdout",
     "output_type": "stream",
     "text": [
      "Enter the score :857\n",
      "the student has passed with \"D\" grade\n"
     ]
    }
   ],
   "source": [
    "score = float(input(\"Enter the score :\"))\n",
    "if 90<=score<=100:\n",
    "    print(\"the student has passed with \\\"A\\\" grade\")\n",
    "elif 70<=score<=89.9999:\n",
    "    print(\"the student has passed with \\\"B\\\" grade\")\n",
    "elif 50<=score<=69.9999:\n",
    "    print(\"the student has passed with \\\"C\\\" grade \")\n",
    "else:\n",
    "    print(\"the student has passed with \\\"D\\\" grade\")"
   ]
  },
  {
   "cell_type": "markdown",
   "id": "64ade705",
   "metadata": {},
   "source": [
    "11. Write a program to find the largest among three numbers using nested if-else statements"
   ]
  },
  {
   "cell_type": "code",
   "execution_count": 173,
   "id": "8b66454e",
   "metadata": {},
   "outputs": [
    {
     "name": "stdout",
     "output_type": "stream",
     "text": [
      "Enter the first number :1\n",
      "Enter the second number : 4\n",
      "Enter the third numbe 7\n",
      "the largest number is  7\n"
     ]
    }
   ],
   "source": [
    "num_1 = int(input(\"Enter the first number :\"))\n",
    "num_2 = int(input(\"Enter the second number : \"))\n",
    "num_3 = int(input(\"Enter the third numbe \"))\n",
    "if( num_1>=num_2 ):\n",
    "    if num_1>=num_3:\n",
    "        print(\"the largest number is\",num_1)\n",
    "elif(num_2>=num_3):\n",
    "    if  num_1<=num_2:\n",
    "        print(\"the largest number is \",num_2)\n",
    "else:\n",
    "    print(\"the largest number is \",num_3)"
   ]
  },
  {
   "cell_type": "markdown",
   "id": "aca66246",
   "metadata": {},
   "source": [
    "12. Implement a program to determine if a triangle is equilateral, isosceles, or scalene."
   ]
  },
  {
   "cell_type": "code",
   "execution_count": 10,
   "id": "bb7ebe73",
   "metadata": {},
   "outputs": [
    {
     "name": "stdout",
     "output_type": "stream",
     "text": [
      "Enter the length of the first side : 7\n",
      "Enter the length of the second side : 5\n",
      "Enter the length of the third side : 5\n",
      "this is isosceles triangle.\n"
     ]
    }
   ],
   "source": [
    "a = int(input(\"Enter the length of the first side : \"))\n",
    "b = int(input(\"Enter the length of the second side : \"))\n",
    "c = int(input(\"Enter the length of the third side : \"))\n",
    "if (a<=0 or b<=0 or c<=0):\n",
    "    print(\"these sides not form triangle . \")\n",
    "elif (a == b and b == c):\n",
    "    print(\"the given sides are equilateral triangle sides \")\n",
    "elif(a==b or b==c or c==a):\n",
    "    print(\"this is isosceles triangle.\")\n",
    "else:\n",
    "    print(\"this is scalene triangle .\")"
   ]
  },
  {
   "cell_type": "markdown",
   "id": "93ad8b49",
   "metadata": {},
   "source": [
    "13. Develop a program that checks if a year is a leap year and also if it is a century year."
   ]
  },
  {
   "cell_type": "code",
   "execution_count": 17,
   "id": "70db85f8",
   "metadata": {},
   "outputs": [
    {
     "name": "stdout",
     "output_type": "stream",
     "text": [
      "Enter the input: 1700\n",
      "this is leap and century year\n"
     ]
    }
   ],
   "source": [
    "y = int(input(\"Enter the input: \"))\n",
    "if (y%100==0):\n",
    "    print(\"this is leap and century year\")\n",
    "elif y%400==0 or (y%100!=0 and y%4):\n",
    "    print(\"this is only be a leap year \")\n"
   ]
  },
  {
   "cell_type": "markdown",
   "id": "0da24ca2",
   "metadata": {},
   "source": [
    "14. Write a Python script to determine if a number is positive, negative, or zero."
   ]
  },
  {
   "cell_type": "code",
   "execution_count": 39,
   "id": "817b7917",
   "metadata": {},
   "outputs": [
    {
     "name": "stdout",
     "output_type": "stream",
     "text": [
      "Enter the number :23\n",
      "the number is positive\n"
     ]
    }
   ],
   "source": [
    "s = int(input(\"Enter the number :\"))\n",
    "if s <0 :\n",
    "    print(\"the number is negative.\")\n",
    "elif s == 0:\n",
    "    print(\"the number is neither be positive nor be negative  \")\n",
    "else:\n",
    "    print(\"the number is positive\")"
   ]
  },
  {
   "cell_type": "markdown",
   "id": "7425670f",
   "metadata": {},
   "source": [
    "15. Create a program to check if a person is a teenager (between 13 and 19 years old)."
   ]
  },
  {
   "cell_type": "code",
   "execution_count": 80,
   "id": "d2bfdf38",
   "metadata": {},
   "outputs": [
    {
     "name": "stdout",
     "output_type": "stream",
     "text": [
      "Enter the your age in years : 19\n",
      "now you are in teenagers age.\n"
     ]
    }
   ],
   "source": [
    "teen = int(input(\"Enter the your age in years : \"))\n",
    "if teen<13:\n",
    "    print(\"you are underage.\")\n",
    "elif 13<teen<20:\n",
    "    print(\"now you are in teenagers age.\")\n",
    "else:\n",
    "    print(\"you are adult\")"
   ]
  },
  {
   "cell_type": "markdown",
   "id": "57d05970",
   "metadata": {},
   "source": [
    "17. Write a Python program to calculate the roots of a quadratic equation."
   ]
  },
  {
   "cell_type": "code",
   "execution_count": 91,
   "id": "86d377df",
   "metadata": {},
   "outputs": [
    {
     "name": "stdout",
     "output_type": "stream",
     "text": [
      "enter the coefficient : 2\n",
      "enter the coefficient : 4\n",
      "enter the coefficient : 2\n",
      "the roots are root1 == root2 ==  -1.0\n",
      "thanks \n"
     ]
    }
   ],
   "source": [
    "# we know that \n",
    "# bsq - 4ac = 0\n",
    "# for real and unequal root  -b - sqrt(bsq-4ac)/2a\n",
    "#                            -b + sqrt(bsq-4ac)/2a\n",
    "# for equal root  = -b/2a\n",
    "# we know the quadratic equation ax*2 +bx + c =0 \n",
    "import math\n",
    "a = int(input(\"enter the coefficient : \"))\n",
    "b = int(input(\"enter the coefficient : \"))\n",
    "c = int(input(\"enter the coefficient : \"))\n",
    "if a == 0: \n",
    "    print(\"the roots are not defined\")\n",
    "else:\n",
    "    D = b*b-4*a*c\n",
    "    if D > 0:\n",
    "        root1 = -b-(math.sqrt(b*b-4*a*c))/(2*a)\n",
    "        root2= -b+(math.sqrt(b*b-4*a*c))/(2*a)\n",
    "        print(f\"root1 is {root1} and root 2 {root2} .\")\n",
    "    elif D==0:\n",
    "        root = -b/(2*a)\n",
    "        print(\"the roots are equal  root1 == root2 == \",root)\n",
    "    else:\n",
    "        print(\"the roots are complex and imaginary\")\n",
    "print(\"thanks \")"
   ]
  },
  {
   "cell_type": "markdown",
   "id": "03d4b074",
   "metadata": {},
   "source": [
    "18. Implement a program to determine the day of the week based on a user-provided number (1 for Monday, 2 \n",
    "for Tuesday, etc.)."
   ]
  },
  {
   "cell_type": "code",
   "execution_count": 98,
   "id": "bfffce53",
   "metadata": {},
   "outputs": [
    {
     "name": "stdout",
     "output_type": "stream",
     "text": [
      "Enter the input : 7\n",
      "Sunday\n"
     ]
    }
   ],
   "source": [
    "week = int(input(\"Enter the input : \"))\n",
    "if week ==1:\n",
    "    print(\"monday\")\n",
    "elif week == 2:\n",
    "    print(\"tuesday\")\n",
    "elif week == 3 : \n",
    "    print(\"Wednesday\")\n",
    "elif week == 4: \n",
    "    print(\"thursday\")\n",
    "elif week == 5:\n",
    "    print(\"friday\")\n",
    "elif week ==  6 :\n",
    "    print(\"sunday\")\n",
    "elif week ==7 :\n",
    "    print(\"Sunday\")\n",
    "else:\n",
    "    print(\"invalid Input\")"
   ]
  },
  {
   "cell_type": "markdown",
   "id": "2623cda1",
   "metadata": {},
   "source": [
    "19. Create a program that determines if a year is a leap year and also if it is evenly divisible by 400."
   ]
  },
  {
   "cell_type": "code",
   "execution_count": 114,
   "id": "9a34ddef",
   "metadata": {},
   "outputs": [
    {
     "name": "stdout",
     "output_type": "stream",
     "text": [
      "Enter the year :  2000\n",
      "this is a leap year\n"
     ]
    }
   ],
   "source": [
    "w = int(input(\"Enter the year :  \"))\n",
    "if (w%400==0 or w%4==0):\n",
    "    print(\"this is a leap year\")\n",
    "else:\n",
    "    print(\"this is not a leap year\")"
   ]
  },
  {
   "cell_type": "markdown",
   "id": "2c917d30",
   "metadata": {},
   "source": [
    "20. Develop a program that checks if a given number is prime or not using nested if-else statements."
   ]
  },
  {
   "cell_type": "code",
   "execution_count": 114,
   "id": "66a9c135",
   "metadata": {},
   "outputs": [
    {
     "name": "stdout",
     "output_type": "stream",
     "text": [
      "Enter the number : 7\n",
      "this number is a prime number . \n"
     ]
    }
   ],
   "source": [
    "num = int(input(\"Enter the number : \"))\n",
    "if num == 2:\n",
    "    print(\"this is a prime num.\")\n",
    "elif num>2:\n",
    "    for i in range (2,num):\n",
    "        if num%i == 0: # this loop excuted only num-1\n",
    "            print(\"this is not a prime number.\")\n",
    "            break\n",
    "    else:\n",
    "        print(\"this number is a prime number . \")\n",
    "          \n"
   ]
  },
  {
   "cell_type": "markdown",
   "id": "c4fc3258",
   "metadata": {},
   "source": [
    "21. Write a Python program to assign grades based on different ranges of scores using elif statements.\n"
   ]
  },
  {
   "cell_type": "code",
   "execution_count": 131,
   "id": "8574f0fd",
   "metadata": {},
   "outputs": [
    {
     "name": "stdout",
     "output_type": "stream",
     "text": [
      "Enter the score :78\n",
      "the student has passed with \"B\" grade\n"
     ]
    }
   ],
   "source": [
    "score = float(input(\"Enter the score :\"))\n",
    "if 90<=score<=100:\n",
    "    print(\"the student has passed with \\\"A\\\" grade\")\n",
    "elif 70<=score<=89.9999:\n",
    "    print(\"the student has passed with \\\"B\\\" grade\")\n",
    "elif 50<=score<=69.9999:\n",
    "    print(\"the student has passed with \\\"C\\\" grade \")\n",
    "else:\n",
    "    print(\"the student has passed with \\\"D\\\" grade\")"
   ]
  },
  {
   "cell_type": "markdown",
   "id": "43b484bc",
   "metadata": {},
   "source": [
    "22. Implement a program to determine the type of a triangle based on its angles"
   ]
  },
  {
   "cell_type": "code",
   "execution_count": 157,
   "id": "6d269c08",
   "metadata": {},
   "outputs": [
    {
     "name": "stdout",
     "output_type": "stream",
     "text": [
      "Enter the angles in the degree 2424\n",
      "please right angle in the rangle between 0 to 360\n"
     ]
    }
   ],
   "source": [
    "angle = int(input(\"Enter the angles in the degree \"))\n",
    "if 0<=angle<=360:\n",
    "    if 0<=angle<=90:\n",
    "        if angle ==(0 or 360):\n",
    "            print(\"complete angle \")\n",
    "        if angle ==90:\n",
    "            print(\"right angle\")\n",
    "        else:\n",
    "            print(\"acute angle\")\n",
    "    elif 90<angle<=180:\n",
    "        if angle == 180:\n",
    "            print(\"straight angle\")\n",
    "        else:\n",
    "            print(\"obtuse angle\")\n",
    "    elif angle<=360:\n",
    "        if angle==360:\n",
    "            print(\"reflex angle \")\n",
    "    else:\n",
    "        print(\"reflex angle\")\n",
    "else:\n",
    "    print(\"please right angle in the rangle between 0 to 360\")"
   ]
  },
  {
   "cell_type": "markdown",
   "id": "28e27143",
   "metadata": {},
   "source": [
    "23. Develop a program to categorize a given person's BMI into underweight, normal, overweight, or obese using \n",
    "elif statements"
   ]
  },
  {
   "cell_type": "code",
   "execution_count": 177,
   "id": "aff93f06",
   "metadata": {},
   "outputs": [
    {
     "name": "stdout",
     "output_type": "stream",
     "text": [
      "Enter your height in metre : 1.6\n",
      "Enter your weight in kg : 70\n"
     ]
    },
    {
     "data": {
      "text/plain": [
       "(21.875, 'the person is normal ')"
      ]
     },
     "execution_count": 177,
     "metadata": {},
     "output_type": "execute_result"
    }
   ],
   "source": [
    "height = float(input(\"Enter your height in metre : \"))\n",
    "weight = float(input(\"Enter your weight in kg : \"))\n",
    "BMI = weight/(height*2)\n",
    "def check_bmi(x):\n",
    "    if x<19.5:\n",
    "        return x,\"the person is underweigh\"\n",
    "    elif 19.5<x<24.5:\n",
    "        return x,\"the person is normal \"\n",
    "    elif 24<x<29.5:\n",
    "        return x,\"the person is overweight \"\n",
    "    else:\n",
    "        return x,\"the person is obese\"\n",
    "check_bmi(BMI)"
   ]
  },
  {
   "cell_type": "markdown",
   "id": "39ad29a5",
   "metadata": {},
   "source": [
    "24. Create a program that determines whether a given number is positive, negative, or zero using elif \n",
    "statements."
   ]
  },
  {
   "cell_type": "code",
   "execution_count": 178,
   "id": "aafedbde",
   "metadata": {},
   "outputs": [
    {
     "name": "stdout",
     "output_type": "stream",
     "text": [
      "Enter the num : 9\n",
      "hence the given number is positive .\n"
     ]
    }
   ],
   "source": [
    "num = int(input(\"Enter the num : \"))\n",
    "if num>0:\n",
    "    print(\"hence the given number is positive .\")\n",
    "elif num == 0:\n",
    "    print(\"this number is neither positive nor negative.\")\n",
    "else:\n",
    "    print(\"the given number is negative\")"
   ]
  },
  {
   "cell_type": "markdown",
   "id": "b31a13d0",
   "metadata": {},
   "source": [
    "25. Write a Python script to determine the type of a character (uppercase, lowercase, or special) using elif \n",
    "statements."
   ]
  },
  {
   "cell_type": "code",
   "execution_count": 117,
   "id": "7bbc7fed",
   "metadata": {},
   "outputs": [
    {
     "name": "stdout",
     "output_type": "stream",
     "text": [
      "Enter the character:Class \n"
     ]
    },
    {
     "data": {
      "text/plain": [
       "' Uppercase'"
      ]
     },
     "execution_count": 117,
     "metadata": {},
     "output_type": "execute_result"
    }
   ],
   "source": [
    "x= input(\"Enter the character:\")\n",
    "def check_character(i):\n",
    "    if i>=\"A\" and i<=\"Z\":\n",
    "        return\" Uppercase\"\n",
    "    elif i>=\"a\" and i<=\"z\":\n",
    "        return\" Lowercase\"\n",
    "    else:\n",
    "        return \"specialcharacter\"\n",
    "check_character(x)"
   ]
  },
  {
   "cell_type": "markdown",
   "id": "bb3ee6e2",
   "metadata": {},
   "source": [
    "26. Implement a program to calculate the discounted price based on different purchase amounts using elif \n",
    "statements "
   ]
  },
  {
   "cell_type": "code",
   "execution_count": 125,
   "id": "193cefc6",
   "metadata": {},
   "outputs": [
    {
     "name": "stdout",
     "output_type": "stream",
     "text": [
      "Tner the input:788\n"
     ]
    },
    {
     "data": {
      "text/plain": [
       "157.60000000000002"
      ]
     },
     "execution_count": 125,
     "metadata": {},
     "output_type": "execute_result"
    }
   ],
   "source": [
    "d = int(input(\"Tner the input:\"))\n",
    "def spent_money(price):\n",
    "    if price>= 1000:\n",
    "        discount_money = price*0.25\n",
    "        return discount_money\n",
    "    elif price >= 700:\n",
    "        discount_money = price*0.20\n",
    "        return discount_money\n",
    "    elif pric3>= 400 : \n",
    "        discount_money = price*0.1\n",
    "        return discount_money\n",
    "    else: \n",
    "        return \"no discount\"\n",
    "spent_money(d)"
   ]
  },
  {
   "cell_type": "markdown",
   "id": "f44e9acb",
   "metadata": {},
   "source": [
    "27. Develop a program to calculate the electricity bill based on different consumption slabs using elif \n",
    "statements."
   ]
  },
  {
   "cell_type": "code",
   "execution_count": 133,
   "id": "d4301fac",
   "metadata": {},
   "outputs": [
    {
     "name": "stdout",
     "output_type": "stream",
     "text": [
      "Enter the bill in units : 7808\n"
     ]
    },
    {
     "data": {
      "text/plain": [
       "75930.0"
      ]
     },
     "execution_count": 133,
     "metadata": {},
     "output_type": "execute_result"
    }
   ],
   "source": [
    "bill = int(input(\"Enter the bill in units : \"))\n",
    "def check_bill_amount(unit):\n",
    "    if unit<=200:\n",
    "        money = unit*6\n",
    "        return money\n",
    "    elif unit<=400:\n",
    "        money = (1200)+(unit-200)*7\n",
    "        return money\n",
    "    elif unit<= 1000:\n",
    "        money = 1200+1400+(unit-400)*8.75\n",
    "        return money\n",
    "    else:\n",
    "        money = 2600+(600*8.75)+(unit-1000)*10\n",
    "        return money\n",
    "check_bill_amount(bill)"
   ]
  },
  {
   "cell_type": "markdown",
   "id": "d9671e4f",
   "metadata": {},
   "source": [
    "28. Create a program to determine the type of quadrilateral based on its angles and sides using elif \n",
    "statements."
   ]
  },
  {
   "cell_type": "code",
   "execution_count": 18,
   "id": "497d3f64",
   "metadata": {},
   "outputs": [
    {
     "name": "stdout",
     "output_type": "stream",
     "text": [
      "Enter the angle :89\n",
      "Enter the angle91\n",
      "Enter the angle : 89\n",
      "Enter the angle S :91\n",
      "Enter the side : 37\n",
      "Enter the side : 83\n",
      "Enter the side: 37\n",
      "Enter the side : 83\n",
      "the given  quadrilateral is parallelogram\n"
     ]
    }
   ],
   "source": [
    "# let us assume quadrialeral PQRS\n",
    "angle_P = int(input(\"Enter the angle :\"))\n",
    "angle_Q = int(input(\"Enter the angle\"))\n",
    "angle_R = int(input(\"Enter the angle : \"))\n",
    "angle_S = int(input(\"Enter the angle S :\"))\n",
    "sum = angle_P + angle_Q+angle_R+angle_S\n",
    "if sum == 360:\n",
    " \n",
    "\n",
    "    side_PQ = int(input(\"Enter the side : \"))\n",
    "    side_QR = int(input(\"Enter the side : \"))\n",
    "    side_RS = int(input(\"Enter the side: \"))\n",
    "    side_ST = int(input(\"Enter the side : \"))\n",
    "\n",
    "    if (angle_P == angle_Q == angle_R==  angle_S ) and (side_PQ == side_QR == side_RS== side_ST):\n",
    "        print(\"the given quadrilateral is square.\")\n",
    "    elif  (angle_P == angle_Q == angle_R==  angle_S ) and (side_PQ == side_RS or side_QR == side_ST):\n",
    "        print(\"the given quadrilateral is rectangle.\")\n",
    "    elif  (angle_P == angle_R and angle_Q ==  angle_S ) and (side_PQ == side_QR == side_RS== side_ST):\n",
    "        print(\"the given quadrilateral is rhombus\")\n",
    "    elif  (angle_P == angle_R and angle_Q==  angle_S ) and (side_PQ == side_RS or side_QR == side_ST):\n",
    "        print(\"the given  quadrilateral is parallelogram\")\n",
    "    else:\n",
    "        print(\"none Type quadrilateral \")\n",
    "else:\n",
    "    print(\"this is not form quadrilateral\")"
   ]
  },
  {
   "cell_type": "markdown",
   "id": "06e5b5ef",
   "metadata": {},
   "source": [
    "29. Write a Python script to determine the season based on a user-provided month using elif statements.\n"
   ]
  },
  {
   "cell_type": "code",
   "execution_count": null,
   "id": "7448143d",
   "metadata": {},
   "outputs": [],
   "source": []
  },
  {
   "cell_type": "code",
   "execution_count": 55,
   "id": "3fd37d3a",
   "metadata": {},
   "outputs": [
    {
     "name": "stdout",
     "output_type": "stream",
     "text": [
      "Enter a month : may\n"
     ]
    },
    {
     "data": {
      "text/plain": [
       "('may', 'this is summer season ')"
      ]
     },
     "execution_count": 55,
     "metadata": {},
     "output_type": "execute_result"
    }
   ],
   "source": [
    "M=str(input(\"Enter a month : \")).lower()\n",
    "def check_season(month):\n",
    "    if month in (\"december\",\"january\"):\n",
    "        return month,\"this is Winter season\"\n",
    "    elif month in (\"february , march\"):\n",
    "        return  month, \"this is spring season\"\n",
    "    elif month in (\"may\",\"june\"):\n",
    "        return month , \"this is summer season \"\n",
    "    elif month in(\"july\",\"august\"):\n",
    "        return month , \"this is rainly season \"\n",
    "    elif  month in (\"september\",\"october\",\"november\"):\n",
    "        return month, \"this is autumn season.\"\n",
    "    else:\n",
    "        return month, \"this is invalid input\"\n",
    "check_season(M)"
   ]
  },
  {
   "cell_type": "markdown",
   "id": "1676184b",
   "metadata": {},
   "source": [
    "30. Implement a program to determine the type of a year (leap or common) and month (30 or 31 days) using \n",
    "elif statements."
   ]
  },
  {
   "cell_type": "code",
   "execution_count": 77,
   "id": "23d121a2",
   "metadata": {},
   "outputs": [
    {
     "name": "stdout",
     "output_type": "stream",
     "text": [
      "Enter the year : 2024\n",
      "this is a leap year\n",
      "Enter the month: january\n",
      "month have 31 days \n"
     ]
    }
   ],
   "source": [
    "x = int(input(\"Enter the year : \"))\n",
    "\n",
    "if x%400 or (x%4 and x%100):\n",
    "    print(\"this is a leap year\")\n",
    "y = str(input(\"Enter the month: \")).lower()\n",
    "if y in [\"january\",\"march\",\"may\",'july','august','october','december']:\n",
    "     print(\"month have 31 days \")\n",
    "elif y in [\"april\",'june','september','november']:\n",
    "    print(\"month contain 30 days\")\n",
    "elif y ==\"february\":\n",
    "    print(\"month have 28 0r 29 days \")\n",
    "else:\n",
    "    print(\"OOPs!\")\n",
    " \n",
    "    \n"
   ]
  },
  {
   "cell_type": "code",
   "execution_count": null,
   "id": "997f0248",
   "metadata": {},
   "outputs": [],
   "source": []
  }
 ],
 "metadata": {
  "kernelspec": {
   "display_name": "Python 3 (ipykernel)",
   "language": "python",
   "name": "python3"
  },
  "language_info": {
   "codemirror_mode": {
    "name": "ipython",
    "version": 3
   },
   "file_extension": ".py",
   "mimetype": "text/x-python",
   "name": "python",
   "nbconvert_exporter": "python",
   "pygments_lexer": "ipython3",
   "version": "3.11.5"
  }
 },
 "nbformat": 4,
 "nbformat_minor": 5
}
