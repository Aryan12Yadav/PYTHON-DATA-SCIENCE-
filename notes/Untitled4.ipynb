{
 "cells": [
  {
   "cell_type": "markdown",
   "id": "a77071de",
   "metadata": {},
   "source": [
    "# logical operator\n",
    " AND\n",
    " OR\n",
    " NOT"
   ]
  },
  {
   "cell_type": "code",
   "execution_count": 1,
   "id": "373e93bb",
   "metadata": {},
   "outputs": [],
   "source": [
    "a=10\n",
    "b=20"
   ]
  },
  {
   "cell_type": "code",
   "execution_count": 2,
   "id": "798ceba2",
   "metadata": {},
   "outputs": [
    {
     "data": {
      "text/plain": [
       "False"
      ]
     },
     "execution_count": 2,
     "metadata": {},
     "output_type": "execute_result"
    }
   ],
   "source": [
    "((a>10) and (b>20))"
   ]
  },
  {
   "cell_type": "code",
   "execution_count": 3,
   "id": "5e81ca89",
   "metadata": {},
   "outputs": [
    {
     "data": {
      "text/plain": [
       "'\\nTruth table \\nfor AND\\n1 1 = 1\\n1 0 = 0\\n0 1 = 0\\n0 0  = 0\\n'"
      ]
     },
     "execution_count": 3,
     "metadata": {},
     "output_type": "execute_result"
    }
   ],
   "source": [
    "'''\n",
    "Truth table \n",
    "for AND\n",
    "1 1 = 1\n",
    "1 0 = 0\n",
    "0 1 = 0\n",
    "0 0  = 0\n",
    "'''"
   ]
  },
  {
   "cell_type": "code",
   "execution_count": 4,
   "id": "88bfb635",
   "metadata": {},
   "outputs": [
    {
     "data": {
      "text/plain": [
       "True"
      ]
     },
     "execution_count": 4,
     "metadata": {},
     "output_type": "execute_result"
    }
   ],
   "source": [
    "((a>4) and (b>6))"
   ]
  },
  {
   "cell_type": "code",
   "execution_count": 5,
   "id": "f8ffb04b",
   "metadata": {},
   "outputs": [
    {
     "name": "stdout",
     "output_type": "stream",
     "text": [
      "True\n"
     ]
    }
   ],
   "source": [
    " print(True and True )"
   ]
  },
  {
   "cell_type": "code",
   "execution_count": 6,
   "id": "dd13f2c8",
   "metadata": {},
   "outputs": [
    {
     "name": "stdout",
     "output_type": "stream",
     "text": [
      "False\n"
     ]
    }
   ],
   "source": [
    "print(True and False)"
   ]
  },
  {
   "cell_type": "code",
   "execution_count": 7,
   "id": "b457d22a",
   "metadata": {},
   "outputs": [
    {
     "data": {
      "text/plain": [
       "'\\n\\nTruth table for \\nOR\\n1 1 = 1 \\n1 0 = 1\\n0 1 = 1\\n0 0 = 0\\n'"
      ]
     },
     "execution_count": 7,
     "metadata": {},
     "output_type": "execute_result"
    }
   ],
   "source": [
    " '''\n",
    " \n",
    " Truth table for \n",
    " OR\n",
    " 1 1 = 1 \n",
    " 1 0 = 1\n",
    " 0 1 = 1\n",
    " 0 0 = 0\n",
    " '''"
   ]
  },
  {
   "cell_type": "code",
   "execution_count": 8,
   "id": "be4cfc1d",
   "metadata": {},
   "outputs": [
    {
     "name": "stdout",
     "output_type": "stream",
     "text": [
      "True\n"
     ]
    }
   ],
   "source": [
    "print(True and True)"
   ]
  },
  {
   "cell_type": "code",
   "execution_count": 9,
   "id": "28d620e2",
   "metadata": {},
   "outputs": [
    {
     "name": "stdout",
     "output_type": "stream",
     "text": [
      "True\n"
     ]
    }
   ],
   "source": [
    "print((a>38) or (b>19))"
   ]
  },
  {
   "cell_type": "code",
   "execution_count": 10,
   "id": "2e5a5c1a",
   "metadata": {},
   "outputs": [],
   "source": [
    "p = True"
   ]
  },
  {
   "cell_type": "code",
   "execution_count": 11,
   "id": "fe7ad46e",
   "metadata": {},
   "outputs": [
    {
     "data": {
      "text/plain": [
       "False"
      ]
     },
     "execution_count": 11,
     "metadata": {},
     "output_type": "execute_result"
    }
   ],
   "source": [
    "not(p) # this will not of p"
   ]
  },
  {
   "cell_type": "code",
   "execution_count": 12,
   "id": "e5152db6",
   "metadata": {},
   "outputs": [],
   "source": [
    "q = False"
   ]
  },
  {
   "cell_type": "code",
   "execution_count": 13,
   "id": "90e51d31",
   "metadata": {},
   "outputs": [
    {
     "data": {
      "text/plain": [
       "False"
      ]
     },
     "execution_count": 13,
     "metadata": {},
     "output_type": "execute_result"
    }
   ],
   "source": [
    "not(a)"
   ]
  },
  {
   "cell_type": "code",
   "execution_count": 14,
   "id": "ec23b548",
   "metadata": {},
   "outputs": [
    {
     "data": {
      "text/plain": [
       "'0b1'"
      ]
     },
     "execution_count": 14,
     "metadata": {},
     "output_type": "execute_result"
    }
   ],
   "source": [
    "bin(p)"
   ]
  },
  {
   "cell_type": "code",
   "execution_count": 15,
   "id": "ffbfebaa",
   "metadata": {},
   "outputs": [
    {
     "data": {
      "text/plain": [
       "'0b0'"
      ]
     },
     "execution_count": 15,
     "metadata": {},
     "output_type": "execute_result"
    }
   ],
   "source": [
    "bin(q)"
   ]
  },
  {
   "cell_type": "markdown",
   "id": "b3bab7e1",
   "metadata": {},
   "source": [
    "# bitwise operator"
   ]
  },
  {
   "cell_type": "code",
   "execution_count": 16,
   "id": "9b43bd7c",
   "metadata": {},
   "outputs": [
    {
     "data": {
      "text/plain": [
       "'\\n& = and\\n| = or\\n^ = xor\\n~ = negation\\n<< = left shit\\n>> = right shit\\n'"
      ]
     },
     "execution_count": 16,
     "metadata": {},
     "output_type": "execute_result"
    }
   ],
   "source": [
    "'''\n",
    "& = and\n",
    "| = or\n",
    "^ = xor\n",
    "~ = negation\n",
    "<< = left shit\n",
    ">> = right shit\n",
    "'''"
   ]
  },
  {
   "cell_type": "code",
   "execution_count": 17,
   "id": "02ce6e84",
   "metadata": {},
   "outputs": [],
   "source": [
    "x = 10 \n",
    "y = 4"
   ]
  },
  {
   "cell_type": "code",
   "execution_count": 18,
   "id": "cc02b5cc",
   "metadata": {},
   "outputs": [
    {
     "data": {
      "text/plain": [
       "'0b1010'"
      ]
     },
     "execution_count": 18,
     "metadata": {},
     "output_type": "execute_result"
    }
   ],
   "source": [
    "bin(x)"
   ]
  },
  {
   "cell_type": "code",
   "execution_count": 19,
   "id": "5be61214",
   "metadata": {},
   "outputs": [
    {
     "data": {
      "text/plain": [
       "'0b100'"
      ]
     },
     "execution_count": 19,
     "metadata": {},
     "output_type": "execute_result"
    }
   ],
   "source": [
    "bin(y)"
   ]
  },
  {
   "cell_type": "code",
   "execution_count": 20,
   "id": "57b23497",
   "metadata": {},
   "outputs": [
    {
     "data": {
      "text/plain": [
       "0"
      ]
     },
     "execution_count": 20,
     "metadata": {},
     "output_type": "execute_result"
    }
   ],
   "source": [
    "x &y# 1010\n",
    "    #x0100\n",
    "  #=0000"
   ]
  },
  {
   "cell_type": "code",
   "execution_count": 21,
   "id": "280edde0",
   "metadata": {},
   "outputs": [
    {
     "data": {
      "text/plain": [
       "14"
      ]
     },
     "execution_count": 21,
     "metadata": {},
     "output_type": "execute_result"
    }
   ],
   "source": [
    "x |y  # 1110 in binary"
   ]
  },
  {
   "cell_type": "code",
   "execution_count": 22,
   "id": "7035846b",
   "metadata": {},
   "outputs": [
    {
     "data": {
      "text/plain": [
       "14"
      ]
     },
     "execution_count": 22,
     "metadata": {},
     "output_type": "execute_result"
    }
   ],
   "source": [
    "x^y"
   ]
  },
  {
   "cell_type": "code",
   "execution_count": 23,
   "id": "84353e10",
   "metadata": {},
   "outputs": [
    {
     "data": {
      "text/plain": [
       "'\\ntruth  table for Xor\\n1 0 = 0\\n1 1 = 1 \\n0 1 = 1\\n0 0 = 0'"
      ]
     },
     "execution_count": 23,
     "metadata": {},
     "output_type": "execute_result"
    }
   ],
   "source": [
    "'''\n",
    "truth  table for Xor\n",
    "1 0 = 0\n",
    "1 1 = 1 \n",
    "0 1 = 1\n",
    "0 0 = 0'''"
   ]
  },
  {
   "cell_type": "code",
   "execution_count": 24,
   "id": "2b72c933",
   "metadata": {},
   "outputs": [
    {
     "data": {
      "text/plain": [
       "-11"
      ]
     },
     "execution_count": 24,
     "metadata": {},
     "output_type": "execute_result"
    }
   ],
   "source": [
    " ~x"
   ]
  },
  {
   "cell_type": "code",
   "execution_count": 25,
   "id": "4ac1ca27",
   "metadata": {},
   "outputs": [
    {
     "data": {
      "text/plain": [
       "-5"
      ]
     },
     "execution_count": 25,
     "metadata": {},
     "output_type": "execute_result"
    }
   ],
   "source": [
    "~y"
   ]
  },
  {
   "cell_type": "code",
   "execution_count": 26,
   "id": "b76ff67f",
   "metadata": {},
   "outputs": [],
   "source": [
    "t =-12"
   ]
  },
  {
   "cell_type": "code",
   "execution_count": 27,
   "id": "86913d83",
   "metadata": {},
   "outputs": [
    {
     "data": {
      "text/plain": [
       "'-0b1100'"
      ]
     },
     "execution_count": 27,
     "metadata": {},
     "output_type": "execute_result"
    }
   ],
   "source": [
    "bin(t)"
   ]
  },
  {
   "cell_type": "code",
   "execution_count": 28,
   "id": "e54c3b1c",
   "metadata": {},
   "outputs": [
    {
     "data": {
      "text/plain": [
       "11"
      ]
     },
     "execution_count": 28,
     "metadata": {},
     "output_type": "execute_result"
    }
   ],
   "source": [
    "~t"
   ]
  },
  {
   "cell_type": "code",
   "execution_count": 29,
   "id": "02f40049",
   "metadata": {},
   "outputs": [],
   "source": [
    "lis = [3,4,5,6,]"
   ]
  },
  {
   "cell_type": "code",
   "execution_count": 30,
   "id": "a78df473",
   "metadata": {},
   "outputs": [
    {
     "data": {
      "text/plain": [
       "True"
      ]
     },
     "execution_count": 30,
     "metadata": {},
     "output_type": "execute_result"
    }
   ],
   "source": [
    "3 in lis  # in is called membership operator"
   ]
  },
  {
   "cell_type": "code",
   "execution_count": 31,
   "id": "6ba97484",
   "metadata": {},
   "outputs": [
    {
     "data": {
      "text/plain": [
       "20"
      ]
     },
     "execution_count": 31,
     "metadata": {},
     "output_type": "execute_result"
    }
   ],
   "source": [
    "a<<1"
   ]
  },
  {
   "cell_type": "code",
   "execution_count": 32,
   "id": "54eeed58",
   "metadata": {},
   "outputs": [
    {
     "data": {
      "text/plain": [
       "5"
      ]
     },
     "execution_count": 32,
     "metadata": {},
     "output_type": "execute_result"
    }
   ],
   "source": [
    "a>>1"
   ]
  },
  {
   "cell_type": "code",
   "execution_count": 33,
   "id": "7b8d6eec",
   "metadata": {},
   "outputs": [],
   "source": [
    "l = 20"
   ]
  },
  {
   "cell_type": "code",
   "execution_count": 34,
   "id": "d12649ee",
   "metadata": {},
   "outputs": [
    {
     "data": {
      "text/plain": [
       "40"
      ]
     },
     "execution_count": 34,
     "metadata": {},
     "output_type": "execute_result"
    }
   ],
   "source": [
    "l<<1  # this is actually multiple of 2"
   ]
  },
  {
   "cell_type": "code",
   "execution_count": 35,
   "id": "baf01c5d",
   "metadata": {},
   "outputs": [
    {
     "data": {
      "text/plain": [
       "10600"
      ]
     },
     "execution_count": 35,
     "metadata": {},
     "output_type": "execute_result"
    }
   ],
   "source": [
    "n= 5300\n",
    "n<<1      "
   ]
  },
  {
   "cell_type": "code",
   "execution_count": 36,
   "id": "73ffe6a0",
   "metadata": {},
   "outputs": [
    {
     "data": {
      "text/plain": [
       "10"
      ]
     },
     "execution_count": 36,
     "metadata": {},
     "output_type": "execute_result"
    }
   ],
   "source": [
    "l>>1  # actually it will became half 1/2= l/2"
   ]
  },
  {
   "cell_type": "code",
   "execution_count": 37,
   "id": "e9dd153c",
   "metadata": {},
   "outputs": [
    {
     "data": {
      "text/plain": [
       "2650"
      ]
     },
     "execution_count": 37,
     "metadata": {},
     "output_type": "execute_result"
    }
   ],
   "source": [
    "n>>1"
   ]
  },
  {
   "cell_type": "code",
   "execution_count": 38,
   "id": "9ee40304",
   "metadata": {},
   "outputs": [
    {
     "data": {
      "text/plain": [
       "8"
      ]
     },
     "execution_count": 38,
     "metadata": {},
     "output_type": "execute_result"
    }
   ],
   "source": [
    "y<<1"
   ]
  },
  {
   "cell_type": "code",
   "execution_count": 39,
   "id": "444e2214",
   "metadata": {},
   "outputs": [
    {
     "data": {
      "text/plain": [
       "2"
      ]
     },
     "execution_count": 39,
     "metadata": {},
     "output_type": "execute_result"
    }
   ],
   "source": [
    "y>>1"
   ]
  },
  {
   "cell_type": "code",
   "execution_count": 40,
   "id": "6d829b27",
   "metadata": {},
   "outputs": [],
   "source": [
    "x = 10\n",
    "y = 4\n"
   ]
  },
  {
   "cell_type": "code",
   "execution_count": 41,
   "id": "32418e68",
   "metadata": {},
   "outputs": [
    {
     "data": {
      "text/plain": [
       "40"
      ]
     },
     "execution_count": 41,
     "metadata": {},
     "output_type": "execute_result"
    }
   ],
   "source": [
    "x<<2 # this will comming out 2^2 = 4 that's why this will come 40 \n",
    "# actually this function perform in bit wise like 0 and 1 "
   ]
  },
  {
   "cell_type": "code",
   "execution_count": 42,
   "id": "63ed0834",
   "metadata": {},
   "outputs": [
    {
     "data": {
      "text/plain": [
       "2"
      ]
     },
     "execution_count": 42,
     "metadata": {},
     "output_type": "execute_result"
    }
   ],
   "source": [
    "x>>2 # this will multiply x/2^2=1/ 4 "
   ]
  },
  {
   "cell_type": "code",
   "execution_count": 43,
   "id": "ca07ea87",
   "metadata": {},
   "outputs": [
    {
     "data": {
      "text/plain": [
       "80"
      ]
     },
     "execution_count": 43,
     "metadata": {},
     "output_type": "execute_result"
    }
   ],
   "source": [
    "x<<3 # this will 2^3 = 8 and 10*8 = 80"
   ]
  },
  {
   "cell_type": "code",
   "execution_count": 44,
   "id": "6e06827f",
   "metadata": {},
   "outputs": [
    {
     "data": {
      "text/plain": [
       "1"
      ]
     },
     "execution_count": 44,
     "metadata": {},
     "output_type": "execute_result"
    }
   ],
   "source": [
    "x>>3  # this will  x/ 2^3 = 1"
   ]
  },
  {
   "cell_type": "code",
   "execution_count": 45,
   "id": "6f6a4c51",
   "metadata": {},
   "outputs": [
    {
     "data": {
      "text/plain": [
       "320"
      ]
     },
     "execution_count": 45,
     "metadata": {},
     "output_type": "execute_result"
    }
   ],
   "source": [
    "x<<5  # 32"
   ]
  },
  {
   "cell_type": "code",
   "execution_count": 46,
   "id": "e7e59a81",
   "metadata": {},
   "outputs": [
    {
     "data": {
      "text/plain": [
       "0"
      ]
     },
     "execution_count": 46,
     "metadata": {},
     "output_type": "execute_result"
    }
   ],
   "source": [
    "x>>4 #  x/16= 0"
   ]
  },
  {
   "cell_type": "code",
   "execution_count": 47,
   "id": "c6738171",
   "metadata": {},
   "outputs": [
    {
     "data": {
      "text/plain": [
       "True"
      ]
     },
     "execution_count": 47,
     "metadata": {},
     "output_type": "execute_result"
    }
   ],
   "source": [
    "x>9"
   ]
  },
  {
   "cell_type": "markdown",
   "id": "f4cdd299",
   "metadata": {},
   "source": [
    " if \n",
    "else\n",
    " if else elif nested form"
   ]
  },
  {
   "cell_type": "code",
   "execution_count": 48,
   "id": "69188903",
   "metadata": {},
   "outputs": [
    {
     "name": "stdout",
     "output_type": "stream",
     "text": [
      "you can drive car \n"
     ]
    }
   ],
   "source": [
    "age = 19\n",
    "if age>=18: # : is called indent and space called indentation\n",
    "    print(\"you can drive car \") # four backspace is the space in indentation"
   ]
  },
  {
   "cell_type": "code",
   "execution_count": 49,
   "id": "db2ca5fb",
   "metadata": {},
   "outputs": [
    {
     "name": "stdout",
     "output_type": "stream",
     "text": [
      "you are pta nhi\n"
     ]
    }
   ],
   "source": [
    "if x>= 23:\n",
    "    print(\"you are inside the if block\")\n",
    "else:\n",
    "    print(\"you are pta nhi\")\n"
   ]
  },
  {
   "cell_type": "code",
   "execution_count": 50,
   "id": "28e36248",
   "metadata": {},
   "outputs": [
    {
     "name": "stdout",
     "output_type": "stream",
     "text": [
      "excellent performance your grade is B \n"
     ]
    }
   ],
   "source": [
    "score = 76\n",
    "if score>=90:\n",
    "    print(\"excellent performance your grade is A+\")\n",
    "elif score>=80:\n",
    "    print(\"excellent performance your grade is A\")\n",
    "elif score>=70:\n",
    "    print(\"excellent performance your grade is B \")\n",
    "else:\n",
    "        print(\"excellent performance your grade is C\")"
   ]
  },
  {
   "cell_type": "markdown",
   "id": "31f11393",
   "metadata": {},
   "source": [
    "# question 1"
   ]
  },
  {
   "cell_type": "code",
   "execution_count": 51,
   "id": "96e92770",
   "metadata": {},
   "outputs": [
    {
     "name": "stdout",
     "output_type": "stream",
     "text": [
      "Enter the input :6\n",
      "morning\n"
     ]
    }
   ],
   "source": [
    "time = int(input(\"Enter the input :\"))\n",
    "time\n",
    "if time<0:\n",
    "    print(\"invalid\")\n",
    "elif 0<=time<=5:\n",
    "    print(\"Night\")\n",
    "elif 6<=time<=11:\n",
    "    print(\"morning\")\n",
    "elif 12<=time<=17:\n",
    "    print(\"afternoon\")\n",
    "elif 18<=time<=23:\n",
    "    print(\"evening\")\n",
    "\n",
    "else:\n",
    "    print(\"invalid\")"
   ]
  },
  {
   "cell_type": "code",
   "execution_count": 52,
   "id": "6886a7ff",
   "metadata": {},
   "outputs": [],
   "source": [
    "# find the largest number from two given number "
   ]
  },
  {
   "cell_type": "code",
   "execution_count": 53,
   "id": "fd414b49",
   "metadata": {},
   "outputs": [],
   "source": [
    "num1 = 10"
   ]
  },
  {
   "cell_type": "code",
   "execution_count": 54,
   "id": "73604d1a",
   "metadata": {},
   "outputs": [],
   "source": [
    "num2 = 20 "
   ]
  },
  {
   "cell_type": "code",
   "execution_count": 55,
   "id": "c463a054",
   "metadata": {},
   "outputs": [],
   "source": [
    "num3 = 30"
   ]
  },
  {
   "cell_type": "code",
   "execution_count": 56,
   "id": "58bfceb6",
   "metadata": {},
   "outputs": [
    {
     "name": "stdout",
     "output_type": "stream",
     "text": [
      "the largest number is  30\n"
     ]
    }
   ],
   "source": [
    "if (num1>=num2)and (num1>=num2):\n",
    "    largest = num1\n",
    "    print(\"largest number is \"+largest)\n",
    "elif(num2>=num3)and (num2>=num1):\n",
    "    largest = num2\n",
    "    print(\"the largest number is \",largest)\n",
    "else:\n",
    "    a=num3\n",
    "    print(\"the largest number is \",a)"
   ]
  },
  {
   "cell_type": "markdown",
   "id": "cb81c052",
   "metadata": {},
   "source": [
    "## Making a simple calculator"
   ]
  },
  {
   "cell_type": "code",
   "execution_count": 57,
   "id": "a29c31b8",
   "metadata": {},
   "outputs": [
    {
     "name": "stdout",
     "output_type": "stream",
     "text": [
      "Enter the first number :3\n",
      "Enter the second number:3\n",
      "Enter the operator \"(+,-,*,/)\":3\n",
      "invalid operation\n"
     ]
    }
   ],
   "source": [
    "f = float(input(\"Enter the first number :\"))\n",
    "s = float(input(\"Enter the second number:\"))\n",
    "operator = input(\"Enter the operator \\\"(+,-,*,/)\\\":\")\n",
    "\n",
    "if operator == '+':\n",
    "    print(f+s)\n",
    "elif operator == '-':\n",
    "    print(f-s)\n",
    "elif operator == '/':\n",
    "          print(f/s)\n",
    "elif operator == '*':\n",
    "    print(f*s)\n",
    "else:\n",
    "    print(\"invalid operation\")"
   ]
  },
  {
   "cell_type": "code",
   "execution_count": 58,
   "id": "5c25f11f",
   "metadata": {},
   "outputs": [],
   "source": [
    "# nested form of if else func"
   ]
  },
  {
   "cell_type": "code",
   "execution_count": 59,
   "id": "ba798525",
   "metadata": {},
   "outputs": [
    {
     "name": "stdout",
     "output_type": "stream",
     "text": [
      "number3\n",
      "the required number is positive\n"
     ]
    }
   ],
   "source": [
    "number =float(input(\"number\"))\n",
    "if (number>=0):\n",
    "    if number == 0:\n",
    "        print(\" the number is 0\")\n",
    "\n",
    "    else:\n",
    "        print(\"the required number is positive\")\n",
    "else:\n",
    "     print(\"the required number is negative\")"
   ]
  },
  {
   "cell_type": "code",
   "execution_count": 60,
   "id": "16c774bb",
   "metadata": {},
   "outputs": [
    {
     "data": {
      "text/plain": [
       "range(0, 10)"
      ]
     },
     "execution_count": 60,
     "metadata": {},
     "output_type": "execute_result"
    }
   ],
   "source": [
    "o=range(0,10)\n",
    "o\n",
    "    "
   ]
  },
  {
   "cell_type": "code",
   "execution_count": 61,
   "id": "0483a58b",
   "metadata": {},
   "outputs": [
    {
     "data": {
      "text/plain": [
       "True"
      ]
     },
     "execution_count": 61,
     "metadata": {},
     "output_type": "execute_result"
    }
   ],
   "source": [
    "bool(o)  # range(start,stop,step/jump)"
   ]
  },
  {
   "cell_type": "code",
   "execution_count": 62,
   "id": "09c737a5",
   "metadata": {},
   "outputs": [
    {
     "data": {
      "text/plain": [
       "[0, 1, 2, 3, 4, 5, 6, 7, 8, 9]"
      ]
     },
     "execution_count": 62,
     "metadata": {},
     "output_type": "execute_result"
    }
   ],
   "source": [
    "list(range(10))"
   ]
  },
  {
   "cell_type": "code",
   "execution_count": 63,
   "id": "39f3f849",
   "metadata": {},
   "outputs": [
    {
     "data": {
      "text/plain": [
       "[3, 4, 5, 6, 7, 8, 9]"
      ]
     },
     "execution_count": 63,
     "metadata": {},
     "output_type": "execute_result"
    }
   ],
   "source": [
    "list(range(3,10))"
   ]
  },
  {
   "cell_type": "code",
   "execution_count": 64,
   "id": "852de545",
   "metadata": {},
   "outputs": [
    {
     "data": {
      "text/plain": [
       "[3, 4, 5, 6, 7, 8, 9]"
      ]
     },
     "execution_count": 64,
     "metadata": {},
     "output_type": "execute_result"
    }
   ],
   "source": [
    "list(range(3,10,1))"
   ]
  },
  {
   "cell_type": "code",
   "execution_count": 65,
   "id": "b614c095",
   "metadata": {},
   "outputs": [
    {
     "data": {
      "text/plain": [
       "[3, 5, 7, 9]"
      ]
     },
     "execution_count": 65,
     "metadata": {},
     "output_type": "execute_result"
    }
   ],
   "source": [
    "list(range(3,10,2))"
   ]
  },
  {
   "cell_type": "code",
   "execution_count": 66,
   "id": "320b59a9",
   "metadata": {},
   "outputs": [
    {
     "name": "stdout",
     "output_type": "stream",
     "text": [
      "0\n",
      "1\n",
      "2\n",
      "3\n"
     ]
    }
   ],
   "source": [
    "for i in range(4):\n",
    "    print(i)"
   ]
  },
  {
   "cell_type": "code",
   "execution_count": 67,
   "id": "aeccf13f",
   "metadata": {},
   "outputs": [
    {
     "name": "stdout",
     "output_type": "stream",
     "text": [
      "0\n",
      "1\n",
      "2\n"
     ]
    }
   ],
   "source": [
    "for r in range(3):\n",
    "    print(r)"
   ]
  },
  {
   "cell_type": "markdown",
   "id": "13f55da4",
   "metadata": {},
   "source": [
    "iterable is we have to loop like list ,tuple ,dict .... now lets us example "
   ]
  },
  {
   "cell_type": "code",
   "execution_count": 68,
   "id": "9c5e2248",
   "metadata": {},
   "outputs": [
    {
     "name": "stdout",
     "output_type": "stream",
     "text": [
      "a\n",
      "r\n",
      "y\n",
      "a\n"
     ]
    }
   ],
   "source": [
    "for x in [\"a\",\"r\",\"y\",\"a\"]:\n",
    "    print(x)"
   ]
  },
  {
   "cell_type": "code",
   "execution_count": 69,
   "id": "6f62e7fb",
   "metadata": {},
   "outputs": [
    {
     "name": "stdout",
     "output_type": "stream",
     "text": [
      "L\n",
      "u\n",
      "c\n",
      "k\n",
      "n\n",
      "o\n",
      "w\n"
     ]
    }
   ],
   "source": [
    "for s in \"Lucknow\":\n",
    "    print(s)"
   ]
  },
  {
   "cell_type": "code",
   "execution_count": 70,
   "id": "3724908e",
   "metadata": {},
   "outputs": [
    {
     "name": "stdout",
     "output_type": "stream",
     "text": [
      "2\n",
      "5\n",
      "8\n"
     ]
    }
   ],
   "source": [
    "for i in range(2,9,3):\n",
    "    print(i)"
   ]
  },
  {
   "cell_type": "code",
   "execution_count": 71,
   "id": "1b96f36d",
   "metadata": {},
   "outputs": [
    {
     "name": "stdout",
     "output_type": "stream",
     "text": [
      "india\n",
      "uk\n",
      "france\n",
      "pakistan\n"
     ]
    }
   ],
   "source": [
    "country = [\"india\",\"uk\",\"france\",\"pakistan\"]\n",
    "for index in range(len(country)):\n",
    "    print(country[index])"
   ]
  },
  {
   "cell_type": "code",
   "execution_count": 72,
   "id": "d3881095",
   "metadata": {},
   "outputs": [
    {
     "name": "stdout",
     "output_type": "stream",
     "text": [
      "india\n",
      "uk\n",
      "france\n",
      "pakistan\n"
     ]
    }
   ],
   "source": [
    "for ck in country:\n",
    "    print(ck)"
   ]
  },
  {
   "cell_type": "code",
   "execution_count": 73,
   "id": "fc47c986",
   "metadata": {},
   "outputs": [
    {
     "name": "stdout",
     "output_type": "stream",
     "text": [
      "Riya\n",
      "aryan\n",
      "4\n",
      "anvi\n",
      "3\n"
     ]
    }
   ],
   "source": [
    "p = {\"3\",\"4\",\"aryan\",\"anvi\",\"Riya\"}\n",
    "for this in p:\n",
    "        print(this)"
   ]
  },
  {
   "cell_type": "code",
   "execution_count": 74,
   "id": "28f84fe0",
   "metadata": {},
   "outputs": [
    {
     "name": "stdout",
     "output_type": "stream",
     "text": [
      "diwali\n",
      "r\n",
      "coagel\n",
      "scala\n",
      "numpy\n"
     ]
    }
   ],
   "source": [
    "tup = (\"diwali\", \"r\",\"coagel\",\"scala\",\"numpy\")\n",
    "n = list(tup)\n",
    "n\n",
    "for anvi in range(len(n)):\n",
    "    print(n[anvi])"
   ]
  },
  {
   "cell_type": "code",
   "execution_count": 75,
   "id": "a945bc7d",
   "metadata": {},
   "outputs": [
    {
     "name": "stdout",
     "output_type": "stream",
     "text": [
      "onion\n",
      "mango\n",
      "C#\n",
      "CSS\n"
     ]
    }
   ],
   "source": [
    "up= (\"onion\",\"mango\",\"C#\",\"CSS\")\n",
    "for x in range(len(up)):\n",
    "    print(up[x])"
   ]
  },
  {
   "cell_type": "markdown",
   "id": "67e3a7fc",
   "metadata": {},
   "source": [
    "<!--  er ={\"er\",\"precatiion\",\"have money\",\"get a cup of key\",\"for me\"}\n",
    " for y in range(len(er)):\n",
    "    print(er[y]) -->\n",
    "\n",
    "set object is not subscriptable"
   ]
  },
  {
   "cell_type": "code",
   "execution_count": 76,
   "id": "cab87fec",
   "metadata": {},
   "outputs": [
    {
     "data": {
      "text/plain": [
       "dict_keys(['x1', 'x2', 'x3', 'x4'])"
      ]
     },
     "execution_count": 76,
     "metadata": {},
     "output_type": "execute_result"
    }
   ],
   "source": [
    "dic1 = {\"x1\":1,\"x2\":2,\"x3\":3,\"x4\":4}\n",
    "dic1.keys()"
   ]
  },
  {
   "cell_type": "code",
   "execution_count": 77,
   "id": "5e453311",
   "metadata": {},
   "outputs": [
    {
     "data": {
      "text/plain": [
       "dict_values([1, 2, 3, 4])"
      ]
     },
     "execution_count": 77,
     "metadata": {},
     "output_type": "execute_result"
    }
   ],
   "source": [
    "dic1.values()"
   ]
  },
  {
   "cell_type": "code",
   "execution_count": 78,
   "id": "2f4b8cae",
   "metadata": {},
   "outputs": [
    {
     "name": "stdout",
     "output_type": "stream",
     "text": [
      "x1 1\n",
      "x2 2\n",
      "x3 3\n",
      "x4 4\n"
     ]
    }
   ],
   "source": [
    "for t in dic1:\n",
    "    print(t,dic1[t])"
   ]
  },
  {
   "cell_type": "code",
   "execution_count": 79,
   "id": "8ecea99e",
   "metadata": {},
   "outputs": [
    {
     "name": "stdout",
     "output_type": "stream",
     "text": [
      "1\n",
      "2\n",
      "3\n",
      "4\n"
     ]
    }
   ],
   "source": [
    " for y in dic1.values():\n",
    "        print(y)\n"
   ]
  },
  {
   "cell_type": "code",
   "execution_count": 80,
   "id": "f83f50cd",
   "metadata": {},
   "outputs": [
    {
     "name": "stdout",
     "output_type": "stream",
     "text": [
      "pw\n",
      "skils\n",
      "Aryan\n",
      "yadav\n"
     ]
    }
   ],
   "source": [
    "print(\"pw\")\n",
    "print(\"skils\")\n",
    "print(\"Aryan\")\n",
    "print(\"yadav\")"
   ]
  },
  {
   "cell_type": "code",
   "execution_count": 81,
   "id": "68c9d6ae",
   "metadata": {},
   "outputs": [
    {
     "name": "stdout",
     "output_type": "stream",
     "text": [
      "pw skils Aryan yadav "
     ]
    }
   ],
   "source": [
    "print(\"pw\",end = ' ')\n",
    "print(\"skils\",end = ' ')\n",
    "print(\"Aryan\",end = ' ')\n",
    "print(\"yadav\",end=' ')"
   ]
  },
  {
   "cell_type": "code",
   "execution_count": 82,
   "id": "ddd2f5ee",
   "metadata": {},
   "outputs": [
    {
     "name": "stdout",
     "output_type": "stream",
     "text": [
      "pw@skils#Aryan@yadav#"
     ]
    }
   ],
   "source": [
    "print(\"pw\",end ='@' )\n",
    "print(\"skils\",end ='#')\n",
    "print(\"Aryan\",end ='@')\n",
    "print(\"yadav\",end ='#')"
   ]
  },
  {
   "cell_type": "code",
   "execution_count": 83,
   "id": "1e3548c0",
   "metadata": {},
   "outputs": [
    {
     "name": "stdout",
     "output_type": "stream",
     "text": [
      "0\n",
      "1\n",
      "2\n",
      "3\n",
      "4\n",
      "5\n",
      "6\n",
      "7\n",
      "8\n",
      "9\n",
      "10\n",
      "11\n",
      "12\n",
      "13\n",
      "14\n"
     ]
    }
   ],
   "source": [
    "for i in range(15):\n",
    "    print(i)"
   ]
  },
  {
   "cell_type": "code",
   "execution_count": 84,
   "id": "c199e3ab",
   "metadata": {},
   "outputs": [
    {
     "name": "stdout",
     "output_type": "stream",
     "text": [
      "0 1 2 3 4 5 6 7 8 9 10 11 12 13 14 "
     ]
    }
   ],
   "source": [
    "for i in range(15):\n",
    "    print(i,end=' ')"
   ]
  },
  {
   "cell_type": "code",
   "execution_count": 85,
   "id": "f91749b2",
   "metadata": {},
   "outputs": [
    {
     "name": "stdout",
     "output_type": "stream",
     "text": [
      "0y  1y  2y  3y  4y  5y  6y  7y  8y  9y  10y  11y  "
     ]
    }
   ],
   "source": [
    "for i in range(12):\n",
    "    print(i,end='y  ')"
   ]
  },
  {
   "cell_type": "code",
   "execution_count": 86,
   "id": "ee65209a",
   "metadata": {},
   "outputs": [
    {
     "name": "stdout",
     "output_type": "stream",
     "text": [
      "* \n",
      "* * \n",
      "* * * \n",
      "* * * * \n",
      "* * * * * \n"
     ]
    }
   ],
   "source": [
    "for i in range(5):\n",
    "    for j in range(i+1):\n",
    "        print(\"*\",end = ' ')\n",
    "    print()"
   ]
  },
  {
   "cell_type": "code",
   "execution_count": null,
   "id": "96a8e20d",
   "metadata": {},
   "outputs": [],
   "source": []
  },
  {
   "cell_type": "code",
   "execution_count": 87,
   "id": "71fe8e17",
   "metadata": {},
   "outputs": [
    {
     "name": "stdout",
     "output_type": "stream",
     "text": [
      "Aryan \n",
      "Aryan Aryan \n",
      "Aryan Aryan Aryan \n",
      "Aryan Aryan Aryan Aryan \n",
      "Aryan Aryan Aryan Aryan Aryan \n",
      "Aryan Aryan Aryan Aryan Aryan Aryan \n",
      "Aryan Aryan Aryan Aryan Aryan Aryan Aryan \n",
      "Aryan Aryan Aryan Aryan Aryan Aryan Aryan Aryan \n",
      "Aryan Aryan Aryan Aryan Aryan Aryan Aryan Aryan Aryan \n",
      "Aryan Aryan Aryan Aryan Aryan Aryan Aryan Aryan Aryan Aryan \n"
     ]
    }
   ],
   "source": [
    " for aryan in range(10):\n",
    "        for yad in range(aryan+1):\n",
    "            print(\"Aryan\",end = ' ')\n",
    "        print()"
   ]
  },
  {
   "cell_type": "code",
   "execution_count": 88,
   "id": "40987c2a",
   "metadata": {},
   "outputs": [
    {
     "name": "stdout",
     "output_type": "stream",
     "text": [
      "A A A A \n",
      "A A A A A \n",
      "A A A A A A \n",
      "A A A A A A A \n",
      "A A A A A A A A \n"
     ]
    }
   ],
   "source": [
    "for x in range(3,8):\n",
    "    for p in range(x+1):\n",
    "        print(\"A\",end = ' ')\n",
    "    print()"
   ]
  },
  {
   "cell_type": "code",
   "execution_count": 89,
   "id": "0aac61aa",
   "metadata": {},
   "outputs": [
    {
     "name": "stdout",
     "output_type": "stream",
     "text": [
      "A A A A A A A \n",
      "A A A A A A A A \n",
      "A A A A A A A A A \n",
      "A A A A A A A A A A \n",
      "A A A A A A A A A A A \n",
      "A A A A A A A A A A A A \n",
      "A A A A A A A A A A A A A \n",
      "A A A A A A A A A A A A A A \n",
      "A A A A A A A A A A A A A A A \n",
      "A A A A A A A A A A A A A A A A \n",
      "A A A A A A A A A A A A A A A A A \n",
      "A A A A A A A A A A A A A A A A A A \n",
      "A A A A A A A A A A A A A A A A A A A \n"
     ]
    }
   ],
   "source": [
    "for x in range(3,16):\n",
    "    for p in range(x+4):\n",
    "        print(\"A\",end = ' ')\n",
    "    print()"
   ]
  },
  {
   "cell_type": "code",
   "execution_count": 90,
   "id": "b5d165d0",
   "metadata": {},
   "outputs": [
    {
     "name": "stdout",
     "output_type": "stream",
     "text": [
      "\n",
      "\n",
      "\n",
      "A \n",
      "A A \n",
      "A A A \n",
      "A A A A \n",
      "A A A A A \n",
      "A A A A A A \n",
      "A A A A A A A \n",
      "A A A A A A A A \n",
      "A A A A A A A A A \n",
      "A A A A A A A A A A \n",
      "A A A A A A A A A A A \n",
      "A A A A A A A A A A A A \n",
      "A A A A A A A A A A A A A \n",
      "A A A A A A A A A A A A A A \n",
      "A A A A A A A A A A A A A A A \n",
      "A A A A A A A A A A A A A A A A \n"
     ]
    }
   ],
   "source": [
    "for x in range(-3,16):\n",
    "    for p in range(x+1):\n",
    "        print(\"A\",end = ' ')\n",
    "    print()"
   ]
  },
  {
   "cell_type": "code",
   "execution_count": 91,
   "id": "060b857e",
   "metadata": {},
   "outputs": [
    {
     "name": "stdout",
     "output_type": "stream",
     "text": [
      "$ $ $ $ $ \n",
      "$ $ $ $ \n",
      "$ $ $ \n",
      "$ $ \n",
      "$ \n"
     ]
    }
   ],
   "source": [
    "for u in range(5,0,-1):\n",
    "    for v in range(u,0,-1):\n",
    "        print('$',end = ' ')\n",
    "    print()\n",
    "    "
   ]
  },
  {
   "cell_type": "code",
   "execution_count": 92,
   "id": "da1508ec",
   "metadata": {},
   "outputs": [
    {
     "name": "stdout",
     "output_type": "stream",
     "text": [
      "* * * * * * * * * * * * * * * * * \n",
      "* * * * * * * * * * * * * * * * \n",
      "* * * * * * * * * * * * * * * \n",
      "* * * * * * * * * * * * * * \n",
      "* * * * * * * * * * * * * \n",
      "* * * * * * * * * * * * \n",
      "* * * * * * * * * * * \n",
      "* * * * * * * * * * \n",
      "* * * * * * * * * \n",
      "* * * * * * * * \n",
      "* * * * * * * \n",
      "* * * * * * \n",
      "* * * * * \n",
      "* * * * \n",
      "* * * \n",
      "* * \n",
      "* \n"
     ]
    }
   ],
   "source": [
    "for z in range(17,0,-1):\n",
    "    for y in range(z,0,-1):\n",
    "        print('*',end = ' ')\n",
    "    print()"
   ]
  },
  {
   "cell_type": "code",
   "execution_count": 93,
   "id": "3dcd4c27",
   "metadata": {},
   "outputs": [
    {
     "name": "stdout",
     "output_type": "stream",
     "text": [
      "$ $ $ $ $ $ $ $ $ $ $ $ $ $ $ \n",
      "$ $ $ $ $ $ $ $ $ $ $ $ $ \n",
      "$ $ $ $ $ $ $ $ $ $ $ \n",
      "$ $ $ $ $ $ $ $ $ \n",
      "$ $ $ $ $ $ $ \n",
      "$ $ $ $ $ \n",
      "$ $ $ \n",
      "$ \n"
     ]
    }
   ],
   "source": [
    "for u in range(15,0,-2):\n",
    "    for v in range(u,0,-1):\n",
    "        print('$',end = ' ')\n",
    "    print()\n",
    "    "
   ]
  },
  {
   "cell_type": "code",
   "execution_count": 94,
   "id": "85e617da",
   "metadata": {},
   "outputs": [
    {
     "name": "stdout",
     "output_type": "stream",
     "text": [
      "$ $ $ $ $ $ $ $ \n",
      "$ $ $ $ $ $ $ \n",
      "$ $ $ $ $ $ $ \n",
      "$ $ $ $ $ $ \n",
      "$ $ $ $ $ $ \n",
      "$ $ $ $ $ \n",
      "$ $ $ $ $ \n",
      "$ $ $ $ \n",
      "$ $ $ $ \n",
      "$ $ $ \n",
      "$ $ $ \n",
      "$ $ \n",
      "$ $ \n",
      "$ \n",
      "$ \n"
     ]
    }
   ],
   "source": [
    "for u in range(15,0,-1):\n",
    "    for v in range(u,0,-2):\n",
    "        print('$',end = ' ')\n",
    "    print()\n",
    "    "
   ]
  },
  {
   "cell_type": "code",
   "execution_count": 95,
   "id": "dcebfb95",
   "metadata": {},
   "outputs": [
    {
     "name": "stdout",
     "output_type": "stream",
     "text": [
      "$ -$ -$ -$ -$ -$ -$ -$ -$ -$ -$ -$ -$ -$ -$ -\n",
      "$ -$ -$ -$ -$ -$ -$ -$ -$ -$ -$ -$ -$ -$ -\n",
      "$ -$ -$ -$ -$ -$ -$ -$ -$ -$ -$ -$ -$ -\n",
      "$ -$ -$ -$ -$ -$ -$ -$ -$ -$ -$ -$ -\n",
      "$ -$ -$ -$ -$ -$ -$ -$ -$ -$ -$ -\n",
      "$ -$ -$ -$ -$ -$ -$ -$ -$ -$ -\n",
      "$ -$ -$ -$ -$ -$ -$ -$ -$ -\n",
      "$ -$ -$ -$ -$ -$ -$ -$ -\n",
      "$ -$ -$ -$ -$ -$ -$ -\n",
      "$ -$ -$ -$ -$ -$ -\n",
      "$ -$ -$ -$ -$ -\n",
      "$ -$ -$ -$ -\n",
      "$ -$ -$ -\n",
      "$ -$ -\n",
      "$ -\n"
     ]
    }
   ],
   "source": [
    "for u in range(15,0,-1):\n",
    "    for v in range(u,0,-1):\n",
    "        print('$',end = ' -')\n",
    "    print()\n",
    "    "
   ]
  },
  {
   "cell_type": "code",
   "execution_count": 96,
   "id": "df80173d",
   "metadata": {},
   "outputs": [
    {
     "name": "stdout",
     "output_type": "stream",
     "text": [
      "1 1 1 1 1 1 1 1 1 1 1 1 1 \n",
      "1 1 1 1 1 1 1 1 1 1 1 1 \n",
      "1 1 1 1 1 1 1 1 1 1 1 \n",
      "1 1 1 1 1 1 1 1 1 1 \n",
      "1 1 1 1 1 1 1 1 1 \n",
      "1 1 1 1 1 1 1 1 \n",
      "1 1 1 1 1 1 1 \n",
      "1 1 1 1 1 1 \n",
      "1 1 1 1 1 \n",
      "1 1 1 1 \n",
      "1 1 1 \n",
      "1 1 \n",
      "1 \n"
     ]
    }
   ],
   "source": [
    "for i in range(13,0,-1):\n",
    "    for j in range(i,0,-1):\n",
    "        print('1',end =' ')\n",
    "    print()"
   ]
  },
  {
   "cell_type": "markdown",
   "id": "45fb409c",
   "metadata": {},
   "source": [
    "# print a table 1 to 5 by using for loop:"
   ]
  },
  {
   "cell_type": "code",
   "execution_count": 97,
   "id": "607465d8",
   "metadata": {},
   "outputs": [
    {
     "name": "stdout",
     "output_type": "stream",
     "text": [
      "1 2 3 4 5 \n",
      "2 4 6 8 10 \n",
      "3 6 9 12 15 \n",
      "4 8 12 16 20 \n",
      "5 10 15 20 25 \n"
     ]
    }
   ],
   "source": [
    "for p in range(1,6):\n",
    "    for q in range(1,6):\n",
    "        print(p*q,end=' ')\n",
    "    print()"
   ]
  },
  {
   "cell_type": "code",
   "execution_count": 98,
   "id": "d80fda38",
   "metadata": {},
   "outputs": [
    {
     "name": "stdout",
     "output_type": "stream",
     "text": [
      "0 -1 -2 \n",
      "1 0 -1 \n",
      "2 1 0 \n"
     ]
    }
   ],
   "source": [
    "for m in range(1,4):\n",
    "    for n in range(1,4):\n",
    "        print(m-n,end = ' ')\n",
    "    print()"
   ]
  },
  {
   "cell_type": "markdown",
   "id": "511a18c7",
   "metadata": {},
   "source": [
    "# while loop"
   ]
  },
  {
   "cell_type": "code",
   "execution_count": 99,
   "id": "ff617d1e",
   "metadata": {},
   "outputs": [
    {
     "name": "stdout",
     "output_type": "stream",
     "text": [
      "1\n",
      "2\n",
      "3\n",
      "4\n",
      "5\n"
     ]
    }
   ],
   "source": [
    "count =1\n",
    "while count<=5:\n",
    "    print(count)\n",
    "    count +=1\n",
    "    # count = count+1"
   ]
  },
  {
   "cell_type": "code",
   "execution_count": 100,
   "id": "3edc3c8c",
   "metadata": {},
   "outputs": [
    {
     "name": "stdout",
     "output_type": "stream",
     "text": [
      "4\n",
      "5\n",
      "6\n"
     ]
    }
   ],
   "source": [
    "count =4\n",
    "while count<=6:\n",
    "    print(count)\n",
    "    count +=1"
   ]
  },
  {
   "cell_type": "code",
   "execution_count": 101,
   "id": "ce5139cb",
   "metadata": {},
   "outputs": [
    {
     "name": "stdout",
     "output_type": "stream",
     "text": [
      "Enter the input:\n",
      "\n",
      "Enter the input:3\n",
      "3\n",
      "Enter the input:3\n",
      "3\n",
      "Enter the input:3\n",
      "3\n",
      "Enter the input:\n",
      "\n",
      "Enter the input:h\n",
      "h\n",
      "Enter the input:quit\n",
      "quit\n"
     ]
    }
   ],
   "source": [
    "text =\"p\"\n",
    "while text!=\"quit\":\n",
    "    text = str(input(\"Enter the input:\"))\n",
    "    print(text)\n",
    "    "
   ]
  },
  {
   "cell_type": "code",
   "execution_count": 102,
   "id": "b9b88980",
   "metadata": {},
   "outputs": [
    {
     "name": "stdout",
     "output_type": "stream",
     "text": [
      "stop\n",
      "stop\n"
     ]
    }
   ],
   "source": [
    "t=\" \"\n",
    "while t!= \"stop\":\n",
    "    t = input(\"\")\n",
    "    print(t)"
   ]
  },
  {
   "cell_type": "raw",
   "id": "6d470e08",
   "metadata": {},
   "source": [
    "'''if you know how many time will iterate go with the loop\n",
    "if you dont know how many time will iterate go with while loop'''"
   ]
  },
  {
   "cell_type": "code",
   "execution_count": null,
   "id": "ed732de5",
   "metadata": {},
   "outputs": [],
   "source": []
  },
  {
   "cell_type": "code",
   "execution_count": null,
   "id": "d0a0d100",
   "metadata": {},
   "outputs": [],
   "source": [
    "3"
   ]
  }
 ],
 "metadata": {
  "kernelspec": {
   "display_name": "Python 3 (ipykernel)",
   "language": "python",
   "name": "python3"
  },
  "language_info": {
   "codemirror_mode": {
    "name": "ipython",
    "version": 3
   },
   "file_extension": ".py",
   "mimetype": "text/x-python",
   "name": "python",
   "nbconvert_exporter": "python",
   "pygments_lexer": "ipython3",
   "version": "3.11.5"
  }
 },
 "nbformat": 4,
 "nbformat_minor": 5
}
