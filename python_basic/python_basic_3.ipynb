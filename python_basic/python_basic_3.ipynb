{
 "cells": [
  {
   "cell_type": "markdown",
   "id": "d93be66b",
   "metadata": {},
   "source": [
    "# Lecture 3 "
   ]
  },
  {
   "cell_type": "code",
   "execution_count": 1,
   "id": "0fa97df0",
   "metadata": {},
   "outputs": [
    {
     "name": "stdout",
     "output_type": "stream",
     "text": [
      "Enter the number:566\n",
      "566\n"
     ]
    }
   ],
   "source": [
    "x = input(\"Enter the number:\")\n",
    "print(x)"
   ]
  },
  {
   "cell_type": "code",
   "execution_count": 2,
   "id": "952d6900",
   "metadata": {},
   "outputs": [
    {
     "name": "stdout",
     "output_type": "stream",
     "text": [
      "Enter your age54\n",
      "my age is 54\n"
     ]
    }
   ],
   "source": [
    "y = input(\"Enter your age\")\n",
    "print(\"my age is \"+y)"
   ]
  },
  {
   "cell_type": "code",
   "execution_count": 3,
   "id": "b56eca06",
   "metadata": {},
   "outputs": [
    {
     "name": "stdout",
     "output_type": "stream",
     "text": [
      "40\n"
     ]
    }
   ],
   "source": [
    "p=38\n",
    "q=2\n",
    "print(p+q)"
   ]
  },
  {
   "cell_type": "code",
   "execution_count": 4,
   "id": "08c5da67",
   "metadata": {},
   "outputs": [
    {
     "name": "stdout",
     "output_type": "stream",
     "text": [
      "Enter the first number:4\n",
      "Enter the second number :4\n",
      "8\n"
     ]
    }
   ],
   "source": [
    "a=int(input(\"Enter the first number:\"))\n",
    "b= int(input(\"Enter the second number :\"))\n",
    "print(a+b)"
   ]
  },
  {
   "cell_type": "code",
   "execution_count": 5,
   "id": "e8ac983a",
   "metadata": {},
   "outputs": [
    {
     "name": "stdout",
     "output_type": "stream",
     "text": [
      "artab Okk  aryan \n"
     ]
    }
   ],
   "source": [
    "h= \"artab\"\n",
    "k=\"aryan \"\n",
    "print(f\"{h} Okk  {k}\")"
   ]
  },
  {
   "cell_type": "code",
   "execution_count": 4,
   "id": "b26e723d",
   "metadata": {},
   "outputs": [
    {
     "name": "stdout",
     "output_type": "stream",
     "text": [
      "347 hy 45\n"
     ]
    }
   ],
   "source": [
    "m= 347\n",
    "n=45\n",
    "print(f\"{m} hy {n}\")"
   ]
  },
  {
   "cell_type": "code",
   "execution_count": 7,
   "id": "57cc5ab3",
   "metadata": {},
   "outputs": [
    {
     "name": "stdout",
     "output_type": "stream",
     "text": [
      "pwskills\n"
     ]
    }
   ],
   "source": [
    "print(\"pwskills\")"
   ]
  },
  {
   "cell_type": "code",
   "execution_count": 8,
   "id": "8700ff9a",
   "metadata": {},
   "outputs": [
    {
     "name": "stdout",
     "output_type": "stream",
     "text": [
      "Prince and Yadav\n"
     ]
    }
   ],
   "source": [
    "print(\"{} and {}\".format(\"Prince\",\"Yadav\"))"
   ]
  },
  {
   "cell_type": "code",
   "execution_count": 11,
   "id": "42996f82",
   "metadata": {},
   "outputs": [
    {
     "ename": "KeyError",
     "evalue": "'m'",
     "output_type": "error",
     "traceback": [
      "\u001b[1;31m---------------------------------------------------------------------------\u001b[0m",
      "\u001b[1;31mKeyError\u001b[0m                                  Traceback (most recent call last)",
      "Cell \u001b[1;32mIn[11], line 1\u001b[0m\n\u001b[1;32m----> 1\u001b[0m \u001b[38;5;28mprint\u001b[39m(\u001b[38;5;124m\"\u001b[39m\u001b[38;5;132;01m{m}\u001b[39;00m\u001b[38;5;130;01m\\n\u001b[39;00m\u001b[38;5;130;01m\\n\u001b[39;00m\u001b[38;5;124m\"\u001b[39m\u001b[38;5;124m\"\u001b[39m\u001b[38;5;124mtoday is \u001b[39m\u001b[38;5;132;01m{}\u001b[39;00m\u001b[38;5;124m and tomorrow will \u001b[39m\u001b[38;5;132;01m{}\u001b[39;00m\u001b[38;5;124m,then \u001b[39m\u001b[38;5;132;01m{}\u001b[39;00m\u001b[38;5;124m day after tomorrow will \u001b[39m\u001b[38;5;132;01m{}\u001b[39;00m\u001b[38;5;124m and 15 \u001b[39m\u001b[38;5;132;01m{}\u001b[39;00m\u001b[38;5;124m will be \u001b[39m\u001b[38;5;132;01m{}\u001b[39;00m\u001b[38;5;124m\"\u001b[39m\u001b[38;5;241m.\u001b[39mformat(\u001b[38;5;124m\"\u001b[39m\u001b[38;5;124mchoti dewali\u001b[39m\u001b[38;5;124m\"\u001b[39m,\u001b[38;5;124m\"\u001b[39m\u001b[38;5;124mDewali\u001b[39m\u001b[38;5;124m\"\u001b[39m,\u001b[38;5;124m\"\u001b[39m\u001b[38;5;124mthe\u001b[39m\u001b[38;5;124m\"\u001b[39m,\u001b[38;5;124m\"\u001b[39m\u001b[38;5;124mGoverdhan puja\u001b[39m\u001b[38;5;124m\"\u001b[39m,\u001b[38;5;124m\"\u001b[39m\u001b[38;5;124mnovember\u001b[39m\u001b[38;5;124m\"\u001b[39m,\u001b[38;5;124m\"\u001b[39m\u001b[38;5;124mBhai  duj\u001b[39m\u001b[38;5;124m\"\u001b[39m))\n",
      "\u001b[1;31mKeyError\u001b[0m: 'm'"
     ]
    }
   ],
   "source": [
    "print(f\"{m}\\n\\n\"\"today is {} and tomorrow will {},then {} day after tomorrow will {} and 15 {} will be {}\".format(\"choti dewali\",\"Dewali\",\"the\",\"Goverdhan puja\",\"november\",\"Bhai  duj\"))"
   ]
  },
  {
   "cell_type": "code",
   "execution_count": 14,
   "id": "6d9e8a44",
   "metadata": {},
   "outputs": [
    {
     "name": "stdout",
     "output_type": "stream",
     "text": [
      "aryan,ask\n"
     ]
    }
   ],
   "source": [
    "a = \"aryan\"\n",
    "b = \"ask\"\n",
    "print(f\"{a},{b}\")"
   ]
  },
  {
   "cell_type": "code",
   "execution_count": 12,
   "id": "701f8c47",
   "metadata": {},
   "outputs": [
    {
     "name": "stdout",
     "output_type": "stream",
     "text": [
      "Helo world India is my country and I am a citizen of my country\n"
     ]
    }
   ],
   "source": [
    "print(\"{2} world {3} is my {4} and {1} am a {0} of my country\".format(\"citizen\",\"I\",\"Helo\",\"India\",\"country\"))"
   ]
  },
  {
   "cell_type": "code",
   "execution_count": 17,
   "id": "882fd4e9",
   "metadata": {},
   "outputs": [
    {
     "name": "stdout",
     "output_type": "stream",
     "text": [
      "['Lucknow', 'from''Lucknow','and' ,'from', 'Kanpur'']\n"
     ]
    }
   ],
   "source": [
    "kp = print(\"['{0}', 'from''{0}','and' ,'from', '{1}'']\".format(\"Lucknow\",\"Kanpur\",\"Banaras\",\"Kushi Nagar\",\"Gaajipur\"))"
   ]
  },
  {
   "cell_type": "code",
   "execution_count": 21,
   "id": "26527928",
   "metadata": {},
   "outputs": [
    {
     "data": {
      "text/plain": [
       "NoneType"
      ]
     },
     "execution_count": 21,
     "metadata": {},
     "output_type": "execute_result"
    }
   ],
   "source": [
    "type(kp)\n"
   ]
  },
  {
   "cell_type": "code",
   "execution_count": 13,
   "id": "39ecf110",
   "metadata": {},
   "outputs": [
    {
     "name": "stdout",
     "output_type": "stream",
     "text": [
      "my school name is\n",
      " aryan\n",
      " and hostel name is \n",
      "aryan\n",
      " and college name is\n",
      " aryan\n",
      " and home name is prince\n"
     ]
    }
   ],
   "source": [
    "aryan = print(\"my school name is\\n {1}\\n and hostel name is \\n{1}\\n and college name is\\n {1}\\n and home name is {0}\".format(\"prince\",\"aryan\",\"rahul\",\"Riya\"))"
   ]
  },
  {
   "cell_type": "code",
   "execution_count": 14,
   "id": "4ef76d8a",
   "metadata": {},
   "outputs": [
    {
     "name": "stdout",
     "output_type": "stream",
     "text": [
      " A\n",
      " A A\n",
      " A A A\n",
      " A A A A\n",
      " A A A A A\n",
      " A A A A A A\n"
     ]
    }
   ],
   "source": [
    "print(\" A\\n A A\\n A A A\\n A A A A\\n A A A A A\\n A A A A A A\")"
   ]
  },
  {
   "cell_type": "code",
   "execution_count": 1,
   "id": "d9576340",
   "metadata": {},
   "outputs": [
    {
     "name": "stdout",
     "output_type": "stream",
     "text": [
      "Enter the input: khydktgd\n"
     ]
    }
   ],
   "source": [
    "st= str(input(\"Enter the input: \"))"
   ]
  },
  {
   "cell_type": "code",
   "execution_count": 3,
   "id": "f307d75f",
   "metadata": {},
   "outputs": [
    {
     "data": {
      "text/plain": [
       "str"
      ]
     },
     "execution_count": 3,
     "metadata": {},
     "output_type": "execute_result"
    }
   ],
   "source": [
    "type(st)"
   ]
  },
  {
   "cell_type": "code",
   "execution_count": 4,
   "id": "f73e6a0f",
   "metadata": {},
   "outputs": [],
   "source": [
    "k =list(st)"
   ]
  },
  {
   "cell_type": "code",
   "execution_count": 5,
   "id": "2d5b87de",
   "metadata": {},
   "outputs": [
    {
     "data": {
      "text/plain": [
       "['k', 'h', 'y', 'd', 'k', 't', 'g', 'd']"
      ]
     },
     "execution_count": 5,
     "metadata": {},
     "output_type": "execute_result"
    }
   ],
   "source": [
    "k"
   ]
  },
  {
   "cell_type": "code",
   "execution_count": 22,
   "id": "fefdc7a9",
   "metadata": {},
   "outputs": [],
   "source": [
    "nb = \"jklmn\""
   ]
  },
  {
   "cell_type": "code",
   "execution_count": 24,
   "id": "b2c57943",
   "metadata": {},
   "outputs": [
    {
     "data": {
      "text/plain": [
       "'!!!!!!!jklmn!!!!!!!!'"
      ]
     },
     "execution_count": 24,
     "metadata": {},
     "output_type": "execute_result"
    }
   ],
   "source": [
    "nb.center(20,'!')"
   ]
  },
  {
   "cell_type": "code",
   "execution_count": 7,
   "id": "34f52b91",
   "metadata": {},
   "outputs": [],
   "source": [
    "y= \"aryan\""
   ]
  },
  {
   "cell_type": "code",
   "execution_count": null,
   "id": "0d6cba8d",
   "metadata": {},
   "outputs": [],
   "source": []
  },
  {
   "cell_type": "code",
   "execution_count": 11,
   "id": "d9db6ea4",
   "metadata": {},
   "outputs": [
    {
     "data": {
      "text/plain": [
       "'!!!!!!!!!!!!!!!!!!!!!!!!!!!aryan!!!!!!!!!!!!!!!!!!!!!!!!!!!!'"
      ]
     },
     "execution_count": 11,
     "metadata": {},
     "output_type": "execute_result"
    }
   ],
   "source": [
    "y.center(60,'!')"
   ]
  },
  {
   "cell_type": "markdown",
   "id": "8e0a43e5",
   "metadata": {},
   "source": [
    "# question no 1"
   ]
  },
  {
   "cell_type": "code",
   "execution_count": 12,
   "id": "379c384b",
   "metadata": {},
   "outputs": [
    {
     "name": "stdout",
     "output_type": "stream",
     "text": [
      "89074562\n",
      "Hii!\n",
      "10*10 = 100\n",
      "(12>10) and True\n",
      "I am here to learn \"python\n"
     ]
    }
   ],
   "source": [
    "print(\"\"\"89074562\n",
    "Hii!\n",
    "10*10 = 100\n",
    "(12>10) and True\n",
    "I am here to learn \"python\"\"\")"
   ]
  },
  {
   "cell_type": "markdown",
   "id": "7af68275",
   "metadata": {},
   "source": [
    "# Question no 2"
   ]
  },
  {
   "cell_type": "code",
   "execution_count": 22,
   "id": "a3062d02",
   "metadata": {},
   "outputs": [
    {
     "name": "stdout",
     "output_type": "stream",
     "text": [
      "$\n",
      "$$\n",
      "$$$\n",
      "$$$$\n",
      "$$$$$\n",
      "$$$$$$\n"
     ]
    }
   ],
   "source": [
    "print('''$\n",
    "$$\n",
    "$$$\n",
    "$$$$\n",
    "$$$$$\n",
    "$$$$$$''')"
   ]
  },
  {
   "cell_type": "markdown",
   "id": "e357222e",
   "metadata": {},
   "source": [
    "# question 2"
   ]
  },
  {
   "cell_type": "code",
   "execution_count": 14,
   "id": "6201b465",
   "metadata": {},
   "outputs": [
    {
     "name": "stdout",
     "output_type": "stream",
     "text": [
      "Enter the input:48\n"
     ]
    }
   ],
   "source": [
    "x = str(input(\"Enter the input:\"))"
   ]
  },
  {
   "cell_type": "code",
   "execution_count": 15,
   "id": "7fa60163",
   "metadata": {},
   "outputs": [],
   "source": [
    "z = \"!\" + x + \"!\""
   ]
  },
  {
   "cell_type": "code",
   "execution_count": 16,
   "id": "b3c4b78c",
   "metadata": {},
   "outputs": [
    {
     "name": "stdout",
     "output_type": "stream",
     "text": [
      "!48!\n"
     ]
    }
   ],
   "source": [
    "print(z)"
   ]
  },
  {
   "cell_type": "code",
   "execution_count": 17,
   "id": "8a864fac",
   "metadata": {},
   "outputs": [
    {
     "data": {
      "text/plain": [
       "str"
      ]
     },
     "execution_count": 17,
     "metadata": {},
     "output_type": "execute_result"
    }
   ],
   "source": [
    "type(z)"
   ]
  },
  {
   "cell_type": "code",
   "execution_count": 18,
   "id": "cc5afd30",
   "metadata": {},
   "outputs": [
    {
     "data": {
      "text/plain": [
       "'!48!!48!!48!!48!!48!!48!!48!!48!'"
      ]
     },
     "execution_count": 18,
     "metadata": {},
     "output_type": "execute_result"
    }
   ],
   "source": [
    "z*8"
   ]
  },
  {
   "cell_type": "markdown",
   "id": "53437cb0",
   "metadata": {},
   "source": [
    "# studing Operators "
   ]
  },
  {
   "cell_type": "code",
   "execution_count": 20,
   "id": "10e06827",
   "metadata": {},
   "outputs": [],
   "source": [
    "a = 10"
   ]
  },
  {
   "cell_type": "code",
   "execution_count": 21,
   "id": "d5d265b9",
   "metadata": {},
   "outputs": [],
   "source": [
    "b = 20"
   ]
  },
  {
   "cell_type": "code",
   "execution_count": 22,
   "id": "549be495",
   "metadata": {},
   "outputs": [
    {
     "data": {
      "text/plain": [
       "30"
      ]
     },
     "execution_count": 22,
     "metadata": {},
     "output_type": "execute_result"
    }
   ],
   "source": [
    "a+b"
   ]
  },
  {
   "cell_type": "code",
   "execution_count": 23,
   "id": "2fcdc6c0",
   "metadata": {},
   "outputs": [
    {
     "data": {
      "text/plain": [
       "10"
      ]
     },
     "execution_count": 23,
     "metadata": {},
     "output_type": "execute_result"
    }
   ],
   "source": [
    "b-a"
   ]
  },
  {
   "cell_type": "code",
   "execution_count": 24,
   "id": "544b3af1",
   "metadata": {},
   "outputs": [
    {
     "data": {
      "text/plain": [
       "2.0"
      ]
     },
     "execution_count": 24,
     "metadata": {},
     "output_type": "execute_result"
    }
   ],
   "source": [
    "b/a"
   ]
  },
  {
   "cell_type": "code",
   "execution_count": 33,
   "id": "50897419",
   "metadata": {},
   "outputs": [
    {
     "data": {
      "text/plain": [
       "0"
      ]
     },
     "execution_count": 33,
     "metadata": {},
     "output_type": "execute_result"
    }
   ],
   "source": [
    "a//b # this is floor division\n",
    "# this operator give only the integer value"
   ]
  },
  {
   "cell_type": "code",
   "execution_count": 26,
   "id": "6e31d454",
   "metadata": {},
   "outputs": [
    {
     "data": {
      "text/plain": [
       "10"
      ]
     },
     "execution_count": 26,
     "metadata": {},
     "output_type": "execute_result"
    }
   ],
   "source": [
    "a%b  # % is modulous which give remainder of the data"
   ]
  },
  {
   "cell_type": "code",
   "execution_count": 27,
   "id": "8190ad91",
   "metadata": {},
   "outputs": [
    {
     "data": {
      "text/plain": [
       "0"
      ]
     },
     "execution_count": 27,
     "metadata": {},
     "output_type": "execute_result"
    }
   ],
   "source": [
    "b%a"
   ]
  },
  {
   "cell_type": "code",
   "execution_count": 35,
   "id": "49d10095",
   "metadata": {},
   "outputs": [],
   "source": [
    "u =23"
   ]
  },
  {
   "cell_type": "code",
   "execution_count": 36,
   "id": "82174b17",
   "metadata": {},
   "outputs": [],
   "source": [
    "v = 23"
   ]
  },
  {
   "cell_type": "code",
   "execution_count": 37,
   "id": "ba0d6f94",
   "metadata": {},
   "outputs": [
    {
     "data": {
      "text/plain": [
       "True"
      ]
     },
     "execution_count": 37,
     "metadata": {},
     "output_type": "execute_result"
    }
   ],
   "source": [
    "u==v # this is called equality operator"
   ]
  },
  {
   "cell_type": "code",
   "execution_count": 40,
   "id": "9215285c",
   "metadata": {},
   "outputs": [
    {
     "data": {
      "text/plain": [
       "True"
      ]
     },
     "execution_count": 40,
     "metadata": {},
     "output_type": "execute_result"
    }
   ],
   "source": [
    "u is v # this is called identity operators"
   ]
  },
  {
   "cell_type": "code",
   "execution_count": 32,
   "id": "74b7d8d9",
   "metadata": {},
   "outputs": [
    {
     "data": {
      "text/plain": [
       "140735680386536"
      ]
     },
     "execution_count": 32,
     "metadata": {},
     "output_type": "execute_result"
    }
   ],
   "source": [
    "id(u) # this is tells us Address of memory object"
   ]
  },
  {
   "cell_type": "code",
   "execution_count": 41,
   "id": "9aefeb1e",
   "metadata": {},
   "outputs": [
    {
     "data": {
      "text/plain": [
       "140726187169256"
      ]
     },
     "execution_count": 41,
     "metadata": {},
     "output_type": "execute_result"
    }
   ],
   "source": [
    "id(v)"
   ]
  },
  {
   "cell_type": "code",
   "execution_count": 42,
   "id": "dbf6bd2b",
   "metadata": {},
   "outputs": [
    {
     "data": {
      "text/plain": [
       "True"
      ]
     },
     "execution_count": 42,
     "metadata": {},
     "output_type": "execute_result"
    }
   ],
   "source": [
    "  u is v"
   ]
  },
  {
   "cell_type": "code",
   "execution_count": 61,
   "id": "e4716696",
   "metadata": {},
   "outputs": [
    {
     "data": {
      "text/plain": [
       "False"
      ]
     },
     "execution_count": 61,
     "metadata": {},
     "output_type": "execute_result"
    }
   ],
   "source": [
    "p = 3.3\n",
    "q = \"s\"\n",
    "p is q"
   ]
  },
  {
   "cell_type": "code",
   "execution_count": 60,
   "id": "72a8a921",
   "metadata": {},
   "outputs": [],
   "source": [
    "m=[3,4,5] "
   ]
  },
  {
   "cell_type": "code",
   "execution_count": 65,
   "id": "9b9be12a",
   "metadata": {},
   "outputs": [],
   "source": [
    "n=[3,4,5]"
   ]
  },
  {
   "cell_type": "code",
   "execution_count": 46,
   "id": "04bdc4ab",
   "metadata": {},
   "outputs": [
    {
     "data": {
      "text/plain": [
       "True"
      ]
     },
     "execution_count": 46,
     "metadata": {},
     "output_type": "execute_result"
    }
   ],
   "source": [
    "m==n"
   ]
  },
  {
   "cell_type": "code",
   "execution_count": 47,
   "id": "9e322342",
   "metadata": {},
   "outputs": [
    {
     "data": {
      "text/plain": [
       "False"
      ]
     },
     "execution_count": 47,
     "metadata": {},
     "output_type": "execute_result"
    }
   ],
   "source": [
    "m is n  #  is  is a memory location which have different id's"
   ]
  },
  {
   "cell_type": "code",
   "execution_count": 48,
   "id": "14b8ca89",
   "metadata": {},
   "outputs": [
    {
     "data": {
      "text/plain": [
       "1902878608448"
      ]
     },
     "execution_count": 48,
     "metadata": {},
     "output_type": "execute_result"
    }
   ],
   "source": [
    "id(m)"
   ]
  },
  {
   "cell_type": "code",
   "execution_count": 63,
   "id": "8d5b84ca",
   "metadata": {},
   "outputs": [
    {
     "data": {
      "text/plain": [
       "'C:\\\\Users\\\\Lenovo\\\\Documents\\\\mr Tang\\\\MR TANG\\\\basic python\\\\Lecture 1'"
      ]
     },
     "execution_count": 63,
     "metadata": {},
     "output_type": "execute_result"
    }
   ],
   "source": [
    "pwd # present working directory"
   ]
  },
  {
   "cell_type": "code",
   "execution_count": 66,
   "id": "8fa6fcc5",
   "metadata": {},
   "outputs": [
    {
     "data": {
      "text/plain": [
       "2446828800192"
      ]
     },
     "execution_count": 66,
     "metadata": {},
     "output_type": "execute_result"
    }
   ],
   "source": [
    "id(n)"
   ]
  },
  {
   "cell_type": "code",
   "execution_count": 50,
   "id": "bcf268d0",
   "metadata": {},
   "outputs": [
    {
     "data": {
      "text/plain": [
       "False"
      ]
     },
     "execution_count": 50,
     "metadata": {},
     "output_type": "execute_result"
    }
   ],
   "source": [
    "u!=v  # this is the not is equal operator"
   ]
  },
  {
   "cell_type": "markdown",
   "id": "61b124df",
   "metadata": {},
   "source": [
    "# Question no. 4"
   ]
  },
  {
   "cell_type": "code",
   "execution_count": 51,
   "id": "c59bbb2f",
   "metadata": {},
   "outputs": [
    {
     "name": "stdout",
     "output_type": "stream",
     "text": [
      "Enter the number:78\n"
     ]
    }
   ],
   "source": [
    "x= int(input(\"Enter the number:\"))"
   ]
  },
  {
   "cell_type": "code",
   "execution_count": 52,
   "id": "ca49844a",
   "metadata": {},
   "outputs": [
    {
     "data": {
      "text/plain": [
       "641430065371791"
      ]
     },
     "execution_count": 52,
     "metadata": {},
     "output_type": "execute_result"
    }
   ],
   "source": [
    "int(3**35/x)  # ** is the power operator"
   ]
  },
  {
   "cell_type": "code",
   "execution_count": 53,
   "id": "2bc8b1ea",
   "metadata": {},
   "outputs": [
    {
     "name": "stdout",
     "output_type": "stream",
     "text": [
      "Enter the number:0026\n"
     ]
    }
   ],
   "source": [
    "x2 = int(input(\"Enter the number:\"))"
   ]
  },
  {
   "cell_type": "code",
   "execution_count": 54,
   "id": "8bc3d67e",
   "metadata": {},
   "outputs": [
    {
     "data": {
      "text/plain": [
       "1924290196115373"
      ]
     },
     "execution_count": 54,
     "metadata": {},
     "output_type": "execute_result"
    }
   ],
   "source": [
    "int(3**35/x2)"
   ]
  },
  {
   "cell_type": "markdown",
   "id": "581df00a",
   "metadata": {},
   "source": [
    "now  "
   ]
  },
  {
   "cell_type": "markdown",
   "id": "8db5f012",
   "metadata": {},
   "source": []
  },
  {
   "cell_type": "code",
   "execution_count": 55,
   "id": "5c1454a8",
   "metadata": {},
   "outputs": [],
   "source": [
    "t= 4"
   ]
  },
  {
   "cell_type": "code",
   "execution_count": 56,
   "id": "6b9fca79",
   "metadata": {},
   "outputs": [],
   "source": [
    "k=6"
   ]
  },
  {
   "cell_type": "code",
   "execution_count": 57,
   "id": "775a4216",
   "metadata": {},
   "outputs": [
    {
     "data": {
      "text/plain": [
       "False"
      ]
     },
     "execution_count": 57,
     "metadata": {},
     "output_type": "execute_result"
    }
   ],
   "source": [
    "k<t"
   ]
  },
  {
   "cell_type": "code",
   "execution_count": 58,
   "id": "f114c1a9",
   "metadata": {},
   "outputs": [
    {
     "data": {
      "text/plain": [
       "True"
      ]
     },
     "execution_count": 58,
     "metadata": {},
     "output_type": "execute_result"
    }
   ],
   "source": [
    "k>t"
   ]
  },
  {
   "cell_type": "markdown",
   "id": "73770bcd",
   "metadata": {},
   "source": [
    "# Bitwise Operators"
   ]
  },
  {
   "cell_type": "code",
   "execution_count": 67,
   "id": "c9000790",
   "metadata": {},
   "outputs": [],
   "source": [
    "a= 10"
   ]
  },
  {
   "cell_type": "code",
   "execution_count": 68,
   "id": "b9bbc15f",
   "metadata": {},
   "outputs": [],
   "source": [
    "b=4"
   ]
  },
  {
   "cell_type": "code",
   "execution_count": 83,
   "id": "eb8190eb",
   "metadata": {},
   "outputs": [
    {
     "data": {
      "text/plain": [
       "'0b1010'"
      ]
     },
     "execution_count": 83,
     "metadata": {},
     "output_type": "execute_result"
    }
   ],
   "source": [
    "bin(a)"
   ]
  },
  {
   "cell_type": "code",
   "execution_count": 84,
   "id": "308ee5f4",
   "metadata": {},
   "outputs": [
    {
     "data": {
      "text/plain": [
       "'0b100'"
      ]
     },
     "execution_count": 84,
     "metadata": {},
     "output_type": "execute_result"
    }
   ],
   "source": [
    "bin(b)"
   ]
  },
  {
   "cell_type": "code",
   "execution_count": 63,
   "id": "a85a1d1b",
   "metadata": {},
   "outputs": [
    {
     "data": {
      "text/plain": [
       "0"
      ]
     },
     "execution_count": 63,
     "metadata": {},
     "output_type": "execute_result"
    }
   ],
   "source": [
    "a&b  # this is called and operator in bit form "
   ]
  },
  {
   "cell_type": "code",
   "execution_count": 64,
   "id": "b1767009",
   "metadata": {},
   "outputs": [
    {
     "data": {
      "text/plain": [
       "14"
      ]
     },
     "execution_count": 64,
     "metadata": {},
     "output_type": "execute_result"
    }
   ],
   "source": [
    "a|b  # Or operator in form by truth table "
   ]
  },
  {
   "cell_type": "code",
   "execution_count": 65,
   "id": "1920dd74",
   "metadata": {},
   "outputs": [
    {
     "data": {
      "text/plain": [
       "6"
      ]
     },
     "execution_count": 65,
     "metadata": {},
     "output_type": "execute_result"
    }
   ],
   "source": [
    "a - b   # not  operators "
   ]
  },
  {
   "cell_type": "code",
   "execution_count": 66,
   "id": "0eaa7111",
   "metadata": {},
   "outputs": [
    {
     "data": {
      "text/plain": [
       "-10"
      ]
     },
     "execution_count": 66,
     "metadata": {},
     "output_type": "execute_result"
    }
   ],
   "source": [
    "-a  # negation operators"
   ]
  },
  {
   "cell_type": "code",
   "execution_count": 67,
   "id": "c0d067ba",
   "metadata": {},
   "outputs": [
    {
     "data": {
      "text/plain": [
       "14"
      ]
     },
     "execution_count": 67,
     "metadata": {},
     "output_type": "execute_result"
    }
   ],
   "source": [
    "a^b  # XOR OPERATORS"
   ]
  },
  {
   "cell_type": "code",
   "execution_count": 68,
   "id": "6334fca2",
   "metadata": {},
   "outputs": [],
   "source": [
    "a=10 "
   ]
  },
  {
   "cell_type": "code",
   "execution_count": 69,
   "id": "42cad740",
   "metadata": {},
   "outputs": [
    {
     "data": {
      "text/plain": [
       "5"
      ]
     },
     "execution_count": 69,
     "metadata": {},
     "output_type": "execute_result"
    }
   ],
   "source": [
    "a>>1"
   ]
  },
  {
   "cell_type": "code",
   "execution_count": 70,
   "id": "1a97b42a",
   "metadata": {},
   "outputs": [
    {
     "data": {
      "text/plain": [
       "20"
      ]
     },
     "execution_count": 70,
     "metadata": {},
     "output_type": "execute_result"
    }
   ],
   "source": [
    "a<<1"
   ]
  },
  {
   "cell_type": "code",
   "execution_count": 71,
   "id": "34ec3de5",
   "metadata": {},
   "outputs": [
    {
     "data": {
      "text/plain": [
       "-11"
      ]
     },
     "execution_count": 71,
     "metadata": {},
     "output_type": "execute_result"
    }
   ],
   "source": [
    "~a"
   ]
  },
  {
   "cell_type": "code",
   "execution_count": 72,
   "id": "6ac807c1",
   "metadata": {},
   "outputs": [],
   "source": [
    "p=~a"
   ]
  },
  {
   "cell_type": "code",
   "execution_count": 73,
   "id": "ae6c1b36",
   "metadata": {},
   "outputs": [
    {
     "data": {
      "text/plain": [
       "-11"
      ]
     },
     "execution_count": 73,
     "metadata": {},
     "output_type": "execute_result"
    }
   ],
   "source": [
    "p"
   ]
  },
  {
   "cell_type": "code",
   "execution_count": 74,
   "id": "811268dc",
   "metadata": {},
   "outputs": [
    {
     "data": {
      "text/plain": [
       "'-0b1011'"
      ]
     },
     "execution_count": 74,
     "metadata": {},
     "output_type": "execute_result"
    }
   ],
   "source": [
    "bin(p)"
   ]
  },
  {
   "cell_type": "code",
   "execution_count": 75,
   "id": "d957c93b",
   "metadata": {},
   "outputs": [],
   "source": [
    "l=~p"
   ]
  },
  {
   "cell_type": "code",
   "execution_count": 76,
   "id": "12bfe863",
   "metadata": {},
   "outputs": [
    {
     "data": {
      "text/plain": [
       "10"
      ]
     },
     "execution_count": 76,
     "metadata": {},
     "output_type": "execute_result"
    }
   ],
   "source": [
    "l"
   ]
  },
  {
   "cell_type": "code",
   "execution_count": 77,
   "id": "9fbceabe",
   "metadata": {},
   "outputs": [
    {
     "data": {
      "text/plain": [
       "'0b1010'"
      ]
     },
     "execution_count": 77,
     "metadata": {},
     "output_type": "execute_result"
    }
   ],
   "source": [
    "bin(l)"
   ]
  },
  {
   "cell_type": "code",
   "execution_count": null,
   "id": "f58b7a20",
   "metadata": {},
   "outputs": [],
   "source": []
  },
  {
   "cell_type": "code",
   "execution_count": null,
   "id": "0d123a87",
   "metadata": {},
   "outputs": [],
   "source": []
  },
  {
   "cell_type": "code",
   "execution_count": null,
   "id": "86c2e92c",
   "metadata": {},
   "outputs": [],
   "source": []
  }
 ],
 "metadata": {
  "kernelspec": {
   "display_name": "Python 3 (ipykernel)",
   "language": "python",
   "name": "python3"
  },
  "language_info": {
   "codemirror_mode": {
    "name": "ipython",
    "version": 3
   },
   "file_extension": ".py",
   "mimetype": "text/x-python",
   "name": "python",
   "nbconvert_exporter": "python",
   "pygments_lexer": "ipython3",
   "version": "3.11.5"
  }
 },
 "nbformat": 4,
 "nbformat_minor": 5
}
