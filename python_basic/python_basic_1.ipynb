{
 "cells": [
  {
   "cell_type": "code",
   "execution_count": 3,
   "id": "cf3c70fe",
   "metadata": {},
   "outputs": [
    {
     "data": {
      "text/plain": [
       "57"
      ]
     },
     "execution_count": 3,
     "metadata": {},
     "output_type": "execute_result"
    }
   ],
   "source": [
    "a= 57\n",
    "a "
   ]
  },
  {
   "cell_type": "code",
   "execution_count": 4,
   "id": "252e9701",
   "metadata": {},
   "outputs": [
    {
     "data": {
      "text/plain": [
       "6"
      ]
     },
     "execution_count": 4,
     "metadata": {},
     "output_type": "execute_result"
    }
   ],
   "source": [
    "3+3"
   ]
  },
  {
   "cell_type": "code",
   "execution_count": 5,
   "id": "e4105de5",
   "metadata": {},
   "outputs": [
    {
     "name": "stdout",
     "output_type": "stream",
     "text": [
      "<class 'int'>\n"
     ]
    }
   ],
   "source": [
    "print(type(a))"
   ]
  },
  {
   "cell_type": "code",
   "execution_count": 4,
   "id": "7212b66d",
   "metadata": {},
   "outputs": [
    {
     "data": {
      "text/plain": [
       "int"
      ]
     },
     "execution_count": 4,
     "metadata": {},
     "output_type": "execute_result"
    }
   ],
   "source": [
    "type(a)"
   ]
  },
  {
   "cell_type": "code",
   "execution_count": 5,
   "id": "dc98a830",
   "metadata": {},
   "outputs": [
    {
     "data": {
      "text/plain": [
       "str"
      ]
     },
     "execution_count": 5,
     "metadata": {},
     "output_type": "execute_result"
    }
   ],
   "source": [
    "u = \"pw skills\"\n",
    "u\n",
    "type(u)"
   ]
  },
  {
   "cell_type": "code",
   "execution_count": 6,
   "id": "6eb305e0",
   "metadata": {},
   "outputs": [
    {
     "data": {
      "text/plain": [
       "str"
      ]
     },
     "execution_count": 6,
     "metadata": {},
     "output_type": "execute_result"
    }
   ],
   "source": [
    "m= 'Aryan'\n",
    "type(m)"
   ]
  },
  {
   "cell_type": "code",
   "execution_count": 7,
   "id": "e57f5a44",
   "metadata": {},
   "outputs": [
    {
     "name": "stdout",
     "output_type": "stream",
     "text": [
      "<class 'float'>\n"
     ]
    },
    {
     "data": {
      "text/plain": [
       "float"
      ]
     },
     "execution_count": 7,
     "metadata": {},
     "output_type": "execute_result"
    }
   ],
   "source": [
    "st = 83850.348\n",
    "print(type(st))\n",
    "type(st)"
   ]
  },
  {
   "cell_type": "code",
   "execution_count": 8,
   "id": "548e9a02",
   "metadata": {},
   "outputs": [
    {
     "name": "stdout",
     "output_type": "stream",
     "text": [
      "<class 'complex'>\n"
     ]
    }
   ],
   "source": [
    "c = 39j   # complex number is the combination of real number and imaginary number\n",
    "\n",
    "print(type(c))"
   ]
  },
  {
   "cell_type": "code",
   "execution_count": 9,
   "id": "81c4375a",
   "metadata": {},
   "outputs": [
    {
     "data": {
      "text/plain": [
       "complex"
      ]
     },
     "execution_count": 9,
     "metadata": {},
     "output_type": "execute_result"
    }
   ],
   "source": [
    "st6 = 3+48j\n",
    "type(st6)"
   ]
  },
  {
   "cell_type": "code",
   "execution_count": 10,
   "id": "55e56152",
   "metadata": {},
   "outputs": [
    {
     "data": {
      "text/plain": [
       "0.0"
      ]
     },
     "execution_count": 10,
     "metadata": {},
     "output_type": "execute_result"
    }
   ],
   "source": [
    "c.real\n"
   ]
  },
  {
   "cell_type": "code",
   "execution_count": 11,
   "id": "11679b67",
   "metadata": {},
   "outputs": [
    {
     "data": {
      "text/plain": [
       "3.0"
      ]
     },
     "execution_count": 11,
     "metadata": {},
     "output_type": "execute_result"
    }
   ],
   "source": [
    "st6.real"
   ]
  },
  {
   "cell_type": "code",
   "execution_count": 12,
   "id": "c8ea6f08",
   "metadata": {},
   "outputs": [
    {
     "data": {
      "text/plain": [
       "39.0"
      ]
     },
     "execution_count": 12,
     "metadata": {},
     "output_type": "execute_result"
    }
   ],
   "source": [
    "c.imag\n"
   ]
  },
  {
   "cell_type": "code",
   "execution_count": 13,
   "id": "55c0dcda",
   "metadata": {},
   "outputs": [
    {
     "data": {
      "text/plain": [
       "48.0"
      ]
     },
     "execution_count": 13,
     "metadata": {},
     "output_type": "execute_result"
    }
   ],
   "source": [
    "st6.imag"
   ]
  },
  {
   "cell_type": "code",
   "execution_count": 14,
   "id": "a2cc4d70",
   "metadata": {},
   "outputs": [
    {
     "data": {
      "text/plain": [
       "False"
      ]
     },
     "execution_count": 14,
     "metadata": {},
     "output_type": "execute_result"
    }
   ],
   "source": [
    "b = False\n",
    "b"
   ]
  },
  {
   "cell_type": "code",
   "execution_count": 15,
   "id": "196f4b1f",
   "metadata": {},
   "outputs": [
    {
     "name": "stdout",
     "output_type": "stream",
     "text": [
      "<class 'bool'>\n"
     ]
    }
   ],
   "source": [
    "print(type(b))"
   ]
  },
  {
   "cell_type": "code",
   "execution_count": 16,
   "id": "ea361ec8",
   "metadata": {},
   "outputs": [
    {
     "data": {
      "text/plain": [
       "True"
      ]
     },
     "execution_count": 16,
     "metadata": {},
     "output_type": "execute_result"
    }
   ],
   "source": [
    "\n",
    "b3 = True\n",
    "b3"
   ]
  },
  {
   "cell_type": "code",
   "execution_count": 17,
   "id": "4a39cb86",
   "metadata": {},
   "outputs": [],
   "source": [
    "m = 34\n",
    "n = 3\n",
    "\n"
   ]
  },
  {
   "cell_type": "code",
   "execution_count": 18,
   "id": "8432fbf6",
   "metadata": {},
   "outputs": [
    {
     "data": {
      "text/plain": [
       "37"
      ]
     },
     "execution_count": 18,
     "metadata": {},
     "output_type": "execute_result"
    }
   ],
   "source": [
    "m + n"
   ]
  },
  {
   "cell_type": "code",
   "execution_count": 19,
   "id": "8350e224",
   "metadata": {},
   "outputs": [
    {
     "data": {
      "text/plain": [
       "102"
      ]
     },
     "execution_count": 19,
     "metadata": {},
     "output_type": "execute_result"
    }
   ],
   "source": [
    "m*n"
   ]
  },
  {
   "cell_type": "code",
   "execution_count": 20,
   "id": "d122be09",
   "metadata": {},
   "outputs": [
    {
     "data": {
      "text/plain": [
       "11.333333333333334"
      ]
     },
     "execution_count": 20,
     "metadata": {},
     "output_type": "execute_result"
    }
   ],
   "source": [
    "m/n"
   ]
  },
  {
   "cell_type": "code",
   "execution_count": 21,
   "id": "390e7a0a",
   "metadata": {},
   "outputs": [
    {
     "data": {
      "text/plain": [
       "39304"
      ]
     },
     "execution_count": 21,
     "metadata": {},
     "output_type": "execute_result"
    }
   ],
   "source": [
    "m**n"
   ]
  },
  {
   "cell_type": "code",
   "execution_count": 22,
   "id": "11367262",
   "metadata": {},
   "outputs": [
    {
     "data": {
      "text/plain": [
       "11"
      ]
     },
     "execution_count": 22,
     "metadata": {},
     "output_type": "execute_result"
    }
   ],
   "source": [
    "m//n"
   ]
  },
  {
   "cell_type": "code",
   "execution_count": 23,
   "id": "7d133191",
   "metadata": {},
   "outputs": [
    {
     "data": {
      "text/plain": [
       "31"
      ]
     },
     "execution_count": 23,
     "metadata": {},
     "output_type": "execute_result"
    }
   ],
   "source": [
    "m-n"
   ]
  },
  {
   "cell_type": "code",
   "execution_count": 34,
   "id": "42e73a5d",
   "metadata": {},
   "outputs": [],
   "source": [
    "prints,some,fical,aryan = 353,\"yadav\",43j,True"
   ]
  },
  {
   "cell_type": "code",
   "execution_count": 80,
   "id": "126b1c0b",
   "metadata": {},
   "outputs": [
    {
     "data": {
      "text/plain": [
       "'yadav'"
      ]
     },
     "execution_count": 80,
     "metadata": {},
     "output_type": "execute_result"
    }
   ],
   "source": [
    "some"
   ]
  },
  {
   "cell_type": "code",
   "execution_count": 26,
   "id": "cc367031",
   "metadata": {},
   "outputs": [
    {
     "data": {
      "text/plain": [
       "353"
      ]
     },
     "execution_count": 26,
     "metadata": {},
     "output_type": "execute_result"
    }
   ],
   "source": [
    "prints"
   ]
  },
  {
   "cell_type": "code",
   "execution_count": 27,
   "id": "05274d12",
   "metadata": {},
   "outputs": [
    {
     "data": {
      "text/plain": [
       "43j"
      ]
     },
     "execution_count": 27,
     "metadata": {},
     "output_type": "execute_result"
    }
   ],
   "source": [
    "fical"
   ]
  },
  {
   "cell_type": "code",
   "execution_count": 28,
   "id": "f8a86f45",
   "metadata": {},
   "outputs": [
    {
     "data": {
      "text/plain": [
       "True"
      ]
     },
     "execution_count": 28,
     "metadata": {},
     "output_type": "execute_result"
    }
   ],
   "source": [
    "aryan\n"
   ]
  },
  {
   "cell_type": "code",
   "execution_count": 29,
   "id": "9d41f72c",
   "metadata": {},
   "outputs": [],
   "source": [
    "# %t = 346 % is an special character "
   ]
  },
  {
   "cell_type": "code",
   "execution_count": 30,
   "id": "93d8b5af",
   "metadata": {},
   "outputs": [
    {
     "data": {
      "text/plain": [
       "387"
      ]
     },
     "execution_count": 30,
     "metadata": {},
     "output_type": "execute_result"
    }
   ],
   "source": [
    "_gar = 387\n",
    "_gar"
   ]
  },
  {
   "cell_type": "markdown",
   "id": "a94465e1",
   "metadata": {},
   "source": [
    "c1 = True\n",
    "c2 = False\n",
    "c1-c2"
   ]
  },
  {
   "cell_type": "code",
   "execution_count": 31,
   "id": "3014cf59",
   "metadata": {},
   "outputs": [],
   "source": [
    " c1 = True\n",
    " c2 = False"
   ]
  },
  {
   "cell_type": "code",
   "execution_count": 32,
   "id": "2a1f28fb",
   "metadata": {},
   "outputs": [
    {
     "data": {
      "text/plain": [
       "1"
      ]
     },
     "execution_count": 32,
     "metadata": {},
     "output_type": "execute_result"
    }
   ],
   "source": [
    "c1-c2"
   ]
  },
  {
   "cell_type": "code",
   "execution_count": 33,
   "id": "ab6e2c43",
   "metadata": {},
   "outputs": [
    {
     "data": {
      "text/plain": [
       "-1"
      ]
     },
     "execution_count": 33,
     "metadata": {},
     "output_type": "execute_result"
    }
   ],
   "source": [
    "c2-c1 # boolean exicute in computer as 0 and 1  system"
   ]
  },
  {
   "cell_type": "code",
   "execution_count": 34,
   "id": "a6329234",
   "metadata": {},
   "outputs": [
    {
     "data": {
      "text/plain": [
       "0.0"
      ]
     },
     "execution_count": 34,
     "metadata": {},
     "output_type": "execute_result"
    }
   ],
   "source": [
    " c2/c1"
   ]
  },
  {
   "cell_type": "code",
   "execution_count": 35,
   "id": "c50ba205",
   "metadata": {},
   "outputs": [
    {
     "data": {
      "text/plain": [
       "' I am aryan yadav '"
      ]
     },
     "execution_count": 35,
     "metadata": {},
     "output_type": "execute_result"
    }
   ],
   "source": [
    "s1 = ' I am aryan yadav '\n",
    "s1"
   ]
  },
  {
   "cell_type": "code",
   "execution_count": 36,
   "id": "4c341806",
   "metadata": {},
   "outputs": [
    {
     "name": "stdout",
     "output_type": "stream",
     "text": [
      " I am aryan yadav \n"
     ]
    }
   ],
   "source": [
    "print(s1)"
   ]
  },
  {
   "cell_type": "code",
   "execution_count": 37,
   "id": "d7d01f78",
   "metadata": {},
   "outputs": [
    {
     "data": {
      "text/plain": [
       "'  Aryan'"
      ]
     },
     "execution_count": 37,
     "metadata": {},
     "output_type": "execute_result"
    }
   ],
   "source": [
    "nb = \"\"\"  Aryan\"\"\"\n",
    "nb\n"
   ]
  },
  {
   "cell_type": "code",
   "execution_count": 38,
   "id": "4c5e7e33",
   "metadata": {},
   "outputs": [
    {
     "data": {
      "text/plain": [
       "str"
      ]
     },
     "execution_count": 38,
     "metadata": {},
     "output_type": "execute_result"
    }
   ],
   "source": [
    "type(nb)"
   ]
  },
  {
   "cell_type": "code",
   "execution_count": 39,
   "id": "62e7e8f2",
   "metadata": {
    "scrolled": true
   },
   "outputs": [
    {
     "data": {
      "text/plain": [
       "str"
      ]
     },
     "execution_count": 39,
     "metadata": {},
     "output_type": "execute_result"
    }
   ],
   "source": [
    "ar= '''Prince'''\n",
    "ar\n",
    "type(ar)"
   ]
  },
  {
   "cell_type": "code",
   "execution_count": 40,
   "id": "6bbe542e",
   "metadata": {},
   "outputs": [
    {
     "data": {
      "text/plain": [
       "'Riya \\n yadav'"
      ]
     },
     "execution_count": 40,
     "metadata": {},
     "output_type": "execute_result"
    }
   ],
   "source": [
    "ng = \"Riya \\n yadav\"\n",
    "ng"
   ]
  },
  {
   "cell_type": "code",
   "execution_count": 41,
   "id": "bf782465",
   "metadata": {},
   "outputs": [
    {
     "data": {
      "text/plain": [
       "'Riya \\n yadav'"
      ]
     },
     "execution_count": 41,
     "metadata": {},
     "output_type": "execute_result"
    }
   ],
   "source": [
    "ng"
   ]
  },
  {
   "cell_type": "code",
   "execution_count": 42,
   "id": "7b672b3f",
   "metadata": {},
   "outputs": [
    {
     "data": {
      "text/plain": [
       "'PrinceYadav'"
      ]
     },
     "execution_count": 42,
     "metadata": {},
     "output_type": "execute_result"
    }
   ],
   "source": [
    "'Prince'+ 'Yadav' # concationation operation  this is called as "
   ]
  },
  {
   "cell_type": "code",
   "execution_count": 43,
   "id": "f42b6472",
   "metadata": {},
   "outputs": [
    {
     "name": "stdout",
     "output_type": "stream",
     "text": [
      "23jatin\n"
     ]
    }
   ],
   "source": [
    "inputs = 23\n",
    "p = \"jatin\"\n",
    "print(str(inputs)+p) # typecasting"
   ]
  },
  {
   "cell_type": "code",
   "execution_count": 6,
   "id": "33050ef3",
   "metadata": {},
   "outputs": [
    {
     "data": {
      "text/plain": [
       "str"
      ]
     },
     "execution_count": 6,
     "metadata": {},
     "output_type": "execute_result"
    }
   ],
   "source": [
    "h = str(38)\n",
    "type(h)"
   ]
  },
  {
   "cell_type": "code",
   "execution_count": 7,
   "id": "1355bbf8",
   "metadata": {},
   "outputs": [
    {
     "data": {
      "text/plain": [
       "'57'"
      ]
     },
     "execution_count": 7,
     "metadata": {},
     "output_type": "execute_result"
    }
   ],
   "source": [
    "b = str(a)\n",
    "b"
   ]
  },
  {
   "cell_type": "code",
   "execution_count": 46,
   "id": "8b499959",
   "metadata": {},
   "outputs": [
    {
     "data": {
      "text/plain": [
       "57"
      ]
     },
     "execution_count": 46,
     "metadata": {},
     "output_type": "execute_result"
    }
   ],
   "source": [
    "int(b)"
   ]
  },
  {
   "cell_type": "code",
   "execution_count": 9,
   "id": "d0eb683d",
   "metadata": {},
   "outputs": [],
   "source": [
    "tpes= ''' how are you aryan yadav what are you doing\n",
    "             today == I awake 9:-8 am in the morning \n",
    "             then i will start coding'''"
   ]
  },
  {
   "cell_type": "code",
   "execution_count": 11,
   "id": "1602a19b",
   "metadata": {},
   "outputs": [
    {
     "data": {
      "text/plain": [
       "' how are you aryan yadav what are you doing\\n             today == I awake 9:-8 am in the morning \\n             then i will start coding'"
      ]
     },
     "execution_count": 11,
     "metadata": {},
     "output_type": "execute_result"
    }
   ],
   "source": [
    "tpes"
   ]
  },
  {
   "cell_type": "code",
   "execution_count": 48,
   "id": "e09e262c",
   "metadata": {},
   "outputs": [
    {
     "name": "stdout",
     "output_type": "stream",
     "text": [
      " how are you aryan yadav what are you doing\n",
      "             today == I awake 9:-8 am in the morning \n",
      "             then i will start coding\n"
     ]
    }
   ],
   "source": [
    "print(tpes)"
   ]
  },
  {
   "cell_type": "code",
   "execution_count": 19,
   "id": "fa788631",
   "metadata": {},
   "outputs": [
    {
     "name": "stdout",
     "output_type": "stream",
     "text": [
      "4\n"
     ]
    }
   ],
   "source": [
    "user = int(input())"
   ]
  },
  {
   "cell_type": "code",
   "execution_count": 20,
   "id": "2272614e",
   "metadata": {},
   "outputs": [
    {
     "data": {
      "text/plain": [
       "4"
      ]
     },
     "execution_count": 20,
     "metadata": {},
     "output_type": "execute_result"
    }
   ],
   "source": [
    "user\n"
   ]
  },
  {
   "cell_type": "markdown",
   "id": "f20e77b6",
   "metadata": {},
   "source": [
    " type(user)"
   ]
  },
  {
   "cell_type": "code",
   "execution_count": 21,
   "id": "e7c0c087",
   "metadata": {},
   "outputs": [
    {
     "data": {
      "text/plain": [
       "int"
      ]
     },
     "execution_count": 21,
     "metadata": {},
     "output_type": "execute_result"
    }
   ],
   "source": [
    " type(user)"
   ]
  },
  {
   "cell_type": "code",
   "execution_count": 22,
   "id": "05cb7518",
   "metadata": {},
   "outputs": [],
   "source": [
    "s = 'prince'"
   ]
  },
  {
   "cell_type": "code",
   "execution_count": 23,
   "id": "082d5bef",
   "metadata": {},
   "outputs": [
    {
     "data": {
      "text/plain": [
       "'r'"
      ]
     },
     "execution_count": 23,
     "metadata": {},
     "output_type": "execute_result"
    }
   ],
   "source": [
    "s[1]  # forward indexing"
   ]
  },
  {
   "cell_type": "code",
   "execution_count": 54,
   "id": "2598d481",
   "metadata": {},
   "outputs": [
    {
     "data": {
      "text/plain": [
       "'n'"
      ]
     },
     "execution_count": 54,
     "metadata": {},
     "output_type": "execute_result"
    }
   ],
   "source": [
    "s[-3] # [-3] are in backword indexing"
   ]
  },
  {
   "cell_type": "code",
   "execution_count": 45,
   "id": "622e4270",
   "metadata": {},
   "outputs": [
    {
     "data": {
      "text/plain": [
       "'pn'"
      ]
     },
     "execution_count": 45,
     "metadata": {},
     "output_type": "execute_result"
    }
   ],
   "source": [
    "s[:-1:3]"
   ]
  },
  {
   "cell_type": "markdown",
   "id": "b15b19c2",
   "metadata": {},
   "source": [
    "# slicing  operation"
   ]
  },
  {
   "cell_type": "code",
   "execution_count": 46,
   "id": "45f90dfd",
   "metadata": {},
   "outputs": [
    {
     "data": {
      "text/plain": [
       "'pr'"
      ]
     },
     "execution_count": 46,
     "metadata": {},
     "output_type": "execute_result"
    }
   ],
   "source": [
    "s[0:2]    # 2 is the upper bound"
   ]
  },
  {
   "cell_type": "code",
   "execution_count": 47,
   "id": "909c9d45",
   "metadata": {},
   "outputs": [
    {
     "data": {
      "text/plain": [
       "'ince'"
      ]
     },
     "execution_count": 47,
     "metadata": {},
     "output_type": "execute_result"
    }
   ],
   "source": [
    "s[2:800]"
   ]
  },
  {
   "cell_type": "code",
   "execution_count": 48,
   "id": "f31b8c88",
   "metadata": {},
   "outputs": [
    {
     "data": {
      "text/plain": [
       "'rince'"
      ]
     },
     "execution_count": 48,
     "metadata": {},
     "output_type": "execute_result"
    }
   ],
   "source": [
    "s[1:]# 1 to infinity"
   ]
  },
  {
   "cell_type": "code",
   "execution_count": 49,
   "id": "4e0907ee",
   "metadata": {},
   "outputs": [
    {
     "data": {
      "text/plain": [
       "'pri'"
      ]
     },
     "execution_count": 49,
     "metadata": {},
     "output_type": "execute_result"
    }
   ],
   "source": [
    "s[:-3]"
   ]
  },
  {
   "cell_type": "code",
   "execution_count": 50,
   "id": "edda3886",
   "metadata": {},
   "outputs": [
    {
     "data": {
      "text/plain": [
       "'prin'"
      ]
     },
     "execution_count": 50,
     "metadata": {},
     "output_type": "execute_result"
    }
   ],
   "source": [
    "s[:-2]"
   ]
  },
  {
   "cell_type": "code",
   "execution_count": 51,
   "id": "90edb195",
   "metadata": {},
   "outputs": [
    {
     "data": {
      "text/plain": [
       "'rne'"
      ]
     },
     "execution_count": 51,
     "metadata": {},
     "output_type": "execute_result"
    }
   ],
   "source": [
    "s[1:7:2]  # it will jump on two difference "
   ]
  },
  {
   "cell_type": "code",
   "execution_count": 52,
   "id": "f992d765",
   "metadata": {},
   "outputs": [
    {
     "data": {
      "text/plain": [
       "'rc'"
      ]
     },
     "execution_count": 52,
     "metadata": {},
     "output_type": "execute_result"
    }
   ],
   "source": [
    "s[1:7:3] # it has jump on 3 difference"
   ]
  },
  {
   "cell_type": "code",
   "execution_count": 53,
   "id": "0afa8f96",
   "metadata": {},
   "outputs": [
    {
     "data": {
      "text/plain": [
       "'prin'"
      ]
     },
     "execution_count": 53,
     "metadata": {},
     "output_type": "execute_result"
    }
   ],
   "source": [
    "s[0:4:1] # it will jump on difference 1"
   ]
  },
  {
   "cell_type": "code",
   "execution_count": 54,
   "id": "ad735721",
   "metadata": {},
   "outputs": [
    {
     "data": {
      "text/plain": [
       "''"
      ]
     },
     "execution_count": 54,
     "metadata": {},
     "output_type": "execute_result"
    }
   ],
   "source": [
    "s[7:3]# it will called backword slicing   , we should not get data \n",
    "         # because we are jumping in the positive direction "
   ]
  },
  {
   "cell_type": "code",
   "execution_count": 55,
   "id": "52e4affc",
   "metadata": {},
   "outputs": [
    {
     "data": {
      "text/plain": [
       "'pri'"
      ]
     },
     "execution_count": 55,
     "metadata": {},
     "output_type": "execute_result"
    }
   ],
   "source": [
    "s[-7:3]"
   ]
  },
  {
   "cell_type": "markdown",
   "id": "a32e2872",
   "metadata": {},
   "source": [
    "for solving blank "
   ]
  },
  {
   "cell_type": "code",
   "execution_count": 63,
   "id": "8526a53a",
   "metadata": {},
   "outputs": [
    {
     "data": {
      "text/plain": [
       "'ec'"
      ]
     },
     "execution_count": 63,
     "metadata": {},
     "output_type": "execute_result"
    }
   ],
   "source": [
    "s[7:3:-1]"
   ]
  },
  {
   "cell_type": "code",
   "execution_count": 64,
   "id": "150158f8",
   "metadata": {},
   "outputs": [
    {
     "data": {
      "text/plain": [
       "'ecn'"
      ]
     },
     "execution_count": 64,
     "metadata": {},
     "output_type": "execute_result"
    }
   ],
   "source": [
    "s[-1:2:-1] # s= 'prince'"
   ]
  },
  {
   "cell_type": "code",
   "execution_count": 65,
   "id": "a76a5714",
   "metadata": {},
   "outputs": [
    {
     "data": {
      "text/plain": [
       "'ecnir'"
      ]
     },
     "execution_count": 65,
     "metadata": {},
     "output_type": "execute_result"
    }
   ],
   "source": [
    "s[5:0:-1]"
   ]
  },
  {
   "cell_type": "code",
   "execution_count": 56,
   "id": "93f28bd1",
   "metadata": {},
   "outputs": [
    {
     "data": {
      "text/plain": [
       "'cnir'"
      ]
     },
     "execution_count": 56,
     "metadata": {},
     "output_type": "execute_result"
    }
   ],
   "source": [
    "s[4:0:-1]     "
   ]
  },
  {
   "cell_type": "code",
   "execution_count": 84,
   "id": "bdf7b076",
   "metadata": {},
   "outputs": [
    {
     "data": {
      "text/plain": [
       "''"
      ]
     },
     "execution_count": 84,
     "metadata": {},
     "output_type": "execute_result"
    }
   ],
   "source": [
    "s[2:-5:-1]"
   ]
  },
  {
   "cell_type": "code",
   "execution_count": 86,
   "id": "a702e889",
   "metadata": {},
   "outputs": [
    {
     "data": {
      "text/plain": [
       "'ecnirp'"
      ]
     },
     "execution_count": 86,
     "metadata": {},
     "output_type": "execute_result"
    }
   ],
   "source": [
    "s[7::-1]"
   ]
  },
  {
   "cell_type": "code",
   "execution_count": 69,
   "id": "62b45357",
   "metadata": {},
   "outputs": [
    {
     "data": {
      "text/plain": [
       "'ecnirp'"
      ]
     },
     "execution_count": 69,
     "metadata": {},
     "output_type": "execute_result"
    }
   ],
   "source": [
    "s[::-1]"
   ]
  },
  {
   "cell_type": "code",
   "execution_count": 90,
   "id": "fdc5592b",
   "metadata": {},
   "outputs": [
    {
     "name": "stdout",
     "output_type": "stream",
     "text": [
      "\n",
      "<class 'str'>\n"
     ]
    }
   ],
   "source": [
    "ifff = \"\"\n",
    "print(ifff)\n",
    "print(type(ifff))"
   ]
  },
  {
   "cell_type": "code",
   "execution_count": 70,
   "id": "cd254c4c",
   "metadata": {},
   "outputs": [
    {
     "name": "stdout",
     "output_type": "stream",
     "text": [
      "45.363\n"
     ]
    }
   ],
   "source": [
    "t = bool(input())\n"
   ]
  },
  {
   "cell_type": "code",
   "execution_count": 71,
   "id": "c4ec4d0d",
   "metadata": {},
   "outputs": [
    {
     "data": {
      "text/plain": [
       "True"
      ]
     },
     "execution_count": 71,
     "metadata": {},
     "output_type": "execute_result"
    }
   ],
   "source": [
    "t"
   ]
  },
  {
   "cell_type": "code",
   "execution_count": 57,
   "id": "123062eb",
   "metadata": {},
   "outputs": [],
   "source": [
    "up = ' I will try that spring istead. on forward side 0'"
   ]
  },
  {
   "cell_type": "code",
   "execution_count": 58,
   "id": "78b80ee1",
   "metadata": {},
   "outputs": [
    {
     "data": {
      "text/plain": [
       "[' I will try that spring istead', ' on forward side 0']"
      ]
     },
     "execution_count": 58,
     "metadata": {},
     "output_type": "execute_result"
    }
   ],
   "source": [
    "up.split(\".\")"
   ]
  },
  {
   "cell_type": "code",
   "execution_count": 63,
   "id": "88a4c31e",
   "metadata": {},
   "outputs": [
    {
     "name": "stdout",
     "output_type": "stream",
     "text": [
      "['', 'I', 'will', 'try', 'that', 'spring', 'istead.', 'on', 'forward', 'side', '0'] "
     ]
    }
   ],
   "source": [
    "print(up.split(\" \"),end = ' ')"
   ]
  },
  {
   "cell_type": "code",
   "execution_count": 64,
   "id": "a283aaa0",
   "metadata": {},
   "outputs": [
    {
     "data": {
      "text/plain": [
       "[' I w', 'll try that spr', 'ng ', 'stead. on forward s', 'de 0']"
      ]
     },
     "execution_count": 64,
     "metadata": {},
     "output_type": "execute_result"
    }
   ],
   "source": [
    "up.split(\"i\") "
   ]
  },
  {
   "cell_type": "code",
   "execution_count": 65,
   "id": "678ac3cf",
   "metadata": {},
   "outputs": [
    {
     "data": {
      "text/plain": [
       "[' I will try th', 't spring iste', 'd. on forw', 'rd side 0']"
      ]
     },
     "execution_count": 65,
     "metadata": {},
     "output_type": "execute_result"
    }
   ],
   "source": [
    "up.split(\"a\")"
   ]
  },
  {
   "cell_type": "code",
   "execution_count": 15,
   "id": "996497a5",
   "metadata": {},
   "outputs": [],
   "source": [
    "a =  \"aryanyadav\""
   ]
  },
  {
   "cell_type": "code",
   "execution_count": 43,
   "id": "bce723ed",
   "metadata": {},
   "outputs": [
    {
     "data": {
      "text/plain": [
       "'adaynay'"
      ]
     },
     "execution_count": 43,
     "metadata": {},
     "output_type": "execute_result"
    }
   ],
   "source": [
    "a[8:1:-1]"
   ]
  },
  {
   "cell_type": "code",
   "execution_count": null,
   "id": "69b95bbb",
   "metadata": {},
   "outputs": [],
   "source": [
    " "
   ]
  },
  {
   "cell_type": "code",
   "execution_count": null,
   "id": "a604099f",
   "metadata": {},
   "outputs": [],
   "source": []
  },
  {
   "cell_type": "code",
   "execution_count": null,
   "id": "d53a5ce5",
   "metadata": {},
   "outputs": [],
   "source": []
  },
  {
   "cell_type": "code",
   "execution_count": null,
   "id": "39d2dedb",
   "metadata": {},
   "outputs": [],
   "source": []
  },
  {
   "cell_type": "code",
   "execution_count": null,
   "id": "c109c6a6",
   "metadata": {},
   "outputs": [],
   "source": []
  },
  {
   "cell_type": "code",
   "execution_count": null,
   "id": "b38fcafb",
   "metadata": {},
   "outputs": [],
   "source": []
  },
  {
   "cell_type": "code",
   "execution_count": null,
   "id": "189dd5a0",
   "metadata": {},
   "outputs": [],
   "source": []
  },
  {
   "cell_type": "code",
   "execution_count": null,
   "id": "baa71694",
   "metadata": {},
   "outputs": [],
   "source": []
  },
  {
   "cell_type": "code",
   "execution_count": null,
   "id": "0f79d8c8",
   "metadata": {},
   "outputs": [],
   "source": []
  },
  {
   "cell_type": "code",
   "execution_count": null,
   "id": "f70910f3",
   "metadata": {},
   "outputs": [],
   "source": []
  },
  {
   "cell_type": "code",
   "execution_count": null,
   "id": "1b666c5a",
   "metadata": {},
   "outputs": [],
   "source": []
  },
  {
   "cell_type": "code",
   "execution_count": null,
   "id": "0fa77cb9",
   "metadata": {},
   "outputs": [],
   "source": []
  },
  {
   "cell_type": "code",
   "execution_count": null,
   "id": "f7563845",
   "metadata": {},
   "outputs": [],
   "source": []
  },
  {
   "cell_type": "code",
   "execution_count": null,
   "id": "9ea3d61e",
   "metadata": {},
   "outputs": [],
   "source": []
  },
  {
   "cell_type": "code",
   "execution_count": null,
   "id": "be13a9cf",
   "metadata": {},
   "outputs": [],
   "source": []
  },
  {
   "cell_type": "code",
   "execution_count": null,
   "id": "d0af896d",
   "metadata": {},
   "outputs": [],
   "source": []
  },
  {
   "cell_type": "code",
   "execution_count": null,
   "id": "116934bc",
   "metadata": {},
   "outputs": [],
   "source": []
  },
  {
   "cell_type": "code",
   "execution_count": null,
   "id": "b9fcf0e9",
   "metadata": {},
   "outputs": [],
   "source": []
  },
  {
   "cell_type": "code",
   "execution_count": null,
   "id": "d863188e",
   "metadata": {},
   "outputs": [],
   "source": []
  },
  {
   "cell_type": "code",
   "execution_count": null,
   "id": "1bfdc888",
   "metadata": {},
   "outputs": [],
   "source": []
  }
 ],
 "metadata": {
  "kernelspec": {
   "display_name": "Python 3 (ipykernel)",
   "language": "python",
   "name": "python3"
  },
  "language_info": {
   "codemirror_mode": {
    "name": "ipython",
    "version": 3
   },
   "file_extension": ".py",
   "mimetype": "text/x-python",
   "name": "python",
   "nbconvert_exporter": "python",
   "pygments_lexer": "ipython3",
   "version": "3.11.5"
  }
 },
 "nbformat": 4,
 "nbformat_minor": 5
}
