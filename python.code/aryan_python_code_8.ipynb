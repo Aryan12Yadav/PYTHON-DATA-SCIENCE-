{
 "cells": [
  {
   "cell_type": "markdown",
   "id": "2e6ec7fa",
   "metadata": {},
   "source": [
    "# OOPs concept Part 2 "
   ]
  },
  {
   "cell_type": "markdown",
   "id": "b2899bf5",
   "metadata": {},
   "source": [
    "## Inheritance"
   ]
  },
  {
   "cell_type": "code",
   "execution_count": 1,
   "id": "65d79cbc",
   "metadata": {},
   "outputs": [],
   "source": [
    "class pwskills:\n",
    "\n",
    "    def __init__(self,mentor):\n",
    "        self.mentor= mentor\n",
    "    \n",
    "    def mentor_name(self):\n",
    "        print(self.mentor)\n",
    "        \n",
    "class datascience(pwskills):\n",
    "    def __init__(self,mentor,mentor_email_id):\n",
    "        self.mentor = mentor  # at this place we use the super ().__init__(mentor)\n",
    "        self.mentor_email_id = mentor_email_id       \n",
    "    def show_info(self):\n",
    "        print(self.mentor,self.mentor_email_id)"
   ]
  },
  {
   "cell_type": "code",
   "execution_count": 2,
   "id": "2433a9d3",
   "metadata": {},
   "outputs": [],
   "source": [
    "python_basic = datascience(\"sudh\",\"sdskdjksd@gmail.com\")"
   ]
  },
  {
   "cell_type": "code",
   "execution_count": 3,
   "id": "36376b77",
   "metadata": {},
   "outputs": [
    {
     "name": "stdout",
     "output_type": "stream",
     "text": [
      "sudh sdskdjksd@gmail.com\n"
     ]
    }
   ],
   "source": [
    "python_basic.show_info()\n",
    "    "
   ]
  },
  {
   "cell_type": "code",
   "execution_count": 4,
   "id": "644713b3",
   "metadata": {},
   "outputs": [
    {
     "name": "stdout",
     "output_type": "stream",
     "text": [
      "sudh\n"
     ]
    }
   ],
   "source": [
    " python_basic.mentor_name()"
   ]
  },
  {
   "cell_type": "code",
   "execution_count": 5,
   "id": "cd13553b",
   "metadata": {},
   "outputs": [],
   "source": [
    "class pwskills:\n",
    "\n",
    "    def __init__(self,mentor):\n",
    "        self.mentor= mentor\n",
    "    \n",
    "    def mentor_name(self):\n",
    "        print(self.mentor)\n",
    "        \n",
    "class datascience(pwskills):\n",
    "    def __init__(self,mentor,mentor_email_id):\n",
    "#         self.mentor = mentor  # at this place we use the super ().__init__(mentor\n",
    "        super().__init__(mentor)\n",
    "        self.mentor_email_id = mentor_email_id       \n",
    "    def show_info(self):\n",
    "        super().mentor_name\n",
    "        print(self.mentor,self.mentor_email_id)"
   ]
  },
  {
   "cell_type": "code",
   "execution_count": 6,
   "id": "305c1ca8",
   "metadata": {},
   "outputs": [],
   "source": [
    "python_basic = datascience(\"aryan\",\"yadav@gmail.com\")"
   ]
  },
  {
   "cell_type": "code",
   "execution_count": 7,
   "id": "e7393794",
   "metadata": {},
   "outputs": [
    {
     "name": "stdout",
     "output_type": "stream",
     "text": [
      "aryan yadav@gmail.com\n"
     ]
    }
   ],
   "source": [
    "python_basic.show_info()"
   ]
  },
  {
   "cell_type": "code",
   "execution_count": 8,
   "id": "8efe0e29",
   "metadata": {},
   "outputs": [
    {
     "name": "stdout",
     "output_type": "stream",
     "text": [
      "aryan\n"
     ]
    }
   ],
   "source": [
    "python_basic.mentor_name()"
   ]
  },
  {
   "cell_type": "code",
   "execution_count": 9,
   "id": "bfb941fa",
   "metadata": {},
   "outputs": [
    {
     "data": {
      "text/plain": [
       "'yadav@gmail.com'"
      ]
     },
     "execution_count": 9,
     "metadata": {},
     "output_type": "execute_result"
    }
   ],
   "source": [
    "python_basic.mentor_email_id"
   ]
  },
  {
   "cell_type": "code",
   "execution_count": 10,
   "id": "08342262",
   "metadata": {},
   "outputs": [],
   "source": [
    "class human:\n",
    "    def __init__(self):\n",
    "        pass\n",
    "    def eat(self):\n",
    "        print(\"print the eat method from human \\n\\n\")"
   ]
  },
  {
   "cell_type": "code",
   "execution_count": 11,
   "id": "c6d1166f",
   "metadata": {},
   "outputs": [],
   "source": [
    "class male(human):\n",
    "    def __init__(self,name):\n",
    "        self.name = name \n",
    "    def eat(self):\n",
    "        super().eat() # this call the data from the parent class\n",
    "        print(self.name)\n",
    "        \n",
    "        "
   ]
  },
  {
   "cell_type": "code",
   "execution_count": 12,
   "id": "261790e5",
   "metadata": {},
   "outputs": [],
   "source": [
    "obj_m = male(\"2.school\")"
   ]
  },
  {
   "cell_type": "code",
   "execution_count": 13,
   "id": "d142c68c",
   "metadata": {},
   "outputs": [
    {
     "name": "stdout",
     "output_type": "stream",
     "text": [
      "print the eat method from human \n",
      "\n",
      "\n",
      "2.school\n"
     ]
    }
   ],
   "source": [
    "obj_m.eat()"
   ]
  },
  {
   "cell_type": "code",
   "execution_count": 14,
   "id": "3dad3330",
   "metadata": {},
   "outputs": [
    {
     "name": "stdout",
     "output_type": "stream",
     "text": [
      "print the eat method from human \n",
      "\n",
      "\n",
      "2.school\n"
     ]
    }
   ],
   "source": [
    "obj_m.eat()"
   ]
  },
  {
   "cell_type": "markdown",
   "id": "3ba97af4",
   "metadata": {},
   "source": [
    "# distructor  "
   ]
  },
  {
   "cell_type": "code",
   "execution_count": 15,
   "id": "5b0d3cec",
   "metadata": {},
   "outputs": [],
   "source": [
    "class fileopner:\n",
    "    def __init__(self,file):\n",
    "        self.name = file\n",
    "    \n",
    "    def Open_the_file(self):\n",
    "        return \"this is your file = \",self.name\n",
    "    \n",
    "    def __del__(self):\n",
    "        return \"print this by distructor__can you print this or not\"\n",
    "    "
   ]
  },
  {
   "cell_type": "code",
   "execution_count": 16,
   "id": "8fc06b6c",
   "metadata": {},
   "outputs": [],
   "source": [
    "open = fileopner(\"schorship.txt\")"
   ]
  },
  {
   "cell_type": "code",
   "execution_count": 17,
   "id": "274f6df2",
   "metadata": {},
   "outputs": [
    {
     "data": {
      "text/plain": [
       "('this is your file = ', 'schorship.txt')"
      ]
     },
     "execution_count": 17,
     "metadata": {},
     "output_type": "execute_result"
    }
   ],
   "source": [
    "open.Open_the_file()"
   ]
  },
  {
   "cell_type": "code",
   "execution_count": 18,
   "id": "4701e374",
   "metadata": {},
   "outputs": [],
   "source": [
    "import time\n",
    "class timer:\n",
    "    def __init__(self):\n",
    "        self.time = time.time()\n",
    "    def task(self):\n",
    "        time_spent = time.time()-self.time\n",
    "        return time_spent\n",
    "    def __del__(self):\n",
    "        print(\"   me \")\n",
    "        \n",
    "    def __str__(self):\n",
    "        return \"this is outside the distructor funtion \""
   ]
  },
  {
   "cell_type": "code",
   "execution_count": 19,
   "id": "dd77770d",
   "metadata": {},
   "outputs": [],
   "source": [
    "t1 = timer()"
   ]
  },
  {
   "cell_type": "code",
   "execution_count": 20,
   "id": "2d6a9c8b",
   "metadata": {},
   "outputs": [
    {
     "data": {
      "text/plain": [
       "0.024404048919677734"
      ]
     },
     "execution_count": 20,
     "metadata": {},
     "output_type": "execute_result"
    }
   ],
   "source": [
    "t1.task()"
   ]
  },
  {
   "cell_type": "code",
   "execution_count": 21,
   "id": "619d4268",
   "metadata": {},
   "outputs": [
    {
     "name": "stdout",
     "output_type": "stream",
     "text": [
      "this is outside the distructor funtion \n"
     ]
    }
   ],
   "source": [
    "print(t1)"
   ]
  },
  {
   "cell_type": "markdown",
   "id": "30afab69",
   "metadata": {},
   "source": [
    "# Decorator"
   ]
  },
  {
   "cell_type": "code",
   "execution_count": 87,
   "id": "a180d958",
   "metadata": {},
   "outputs": [],
   "source": [
    "def test(func):\n",
    "    def inner_test():\n",
    "        print(\"this is my inner function start\")\n",
    "        func()\n",
    "        print(\"this is the end of my inner function \")\n",
    "    return inner_test\n",
    "@test\n",
    "def test1():\n",
    "    print(\"this is my test1 \")        "
   ]
  },
  {
   "cell_type": "code",
   "execution_count": 88,
   "id": "ef23a4bb",
   "metadata": {},
   "outputs": [
    {
     "name": "stdout",
     "output_type": "stream",
     "text": [
      "this is my inner function start\n",
      "this is my test1 \n",
      "this is the end of my inner function \n"
     ]
    }
   ],
   "source": [
    "test1()"
   ]
  },
  {
   "cell_type": "code",
   "execution_count": 6,
   "id": "956ecdb8",
   "metadata": {},
   "outputs": [],
   "source": [
    "import time\n",
    "def fine_time(func):\n",
    "    def cal_time(*args):\n",
    "        start_time = time.time()\n",
    "        print(\"aryan\")\n",
    "        func(*args)\n",
    "        end_time = time.time()\n",
    "        total_time = end_time - start_time\n",
    "        print(total_time)\n",
    "        \n",
    "    return cal_time\n"
   ]
  },
  {
   "cell_type": "code",
   "execution_count": 7,
   "id": "defd3c3c",
   "metadata": {},
   "outputs": [],
   "source": [
    "@fine_time\n",
    "def print_key(d):\n",
    "    print(d.keys())"
   ]
  },
  {
   "cell_type": "code",
   "execution_count": 8,
   "id": "8689dfe0",
   "metadata": {},
   "outputs": [
    {
     "name": "stdout",
     "output_type": "stream",
     "text": [
      "aryan\n",
      "dict_keys(['key', 'aryan'])\n",
      "0.0\n"
     ]
    }
   ],
   "source": [
    "print_key({\"key\":\"value\",\"aryan\":4})"
   ]
  },
  {
   "cell_type": "code",
   "execution_count": 9,
   "id": "e7883eeb",
   "metadata": {},
   "outputs": [],
   "source": [
    "@fine_time\n",
    "def print_list(a):\n",
    "    for i in a :\n",
    "        print(i)"
   ]
  },
  {
   "cell_type": "code",
   "execution_count": 10,
   "id": "fa116573",
   "metadata": {},
   "outputs": [
    {
     "name": "stdout",
     "output_type": "stream",
     "text": [
      "aryan\n",
      "3\n",
      "5\n",
      "6\n",
      "76\n",
      "3\n",
      "0.0\n"
     ]
    }
   ],
   "source": [
    "print_list([3,5,6,76,3])"
   ]
  },
  {
   "cell_type": "code",
   "execution_count": 121,
   "id": "ed0ddc79",
   "metadata": {},
   "outputs": [],
   "source": [
    "import logging\n",
    "def log_in(func):\n",
    "    def inside_fun(*args):\n",
    "        logging.basicConfig(filename= 'testingdecorator.log', level = logging.INFO)\n",
    "        logging.info(\"I am enterring in the function .\")\n",
    "        logging.info(\"now function is begin.\")\n",
    "        func(*args)\n",
    "        logging.info(\"this will execution of the function .\")\n",
    "    return inside_fun\n",
    "\n"
   ]
  },
  {
   "cell_type": "code",
   "execution_count": 122,
   "id": "5b2e67e3",
   "metadata": {},
   "outputs": [],
   "source": [
    "@log_in\n",
    "@fine_time\n",
    "def print_list(a):\n",
    "    for i in a :\n",
    "        print(i)"
   ]
  },
  {
   "cell_type": "code",
   "execution_count": 11,
   "id": "8c8f9726",
   "metadata": {},
   "outputs": [
    {
     "name": "stdout",
     "output_type": "stream",
     "text": [
      "aryan\n",
      "aryan\n",
      "yadav\n",
      "3\n",
      "5\n",
      "2\n",
      "christmas\n",
      "0.0\n"
     ]
    }
   ],
   "source": [
    "print_list([\"aryan\",\"yadav\",3,5,2,\"christmas\"])"
   ]
  },
  {
   "cell_type": "code",
   "execution_count": 13,
   "id": "d03f37c8",
   "metadata": {},
   "outputs": [
    {
     "name": "stdout",
     "output_type": "stream",
     "text": [
      "INFO:root:I am enterring in the function .\n",
      "\n",
      "INFO:root:now function is begin.\n",
      "\n",
      "INFO:root:this will execution of the function .\n",
      "\n",
      "INFO:root:I am enterring in the function .\n",
      "\n",
      "INFO:root:now function is begin.\n",
      "\n",
      "INFO:root:this will execution of the function .\n",
      "\n",
      "INFO:root:I am enterring in the function .\n",
      "\n",
      "INFO:root:now function is begin.\n",
      "\n",
      "INFO:root:this will execution of the function .\n",
      "\n",
      "INFO:root:I am enterring in the function .\n",
      "\n",
      "INFO:root:now function is begin.\n",
      "\n",
      "INFO:root:this will execution of the function .\n",
      "\n",
      "INFO:root:I am enterring in the function .\n",
      "\n",
      "INFO:root:now function is begin.\n",
      "\n",
      "INFO:root:this will execution of the function .\n",
      "\n",
      "INFO:root:I am enterring in the function .\n",
      "\n",
      "INFO:root:now function is begin.\n",
      "\n",
      "INFO:root:this will execution of the function .\n",
      "\n",
      "INFO:root:I am enterring in the function .\n",
      "\n",
      "INFO:root:now function is begin.\n",
      "\n",
      "INFO:root:I am enterring in the function .\n",
      "\n",
      "INFO:root:now function is begin.\n",
      "\n",
      "INFO:root:I am enterring in the function .\n",
      "\n",
      "INFO:root:now function is begin.\n",
      "\n",
      "INFO:root:this will execution of the function .\n",
      "\n",
      "INFO:root:I am enterring in the function .\n",
      "\n",
      "INFO:root:now function is begin.\n",
      "\n",
      "INFO:root:I am enterring in the function .\n",
      "\n",
      "INFO:root:now function is begin.\n",
      "\n",
      "INFO:root:this will execution of the function .\n",
      "\n",
      "INFO:root:I am enterring in the function .\n",
      "\n",
      "INFO:root:now function is begin.\n",
      "\n",
      "INFO:root:this will execution of the function .\n",
      "\n",
      "INFO:root:I am enterring in the function .\n",
      "\n",
      "INFO:root:now function is begin.\n",
      "\n",
      "INFO:root:this will execution of the function .\n",
      "\n",
      "INFO:root:I am enterring in the function .\n",
      "\n",
      "INFO:root:now function is begin.\n",
      "\n",
      "INFO:root:this will execution of the function .\n",
      "\n",
      "INFO:root:I am enterring in the function .\n",
      "\n",
      "INFO:root:now function is begin.\n",
      "\n",
      "INFO:root:this will execution of the function .\n",
      "\n",
      "INFO:root:I am enterring in the function .\n",
      "\n",
      "INFO:root:now function is begin.\n",
      "\n",
      "INFO:root:I am enterring in the function .\n",
      "\n",
      "INFO:root:now function is begin.\n",
      "\n",
      "INFO:root:this will execution of the function .\n",
      "\n",
      "ERROR:ipykernel.comm:No such comm target registered: jupyter.widget.control\n",
      "\n",
      "WARNING:Comm:No such comm: 5b417514-961a-481d-9797-f48f560febaa\n",
      "\n",
      "ERROR:ipykernel.comm:No such comm target registered: jupyter.widget.control\n",
      "\n",
      "WARNING:Comm:No such comm: 439d02d3-e196-4f81-8e1d-b7e88ad041f0\n",
      "\n"
     ]
    }
   ],
   "source": [
    "for i in open(\"testingdecorator.log\"):\n",
    "    print(i)"
   ]
  },
  {
   "cell_type": "code",
   "execution_count": 137,
   "id": "3bb097d7",
   "metadata": {},
   "outputs": [],
   "source": [
    "@log_in \n",
    "def deco_func(u):\n",
    "    print(u)"
   ]
  },
  {
   "cell_type": "code",
   "execution_count": 138,
   "id": "dd508465",
   "metadata": {},
   "outputs": [
    {
     "name": "stdout",
     "output_type": "stream",
     "text": [
      "Marry Christmas\n"
     ]
    }
   ],
   "source": [
    "deco_func(\"Marry Christmas\")"
   ]
  },
  {
   "cell_type": "code",
   "execution_count": 160,
   "id": "a1f8d625",
   "metadata": {},
   "outputs": [],
   "source": [
    "class aryan:\n",
    "    def __init__(self,subject):\n",
    "#         self.__subject = subject    #comes in the private variable\n",
    "          self._sudh__subject =  subject"
   ]
  },
  {
   "cell_type": "code",
   "execution_count": 161,
   "id": "725268fd",
   "metadata": {},
   "outputs": [],
   "source": [
    "s1 = aryan(\"first year\")"
   ]
  },
  {
   "cell_type": "code",
   "execution_count": 162,
   "id": "2b709ee6",
   "metadata": {},
   "outputs": [
    {
     "ename": "AttributeError",
     "evalue": "'aryan' object has no attribute '__subject'",
     "output_type": "error",
     "traceback": [
      "\u001b[1;31m---------------------------------------------------------------------------\u001b[0m",
      "\u001b[1;31mAttributeError\u001b[0m                            Traceback (most recent call last)",
      "Cell \u001b[1;32mIn[162], line 1\u001b[0m\n\u001b[1;32m----> 1\u001b[0m s1\u001b[38;5;241m.\u001b[39m__subject\n",
      "\u001b[1;31mAttributeError\u001b[0m: 'aryan' object has no attribute '__subject'"
     ]
    }
   ],
   "source": [
    "s1.__subject  ## this is private variable"
   ]
  },
  {
   "cell_type": "code",
   "execution_count": 163,
   "id": "6937ffbb",
   "metadata": {},
   "outputs": [
    {
     "data": {
      "text/plain": [
       "'aryan'"
      ]
     },
     "execution_count": 163,
     "metadata": {},
     "output_type": "execute_result"
    }
   ],
   "source": [
    "s1.__subject = \"aryan\"\n",
    "s1.__subject"
   ]
  },
  {
   "cell_type": "code",
   "execution_count": 164,
   "id": "c565b069",
   "metadata": {},
   "outputs": [
    {
     "data": {
      "text/plain": [
       "'first year'"
      ]
     },
     "execution_count": 164,
     "metadata": {},
     "output_type": "execute_result"
    }
   ],
   "source": [
    "s1._sudh__subject"
   ]
  },
  {
   "cell_type": "code",
   "execution_count": 1,
   "id": "dd8a23dd",
   "metadata": {},
   "outputs": [],
   "source": [
    "class sudh:\n",
    "    def __init__(self,subject):\n",
    "        self.__subject = subject\n",
    "    @property\n",
    "    def subject1(self):\n",
    "        return self.__subject\n",
    "    @subject1.setter\n",
    "    def subject1(self,subject):\n",
    "        self.__subject = subject\n",
    "    @subject1.getter\n",
    "    def subject1(self):\n",
    "        return self.__subject"
   ]
  },
  {
   "cell_type": "code",
   "execution_count": 9,
   "id": "52dd77d7",
   "metadata": {},
   "outputs": [],
   "source": [
    "s2  = sudh(\"data analytic\")"
   ]
  },
  {
   "cell_type": "code",
   "execution_count": 10,
   "id": "04147e79",
   "metadata": {},
   "outputs": [],
   "source": [
    "# s2.subject"
   ]
  },
  {
   "cell_type": "code",
   "execution_count": 11,
   "id": "21e44853",
   "metadata": {},
   "outputs": [
    {
     "data": {
      "text/plain": [
       "'data analytic'"
      ]
     },
     "execution_count": 11,
     "metadata": {},
     "output_type": "execute_result"
    }
   ],
   "source": [
    "s2.subject1"
   ]
  },
  {
   "cell_type": "code",
   "execution_count": 12,
   "id": "342fa3b7",
   "metadata": {},
   "outputs": [],
   "source": [
    "s2.subject1 = \"blockchain\""
   ]
  },
  {
   "cell_type": "code",
   "execution_count": 13,
   "id": "c52e70f5",
   "metadata": {},
   "outputs": [
    {
     "data": {
      "text/plain": [
       "'blockchain'"
      ]
     },
     "execution_count": 13,
     "metadata": {},
     "output_type": "execute_result"
    }
   ],
   "source": [
    "s2.subject1"
   ]
  },
  {
   "cell_type": "code",
   "execution_count": null,
   "id": "de037656",
   "metadata": {},
   "outputs": [],
   "source": []
  },
  {
   "cell_type": "code",
   "execution_count": null,
   "id": "4b779e3d",
   "metadata": {},
   "outputs": [],
   "source": []
  },
  {
   "cell_type": "code",
   "execution_count": null,
   "id": "38aa3cbf",
   "metadata": {},
   "outputs": [],
   "source": []
  },
  {
   "cell_type": "code",
   "execution_count": null,
   "id": "9c5f548e",
   "metadata": {},
   "outputs": [],
   "source": []
  }
 ],
 "metadata": {
  "kernelspec": {
   "display_name": "Python 3 (ipykernel)",
   "language": "python",
   "name": "python3"
  },
  "language_info": {
   "codemirror_mode": {
    "name": "ipython",
    "version": 3
   },
   "file_extension": ".py",
   "mimetype": "text/x-python",
   "name": "python",
   "nbconvert_exporter": "python",
   "pygments_lexer": "ipython3",
   "version": "3.11.5"
  }
 },
 "nbformat": 4,
 "nbformat_minor": 5
}
