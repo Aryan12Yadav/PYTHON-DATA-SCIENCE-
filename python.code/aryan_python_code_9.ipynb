{
 "cells": [
  {
   "cell_type": "markdown",
   "id": "2dffb6e8",
   "metadata": {},
   "source": [
    "# |Encapsulation Abstraction Composition and Polymorphism "
   ]
  },
  {
   "cell_type": "markdown",
   "id": "66314ed9",
   "metadata": {},
   "source": [
    "# polymorphism   \n",
    "in this , same thing is going behave differntly  "
   ]
  },
  {
   "cell_type": "markdown",
   "id": "9acd3577",
   "metadata": {},
   "source": [
    "### polymorphism using overloading"
   ]
  },
  {
   "cell_type": "code",
   "execution_count": 84,
   "id": "cfc47b39",
   "metadata": {},
   "outputs": [],
   "source": [
    "class pwskills:\n",
    "    \n",
    "    def student(self):\n",
    "        pass\n",
    "class data_science(pwskills):\n",
    "    def student(self):\n",
    "        print(\" this will give me a detials about data science student \")\n",
    "class big_data(pwskills):\n",
    "    def student(self):\n",
    "        print(\"this will give me a detail about big data student\")\n",
    "    "
   ]
  },
  {
   "cell_type": "code",
   "execution_count": 85,
   "id": "36b4390e",
   "metadata": {},
   "outputs": [],
   "source": [
    "ravi = data_science()\n",
    "radha = big_data()"
   ]
  },
  {
   "cell_type": "code",
   "execution_count": 86,
   "id": "a1a4a87e",
   "metadata": {},
   "outputs": [
    {
     "name": "stdout",
     "output_type": "stream",
     "text": [
      " this will give me a detials about data science student \n",
      "this will give me a detail about big data student\n"
     ]
    }
   ],
   "source": [
    "ravi.student()\n",
    "radha.student()"
   ]
  },
  {
   "cell_type": "markdown",
   "id": "bbbafc94",
   "metadata": {},
   "source": [
    "### polymorphin overiding"
   ]
  },
  {
   "cell_type": "code",
   "execution_count": 87,
   "id": "a4e30d09",
   "metadata": {},
   "outputs": [
    {
     "name": "stdout",
     "output_type": "stream",
     "text": [
      "44 17\n"
     ]
    }
   ],
   "source": [
    "class big_data:\n",
    "    def __init__(self,number_of_student,number_of_class):\n",
    "        self.number_of_student = number_of_student\n",
    "        self.number_of_class = number_of_class\n",
    "    def __add__(self,other):\n",
    "         return big_data(self.number_of_student + other.number_of_student ,self.number_of_class+ other.number_of_class)\n",
    "        \n",
    "c1 = big_data(3,5)\n",
    "c2 = big_data(32,5)\n",
    "c3 = big_data(9,7)\n",
    "result = c1+c2+c3\n",
    "print(result.number_of_student , result.number_of_class)\n",
    "        "
   ]
  },
  {
   "cell_type": "markdown",
   "id": "33b2835d",
   "metadata": {},
   "source": [
    "### polymorphism using duck typing"
   ]
  },
  {
   "cell_type": "code",
   "execution_count": 89,
   "id": "21d8e62a",
   "metadata": {},
   "outputs": [],
   "source": [
    "class datascience:\n",
    "    def student(self):\n",
    "        print(\"this will give the output of the datascience.\")\n",
    "class bigdata:\n",
    "    def student(self):\n",
    "        print(\"this will give the output of the big data .\")\n",
    "def output_obj(output_cls):\n",
    "    return output_cls.student()"
   ]
  },
  {
   "cell_type": "code",
   "execution_count": 90,
   "id": "9906b41b",
   "metadata": {},
   "outputs": [],
   "source": [
    "krish = datascience()"
   ]
  },
  {
   "cell_type": "code",
   "execution_count": 96,
   "id": "7edaed21",
   "metadata": {},
   "outputs": [],
   "source": [
    "raj = bigdata()"
   ]
  },
  {
   "cell_type": "code",
   "execution_count": 97,
   "id": "258ea5b0",
   "metadata": {},
   "outputs": [
    {
     "name": "stdout",
     "output_type": "stream",
     "text": [
      "this will give the output of the datascience.\n"
     ]
    }
   ],
   "source": [
    "krish.student()"
   ]
  },
  {
   "cell_type": "code",
   "execution_count": 98,
   "id": "4ad21680",
   "metadata": {},
   "outputs": [
    {
     "name": "stdout",
     "output_type": "stream",
     "text": [
      "this will give the output of the big data .\n"
     ]
    }
   ],
   "source": [
    "raj.student()"
   ]
  },
  {
   "cell_type": "code",
   "execution_count": 99,
   "id": "2eee36c8",
   "metadata": {},
   "outputs": [
    {
     "name": "stdout",
     "output_type": "stream",
     "text": [
      "this will give the output of the datascience.\n"
     ]
    }
   ],
   "source": [
    "output_obj(krish)"
   ]
  },
  {
   "cell_type": "code",
   "execution_count": 100,
   "id": "58e2e16a",
   "metadata": {},
   "outputs": [
    {
     "name": "stdout",
     "output_type": "stream",
     "text": [
      "this will give the output of the big data .\n"
     ]
    }
   ],
   "source": [
    "output_obj(raj)"
   ]
  },
  {
   "cell_type": "code",
   "execution_count": 101,
   "id": "50a0062d",
   "metadata": {},
   "outputs": [],
   "source": [
    "# polymorphism overiding\n",
    "class pwskills:\n",
    "    def student(self):\n",
    "        print(\"it will give the result\")\n",
    "    \n",
    "class datascience(pwskills):\n",
    "    def student(self):\n",
    "        print(\"this will give a detail of datascience student\")"
   ]
  },
  {
   "cell_type": "code",
   "execution_count": 103,
   "id": "8d96d7c0",
   "metadata": {},
   "outputs": [],
   "source": [
    "ujwal = datascience()"
   ]
  },
  {
   "cell_type": "code",
   "execution_count": 104,
   "id": "f94c022f",
   "metadata": {},
   "outputs": [
    {
     "name": "stdout",
     "output_type": "stream",
     "text": [
      "this will give a detail of datascience student\n"
     ]
    }
   ],
   "source": [
    "ujwal.student()"
   ]
  },
  {
   "cell_type": "code",
   "execution_count": 105,
   "id": "6e0721eb",
   "metadata": {},
   "outputs": [
    {
     "data": {
      "text/plain": [
       "4"
      ]
     },
     "execution_count": 105,
     "metadata": {},
     "output_type": "execute_result"
    }
   ],
   "source": [
    "len(\"sudh\")"
   ]
  },
  {
   "cell_type": "code",
   "execution_count": 106,
   "id": "7d14bc90",
   "metadata": {},
   "outputs": [
    {
     "data": {
      "text/plain": [
       "6"
      ]
     },
     "execution_count": 106,
     "metadata": {},
     "output_type": "execute_result"
    }
   ],
   "source": [
    "len([9,4,0,0,0,8.8])"
   ]
  },
  {
   "cell_type": "markdown",
   "id": "8b7476ba",
   "metadata": {},
   "source": [
    "## Encapsulation\n",
    "means as hiding a detail\n"
   ]
  },
  {
   "cell_type": "code",
   "execution_count": 27,
   "id": "692260ff",
   "metadata": {},
   "outputs": [],
   "source": [
    "class test:\n",
    "    def __init__(self):\n",
    "        self.__text = \"laptop\"     # this is private member this is not be call in other class\n",
    "    def __test__text(self):\n",
    "        return \"this is a just test\"\n",
    "    def access_var(self):\n",
    "        return self.__text\n",
    "    def update_var(self,aryan):\n",
    "        self.__text = aryan"
   ]
  },
  {
   "cell_type": "code",
   "execution_count": 28,
   "id": "5afb3259",
   "metadata": {},
   "outputs": [],
   "source": [
    "t1 = test()"
   ]
  },
  {
   "cell_type": "code",
   "execution_count": 29,
   "id": "4f88f030",
   "metadata": {},
   "outputs": [
    {
     "data": {
      "text/plain": [
       "'laptop'"
      ]
     },
     "execution_count": 29,
     "metadata": {},
     "output_type": "execute_result"
    }
   ],
   "source": [
    "t1._test__text"
   ]
  },
  {
   "cell_type": "code",
   "execution_count": 30,
   "id": "626fff22",
   "metadata": {},
   "outputs": [
    {
     "data": {
      "text/plain": [
       "'this is a just test'"
      ]
     },
     "execution_count": 30,
     "metadata": {},
     "output_type": "execute_result"
    }
   ],
   "source": [
    "t1._test__test__text()"
   ]
  },
  {
   "cell_type": "code",
   "execution_count": 31,
   "id": "ba5bb3de",
   "metadata": {},
   "outputs": [
    {
     "data": {
      "text/plain": [
       "'laptop'"
      ]
     },
     "execution_count": 31,
     "metadata": {},
     "output_type": "execute_result"
    }
   ],
   "source": [
    "t1.access_var()"
   ]
  },
  {
   "cell_type": "code",
   "execution_count": 32,
   "id": "06ea7f74",
   "metadata": {},
   "outputs": [],
   "source": [
    "t1.update_var(123455)"
   ]
  },
  {
   "cell_type": "code",
   "execution_count": 33,
   "id": "05135e0c",
   "metadata": {},
   "outputs": [
    {
     "data": {
      "text/plain": [
       "123455"
      ]
     },
     "execution_count": 33,
     "metadata": {},
     "output_type": "execute_result"
    }
   ],
   "source": [
    "t1.access_var()"
   ]
  },
  {
   "cell_type": "code",
   "execution_count": 34,
   "id": "56b628ee",
   "metadata": {},
   "outputs": [],
   "source": [
    "class Bank:\n",
    "    def __init__(self,account_number,balance):\n",
    "        self.account_number = account_number \n",
    "        self.__balance = balance\n",
    "    def check_balance(self,password):\n",
    "        if password == \"unionbank\":\n",
    "            return \"you current balance is Rs\" , self.__balance\n",
    "        else:\n",
    "            return \"you entered invalid password \""
   ]
  },
  {
   "cell_type": "code",
   "execution_count": 35,
   "id": "50da6ae2",
   "metadata": {},
   "outputs": [],
   "source": [
    "candidiate = Bank(56789,3000)"
   ]
  },
  {
   "cell_type": "code",
   "execution_count": 36,
   "id": "d3925cdb",
   "metadata": {},
   "outputs": [
    {
     "data": {
      "text/plain": [
       "('you current balance is Rs', 3000)"
      ]
     },
     "execution_count": 36,
     "metadata": {},
     "output_type": "execute_result"
    }
   ],
   "source": [
    "candidiate.check_balance(\"unionbank\")"
   ]
  },
  {
   "cell_type": "code",
   "execution_count": 37,
   "id": "5163f84c",
   "metadata": {},
   "outputs": [],
   "source": [
    "# writing a list \n",
    "class queue:\n",
    "    def __init__(self):\n",
    "        self._queue = []\n",
    "    def enqueue(self,data):\n",
    "        return self._queue.append(data)\n",
    "    def dequeue(self):\n",
    "        if self._queue:\n",
    "            return self._queue.pop(0)\n",
    "        else:\n",
    "            print(\"it's empty\")    \n",
    "    def showdata(self):\n",
    "        return self._queue"
   ]
  },
  {
   "cell_type": "code",
   "execution_count": 38,
   "id": "11cfe609",
   "metadata": {},
   "outputs": [],
   "source": [
    "q =queue()"
   ]
  },
  {
   "cell_type": "code",
   "execution_count": 39,
   "id": "040bf2d4",
   "metadata": {},
   "outputs": [
    {
     "name": "stdout",
     "output_type": "stream",
     "text": [
      "it's empty\n"
     ]
    }
   ],
   "source": [
    "q.dequeue()"
   ]
  },
  {
   "cell_type": "code",
   "execution_count": 40,
   "id": "91f224b0",
   "metadata": {},
   "outputs": [
    {
     "data": {
      "text/plain": [
       "[]"
      ]
     },
     "execution_count": 40,
     "metadata": {},
     "output_type": "execute_result"
    }
   ],
   "source": [
    "q._queue # inccorect way to see the data because init function not have any argument"
   ]
  },
  {
   "cell_type": "code",
   "execution_count": 41,
   "id": "d734198d",
   "metadata": {},
   "outputs": [
    {
     "data": {
      "text/plain": [
       "[]"
      ]
     },
     "execution_count": 41,
     "metadata": {},
     "output_type": "execute_result"
    }
   ],
   "source": [
    "q.showdata()"
   ]
  },
  {
   "cell_type": "code",
   "execution_count": 42,
   "id": "54f1b248",
   "metadata": {},
   "outputs": [
    {
     "name": "stdout",
     "output_type": "stream",
     "text": [
      "it's empty\n"
     ]
    }
   ],
   "source": [
    "q.dequeue()"
   ]
  },
  {
   "cell_type": "code",
   "execution_count": 43,
   "id": "163af1e8",
   "metadata": {},
   "outputs": [],
   "source": [
    "q.enqueue(45)"
   ]
  },
  {
   "cell_type": "code",
   "execution_count": 44,
   "id": "b9c11a21",
   "metadata": {},
   "outputs": [
    {
     "data": {
      "text/plain": [
       "[45]"
      ]
     },
     "execution_count": 44,
     "metadata": {},
     "output_type": "execute_result"
    }
   ],
   "source": [
    "q.showdata()"
   ]
  },
  {
   "cell_type": "code",
   "execution_count": 45,
   "id": "3fe03c69",
   "metadata": {},
   "outputs": [
    {
     "data": {
      "text/plain": [
       "45"
      ]
     },
     "execution_count": 45,
     "metadata": {},
     "output_type": "execute_result"
    }
   ],
   "source": [
    "q.dequeue()"
   ]
  },
  {
   "cell_type": "code",
   "execution_count": 46,
   "id": "8bb62b1a",
   "metadata": {},
   "outputs": [
    {
     "data": {
      "text/plain": [
       "[]"
      ]
     },
     "execution_count": 46,
     "metadata": {},
     "output_type": "execute_result"
    }
   ],
   "source": [
    "q.showdata()"
   ]
  },
  {
   "cell_type": "markdown",
   "id": "59cf4708",
   "metadata": {},
   "source": [
    "## Abstraction\n",
    "giving a detail\n",
    "creation of the outline "
   ]
  },
  {
   "cell_type": "code",
   "execution_count": 48,
   "id": "9aa84873",
   "metadata": {},
   "outputs": [],
   "source": [
    "from abc import ABC , abstractmethod\n",
    "class pwskills(ABC):\n",
    "    @abstractmethod\n",
    "    def databaseconnect(self):\n",
    "        pass\n",
    "    @abstractmethod\n",
    "    def check_enrollment(self,user_mailid):\n",
    "        pass\n",
    "    @abstractmethod\n",
    "    def check_completed_lecture(self,user_id,class_id):\n",
    "        pass\n",
    "    @abstractmethod\n",
    "    def check_lab_usases(self,user_id):\n",
    "        pass\n",
    "    @abstractmethod\n",
    "    def check_internship(self,user_id):\n",
    "        pass\n",
    "        "
   ]
  },
  {
   "cell_type": "code",
   "execution_count": 49,
   "id": "1977efbe",
   "metadata": {},
   "outputs": [],
   "source": [
    "class databaseconnect(pwskills):\n",
    "    \n",
    "    def databaseconnect(self):\n",
    "        print(\"this is a implmentation of databse connect\")\n",
    "    def check_enrollment(self,user_mailid):\n",
    "        return \"test\"\n",
    "    def check_completed_lecture(self,user_id,class_id):\n",
    "        return \"test\"\n",
    "    def check_lab_usases(self,user_id):\n",
    "        return \"test\"\n",
    "    def check_internship(self,user_id):\n",
    "        return \"test\"\n",
    "    "
   ]
  },
  {
   "cell_type": "code",
   "execution_count": 50,
   "id": "1d21e175",
   "metadata": {},
   "outputs": [],
   "source": [
    "db1 = databaseconnect()"
   ]
  },
  {
   "cell_type": "code",
   "execution_count": 51,
   "id": "7451a258",
   "metadata": {},
   "outputs": [
    {
     "name": "stdout",
     "output_type": "stream",
     "text": [
      "this is a implmentation of databse connect\n"
     ]
    }
   ],
   "source": [
    "db1.databaseconnect()"
   ]
  },
  {
   "cell_type": "code",
   "execution_count": 52,
   "id": "eab5219e",
   "metadata": {},
   "outputs": [],
   "source": [
    " class calculation:\n",
    "        @staticmethod\n",
    "        def add(x,y):\n",
    "            return x+y\n",
    "        @staticmethod\n",
    "        def sub(x,y):\n",
    "            return x-y\n",
    "        def div(self,x,y):\n",
    "            return x/y"
   ]
  },
  {
   "cell_type": "code",
   "execution_count": 53,
   "id": "1730e939",
   "metadata": {},
   "outputs": [
    {
     "data": {
      "text/plain": [
       "1.4"
      ]
     },
     "execution_count": 53,
     "metadata": {},
     "output_type": "execute_result"
    }
   ],
   "source": [
    "a = calculation()\n",
    "a.div(7,5)   # self pointre is in div function"
   ]
  },
  {
   "cell_type": "code",
   "execution_count": 54,
   "id": "692a5273",
   "metadata": {},
   "outputs": [
    {
     "data": {
      "text/plain": [
       "8"
      ]
     },
     "execution_count": 54,
     "metadata": {},
     "output_type": "execute_result"
    }
   ],
   "source": [
    "calculation.add(3,5)"
   ]
  },
  {
   "cell_type": "code",
   "execution_count": 55,
   "id": "da375be1",
   "metadata": {},
   "outputs": [
    {
     "data": {
      "text/plain": [
       "2.0"
      ]
     },
     "execution_count": 55,
     "metadata": {},
     "output_type": "execute_result"
    }
   ],
   "source": [
    "calculation.div(_,8,4)     # here self is not use becoz not take a variable"
   ]
  },
  {
   "cell_type": "code",
   "execution_count": 56,
   "id": "0ea149a2",
   "metadata": {},
   "outputs": [],
   "source": [
    "class cal(calculation):\n",
    "    def add(x,y):\n",
    "        return x*y"
   ]
  },
  {
   "cell_type": "code",
   "execution_count": 57,
   "id": "04b05c82",
   "metadata": {},
   "outputs": [
    {
     "ename": "TypeError",
     "evalue": "cal.add() takes 2 positional arguments but 3 were given",
     "output_type": "error",
     "traceback": [
      "\u001b[1;31m---------------------------------------------------------------------------\u001b[0m",
      "\u001b[1;31mTypeError\u001b[0m                                 Traceback (most recent call last)",
      "Cell \u001b[1;32mIn[57], line 2\u001b[0m\n\u001b[0;32m      1\u001b[0m c1 \u001b[38;5;241m=\u001b[39m cal()\n\u001b[1;32m----> 2\u001b[0m c1\u001b[38;5;241m.\u001b[39madd(\u001b[38;5;241m3\u001b[39m,\u001b[38;5;241m4\u001b[39m)\n",
      "\u001b[1;31mTypeError\u001b[0m: cal.add() takes 2 positional arguments but 3 were given"
     ]
    }
   ],
   "source": [
    "c1 = cal()\n",
    "c1.add(3,4)"
   ]
  },
  {
   "cell_type": "code",
   "execution_count": 1,
   "id": "3959d1cb",
   "metadata": {},
   "outputs": [],
   "source": [
    "class file_ops:\n",
    "    def __init__(self,filename):\n",
    "        self.filename = filename\n",
    "    def read_file(self):\n",
    "        with open(self.filename,\"r\") as file : \n",
    "            return file.read()\n",
    "    def write_file(self,data):\n",
    "        with open(self.filename,\"w\") as file: \n",
    "            file.write(data)"
   ]
  },
  {
   "cell_type": "code",
   "execution_count": 2,
   "id": "3f7db4ab",
   "metadata": {},
   "outputs": [],
   "source": [
    "aryan_file_open = file_ops(\"aryan.txt\")\n",
    "aryan_file_open.write_file( \"today is so foggy in Kanpur . \")"
   ]
  },
  {
   "cell_type": "code",
   "execution_count": 3,
   "id": "3b5194a3",
   "metadata": {},
   "outputs": [],
   "source": [
    "Akhilesh_file_open = file_ops(\"Akhilesh.txt\")\n",
    "Akhilesh_file_open.write_file(\"lucknow is the capital of the \\n\\n uttarpradesh  datascience lover\")"
   ]
  },
  {
   "cell_type": "markdown",
   "id": "6681fb2a",
   "metadata": {},
   "source": [
    "## Compostition "
   ]
  },
  {
   "cell_type": "code",
   "execution_count": 81,
   "id": "ca4a7676",
   "metadata": {},
   "outputs": [],
   "source": [
    "class pwskills :\n",
    "    def student(self):\n",
    "        return \" Students details can be seem here \"\n",
    "    \n",
    "class datascience:\n",
    "    def __init__(self):\n",
    "        self.selfish = pwskills()"
   ]
  },
  {
   "cell_type": "code",
   "execution_count": 82,
   "id": "9ec2d352",
   "metadata": {},
   "outputs": [],
   "source": [
    "ar = datascience()"
   ]
  },
  {
   "cell_type": "code",
   "execution_count": 83,
   "id": "4df23152",
   "metadata": {},
   "outputs": [
    {
     "data": {
      "text/plain": [
       "' Students details can be seem here '"
      ]
     },
     "execution_count": 83,
     "metadata": {},
     "output_type": "execute_result"
    }
   ],
   "source": [
    "ar.selfish.student()"
   ]
  },
  {
   "cell_type": "code",
   "execution_count": 91,
   "id": "3785ebbf",
   "metadata": {},
   "outputs": [],
   "source": [
    "class data:\n",
    "    def __init__(self,mentor_name):\n",
    "        self.mentor_name = mentor_name\n",
    "class  webdev :\n",
    "        def __init__(self,mentor, lecture_name):\n",
    "            self.mentor = mentor\n",
    "            self.lecture_name = lecture_name"
   ]
  },
  {
   "cell_type": "code",
   "execution_count": 92,
   "id": "35bfeaef",
   "metadata": {},
   "outputs": [],
   "source": [
    "d = data(\"sudh\")\n",
    "w = webdev(d,\"css\")\n"
   ]
  },
  {
   "cell_type": "code",
   "execution_count": 95,
   "id": "a8298c6f",
   "metadata": {},
   "outputs": [
    {
     "data": {
      "text/plain": [
       "'sudh'"
      ]
     },
     "execution_count": 95,
     "metadata": {},
     "output_type": "execute_result"
    }
   ],
   "source": [
    "d.mentor_name\n"
   ]
  },
  {
   "cell_type": "code",
   "execution_count": 96,
   "id": "f0d79e28",
   "metadata": {},
   "outputs": [
    {
     "data": {
      "text/plain": [
       "'sudh'"
      ]
     },
     "execution_count": 96,
     "metadata": {},
     "output_type": "execute_result"
    }
   ],
   "source": [
    "w.mentor.mentor_name"
   ]
  },
  {
   "cell_type": "markdown",
   "id": "5911705a",
   "metadata": {},
   "source": [
    "# zip"
   ]
  },
  {
   "cell_type": "code",
   "execution_count": 1,
   "id": "3a4d4b74",
   "metadata": {},
   "outputs": [],
   "source": [
    "l1 = [3,4,5,6,6,7,8]\n",
    "l2 = [9,88,77,65,77,26,15,61,912,89]\n"
   ]
  },
  {
   "cell_type": "code",
   "execution_count": 2,
   "id": "a8692352",
   "metadata": {},
   "outputs": [
    {
     "data": {
      "text/plain": [
       "[(3, 9), (4, 88), (5, 77), (6, 65), (6, 77), (7, 26), (8, 15)]"
      ]
     },
     "execution_count": 2,
     "metadata": {},
     "output_type": "execute_result"
    }
   ],
   "source": [
    "list(zip(l1,l2))"
   ]
  },
  {
   "cell_type": "code",
   "execution_count": 4,
   "id": "848edf49",
   "metadata": {},
   "outputs": [],
   "source": [
    "l1 = [3,4,5,6,6,7,8]\n",
    "l2 = [9,88,77,65,77,26,15,61,912,89]\n",
    "y = [ \"sudh\",\"arman\",\"delhi\",\"45\",\"happy\"]"
   ]
  },
  {
   "cell_type": "code",
   "execution_count": 5,
   "id": "6a1e006e",
   "metadata": {},
   "outputs": [
    {
     "data": {
      "text/plain": [
       "[(3, 'sudh', 9),\n",
       " (4, 'arman', 88),\n",
       " (5, 'delhi', 77),\n",
       " (6, '45', 65),\n",
       " (6, 'happy', 77)]"
      ]
     },
     "execution_count": 5,
     "metadata": {},
     "output_type": "execute_result"
    }
   ],
   "source": [
    "list(zip(l1,y,l2))"
   ]
  },
  {
   "cell_type": "code",
   "execution_count": 6,
   "id": "1bc61b16",
   "metadata": {},
   "outputs": [
    {
     "data": {
      "text/plain": [
       "((3, 9, 'sudh'),\n",
       " (4, 88, 'arman'),\n",
       " (5, 77, 'delhi'),\n",
       " (6, 65, '45'),\n",
       " (6, 77, 'happy'))"
      ]
     },
     "execution_count": 6,
     "metadata": {},
     "output_type": "execute_result"
    }
   ],
   "source": [
    "tuple(zip(l1,l2,y))"
   ]
  },
  {
   "cell_type": "code",
   "execution_count": 9,
   "id": "1fcbf4b7",
   "metadata": {},
   "outputs": [
    {
     "data": {
      "text/plain": [
       "{3: 'sudh', 4: 'arman', 5: 'delhi', 6: 'happy'}"
      ]
     },
     "execution_count": 9,
     "metadata": {},
     "output_type": "execute_result"
    }
   ],
   "source": [
    "dict(zip(l1,y))"
   ]
  },
  {
   "cell_type": "code",
   "execution_count": 10,
   "id": "50cff19a",
   "metadata": {},
   "outputs": [
    {
     "data": {
      "text/plain": [
       "{(3, 'sudh', 9),\n",
       " (4, 'arman', 88),\n",
       " (5, 'delhi', 77),\n",
       " (6, '45', 65),\n",
       " (6, 'happy', 77)}"
      ]
     },
     "execution_count": 10,
     "metadata": {},
     "output_type": "execute_result"
    }
   ],
   "source": [
    "set(zip(l1,y,l2))"
   ]
  },
  {
   "cell_type": "markdown",
   "id": "fa74542d",
   "metadata": {},
   "source": [
    "### enumeration"
   ]
  },
  {
   "cell_type": "code",
   "execution_count": 12,
   "id": "78fda781",
   "metadata": {},
   "outputs": [
    {
     "name": "stdout",
     "output_type": "stream",
     "text": [
      "0   sudh\n",
      "1   arman\n",
      "2   delhi\n",
      "3   45\n",
      "4   happy\n"
     ]
    }
   ],
   "source": [
    "for index , data in enumerate(y):\n",
    "    print(index,\" \",data)"
   ]
  },
  {
   "cell_type": "code",
   "execution_count": null,
   "id": "ffcfe75a",
   "metadata": {},
   "outputs": [],
   "source": []
  },
  {
   "cell_type": "code",
   "execution_count": null,
   "id": "5e08c18f",
   "metadata": {},
   "outputs": [],
   "source": []
  },
  {
   "cell_type": "code",
   "execution_count": null,
   "id": "1c97d33b",
   "metadata": {},
   "outputs": [],
   "source": []
  },
  {
   "cell_type": "code",
   "execution_count": null,
   "id": "6d5dd43e",
   "metadata": {},
   "outputs": [],
   "source": []
  }
 ],
 "metadata": {
  "kernelspec": {
   "display_name": "Python 3 (ipykernel)",
   "language": "python",
   "name": "python3"
  },
  "language_info": {
   "codemirror_mode": {
    "name": "ipython",
    "version": 3
   },
   "file_extension": ".py",
   "mimetype": "text/x-python",
   "name": "python",
   "nbconvert_exporter": "python",
   "pygments_lexer": "ipython3",
   "version": "3.11.5"
  }
 },
 "nbformat": 4,
 "nbformat_minor": 5
}
