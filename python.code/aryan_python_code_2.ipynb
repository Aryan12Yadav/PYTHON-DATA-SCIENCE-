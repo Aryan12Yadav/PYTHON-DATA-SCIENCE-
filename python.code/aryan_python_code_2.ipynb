{
 "cells": [
  {
   "cell_type": "code",
   "execution_count": 1,
   "id": "b0b514ca",
   "metadata": {},
   "outputs": [
    {
     "name": "stdout",
     "output_type": "stream",
     "text": [
      "hy aryan\n"
     ]
    }
   ],
   "source": [
    "def hy(a):\n",
    "    print(\"hy\",a)\n",
    "hy(\"aryan\")"
   ]
  },
  {
   "cell_type": "raw",
   "id": "95df57d3",
   "metadata": {},
   "source": [
    " Accept a string as input. \n",
    "    Your task is to determine if the input string is a valid password or not. For a string to be a valid password, it must satisfy\n",
    "    all the conditions givne below:\n",
    "     (1) It should have aat least 8 and at most 32 characters \n",
    "     (2) It should start with an uppercase or lowercase letter \n",
    "     (3) It should not have any of these characters: /\\:=\"\"\n",
    "     (4) It could have any character that is not mentioned is not mentioned in the list of charcter to be avoided \n",
    "     (pontds 3 and )\n",
    "     (5) Output True if the string forms a valid password and FAlse otherwise"
   ]
  },
  {
   "cell_type": "code",
   "execution_count": 4,
   "id": "dafa6ec5",
   "metadata": {},
   "outputs": [],
   "source": [
    "def validpassword(pswd: str):\n",
    "    if 8 <= len(pswd) <=32 and  pswd[0].isalpha() and all(char not in pswd for char in [\" \",\"'\",\"=\",'\\\\']):\n",
    "        return True \n",
    "    else:\n",
    "        return False"
   ]
  },
  {
   "cell_type": "code",
   "execution_count": 6,
   "id": "06d0265e",
   "metadata": {},
   "outputs": [
    {
     "data": {
      "text/plain": [
       "True"
      ]
     },
     "execution_count": 6,
     "metadata": {},
     "output_type": "execute_result"
    }
   ],
   "source": [
    "validpassword('ARyanyadavc')"
   ]
  },
  {
   "cell_type": "code",
   "execution_count": 15,
   "id": "afb9fb14",
   "metadata": {},
   "outputs": [
    {
     "ename": "NameError",
     "evalue": "name 's' is not defined",
     "output_type": "error",
     "traceback": [
      "\u001b[1;31m---------------------------------------------------------------------------\u001b[0m",
      "\u001b[1;31mNameError\u001b[0m                                 Traceback (most recent call last)",
      "Cell \u001b[1;32mIn[15], line 5\u001b[0m\n\u001b[0;32m      3\u001b[0m     t\u001b[38;5;241m=\u001b[39m \u001b[38;5;241m38\u001b[39m\n\u001b[0;32m      4\u001b[0m     \u001b[38;5;28mprint\u001b[39m(s,t) \u001b[38;5;66;03m# this is called as global scope \u001b[39;00m\n\u001b[1;32m----> 5\u001b[0m \u001b[38;5;28mprint\u001b[39m(s,t)    \u001b[38;5;66;03m# it is the global scope that's why it not work \u001b[39;00m\n\u001b[0;32m      6\u001b[0m greet()\n",
      "\u001b[1;31mNameError\u001b[0m: name 's' is not defined"
     ]
    }
   ],
   "source": [
    "def greet():\n",
    "    s = 3\n",
    "    t= 38\n",
    "    print(s,t) # this is called as local scope \n",
    "print(s,t)    # it is the global scope that's why it not work \n",
    "greet()   # becoz of this it's not excuted"
   ]
  },
  {
   "cell_type": "code",
   "execution_count": 16,
   "id": "77f89482",
   "metadata": {},
   "outputs": [
    {
     "name": "stdout",
     "output_type": "stream",
     "text": [
      "3 38\n"
     ]
    }
   ],
   "source": [
    "greet()"
   ]
  },
  {
   "cell_type": "code",
   "execution_count": 17,
   "id": "bc05239f",
   "metadata": {},
   "outputs": [
    {
     "name": "stdout",
     "output_type": "stream",
     "text": [
      "python is fanatastic\n",
      "awasome\n"
     ]
    }
   ],
   "source": [
    "x = \"awasome\" # this is the called the global scope \n",
    "def myfunc():\n",
    "    x = \" fanatastic\"   # this is called as local  scope\n",
    "    print(\"python is\"+x)\n",
    "myfunc()\n",
    "print(x)"
   ]
  },
  {
   "cell_type": "code",
   "execution_count": 20,
   "id": "139ddd73",
   "metadata": {},
   "outputs": [
    {
     "name": "stdout",
     "output_type": "stream",
     "text": [
      "the global variable 23\n",
      "the local variable 35\n",
      "58\n"
     ]
    }
   ],
   "source": [
    "s = 23\n",
    "def add(): \n",
    "    t = 35\n",
    "    print(\"the global variable\", s)\n",
    "    print(\"the local variable\", t )\n",
    "    x = s+t\n",
    "    print(x)\n",
    "add()"
   ]
  },
  {
   "cell_type": "raw",
   "id": "954496af",
   "metadata": {},
   "source": [
    "Types of the funciton \n",
    " 1. user defined function\n",
    "2. built funciton"
   ]
  },
  {
   "cell_type": "raw",
   "id": "98d52676",
   "metadata": {},
   "source": [
    "Python funciton arguments \n",
    "1 postional arguments \n",
    "2. default arguments \n",
    "3. keywords arguments \n",
    "4. variable arguments "
   ]
  },
  {
   "cell_type": "code",
   "execution_count": 53,
   "id": "db92bc44",
   "metadata": {},
   "outputs": [],
   "source": [
    "def add(x,y):\n",
    "    sum = x+y\n",
    "    print(\"sum = \", sum)\n",
    "    "
   ]
  },
  {
   "cell_type": "code",
   "execution_count": 55,
   "id": "8cf39303",
   "metadata": {},
   "outputs": [
    {
     "name": "stdout",
     "output_type": "stream",
     "text": [
      "sum =  9\n"
     ]
    }
   ],
   "source": [
    "add(x=4,y=5)  # this is called keyword arguments "
   ]
  },
  {
   "cell_type": "code",
   "execution_count": 23,
   "id": "67cfdd10",
   "metadata": {},
   "outputs": [
    {
     "name": "stdout",
     "output_type": "stream",
     "text": [
      "sum =  70\n"
     ]
    }
   ],
   "source": [
    "add(4,66)  # there 4,66 is called positional arguments"
   ]
  },
  {
   "cell_type": "code",
   "execution_count": 25,
   "id": "3d4fdbc2",
   "metadata": {},
   "outputs": [],
   "source": [
    "def name(name):\n",
    "    print(\"My name is = \",name)"
   ]
  },
  {
   "cell_type": "code",
   "execution_count": 29,
   "id": "ccbc0c2b",
   "metadata": {},
   "outputs": [
    {
     "name": "stdout",
     "output_type": "stream",
     "text": [
      "My name is =  aryan yadav\n"
     ]
    }
   ],
   "source": [
    "name(\"aryan yadav\") # here we have seen that aryan yadav is calles as postional argument"
   ]
  },
  {
   "cell_type": "code",
   "execution_count": 51,
   "id": "2ca481d9",
   "metadata": {},
   "outputs": [],
   "source": [
    "def add_number(a=4,b=96): #  this data is called default argument\n",
    "    p = a+b\n",
    "    print(\"add : \", p)"
   ]
  },
  {
   "cell_type": "code",
   "execution_count": 44,
   "id": "aa8d51b6",
   "metadata": {},
   "outputs": [
    {
     "name": "stdout",
     "output_type": "stream",
     "text": [
      "add :  100\n"
     ]
    }
   ],
   "source": [
    "add_number()"
   ]
  },
  {
   "cell_type": "code",
   "execution_count": 46,
   "id": "273c0b52",
   "metadata": {},
   "outputs": [
    {
     "name": "stdout",
     "output_type": "stream",
     "text": [
      "add :  31\n"
     ]
    }
   ],
   "source": [
    "add_number(26,5)"
   ]
  },
  {
   "cell_type": "markdown",
   "id": "0e14a39d",
   "metadata": {},
   "source": [
    "### keywords arguments"
   ]
  },
  {
   "cell_type": "code",
   "execution_count": 59,
   "id": "4e7c8a35",
   "metadata": {},
   "outputs": [],
   "source": [
    "def display_info(first_name,last_name):\n",
    "    print(\"first name\", first_name)\n",
    "    print(\"last name\", last_name)"
   ]
  },
  {
   "cell_type": "code",
   "execution_count": 60,
   "id": "7899fb87",
   "metadata": {},
   "outputs": [
    {
     "name": "stdout",
     "output_type": "stream",
     "text": [
      "first name pw\n",
      "last name skills\n"
     ]
    }
   ],
   "source": [
    "display_info(first_name = \"pw\", last_name= \"skills\")  # this is keyword arguments"
   ]
  },
  {
   "cell_type": "markdown",
   "id": "38ef4fcc",
   "metadata": {},
   "source": [
    "### variable arguments"
   ]
  },
  {
   "cell_type": "raw",
   "id": "f0358319",
   "metadata": {},
   "source": [
    "* give the variables how much we are wants to print on \n",
    "used in the function called variable function \n",
    "* provide n numbers of arguments "
   ]
  },
  {
   "cell_type": "code",
   "execution_count": 104,
   "id": "d4834c6e",
   "metadata": {},
   "outputs": [],
   "source": [
    " # let us example of variable function : \n",
    "def add_num(*numbers):\n",
    "    result = 0\n",
    "    for i in numbers:a\n",
    "        result = result+i\n",
    "    print(\"sum\",result)"
   ]
  },
  {
   "cell_type": "code",
   "execution_count": 105,
   "id": "c5d4ce74",
   "metadata": {},
   "outputs": [
    {
     "name": "stdout",
     "output_type": "stream",
     "text": [
      "sum 0\n"
     ]
    }
   ],
   "source": [
    "add_num()"
   ]
  },
  {
   "cell_type": "code",
   "execution_count": 107,
   "id": "3935e9c7",
   "metadata": {},
   "outputs": [
    {
     "name": "stdout",
     "output_type": "stream",
     "text": [
      "sum 8.3\n"
     ]
    }
   ],
   "source": [
    "add_num(1.3,4,3)"
   ]
  },
  {
   "cell_type": "code",
   "execution_count": 116,
   "id": "9e9a2ff0",
   "metadata": {},
   "outputs": [],
   "source": [
    "def a(*p): # (*) provides n numbers of the arguments \n",
    "    sx = 0\n",
    "    for i in p:\n",
    "        sx = sx+i\n",
    "    print(sx)\n",
    "#(*) is called the variable arguments"
   ]
  },
  {
   "cell_type": "code",
   "execution_count": 117,
   "id": "3e8ea2cf",
   "metadata": {},
   "outputs": [
    {
     "name": "stdout",
     "output_type": "stream",
     "text": [
      "0\n"
     ]
    }
   ],
   "source": [
    "a()"
   ]
  },
  {
   "cell_type": "code",
   "execution_count": 118,
   "id": "c16b4516",
   "metadata": {},
   "outputs": [
    {
     "name": "stdout",
     "output_type": "stream",
     "text": [
      "43957\n"
     ]
    }
   ],
   "source": [
    "a(3,6,3845,3,432,2354,33634,46,4,3423,6,46,4,64,64,6,9,5,3,)"
   ]
  },
  {
   "cell_type": "code",
   "execution_count": 123,
   "id": "1d470802",
   "metadata": {},
   "outputs": [
    {
     "name": "stdout",
     "output_type": "stream",
     "text": [
      "(3, 5, 3, 653, 56, 3)\n"
     ]
    }
   ],
   "source": [
    "def simpl(*x):\n",
    "    print(x)\n",
    "simpl(3,5,3,653,56,3)"
   ]
  },
  {
   "cell_type": "code",
   "execution_count": 124,
   "id": "0eeb0d84",
   "metadata": {},
   "outputs": [
    {
     "data": {
      "text/plain": [
       "function"
      ]
     },
     "execution_count": 124,
     "metadata": {},
     "output_type": "execute_result"
    }
   ],
   "source": [
    "type(simpl)"
   ]
  },
  {
   "cell_type": "code",
   "execution_count": 125,
   "id": "f22bb87b",
   "metadata": {},
   "outputs": [
    {
     "name": "stdout",
     "output_type": "stream",
     "text": [
      "(3, 5, 3, 653, 56, 3)\n"
     ]
    },
    {
     "data": {
      "text/plain": [
       "NoneType"
      ]
     },
     "execution_count": 125,
     "metadata": {},
     "output_type": "execute_result"
    }
   ],
   "source": [
    "type(simpl(3,5,3,653,56,3))"
   ]
  },
  {
   "cell_type": "raw",
   "id": "86eacfac",
   "metadata": {},
   "source": [
    "(**) in function are called as function arguments "
   ]
  },
  {
   "cell_type": "code",
   "execution_count": 5,
   "id": "5990fded",
   "metadata": {},
   "outputs": [],
   "source": [
    "def intro(**data):\n",
    "    print(\"type of the data\",type(data))\n",
    "    for i in data.items():\n",
    "        print(i)"
   ]
  },
  {
   "cell_type": "code",
   "execution_count": 6,
   "id": "3dacbd6d",
   "metadata": {},
   "outputs": [
    {
     "name": "stdout",
     "output_type": "stream",
     "text": [
      "type of the data <class 'dict'>\n",
      "('name', 'aryan')\n",
      "('home_name', 'yadav')\n",
      "('pursuing', 'btech')\n"
     ]
    }
   ],
   "source": [
    "intro(name=\"aryan\",home_name = \"yadav\",pursuing = \"btech\")"
   ]
  },
  {
   "cell_type": "code",
   "execution_count": 147,
   "id": "43e8cf2e",
   "metadata": {},
   "outputs": [],
   "source": [
    " def simple(**x): # ** is kwargs = keyword argument or key or values\n",
    "        print(x)"
   ]
  },
  {
   "cell_type": "code",
   "execution_count": 148,
   "id": "bc1004f6",
   "metadata": {},
   "outputs": [
    {
     "name": "stdout",
     "output_type": "stream",
     "text": [
      "{'s': 'n', 'age': 3, 'id': 394}\n"
     ]
    }
   ],
   "source": [
    "simple(s = 'n',age = 3, id = 394)"
   ]
  },
  {
   "cell_type": "code",
   "execution_count": 26,
   "id": "8e2318a6",
   "metadata": {},
   "outputs": [],
   "source": [
    "def aryan(*s):   # * is args called arguments\n",
    "    print(s)"
   ]
  },
  {
   "cell_type": "code",
   "execution_count": 27,
   "id": "28010412",
   "metadata": {},
   "outputs": [
    {
     "name": "stdout",
     "output_type": "stream",
     "text": [
      "(3, 35, 'arya', 'prin', 'wi')\n"
     ]
    }
   ],
   "source": [
    "aryan(3,35,\"arya\",\"prin\",'wi')"
   ]
  },
  {
   "cell_type": "markdown",
   "id": "c310fe7f",
   "metadata": {},
   "source": [
    "# Lambda function "
   ]
  },
  {
   "cell_type": "raw",
   "id": "54e7d07c",
   "metadata": {},
   "source": [
    "lambda function is telling as anonymous finction \n",
    "lanbda argument(s):expression  # syntax \n",
    "like \n",
    "greet = lambda : print(\"hello world\")\n",
    "greet()"
   ]
  },
  {
   "cell_type": "code",
   "execution_count": 29,
   "id": "db85dc3b",
   "metadata": {},
   "outputs": [],
   "source": [
    "# Lambda function \n",
    "x = lambda: print(\"hello world\")"
   ]
  },
  {
   "cell_type": "code",
   "execution_count": 32,
   "id": "7c6d793d",
   "metadata": {},
   "outputs": [
    {
     "name": "stdout",
     "output_type": "stream",
     "text": [
      "hello world\n"
     ]
    }
   ],
   "source": [
    "x()"
   ]
  },
  {
   "cell_type": "code",
   "execution_count": 33,
   "id": "95441c40",
   "metadata": {},
   "outputs": [
    {
     "data": {
      "text/plain": [
       "<function __main__.<lambda>(a, b)>"
      ]
     },
     "execution_count": 33,
     "metadata": {},
     "output_type": "execute_result"
    }
   ],
   "source": [
    "lambda a,b: a+b    # arguments a,b and a+b is expression "
   ]
  },
  {
   "cell_type": "code",
   "execution_count": 36,
   "id": "91046636",
   "metadata": {},
   "outputs": [],
   "source": [
    "x = lambda a,b : a+b"
   ]
  },
  {
   "cell_type": "code",
   "execution_count": 38,
   "id": "3d8585f4",
   "metadata": {},
   "outputs": [
    {
     "data": {
      "text/plain": [
       "8"
      ]
     },
     "execution_count": 38,
     "metadata": {},
     "output_type": "execute_result"
    }
   ],
   "source": [
    "x(3,5)"
   ]
  },
  {
   "cell_type": "code",
   "execution_count": 41,
   "id": "5702053d",
   "metadata": {},
   "outputs": [
    {
     "data": {
      "text/plain": [
       "1725"
      ]
     },
     "execution_count": 41,
     "metadata": {},
     "output_type": "execute_result"
    }
   ],
   "source": [
    "multiply_num = lambda p,q : p*q\n",
    "multiply_num(345,5)"
   ]
  },
  {
   "cell_type": "code",
   "execution_count": 45,
   "id": "edb0fbf9",
   "metadata": {},
   "outputs": [
    {
     "name": "stdout",
     "output_type": "stream",
     "text": [
      "Enter the two numbers :9 5\n",
      "(81, 25)\n"
     ]
    }
   ],
   "source": [
    "y,z = (input(\"Enter the two numbers :\")).split()\n",
    "square = lambda y,z: (int(y)**2, int(z)**2)\n",
    "print(square(y,z))"
   ]
  },
  {
   "cell_type": "code",
   "execution_count": 47,
   "id": "ca24d36a",
   "metadata": {},
   "outputs": [
    {
     "data": {
      "text/plain": [
       "False"
      ]
     },
     "execution_count": 47,
     "metadata": {},
     "output_type": "execute_result"
    }
   ],
   "source": [
    "def even_odd(n):\n",
    "    if n%2==0:\n",
    "        return True\n",
    "    else:\n",
    "        return False\n",
    "even_odd(45)"
   ]
  },
  {
   "cell_type": "code",
   "execution_count": 53,
   "id": "8ba5f60b",
   "metadata": {},
   "outputs": [],
   "source": [
    "# write that code in the lambda function \n",
    "even_odd = lambda n:\"True\" if n%2== 0 else \"False\" "
   ]
  },
  {
   "cell_type": "code",
   "execution_count": 55,
   "id": "fff83198",
   "metadata": {},
   "outputs": [
    {
     "data": {
      "text/plain": [
       "'True'"
      ]
     },
     "execution_count": 55,
     "metadata": {},
     "output_type": "execute_result"
    }
   ],
   "source": [
    "even_odd(98)"
   ]
  },
  {
   "cell_type": "markdown",
   "id": "f7beaa8d",
   "metadata": {},
   "source": [
    "Write a lambda function that accepts 2 arguments and return the greater amongst them"
   ]
  },
  {
   "cell_type": "code",
   "execution_count": 57,
   "id": "6c88d32e",
   "metadata": {},
   "outputs": [
    {
     "data": {
      "text/plain": [
       "64"
      ]
     },
     "execution_count": 57,
     "metadata": {},
     "output_type": "execute_result"
    }
   ],
   "source": [
    "greater_one = lambda a,b: a if a>b else b\n",
    "greater_one(3,64)"
   ]
  },
  {
   "cell_type": "code",
   "execution_count": 59,
   "id": "112ecee2",
   "metadata": {},
   "outputs": [
    {
     "data": {
      "text/plain": [
       "422"
      ]
     },
     "execution_count": 59,
     "metadata": {},
     "output_type": "execute_result"
    }
   ],
   "source": [
    "# lambda function to find sum of numbers \n",
    "sum_of = lambda a,b,c : (a+b+c)\n",
    "sum_of(3,354,65)"
   ]
  },
  {
   "cell_type": "code",
   "execution_count": 1,
   "id": "5280a074",
   "metadata": {},
   "outputs": [
    {
     "data": {
      "text/plain": [
       "[{'name': 'product4', 'price': 20},\n",
       " {'name': 'product1', 'price': 34},\n",
       " {'name': 'product6', 'price': 40},\n",
       " {'name': 'product5', 'price': 90},\n",
       " {'name': 'product3', 'price': 334},\n",
       " {'name': 'product2', 'price': 340}]"
      ]
     },
     "execution_count": 1,
     "metadata": {},
     "output_type": "execute_result"
    }
   ],
   "source": [
    "# shorting giving in ascending order of the dictionary value\n",
    "products =[ {\"name\":\"product1\",\"price\": 34},\n",
    "            {\"name\":\"product2\",\"price\": 340},\n",
    "            {\"name\":\"product3\",\"price\": 334},\n",
    "            {\"name\":\"product4\",\"price\": 20},\n",
    "            {\"name\":\"product5\",\"price\": 90},\n",
    "            {\"name\":\"product6\",\"price\": 40}]\n",
    "    \n",
    "sorted_products_prize = sorted(products,key = lambda x:x[\"price\"])\n",
    "sorted_products_prize  # here in the list form "
   ]
  },
  {
   "cell_type": "code",
   "execution_count": 67,
   "id": "20fcd82b",
   "metadata": {},
   "outputs": [
    {
     "name": "stdout",
     "output_type": "stream",
     "text": [
      "{'name': 'products', 'price': 20}\n",
      "{'name': 'products', 'price': 34}\n",
      "{'name': 'products', 'price': 40}\n",
      "{'name': 'products', 'price': 90}\n",
      "{'name': 'products', 'price': 334}\n",
      "{'name': 'products', 'price': 340}\n"
     ]
    }
   ],
   "source": [
    "for i in sorted_products_prize:\n",
    "    print(i)            # but  here not be in list form "
   ]
  },
  {
   "cell_type": "code",
   "execution_count": 111,
   "id": "0ea99cd8",
   "metadata": {},
   "outputs": [
    {
     "data": {
      "text/plain": [
       "[{'name': 26, 'price': 90},\n",
       " {'name': 67, 'price': 20},\n",
       " {'name': 78, 'price': 340},\n",
       " {'name': 80, 'price': 334},\n",
       " {'name': 85, 'price': 34},\n",
       " {'name': 89, 'price': 40}]"
      ]
     },
     "execution_count": 111,
     "metadata": {},
     "output_type": "execute_result"
    }
   ],
   "source": [
    "# shorting giving in ascending order of the dictionary value\n",
    "products =[ {\"name\": 85,\"price\": 34},\n",
    "            {\"name\": 78,\"price\": 340},\n",
    "            {\"name\": 80,\"price\": 334},\n",
    "            {\"name\": 67,\"price\": 20},\n",
    "            {\"name\": 26,\"price\": 90},\n",
    "            {\"name\": 89,\"price\": 40}]\n",
    "p = sorted(products, key  = lambda x:x[\"name\"])\n",
    "p"
   ]
  },
  {
   "cell_type": "code",
   "execution_count": 110,
   "id": "a6bdc84f",
   "metadata": {},
   "outputs": [
    {
     "name": "stdout",
     "output_type": "stream",
     "text": [
      "na\n",
      "price\n",
      "ne\n",
      "me\n"
     ]
    }
   ],
   "source": [
    "for i in p:\n",
    "    print(i)"
   ]
  },
  {
   "cell_type": "code",
   "execution_count": 106,
   "id": "c0d94783",
   "metadata": {},
   "outputs": [
    {
     "ename": "TypeError",
     "evalue": "'function' object is not subscriptable",
     "output_type": "error",
     "traceback": [
      "\u001b[1;31m---------------------------------------------------------------------------\u001b[0m",
      "\u001b[1;31mTypeError\u001b[0m                                 Traceback (most recent call last)",
      "Cell \u001b[1;32mIn[106], line 1\u001b[0m\n\u001b[1;32m----> 1\u001b[0m x[\u001b[38;5;124m\"\u001b[39m\u001b[38;5;124mname\u001b[39m\u001b[38;5;124m\"\u001b[39m]\n",
      "\u001b[1;31mTypeError\u001b[0m: 'function' object is not subscriptable"
     ]
    }
   ],
   "source": [
    " x[\"name\"]"
   ]
  },
  {
   "cell_type": "raw",
   "id": "9b382a03",
   "metadata": {},
   "source": [
    " '''write a Lambda expression that accepts a charater as argument and return true\n",
    "if it is volwel other false \n",
    "a e i o u \n",
    "aryan\n",
    "a a '''"
   ]
  },
  {
   "cell_type": "code",
   "execution_count": 137,
   "id": "eed20480",
   "metadata": {},
   "outputs": [
    {
     "name": "stdout",
     "output_type": "stream",
     "text": [
      "Enter a string : yiud\n"
     ]
    },
    {
     "data": {
      "text/plain": [
       "['i', 'u']"
      ]
     },
     "execution_count": 137,
     "metadata": {},
     "output_type": "execute_result"
    }
   ],
   "source": [
    "vowels = ['a','e','i','o','u','A','E','I','O','U']\n",
    "stri = input(\"Enter a string : \")\n",
    "x = [stri[i] for i in range(len(stri)) if stri[i]  in vowels]\n",
    "x"
   ]
  },
  {
   "cell_type": "code",
   "execution_count": 132,
   "id": "767e145d",
   "metadata": {},
   "outputs": [],
   "source": [
    "# there are func\n",
    "# fiter \n",
    "# map\n",
    "# reduce"
   ]
  },
  {
   "cell_type": "markdown",
   "id": "dc4e2693",
   "metadata": {},
   "source": [
    "# built in funtion\n",
    "\n"
   ]
  },
  {
   "cell_type": "code",
   "execution_count": 113,
   "id": "59339ceb",
   "metadata": {},
   "outputs": [
    {
     "ename": "SyntaxError",
     "evalue": "invalid syntax (3759030857.py, line 1)",
     "output_type": "error",
     "traceback": [
      "\u001b[1;36m  Cell \u001b[1;32mIn[113], line 1\u001b[1;36m\u001b[0m\n\u001b[1;33m    abs()   classmethod()    filter() id()  max()  property()  all() compile() float()\u001b[0m\n\u001b[1;37m            ^\u001b[0m\n\u001b[1;31mSyntaxError\u001b[0m\u001b[1;31m:\u001b[0m invalid syntax\n"
     ]
    }
   ],
   "source": [
    "abs()   classmethod()    filter() id()  max()  property()  all() compile() float()\n",
    "\n",
    "input()  memoryview()    range()    sum()  any()  complex()   format()   int()  min()   repr() \n",
    " \n",
    "super()  ascii()   delattr()   issubclass()  object()  reversed()   tuple()   bin()   dict() \n",
    "\n",
    "getattr()  issubclass()  object()  isinstance()  round()  type()  bool()  dir()  globals()  iter()\n",
    "\n",
    "oct()  set() vars() bytearray() divmod() hasattr()   len()  open()  setattr()  zip()  bytes() \n",
    "\n",
    "enumerate()  hash()  list() ord()  slice()  __import__()  callable()  eval()  help()  locals()\n",
    "\n",
    "pow()  sorted()  chr()  hex()  map()  print()  staticmethod() "
   ]
  },
  {
   "cell_type": "code",
   "execution_count": 114,
   "id": "6b25d926",
   "metadata": {},
   "outputs": [
    {
     "data": {
      "text/plain": [
       "140711084202152"
      ]
     },
     "execution_count": 114,
     "metadata": {},
     "output_type": "execute_result"
    }
   ],
   "source": [
    "s = 45\n",
    "id(s)"
   ]
  },
  {
   "cell_type": "code",
   "execution_count": 115,
   "id": "7f45b17e",
   "metadata": {},
   "outputs": [
    {
     "data": {
      "text/plain": [
       "53"
      ]
     },
     "execution_count": 115,
     "metadata": {},
     "output_type": "execute_result"
    }
   ],
   "source": [
    "l = [3,53,25,5]\n",
    "max(l)"
   ]
  },
  {
   "cell_type": "code",
   "execution_count": 117,
   "id": "0647426b",
   "metadata": {},
   "outputs": [
    {
     "data": {
      "text/plain": [
       "77.5"
      ]
     },
     "execution_count": 117,
     "metadata": {},
     "output_type": "execute_result"
    }
   ],
   "source": [
    "m = [3,32.3,34,74, 77.45,77.5]\n",
    "max(m)"
   ]
  },
  {
   "cell_type": "code",
   "execution_count": 122,
   "id": "ed46b5ab",
   "metadata": {},
   "outputs": [
    {
     "data": {
      "text/plain": [
       "[(0, 'java'), (1, 'python'), (2, 'javascript'), (3, 'ruby')]"
      ]
     },
     "execution_count": 122,
     "metadata": {},
     "output_type": "execute_result"
    }
   ],
   "source": [
    "language=['java','python','javascript','ruby']\n",
    "enumerate_prime= enumerate(language)\n",
    "list(enumerate_prime)"
   ]
  },
  {
   "cell_type": "code",
   "execution_count": 4,
   "id": "cd4162ec",
   "metadata": {},
   "outputs": [
    {
     "data": {
      "text/plain": [
       "[(2, 'jaca'), (3, 'India'), (4, 'mobile'), (5, 'am'), (6, 'ram')]"
      ]
     },
     "execution_count": 4,
     "metadata": {},
     "output_type": "execute_result"
    }
   ],
   "source": [
    "p = ['jaca','India','mobile','am','ram']\n",
    "# x = enumerate(p,2)\n",
    "# list(x)\n",
    "list(enumerate(p,2))"
   ]
  },
  {
   "cell_type": "code",
   "execution_count": 5,
   "id": "6c96635b",
   "metadata": {},
   "outputs": [
    {
     "data": {
      "text/plain": [
       "[(-3, 'jaca'), (-2, 'India'), (-1, 'mobile'), (0, 'am'), (1, 'ram')]"
      ]
     },
     "execution_count": 5,
     "metadata": {},
     "output_type": "execute_result"
    }
   ],
   "source": [
    "list(enumerate(p,-3))"
   ]
  },
  {
   "cell_type": "markdown",
   "id": "7f33f256",
   "metadata": {},
   "source": [
    "## List comprehension "
   ]
  },
  {
   "cell_type": "raw",
   "id": "22df81a9",
   "metadata": {},
   "source": [
    "[        output           |        collection |    conditionn ]\n",
    "  make transform           | for i in range()   |    if s%2==0\n",
    "  like + , - any number   |or s i in list      | if u \\\\s\n",
    "    or * or /\n",
    "  "
   ]
  },
  {
   "cell_type": "code",
   "execution_count": 7,
   "id": "4924f38e",
   "metadata": {},
   "outputs": [],
   "source": [
    "lis = [2,4,5,6,7,88,4,3,2,4,6,3]"
   ]
  },
  {
   "cell_type": "code",
   "execution_count": 8,
   "id": "697bbf05",
   "metadata": {},
   "outputs": [],
   "source": [
    "s = [n for n in lis]"
   ]
  },
  {
   "cell_type": "code",
   "execution_count": 9,
   "id": "19c5c0d1",
   "metadata": {},
   "outputs": [
    {
     "data": {
      "text/plain": [
       "[2, 4, 5, 6, 7, 88, 4, 3, 2, 4, 6, 3]"
      ]
     },
     "execution_count": 9,
     "metadata": {},
     "output_type": "execute_result"
    }
   ],
   "source": [
    "s"
   ]
  },
  {
   "cell_type": "code",
   "execution_count": 12,
   "id": "2397a2b7",
   "metadata": {},
   "outputs": [
    {
     "data": {
      "text/plain": [
       "[3, 5, 6, 7, 8, 89, 5, 4, 3, 5, 7, 4]"
      ]
     },
     "execution_count": 12,
     "metadata": {},
     "output_type": "execute_result"
    }
   ],
   "source": [
    "a = [i+1 for i in lis]\n",
    "a"
   ]
  },
  {
   "cell_type": "code",
   "execution_count": 20,
   "id": "80fb1fb7",
   "metadata": {},
   "outputs": [
    {
     "data": {
      "text/plain": [
       "[5, 6, 7, 88, 6]"
      ]
     },
     "execution_count": 20,
     "metadata": {},
     "output_type": "execute_result"
    }
   ],
   "source": [
    "m = [2,4,5,6,7,88,4,3,2,4,6,3]\n",
    "[i for i in m if i>4]\n"
   ]
  },
  {
   "cell_type": "code",
   "execution_count": 39,
   "id": "9e1e94d2",
   "metadata": {},
   "outputs": [
    {
     "data": {
      "text/plain": [
       "[3, 3, 4, 4, 4, 5, 6, 6, 7, 88]"
      ]
     },
     "execution_count": 39,
     "metadata": {},
     "output_type": "execute_result"
    }
   ],
   "source": [
    "lis = [2,4,5,6,7,88,4,3,2,4,6,3]\n",
    "lst2 = []\n",
    "for i in lis:\n",
    "    if i>2:\n",
    "        lst2.append(i)\n",
    "lst2.sort()\n",
    "lst2"
   ]
  },
  {
   "cell_type": "code",
   "execution_count": 40,
   "id": "2693fc27",
   "metadata": {},
   "outputs": [
    {
     "data": {
      "text/plain": [
       "[2, 2, 4, 4, 4, 6, 6, 88]"
      ]
     },
     "execution_count": 40,
     "metadata": {},
     "output_type": "execute_result"
    }
   ],
   "source": [
    "lis = [2,4,5,6,7,88,4,3,2,4,6,3]\n",
    "m = []\n",
    "for x in lis:\n",
    "    if x%2 == 0:\n",
    "        m.append(x)\n",
    "m.sort()\n",
    "m"
   ]
  },
  {
   "cell_type": "code",
   "execution_count": 131,
   "id": "2974184e",
   "metadata": {},
   "outputs": [
    {
     "name": "stdout",
     "output_type": "stream",
     "text": [
      "['less than 3 .', 4, 5, 6, 7, 88, 4, 'less than 3 .', 'less than 3 .', 4, 6, 'less than 3 .'] "
     ]
    }
   ],
   "source": [
    "lis = [2,4,5,6,7,88,4,3,2,4,6,3]\n",
    "p = [i if i>3 else \"less than 3 .\" for i in lis]  # output | condition | collection\n",
    "print(p,end=\" \")"
   ]
  },
  {
   "cell_type": "code",
   "execution_count": 113,
   "id": "2e83b7c5",
   "metadata": {},
   "outputs": [
    {
     "data": {
      "text/plain": [
       "[4, 5, 6, 7, 88, 4, 4, 6]"
      ]
     },
     "execution_count": 113,
     "metadata": {},
     "output_type": "execute_result"
    }
   ],
   "source": [
    "p.remove(\"less than 3 .\")\n",
    "p"
   ]
  },
  {
   "cell_type": "code",
   "execution_count": 121,
   "id": "5000f82e",
   "metadata": {},
   "outputs": [
    {
     "data": {
      "text/plain": [
       "[2, 4, 5, 6, 7, 'less than 8 .', 4, 3, 2, 4, 6, 3]"
      ]
     },
     "execution_count": 121,
     "metadata": {},
     "output_type": "execute_result"
    }
   ],
   "source": [
    "lis = [2,4,5,6,7,88,4,3,2,4,6,3]\n",
    "o = []\n",
    "for i in lis:\n",
    "    if i < 8:\n",
    "        o.append(i)\n",
    "    else:\n",
    "        o.append(\"less than 8 .\")\n",
    "o\n"
   ]
  },
  {
   "cell_type": "code",
   "execution_count": 124,
   "id": "387383e9",
   "metadata": {},
   "outputs": [
    {
     "name": "stdout",
     "output_type": "stream",
     "text": [
      "['two', 'two', ' not divivble 2 and 3 ', 'two', ' not divivble 2 and 3 ', 'two', 'two', 'three', 'two', 'two', 'two', 'three'] "
     ]
    }
   ],
   "source": [
    "lis = [2,4,5,6,7,88,4,3,2,4,6,3]\n",
    "l = ['two' if i%2==0 else 'three' if i%3 == 0 else ' not divivble 2 and 3 ' for i in lis]\n",
    "print(l,end = \" \")"
   ]
  },
  {
   "cell_type": "code",
   "execution_count": 128,
   "id": "9e170a6f",
   "metadata": {},
   "outputs": [
    {
     "name": "stdout",
     "output_type": "stream",
     "text": [
      "['two', 'two', 'not divisble by 2 and 3 ', 'two', 'not divisble by 2 and 3 ', 'two', 'two', 'three', 'two', 'two', 'two', 'three'] "
     ]
    }
   ],
   "source": [
    "lis = [2,4,5,6,7,88,4,3,2,4,6,3]\n",
    "k = []\n",
    "for i in lis:\n",
    "    if i%2 ==0:\n",
    "        k.append('two')\n",
    "    elif i %3==0:\n",
    "        k.append('three')\n",
    "    else:\n",
    "        k.append('not divisble by 2 and 3 ')\n",
    "print(k,end = ' ')"
   ]
  },
  {
   "cell_type": "code",
   "execution_count": null,
   "id": "c2640c8c",
   "metadata": {},
   "outputs": [],
   "source": []
  },
  {
   "cell_type": "code",
   "execution_count": null,
   "id": "d20e7676",
   "metadata": {},
   "outputs": [],
   "source": []
  },
  {
   "cell_type": "code",
   "execution_count": null,
   "id": "3cad7464",
   "metadata": {},
   "outputs": [],
   "source": []
  },
  {
   "cell_type": "code",
   "execution_count": null,
   "id": "3fe417fb",
   "metadata": {},
   "outputs": [],
   "source": []
  },
  {
   "cell_type": "code",
   "execution_count": null,
   "id": "862cce79",
   "metadata": {},
   "outputs": [],
   "source": []
  },
  {
   "cell_type": "code",
   "execution_count": null,
   "id": "f9ce1792",
   "metadata": {},
   "outputs": [],
   "source": []
  },
  {
   "cell_type": "code",
   "execution_count": null,
   "id": "9640dace",
   "metadata": {},
   "outputs": [],
   "source": []
  },
  {
   "cell_type": "code",
   "execution_count": null,
   "id": "130f48f0",
   "metadata": {},
   "outputs": [],
   "source": []
  },
  {
   "cell_type": "code",
   "execution_count": null,
   "id": "56d95df8",
   "metadata": {},
   "outputs": [],
   "source": []
  },
  {
   "cell_type": "code",
   "execution_count": null,
   "id": "aef3cf92",
   "metadata": {},
   "outputs": [],
   "source": []
  },
  {
   "cell_type": "code",
   "execution_count": null,
   "id": "6e917dea",
   "metadata": {},
   "outputs": [],
   "source": []
  },
  {
   "cell_type": "code",
   "execution_count": null,
   "id": "0f50aa64",
   "metadata": {},
   "outputs": [],
   "source": []
  },
  {
   "cell_type": "code",
   "execution_count": null,
   "id": "dfcf0793",
   "metadata": {},
   "outputs": [],
   "source": []
  },
  {
   "cell_type": "code",
   "execution_count": null,
   "id": "606f519f",
   "metadata": {},
   "outputs": [],
   "source": []
  },
  {
   "cell_type": "code",
   "execution_count": null,
   "id": "6216ac2e",
   "metadata": {},
   "outputs": [],
   "source": []
  },
  {
   "cell_type": "code",
   "execution_count": null,
   "id": "3e0dc0c5",
   "metadata": {},
   "outputs": [],
   "source": []
  },
  {
   "cell_type": "code",
   "execution_count": null,
   "id": "54b07e77",
   "metadata": {},
   "outputs": [],
   "source": []
  },
  {
   "cell_type": "code",
   "execution_count": null,
   "id": "e26ec969",
   "metadata": {},
   "outputs": [],
   "source": []
  },
  {
   "cell_type": "code",
   "execution_count": null,
   "id": "281a5c0e",
   "metadata": {},
   "outputs": [],
   "source": []
  },
  {
   "cell_type": "code",
   "execution_count": null,
   "id": "4e97d384",
   "metadata": {},
   "outputs": [],
   "source": []
  },
  {
   "cell_type": "code",
   "execution_count": null,
   "id": "7b40a300",
   "metadata": {},
   "outputs": [],
   "source": []
  },
  {
   "cell_type": "code",
   "execution_count": null,
   "id": "9ec777f6",
   "metadata": {},
   "outputs": [],
   "source": []
  },
  {
   "cell_type": "code",
   "execution_count": null,
   "id": "656f075a",
   "metadata": {},
   "outputs": [],
   "source": []
  },
  {
   "cell_type": "code",
   "execution_count": null,
   "id": "52ec75d7",
   "metadata": {},
   "outputs": [],
   "source": []
  },
  {
   "cell_type": "code",
   "execution_count": null,
   "id": "922ca429",
   "metadata": {},
   "outputs": [],
   "source": []
  },
  {
   "cell_type": "code",
   "execution_count": null,
   "id": "46291884",
   "metadata": {},
   "outputs": [],
   "source": []
  },
  {
   "cell_type": "code",
   "execution_count": null,
   "id": "9940c3bd",
   "metadata": {},
   "outputs": [],
   "source": []
  },
  {
   "cell_type": "code",
   "execution_count": null,
   "id": "f1fcd70e",
   "metadata": {},
   "outputs": [],
   "source": []
  },
  {
   "cell_type": "code",
   "execution_count": null,
   "id": "aaf12538",
   "metadata": {},
   "outputs": [],
   "source": []
  },
  {
   "cell_type": "code",
   "execution_count": null,
   "id": "736158ba",
   "metadata": {},
   "outputs": [],
   "source": []
  },
  {
   "cell_type": "code",
   "execution_count": null,
   "id": "8817d7ee",
   "metadata": {},
   "outputs": [],
   "source": []
  },
  {
   "cell_type": "code",
   "execution_count": null,
   "id": "c3f1dcf5",
   "metadata": {},
   "outputs": [],
   "source": []
  },
  {
   "cell_type": "code",
   "execution_count": null,
   "id": "deca9d93",
   "metadata": {},
   "outputs": [],
   "source": []
  },
  {
   "cell_type": "code",
   "execution_count": null,
   "id": "9a4fe485",
   "metadata": {},
   "outputs": [],
   "source": []
  },
  {
   "cell_type": "code",
   "execution_count": null,
   "id": "78a79dac",
   "metadata": {},
   "outputs": [],
   "source": []
  },
  {
   "cell_type": "code",
   "execution_count": null,
   "id": "62c89a75",
   "metadata": {},
   "outputs": [],
   "source": []
  },
  {
   "cell_type": "code",
   "execution_count": null,
   "id": "9ff5e7c3",
   "metadata": {},
   "outputs": [],
   "source": []
  },
  {
   "cell_type": "code",
   "execution_count": null,
   "id": "9b74a652",
   "metadata": {},
   "outputs": [],
   "source": []
  },
  {
   "cell_type": "code",
   "execution_count": null,
   "id": "002d8376",
   "metadata": {},
   "outputs": [],
   "source": []
  },
  {
   "cell_type": "code",
   "execution_count": null,
   "id": "4f3944f4",
   "metadata": {},
   "outputs": [],
   "source": []
  },
  {
   "cell_type": "code",
   "execution_count": null,
   "id": "1c794b7e",
   "metadata": {},
   "outputs": [],
   "source": []
  },
  {
   "cell_type": "code",
   "execution_count": null,
   "id": "9c0b2d7f",
   "metadata": {},
   "outputs": [],
   "source": []
  },
  {
   "cell_type": "code",
   "execution_count": null,
   "id": "4ada10cc",
   "metadata": {},
   "outputs": [],
   "source": []
  },
  {
   "cell_type": "code",
   "execution_count": null,
   "id": "984bdd23",
   "metadata": {},
   "outputs": [],
   "source": []
  },
  {
   "cell_type": "code",
   "execution_count": null,
   "id": "a8521e27",
   "metadata": {},
   "outputs": [],
   "source": []
  },
  {
   "cell_type": "code",
   "execution_count": null,
   "id": "e079275e",
   "metadata": {},
   "outputs": [],
   "source": []
  },
  {
   "cell_type": "code",
   "execution_count": null,
   "id": "9349b1d7",
   "metadata": {},
   "outputs": [],
   "source": []
  },
  {
   "cell_type": "code",
   "execution_count": null,
   "id": "cc7eb769",
   "metadata": {},
   "outputs": [],
   "source": []
  },
  {
   "cell_type": "code",
   "execution_count": null,
   "id": "2dc887ae",
   "metadata": {},
   "outputs": [],
   "source": []
  },
  {
   "cell_type": "code",
   "execution_count": null,
   "id": "4667df16",
   "metadata": {},
   "outputs": [],
   "source": []
  },
  {
   "cell_type": "code",
   "execution_count": null,
   "id": "865ad8ed",
   "metadata": {},
   "outputs": [],
   "source": []
  },
  {
   "cell_type": "code",
   "execution_count": null,
   "id": "6e4e01c7",
   "metadata": {},
   "outputs": [],
   "source": []
  },
  {
   "cell_type": "code",
   "execution_count": null,
   "id": "88a9038f",
   "metadata": {},
   "outputs": [],
   "source": []
  },
  {
   "cell_type": "code",
   "execution_count": null,
   "id": "1ab519c2",
   "metadata": {},
   "outputs": [],
   "source": []
  },
  {
   "cell_type": "code",
   "execution_count": null,
   "id": "4df9855c",
   "metadata": {},
   "outputs": [],
   "source": []
  },
  {
   "cell_type": "code",
   "execution_count": null,
   "id": "8042a216",
   "metadata": {},
   "outputs": [],
   "source": []
  },
  {
   "cell_type": "code",
   "execution_count": null,
   "id": "31dc1b2c",
   "metadata": {},
   "outputs": [],
   "source": []
  },
  {
   "cell_type": "code",
   "execution_count": null,
   "id": "5a43a940",
   "metadata": {},
   "outputs": [],
   "source": []
  },
  {
   "cell_type": "code",
   "execution_count": null,
   "id": "c2109d9f",
   "metadata": {},
   "outputs": [],
   "source": []
  },
  {
   "cell_type": "code",
   "execution_count": null,
   "id": "f6d2161d",
   "metadata": {},
   "outputs": [],
   "source": []
  },
  {
   "cell_type": "code",
   "execution_count": null,
   "id": "928cf450",
   "metadata": {},
   "outputs": [],
   "source": []
  },
  {
   "cell_type": "code",
   "execution_count": null,
   "id": "d18c79d1",
   "metadata": {},
   "outputs": [],
   "source": []
  },
  {
   "cell_type": "code",
   "execution_count": null,
   "id": "f78417f3",
   "metadata": {},
   "outputs": [],
   "source": []
  },
  {
   "cell_type": "code",
   "execution_count": null,
   "id": "af1bc41a",
   "metadata": {},
   "outputs": [],
   "source": []
  },
  {
   "cell_type": "code",
   "execution_count": null,
   "id": "5de8700b",
   "metadata": {},
   "outputs": [],
   "source": []
  },
  {
   "cell_type": "code",
   "execution_count": null,
   "id": "c62c5fcb",
   "metadata": {},
   "outputs": [],
   "source": []
  },
  {
   "cell_type": "code",
   "execution_count": null,
   "id": "72e88c34",
   "metadata": {},
   "outputs": [],
   "source": []
  },
  {
   "cell_type": "code",
   "execution_count": null,
   "id": "5090fd2c",
   "metadata": {},
   "outputs": [],
   "source": []
  },
  {
   "cell_type": "code",
   "execution_count": null,
   "id": "25718efb",
   "metadata": {},
   "outputs": [],
   "source": []
  },
  {
   "cell_type": "code",
   "execution_count": null,
   "id": "93d723cf",
   "metadata": {},
   "outputs": [],
   "source": []
  },
  {
   "cell_type": "code",
   "execution_count": null,
   "id": "67a75e8a",
   "metadata": {},
   "outputs": [],
   "source": []
  },
  {
   "cell_type": "code",
   "execution_count": null,
   "id": "efd1a001",
   "metadata": {},
   "outputs": [],
   "source": []
  },
  {
   "cell_type": "code",
   "execution_count": null,
   "id": "33403396",
   "metadata": {},
   "outputs": [],
   "source": []
  },
  {
   "cell_type": "code",
   "execution_count": null,
   "id": "2bc84d22",
   "metadata": {},
   "outputs": [],
   "source": []
  },
  {
   "cell_type": "code",
   "execution_count": null,
   "id": "a1cafdd4",
   "metadata": {},
   "outputs": [],
   "source": []
  },
  {
   "cell_type": "code",
   "execution_count": null,
   "id": "247b6a30",
   "metadata": {},
   "outputs": [],
   "source": []
  },
  {
   "cell_type": "code",
   "execution_count": null,
   "id": "238ef0c2",
   "metadata": {},
   "outputs": [],
   "source": []
  },
  {
   "cell_type": "code",
   "execution_count": null,
   "id": "d8efee0e",
   "metadata": {},
   "outputs": [],
   "source": []
  },
  {
   "cell_type": "code",
   "execution_count": null,
   "id": "c98d0183",
   "metadata": {},
   "outputs": [],
   "source": []
  },
  {
   "cell_type": "code",
   "execution_count": null,
   "id": "9b7fab0a",
   "metadata": {},
   "outputs": [],
   "source": []
  },
  {
   "cell_type": "code",
   "execution_count": null,
   "id": "52bda862",
   "metadata": {},
   "outputs": [],
   "source": []
  },
  {
   "cell_type": "code",
   "execution_count": null,
   "id": "ea1729e3",
   "metadata": {},
   "outputs": [],
   "source": []
  },
  {
   "cell_type": "code",
   "execution_count": null,
   "id": "9c96a83a",
   "metadata": {},
   "outputs": [],
   "source": []
  },
  {
   "cell_type": "code",
   "execution_count": null,
   "id": "ed26ca90",
   "metadata": {},
   "outputs": [],
   "source": []
  },
  {
   "cell_type": "code",
   "execution_count": null,
   "id": "a5eba617",
   "metadata": {},
   "outputs": [],
   "source": []
  },
  {
   "cell_type": "code",
   "execution_count": null,
   "id": "c4bcced5",
   "metadata": {},
   "outputs": [],
   "source": []
  },
  {
   "cell_type": "code",
   "execution_count": null,
   "id": "f122dd08",
   "metadata": {},
   "outputs": [],
   "source": []
  },
  {
   "cell_type": "code",
   "execution_count": null,
   "id": "b3783923",
   "metadata": {},
   "outputs": [],
   "source": []
  },
  {
   "cell_type": "code",
   "execution_count": null,
   "id": "38be3bc6",
   "metadata": {},
   "outputs": [],
   "source": []
  },
  {
   "cell_type": "code",
   "execution_count": null,
   "id": "439595cb",
   "metadata": {},
   "outputs": [],
   "source": []
  },
  {
   "cell_type": "code",
   "execution_count": null,
   "id": "c27bcf57",
   "metadata": {},
   "outputs": [],
   "source": []
  },
  {
   "cell_type": "code",
   "execution_count": null,
   "id": "51b49b22",
   "metadata": {},
   "outputs": [],
   "source": []
  },
  {
   "cell_type": "code",
   "execution_count": null,
   "id": "2a2ac191",
   "metadata": {},
   "outputs": [],
   "source": []
  },
  {
   "cell_type": "code",
   "execution_count": null,
   "id": "5ca0157e",
   "metadata": {},
   "outputs": [],
   "source": []
  },
  {
   "cell_type": "code",
   "execution_count": null,
   "id": "569a3d9b",
   "metadata": {},
   "outputs": [],
   "source": []
  }
 ],
 "metadata": {
  "kernelspec": {
   "display_name": "Python 3 (ipykernel)",
   "language": "python",
   "name": "python3"
  },
  "language_info": {
   "codemirror_mode": {
    "name": "ipython",
    "version": 3
   },
   "file_extension": ".py",
   "mimetype": "text/x-python",
   "name": "python",
   "nbconvert_exporter": "python",
   "pygments_lexer": "ipython3",
   "version": "3.11.5"
  }
 },
 "nbformat": 4,
 "nbformat_minor": 5
}
