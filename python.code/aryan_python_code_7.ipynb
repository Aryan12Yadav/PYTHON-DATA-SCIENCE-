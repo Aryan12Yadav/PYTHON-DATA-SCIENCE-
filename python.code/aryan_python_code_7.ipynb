{
 "cells": [
  {
   "cell_type": "markdown",
   "id": "6c4ad7e8",
   "metadata": {},
   "source": [
    "# Object Oriented programming concept OOPs"
   ]
  },
  {
   "cell_type": "raw",
   "id": "fb7605ad",
   "metadata": {},
   "source": [
    "scripting = without creating any kind of stucture , if we write a code \n",
    "line by line like one line code \n",
    "without creating classes and object you can code inside the python"
   ]
  },
  {
   "cell_type": "code",
   "execution_count": null,
   "id": "1e4f68e8",
   "metadata": {},
   "outputs": [],
   "source": [
    "\n"
   ]
  },
  {
   "cell_type": "code",
   "execution_count": 86,
   "id": "65ae5048",
   "metadata": {},
   "outputs": [],
   "source": [
    "a =10 #  this is the object of the interger class\n",
    "b= 20 \n",
    "c =30"
   ]
  },
  {
   "cell_type": "code",
   "execution_count": 87,
   "id": "ef98ac85",
   "metadata": {},
   "outputs": [
    {
     "name": "stdout",
     "output_type": "stream",
     "text": [
      "<class 'int'>\n"
     ]
    }
   ],
   "source": [
    "print(type(a))"
   ]
  },
  {
   "cell_type": "code",
   "execution_count": 88,
   "id": "44d26985",
   "metadata": {},
   "outputs": [],
   "source": [
    "    a = \"aryan\""
   ]
  },
  {
   "cell_type": "code",
   "execution_count": 89,
   "id": "112e748d",
   "metadata": {},
   "outputs": [
    {
     "name": "stdout",
     "output_type": "stream",
     "text": [
      "<class 'str'>\n"
     ]
    }
   ],
   "source": [
    "print(type(a))"
   ]
  },
  {
   "cell_type": "code",
   "execution_count": 90,
   "id": "1e76747e",
   "metadata": {},
   "outputs": [],
   "source": [
    "class bankaccount():\n",
    "    \n",
    "    \n",
    "    def openaccount(self,name,email_id): # here self argument works as a pointer.\n",
    "        print(\"open the account by taking the name and the email id \")\n",
    "        return name+email_id\n",
    "    \n",
    "    def deposite(self,money):\n",
    "        print(\"I am trying to deposite the amount in my account..\")\n",
    "        \n",
    "    def withdraw(self,amt_wth):\n",
    "        print(\"i am withdrwing my amount.\")\n",
    "        \n",
    "    def update_detial(self,name_upd,email_upd):\n",
    "        print(\"this function will update my name and mail if for account\")\n",
    "        return name_upd + email_upd"
   ]
  },
  {
   "cell_type": "code",
   "execution_count": 91,
   "id": "ca4f29e1",
   "metadata": {},
   "outputs": [],
   "source": [
    "a = bankaccount()\n"
   ]
  },
  {
   "cell_type": "code",
   "execution_count": 92,
   "id": "37e767cf",
   "metadata": {},
   "outputs": [
    {
     "name": "stdout",
     "output_type": "stream",
     "text": [
      "open the account by taking the name and the email id \n"
     ]
    },
    {
     "data": {
      "text/plain": [
       "'Aryanoopsconcept@gmial.com'"
      ]
     },
     "execution_count": 92,
     "metadata": {},
     "output_type": "execute_result"
    }
   ],
   "source": [
    "a.openaccount(\"Aryan\",\"oopsconcept@gmial.com\")"
   ]
  },
  {
   "cell_type": "code",
   "execution_count": 93,
   "id": "2f98bb64",
   "metadata": {},
   "outputs": [
    {
     "name": "stdout",
     "output_type": "stream",
     "text": [
      "this function will update my name and mail if for account\n"
     ]
    },
    {
     "data": {
      "text/plain": [
       "'prinsharma@gmai.com'"
      ]
     },
     "execution_count": 93,
     "metadata": {},
     "output_type": "execute_result"
    }
   ],
   "source": [
    "a.update_detial('prin','sharma@gmai.com')"
   ]
  },
  {
   "cell_type": "code",
   "execution_count": 1,
   "id": "f9a60948",
   "metadata": {},
   "outputs": [],
   "source": [
    " class list_ops:\n",
    "    a = 10\n",
    "    practice = 54 \n",
    "    \n",
    "     \n",
    "    def __init__(uiet,l):   # constractor method  , init function is used to initialise my class \n",
    "        uiet.A = l            #  varialbe with some data \n",
    "        uiet.aryan = 30\n",
    "        uiet.l2 = \"string\"\n",
    "        uiet.l3 = (\"aryan\",\"deskgotp\",37,\"ok\")\n",
    "        uiet.l5 = \" \"\n",
    "        uiet.l4 = 3+3\n",
    "    def extract_index(uiet,l,index):\n",
    "        return l[index]\n",
    "    def extract_indexlist(uiet,l,start,end):\n",
    "        return l[start:end]\n",
    "    def extract_even_num(uiet,l):\n",
    "        l12 = []\n",
    "        for i in l:\n",
    "            if i%2==0:\n",
    "                l12.append(i)\n",
    "        return l12\n",
    "    "
   ]
  },
  {
   "cell_type": "raw",
   "id": "387fe14c",
   "metadata": {},
   "source": [
    "__init__  is called as constractor method it will initialise the class \n",
    "1. it have to provide the data to the class to different \n",
    "data "
   ]
  },
  {
   "cell_type": "code",
   "execution_count": 3,
   "id": "fd95387b",
   "metadata": {},
   "outputs": [
    {
     "data": {
      "text/plain": [
       "[1, 1, 1, 1, 11]"
      ]
     },
     "execution_count": 3,
     "metadata": {},
     "output_type": "execute_result"
    }
   ],
   "source": [
    "using_class = list_ops([1,1,1,1,11])\n",
    "using_class.A\n"
   ]
  },
  {
   "cell_type": "code",
   "execution_count": 4,
   "id": "21dd78e4",
   "metadata": {},
   "outputs": [
    {
     "data": {
      "text/plain": [
       "30"
      ]
     },
     "execution_count": 4,
     "metadata": {},
     "output_type": "execute_result"
    }
   ],
   "source": [
    "using_class.aryan"
   ]
  },
  {
   "cell_type": "code",
   "execution_count": 5,
   "id": "fa580784",
   "metadata": {},
   "outputs": [
    {
     "data": {
      "text/plain": [
       "'string'"
      ]
     },
     "execution_count": 5,
     "metadata": {},
     "output_type": "execute_result"
    }
   ],
   "source": [
    "using_class.l2"
   ]
  },
  {
   "cell_type": "code",
   "execution_count": 6,
   "id": "82bde333",
   "metadata": {},
   "outputs": [
    {
     "data": {
      "text/plain": [
       "('aryan', 'deskgotp', 37, 'ok')"
      ]
     },
     "execution_count": 6,
     "metadata": {},
     "output_type": "execute_result"
    }
   ],
   "source": [
    "using_class.l3"
   ]
  },
  {
   "cell_type": "code",
   "execution_count": 7,
   "id": "9e391348",
   "metadata": {},
   "outputs": [
    {
     "data": {
      "text/plain": [
       "6"
      ]
     },
     "execution_count": 7,
     "metadata": {},
     "output_type": "execute_result"
    }
   ],
   "source": [
    "using_class.l4"
   ]
  },
  {
   "cell_type": "code",
   "execution_count": 8,
   "id": "20f675c4",
   "metadata": {},
   "outputs": [
    {
     "data": {
      "text/plain": [
       "' '"
      ]
     },
     "execution_count": 8,
     "metadata": {},
     "output_type": "execute_result"
    }
   ],
   "source": [
    "using_class.l5"
   ]
  },
  {
   "cell_type": "code",
   "execution_count": 9,
   "id": "797b7eb8",
   "metadata": {},
   "outputs": [
    {
     "data": {
      "text/plain": [
       "[2, 6, 6, 68, 0]"
      ]
     },
     "execution_count": 9,
     "metadata": {},
     "output_type": "execute_result"
    }
   ],
   "source": [
    "using_class.extract_even_num([2,45,6,6,77,3,68,9,87,5,0])"
   ]
  },
  {
   "cell_type": "code",
   "execution_count": 10,
   "id": "f558068d",
   "metadata": {},
   "outputs": [
    {
     "data": {
      "text/plain": [
       "[75, 7]"
      ]
     },
     "execution_count": 10,
     "metadata": {},
     "output_type": "execute_result"
    }
   ],
   "source": [
    "using_class.extract_indexlist([2,75,7,85,4,7,0,891,37,489],1,3)"
   ]
  },
  {
   "cell_type": "code",
   "execution_count": 15,
   "id": "62285103",
   "metadata": {},
   "outputs": [
    {
     "data": {
      "text/plain": [
       "7"
      ]
     },
     "execution_count": 15,
     "metadata": {},
     "output_type": "execute_result"
    }
   ],
   "source": [
    "using_class.extract_index([3,6,57,23,35,7,14,1230],5)"
   ]
  },
  {
   "cell_type": "code",
   "execution_count": 12,
   "id": "69ce6f3c",
   "metadata": {},
   "outputs": [
    {
     "data": {
      "text/plain": [
       "10"
      ]
     },
     "execution_count": 12,
     "metadata": {},
     "output_type": "execute_result"
    }
   ],
   "source": [
    "using_class.a"
   ]
  },
  {
   "cell_type": "code",
   "execution_count": 120,
   "id": "51091e95",
   "metadata": {},
   "outputs": [
    {
     "data": {
      "text/plain": [
       "54"
      ]
     },
     "execution_count": 120,
     "metadata": {},
     "output_type": "execute_result"
    }
   ],
   "source": [
    "using_class.practice"
   ]
  },
  {
   "cell_type": "code",
   "execution_count": 129,
   "id": "66c57b52",
   "metadata": {},
   "outputs": [],
   "source": [
    "class book:\n",
    "    def __init__(self,name,title,pageno):\n",
    "        self.name_of_the_book = name\n",
    "        self.title_of_the_book = title\n",
    "        self.pageno_of_the_book = pageno\n",
    "        \n",
    "    def extract_details(self):\n",
    "        print(self.name_of_the_book,self.pageno_of_the_book)\n",
    "        \n",
    "    def print_page_no(self):\n",
    "        print(self.pageno_of_the_book)"
   ]
  },
  {
   "cell_type": "code",
   "execution_count": 130,
   "id": "7c82b98c",
   "metadata": {},
   "outputs": [],
   "source": [
    "aryan = book('mathematics',\"cingage\",384)\n",
    "rohit = book(\"python\",'morgan',81)\n",
    "john = book('let us C','guido van russom',982)"
   ]
  },
  {
   "cell_type": "code",
   "execution_count": 131,
   "id": "704992ec",
   "metadata": {},
   "outputs": [
    {
     "name": "stdout",
     "output_type": "stream",
     "text": [
      "mathematics 384\n"
     ]
    }
   ],
   "source": [
    "aryan.extract_details()"
   ]
  },
  {
   "cell_type": "code",
   "execution_count": 132,
   "id": "a8c784b9",
   "metadata": {},
   "outputs": [
    {
     "name": "stdout",
     "output_type": "stream",
     "text": [
      "python 81\n"
     ]
    }
   ],
   "source": [
    "rohit.extract_details()"
   ]
  },
  {
   "cell_type": "code",
   "execution_count": 133,
   "id": "f975e6e7",
   "metadata": {},
   "outputs": [
    {
     "name": "stdout",
     "output_type": "stream",
     "text": [
      "81\n"
     ]
    }
   ],
   "source": [
    "rohit.print_page_no()"
   ]
  },
  {
   "cell_type": "code",
   "execution_count": 134,
   "id": "822160c6",
   "metadata": {},
   "outputs": [
    {
     "name": "stdout",
     "output_type": "stream",
     "text": [
      "982\n"
     ]
    }
   ],
   "source": [
    "john.print_page_no()"
   ]
  },
  {
   "cell_type": "code",
   "execution_count": 16,
   "id": "4fb39111",
   "metadata": {},
   "outputs": [
    {
     "ename": "NameError",
     "evalue": "name 'john' is not defined",
     "output_type": "error",
     "traceback": [
      "\u001b[1;31m---------------------------------------------------------------------------\u001b[0m",
      "\u001b[1;31mNameError\u001b[0m                                 Traceback (most recent call last)",
      "Cell \u001b[1;32mIn[16], line 1\u001b[0m\n\u001b[1;32m----> 1\u001b[0m john\u001b[38;5;241m.\u001b[39mextract_details()\n",
      "\u001b[1;31mNameError\u001b[0m: name 'john' is not defined"
     ]
    }
   ],
   "source": [
    "john.extract_details()"
   ]
  },
  {
   "cell_type": "code",
   "execution_count": 17,
   "id": "dd5db977",
   "metadata": {},
   "outputs": [],
   "source": [
    "class Book:\n",
    "    def __init__(self):\n",
    "        self.book = \"hk das\"\n",
    "        self.title = \"Introduction of gamma function\"\n",
    "        self.pageno = 564\n",
    "    \n",
    "    def extract(self):\n",
    "        print(self.book)\n",
    "    def extract_title(self):\n",
    "        print(self.title)\n",
    "    def extract_pageno(self):\n",
    "        print(self.pageno)"
   ]
  },
  {
   "cell_type": "code",
   "execution_count": 18,
   "id": "640c0d5d",
   "metadata": {},
   "outputs": [],
   "source": [
    "output = Book()"
   ]
  },
  {
   "cell_type": "code",
   "execution_count": 19,
   "id": "f55e08e8",
   "metadata": {},
   "outputs": [
    {
     "name": "stdout",
     "output_type": "stream",
     "text": [
      "hk das\n"
     ]
    }
   ],
   "source": [
    "output.extract()"
   ]
  },
  {
   "cell_type": "code",
   "execution_count": 20,
   "id": "263701bd",
   "metadata": {},
   "outputs": [
    {
     "name": "stdout",
     "output_type": "stream",
     "text": [
      "564\n"
     ]
    }
   ],
   "source": [
    "output.extract_pageno()"
   ]
  },
  {
   "cell_type": "code",
   "execution_count": 21,
   "id": "8f42d3d6",
   "metadata": {},
   "outputs": [
    {
     "name": "stdout",
     "output_type": "stream",
     "text": [
      "Introduction of gamma function\n"
     ]
    }
   ],
   "source": [
    "output.extract_title()"
   ]
  },
  {
   "cell_type": "code",
   "execution_count": 22,
   "id": "9523d9db",
   "metadata": {},
   "outputs": [],
   "source": [
    "class email_ops:\n",
    "    def __init__(self,userid,userpass):\n",
    "        self.user_id = userid\n",
    "        self.user_pass = userpass\n",
    "        self.user_url = \"https://mail.google.com/mail/u/1/#inbox\"\n",
    "\n",
    "    def extract_user_id(self):\n",
    "        print(\"take the user id \" + self.user_id + \"password\" + self.user_pass+\"hit url  \" + self.user_url)\n",
    "        print(\"Login\")\n",
    "    def extract_mail(self):\n",
    "        print(\"read the \" + self.user_id +  \"  \"+ self.user_pass)\n",
    "    def reply_mail(self):\n",
    "        print(\"reply mail for \"+ \" \"+ self.user_id+ \" \" + self.user_url)"
   ]
  },
  {
   "cell_type": "code",
   "execution_count": 23,
   "id": "f2a96b7b",
   "metadata": {},
   "outputs": [],
   "source": [
    "us = email_ops(\"aryan\",'krishna')"
   ]
  },
  {
   "cell_type": "code",
   "execution_count": 24,
   "id": "763e34a3",
   "metadata": {},
   "outputs": [],
   "source": [
    "m = email_ops('harry','green')"
   ]
  },
  {
   "cell_type": "code",
   "execution_count": 25,
   "id": "b8171c94",
   "metadata": {},
   "outputs": [
    {
     "name": "stdout",
     "output_type": "stream",
     "text": [
      "take the user id aryanpasswordkrishnahit url  https://mail.google.com/mail/u/1/#inbox\n",
      "Login\n"
     ]
    }
   ],
   "source": [
    "us.extract_user_id()"
   ]
  },
  {
   "cell_type": "code",
   "execution_count": 26,
   "id": "ade8955c",
   "metadata": {},
   "outputs": [
    {
     "name": "stdout",
     "output_type": "stream",
     "text": [
      "reply mail for  harry https://mail.google.com/mail/u/1/#inbox\n"
     ]
    }
   ],
   "source": [
    "m.reply_mail()"
   ]
  },
  {
   "cell_type": "code",
   "execution_count": 27,
   "id": "1b274886",
   "metadata": {},
   "outputs": [
    {
     "name": "stdout",
     "output_type": "stream",
     "text": [
      "read the harry  green\n"
     ]
    }
   ],
   "source": [
    "m.extract_mail()"
   ]
  },
  {
   "cell_type": "code",
   "execution_count": 28,
   "id": "8f054c1e",
   "metadata": {},
   "outputs": [
    {
     "name": "stdout",
     "output_type": "stream",
     "text": [
      "reply mail for  aryan https://mail.google.com/mail/u/1/#inbox\n"
     ]
    }
   ],
   "source": [
    "us.reply_mail()"
   ]
  },
  {
   "cell_type": "code",
   "execution_count": 29,
   "id": "d746e4a6",
   "metadata": {},
   "outputs": [],
   "source": [
    "from functools import reduce\n",
    "class calculator:\n",
    "    \n",
    "    def __init__(self,usernam):\n",
    "        \n",
    "        self.user_name = usernam\n",
    "        \n",
    "        \n",
    "    def add(self,*args):\n",
    "        return self.user_name , sum(args)\n",
    "    \n",
    "    def substraction(self,*args):\n",
    "        return self.user_name ,reduce(lambda x,y:x-y,args)\n",
    "    \n",
    "    def multiply(self,*args):\n",
    "        return self.user_name, reduce(lambda p,q:p*q,args)\n",
    "    \n",
    "    def division(self,*args):\n",
    "        return self.user_name, reduce(lambda a,b:a/b,args)"
   ]
  },
  {
   "cell_type": "code",
   "execution_count": 30,
   "id": "109889ce",
   "metadata": {},
   "outputs": [],
   "source": [
    "calci = calculator(\"tang\")"
   ]
  },
  {
   "cell_type": "code",
   "execution_count": 31,
   "id": "29332860",
   "metadata": {},
   "outputs": [
    {
     "data": {
      "text/plain": [
       "('tang', 37)"
      ]
     },
     "execution_count": 31,
     "metadata": {},
     "output_type": "execute_result"
    }
   ],
   "source": [
    "calci.add(32,5)"
   ]
  },
  {
   "cell_type": "code",
   "execution_count": 32,
   "id": "ae8256b6",
   "metadata": {},
   "outputs": [
    {
     "data": {
      "text/plain": [
       "('tang', 104)"
      ]
     },
     "execution_count": 32,
     "metadata": {},
     "output_type": "execute_result"
    }
   ],
   "source": [
    "calci.add(3,5,46,46,4)"
   ]
  },
  {
   "cell_type": "code",
   "execution_count": 397,
   "id": "fc9ae7d3",
   "metadata": {},
   "outputs": [
    {
     "data": {
      "text/plain": [
       "('tang', 2)"
      ]
     },
     "execution_count": 397,
     "metadata": {},
     "output_type": "execute_result"
    }
   ],
   "source": [
    "calci.substraction(7,5)"
   ]
  },
  {
   "cell_type": "code",
   "execution_count": 398,
   "id": "be3b82f0",
   "metadata": {},
   "outputs": [
    {
     "data": {
      "text/plain": [
       "('tang', 300)"
      ]
     },
     "execution_count": 398,
     "metadata": {},
     "output_type": "execute_result"
    }
   ],
   "source": [
    "calci.multiply(3,4,5,5)"
   ]
  },
  {
   "cell_type": "code",
   "execution_count": 401,
   "id": "97c92c80",
   "metadata": {},
   "outputs": [
    {
     "data": {
      "text/plain": [
       "('tang', 0.003968253968253968)"
      ]
     },
     "execution_count": 401,
     "metadata": {},
     "output_type": "execute_result"
    }
   ],
   "source": [
    "calci.division(2,7,9,8)"
   ]
  },
  {
   "cell_type": "code",
   "execution_count": 402,
   "id": "8e5f22e4",
   "metadata": {},
   "outputs": [
    {
     "data": {
      "text/plain": [
       "tuple"
      ]
     },
     "execution_count": 402,
     "metadata": {},
     "output_type": "execute_result"
    }
   ],
   "source": [
    "type(calci.division(2,7,9,8))"
   ]
  },
  {
   "cell_type": "code",
   "execution_count": null,
   "id": "9474319a",
   "metadata": {},
   "outputs": [],
   "source": []
  }
 ],
 "metadata": {
  "kernelspec": {
   "display_name": "Python 3 (ipykernel)",
   "language": "python",
   "name": "python3"
  },
  "language_info": {
   "codemirror_mode": {
    "name": "ipython",
    "version": 3
   },
   "file_extension": ".py",
   "mimetype": "text/x-python",
   "name": "python",
   "nbconvert_exporter": "python",
   "pygments_lexer": "ipython3",
   "version": "3.11.5"
  }
 },
 "nbformat": 4,
 "nbformat_minor": 5
}
