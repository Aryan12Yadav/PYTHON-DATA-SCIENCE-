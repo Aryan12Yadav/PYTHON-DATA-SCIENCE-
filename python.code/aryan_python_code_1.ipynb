{
 "cells": [
  {
   "cell_type": "code",
   "execution_count": 1,
   "id": "5d3daace",
   "metadata": {},
   "outputs": [
    {
     "name": "stdout",
     "output_type": "stream",
     "text": [
      "0\n",
      "1\n",
      "2\n",
      "3\n"
     ]
    }
   ],
   "source": [
    "for i in range(4):\n",
    "    print(i)"
   ]
  },
  {
   "cell_type": "code",
   "execution_count": 80,
   "id": "770ae5a3",
   "metadata": {},
   "outputs": [
    {
     "name": "stdout",
     "output_type": "stream",
     "text": [
      "sun\n",
      "monday\n",
      "Tuesday \n",
      "wednesday\n",
      "thursday\n",
      "Friday\n",
      "saturday\n"
     ]
    }
   ],
   "source": [
    "days = 0\n",
    "week = [\"sun\",\"monday\",\"Tuesday \",\"wednesday\",\"thursday\",\"Friday\",\"saturday\"]\n",
    "while days<7:\n",
    "    print(week[days])\n",
    "    days +=1"
   ]
  },
  {
   "cell_type": "code",
   "execution_count": 85,
   "id": "37f3da75",
   "metadata": {},
   "outputs": [
    {
     "name": "stdout",
     "output_type": "stream",
     "text": [
      "enter the three words inputar wretw ddgsg\n"
     ]
    }
   ],
   "source": [
    "a = input(\"enter the three words input\")\n"
   ]
  },
  {
   "cell_type": "code",
   "execution_count": 86,
   "id": "a35b54ff",
   "metadata": {},
   "outputs": [],
   "source": [
    "w1,w2,w3 = a.split()\n"
   ]
  },
  {
   "cell_type": "code",
   "execution_count": 87,
   "id": "70db064d",
   "metadata": {},
   "outputs": [
    {
     "data": {
      "text/plain": [
       "'ar'"
      ]
     },
     "execution_count": 87,
     "metadata": {},
     "output_type": "execute_result"
    }
   ],
   "source": [
    "w1"
   ]
  },
  {
   "cell_type": "code",
   "execution_count": 88,
   "id": "3f8e89ba",
   "metadata": {},
   "outputs": [
    {
     "data": {
      "text/plain": [
       "'wretw'"
      ]
     },
     "execution_count": 88,
     "metadata": {},
     "output_type": "execute_result"
    }
   ],
   "source": [
    "w2"
   ]
  },
  {
   "cell_type": "code",
   "execution_count": 7,
   "id": "727fae4b",
   "metadata": {},
   "outputs": [
    {
     "data": {
      "text/plain": [
       "'uytd'"
      ]
     },
     "execution_count": 7,
     "metadata": {},
     "output_type": "execute_result"
    }
   ],
   "source": [
    "w3"
   ]
  },
  {
   "cell_type": "code",
   "execution_count": 8,
   "id": "b52914e6",
   "metadata": {},
   "outputs": [
    {
     "name": "stdout",
     "output_type": "stream",
     "text": [
      "enter6 7\n"
     ]
    },
    {
     "data": {
      "text/plain": [
       "13"
      ]
     },
     "execution_count": 8,
     "metadata": {},
     "output_type": "execute_result"
    }
   ],
   "source": [
    "a,b = input(\"enter\").split()\n",
    "c = int(a)+int(b)\n",
    "c"
   ]
  },
  {
   "cell_type": "code",
   "execution_count": 12,
   "id": "c354ae95",
   "metadata": {},
   "outputs": [
    {
     "name": "stdout",
     "output_type": "stream",
     "text": [
      "Enter the input atleast two number 60 5\n",
      "65\n"
     ]
    }
   ],
   "source": [
    "x = input(\"Enter the input atleast two number \")\n",
    "sum = (int(x.split()[0])+ int(x.split()[1]))\n",
    "print(sum)"
   ]
  },
  {
   "cell_type": "code",
   "execution_count": 89,
   "id": "03fcd31d",
   "metadata": {},
   "outputs": [
    {
     "name": "stdout",
     "output_type": "stream",
     "text": [
      "['a', 'r', 'y', 'a', 'n y a d ']\n"
     ]
    }
   ],
   "source": [
    " t = \"a r y a n y a d \"\n",
    "print(t.split(' ',4))  # print(t.split('seperator',maxsplit))\n"
   ]
  },
  {
   "cell_type": "code",
   "execution_count": 14,
   "id": "5884d8e7",
   "metadata": {},
   "outputs": [
    {
     "name": "stdout",
     "output_type": "stream",
     "text": [
      "['a', 'r', 'y', 'a n y a d ']\n"
     ]
    }
   ],
   "source": [
    "print(t.split(' ',3))"
   ]
  },
  {
   "cell_type": "code",
   "execution_count": 15,
   "id": "2a02b65d",
   "metadata": {},
   "outputs": [
    {
     "name": "stdout",
     "output_type": "stream",
     "text": [
      "['hello.', 'aryan', 'yadav', 'prince', 'yadavooriyaooanvi']\n"
     ]
    }
   ],
   "source": [
    "m= \"hello.ooaryanooyadavooprinceooyadavooriyaooanvi\"\n",
    "print(m.split('oo',4))                    # in this data oo daily data  \n",
    "\n"
   ]
  },
  {
   "cell_type": "code",
   "execution_count": 16,
   "id": "196e1bf4",
   "metadata": {},
   "outputs": [
    {
     "name": "stdout",
     "output_type": "stream",
     "text": [
      "letter p\n",
      "letter w\n",
      "letter s\n",
      "letter k\n",
      "letter i\n"
     ]
    }
   ],
   "source": [
    "for letter in \"pwskills\":\n",
    "    if letter ==\"l\":\n",
    "        break\n",
    "    print(\"letter\",letter)"
   ]
  },
  {
   "cell_type": "code",
   "execution_count": 17,
   "id": "96ed2373",
   "metadata": {},
   "outputs": [
    {
     "name": "stdout",
     "output_type": "stream",
     "text": [
      "a\n",
      "b\n",
      "c\n",
      "d\n",
      "e\n"
     ]
    }
   ],
   "source": [
    "for i in \"abcdefghijklmnopqrstuvwxyz\":\n",
    "    if i == \"f\":\n",
    "        break\n",
    "    print(i)"
   ]
  },
  {
   "cell_type": "code",
   "execution_count": 18,
   "id": "582afbd2",
   "metadata": {},
   "outputs": [
    {
     "name": "stdout",
     "output_type": "stream",
     "text": [
      "1\n",
      "2\n",
      "3\n",
      "4\n",
      "5\n"
     ]
    }
   ],
   "source": [
    " x = 1\n",
    "while x<=10:\n",
    "    print(x)\n",
    "    if x>=5:\n",
    "        break\n",
    "    x= x+1"
   ]
  },
  {
   "cell_type": "code",
   "execution_count": 19,
   "id": "73cf3b39",
   "metadata": {},
   "outputs": [
    {
     "name": "stdout",
     "output_type": "stream",
     "text": [
      "a\n",
      "r\n",
      "y\n",
      "a\n",
      "n\n",
      " \n",
      "y\n",
      "a\n",
      "d\n"
     ]
    }
   ],
   "source": [
    " n = \"aryan yadav\"\n",
    "for s in n:\n",
    "    print(s)\n",
    "    if s==\"d\":\n",
    "        break\n",
    "    "
   ]
  },
  {
   "cell_type": "markdown",
   "id": "f4577ff1",
   "metadata": {},
   "source": [
    "\\when it is break====end the loop\n",
    "whenever if continue === it just skip the iterate on the loop"
   ]
  },
  {
   "cell_type": "code",
   "execution_count": 20,
   "id": "e0327fb5",
   "metadata": {},
   "outputs": [
    {
     "name": "stdout",
     "output_type": "stream",
     "text": [
      "0 1 2 3 4 5 6 8 9 "
     ]
    }
   ],
   "source": [
    "for i in range(10):\n",
    "        if i ==7:\n",
    "            continue\n",
    "        print(i,end=\" \")"
   ]
  },
  {
   "cell_type": "code",
   "execution_count": 24,
   "id": "7cd9521c",
   "metadata": {},
   "outputs": [
    {
     "name": "stdout",
     "output_type": "stream",
     "text": [
      "c,  , h,  , a,  , t,  , r,  , a,  ,  , a,  , t,  , i, "
     ]
    }
   ],
   "source": [
    "f = \"c h a t r a p a t i\"\n",
    "len(f)\n",
    "for a in range(len(f)):\n",
    "    if a ==12:\n",
    "        continue\n",
    "    print(f[a],end=', ')"
   ]
  },
  {
   "cell_type": "code",
   "execution_count": 22,
   "id": "e7720c8e",
   "metadata": {},
   "outputs": [
    {
     "name": "stdout",
     "output_type": "stream",
     "text": [
      "a~r~y~a~n~4~1~"
     ]
    }
   ],
   "source": [
    "s = \"aryan4149ys\"\n",
    "for x in s:\n",
    "    print(x,end=\"~\")\n",
    "    if x == \"1\":\n",
    "        break"
   ]
  },
  {
   "cell_type": "code",
   "execution_count": 23,
   "id": "8a514acb",
   "metadata": {},
   "outputs": [
    {
     "name": "stdout",
     "output_type": "stream",
     "text": [
      "h\n",
      "e\n",
      "l\n",
      "l\n",
      "o\n",
      " \n",
      ",\n"
     ]
    }
   ],
   "source": [
    "ar = \"hello , Lucknow\"\n",
    "for char in ar:\n",
    "    print(char)\n",
    "    if char ==\",\":\n",
    "        break"
   ]
  },
  {
   "cell_type": "code",
   "execution_count": 24,
   "id": "d98f7e94",
   "metadata": {},
   "outputs": [
    {
     "name": "stdout",
     "output_type": "stream",
     "text": [
      "1   `3   `5   `7   `9   `11   `13   `"
     ]
    }
   ],
   "source": [
    "for i in range(14):\n",
    "    if i%2==0:\n",
    "        continue\n",
    "    print(i,end=\"   `\")"
   ]
  },
  {
   "cell_type": "code",
   "execution_count": 25,
   "id": "8c18406f",
   "metadata": {},
   "outputs": [
    {
     "name": "stdout",
     "output_type": "stream",
     "text": [
      "hello\n"
     ]
    }
   ],
   "source": [
    "n = 10\n",
    "if n>10:\n",
    "    pass\n",
    "print(\"hello\")   # pass will do  nothing but it just provide \n",
    "#               address when you code something in later "
   ]
  },
  {
   "cell_type": "code",
   "execution_count": 26,
   "id": "08b9eeab",
   "metadata": {},
   "outputs": [
    {
     "name": "stdout",
     "output_type": "stream",
     "text": [
      "E\n",
      "n\n",
      "g\n",
      "i\n",
      "n\n",
      "e\n",
      "e\n",
      "r\n"
     ]
    }
   ],
   "source": [
    "x   = \"Engineer\"\n",
    "for i in x:\n",
    "    if i =='e':\n",
    "        pass\n",
    "    print(i)"
   ]
  },
  {
   "cell_type": "markdown",
   "id": "3fa7fbe2",
   "metadata": {},
   "source": [
    "# Functions\n",
    "\n",
    "to do a specific task  \n",
    "reusediblilty of the code "
   ]
  },
  {
   "cell_type": "code",
   "execution_count": 27,
   "id": "7f640ebd",
   "metadata": {},
   "outputs": [
    {
     "name": "stdout",
     "output_type": "stream",
     "text": [
      "13\n"
     ]
    }
   ],
   "source": [
    "a = 10 \n",
    "b = 3\n",
    "print(a+b)"
   ]
  },
  {
   "cell_type": "code",
   "execution_count": 28,
   "id": "6afdc02e",
   "metadata": {},
   "outputs": [
    {
     "name": "stdout",
     "output_type": "stream",
     "text": [
      "47\n"
     ]
    }
   ],
   "source": [
    "a = 45\n",
    "b = 2\n",
    "print (a+b)"
   ]
  },
  {
   "cell_type": "code",
   "execution_count": 25,
   "id": "05a9dc73",
   "metadata": {},
   "outputs": [],
   "source": [
    "def add():\n",
    "    # function body\n",
    "    return \n",
    "\n",
    "# proper structure of the function "
   ]
  },
  {
   "cell_type": "code",
   "execution_count": 26,
   "id": "822e6a3b",
   "metadata": {},
   "outputs": [],
   "source": [
    "def functionname(arguments):\n",
    "    return"
   ]
  },
  {
   "cell_type": "code",
   "execution_count": 27,
   "id": "4e899adb",
   "metadata": {},
   "outputs": [
    {
     "name": "stdout",
     "output_type": "stream",
     "text": [
      "hello world\n"
     ]
    }
   ],
   "source": [
    "def greet():\n",
    "    print(\"hello world\")\n",
    "greet()"
   ]
  },
  {
   "cell_type": "code",
   "execution_count": 28,
   "id": "93f1b112",
   "metadata": {},
   "outputs": [
    {
     "name": "stdout",
     "output_type": "stream",
     "text": [
      "hello world\n"
     ]
    }
   ],
   "source": [
    "greet()"
   ]
  },
  {
   "cell_type": "code",
   "execution_count": 29,
   "id": "49e1a4aa",
   "metadata": {},
   "outputs": [],
   "source": [
    "def addnumb():\n",
    "    a = 2 \n",
    "    b = 344\n",
    "    c = a+b\n",
    "    print(c)"
   ]
  },
  {
   "cell_type": "code",
   "execution_count": 30,
   "id": "de0cee6c",
   "metadata": {},
   "outputs": [
    {
     "name": "stdout",
     "output_type": "stream",
     "text": [
      "346\n"
     ]
    }
   ],
   "source": [
    "addnumb()"
   ]
  },
  {
   "cell_type": "code",
   "execution_count": 31,
   "id": "ac0ae510",
   "metadata": {},
   "outputs": [],
   "source": [
    "def addtwonumber():\n",
    "    a = input(\"enter the first number :\")\n",
    "    b = input(\"Enter the second  number : \")\n",
    "    c =  int(a) + int(b)\n",
    "    print(c)"
   ]
  },
  {
   "cell_type": "code",
   "execution_count": 33,
   "id": "659b1048",
   "metadata": {},
   "outputs": [
    {
     "name": "stdout",
     "output_type": "stream",
     "text": [
      "enter the first number :6 \n",
      "Enter the second  number : 3\n",
      "9\n"
     ]
    }
   ],
   "source": [
    "addtwonumber()"
   ]
  },
  {
   "cell_type": "code",
   "execution_count": 39,
   "id": "c9077b59",
   "metadata": {},
   "outputs": [],
   "source": [
    "def multiply(x,y):   # x, y in the bracket called as position aruguments in the data \n",
    "    a = x\n",
    "    b = y\n",
    "    c= a*b\n",
    "    print(c)"
   ]
  },
  {
   "cell_type": "code",
   "execution_count": 40,
   "id": "e8786426",
   "metadata": {},
   "outputs": [
    {
     "name": "stdout",
     "output_type": "stream",
     "text": [
      "35\n"
     ]
    }
   ],
   "source": [
    "multiply(5,7)"
   ]
  },
  {
   "cell_type": "code",
   "execution_count": 41,
   "id": "901e8a5c",
   "metadata": {},
   "outputs": [],
   "source": [
    "def introduction(name):\n",
    "    a = (\"hello\",name,\"ji\")\n",
    "    print(a)"
   ]
  },
  {
   "cell_type": "code",
   "execution_count": 42,
   "id": "6a2304b7",
   "metadata": {},
   "outputs": [
    {
     "name": "stdout",
     "output_type": "stream",
     "text": [
      "('hello', 'Aryan', 'ji')\n"
     ]
    }
   ],
   "source": [
    "introduction(\"Aryan\")"
   ]
  },
  {
   "cell_type": "code",
   "execution_count": 43,
   "id": "fb437b97",
   "metadata": {},
   "outputs": [],
   "source": [
    "def bio(name, surname, address):\n",
    "    print(\"your name is:\",name,surname,\"and your address is\",address)"
   ]
  },
  {
   "cell_type": "code",
   "execution_count": 44,
   "id": "5a8d94ca",
   "metadata": {},
   "outputs": [
    {
     "name": "stdout",
     "output_type": "stream",
     "text": [
      "your name is: Aryan yadav and your address is behatwa Amausi Lucknow \n"
     ]
    }
   ],
   "source": [
    "bio(\"Aryan\",\"yadav\",\"behatwa Amausi Lucknow \")"
   ]
  },
  {
   "cell_type": "markdown",
   "id": "79056c71",
   "metadata": {},
   "source": [
    " Create a python program that includes a user - defined function called print_even_ number(). \n",
    "    the function should prompt the user to set a range limit before printing \n",
    "    all even numbers upto that limit"
   ]
  },
  {
   "cell_type": "code",
   "execution_count": 45,
   "id": "dbcc00a2",
   "metadata": {},
   "outputs": [],
   "source": [
    "def print_even_number():\n",
    "    a = int(input(\"Enter the first number:\"))\n",
    "    b = int(input(\"Enter the second number:\"))\n",
    "    for i in range(a,b+1):\n",
    "        if i%2 ==0:\n",
    "            print(i,end= \" , \")"
   ]
  },
  {
   "cell_type": "code",
   "execution_count": 46,
   "id": "59e08f04",
   "metadata": {},
   "outputs": [
    {
     "name": "stdout",
     "output_type": "stream",
     "text": [
      "Enter the first number:5\n",
      "Enter the second number:17\n",
      "6 , 8 , 10 , 12 , 14 , 16 , "
     ]
    }
   ],
   "source": [
    "print_even_number()"
   ]
  },
  {
   "cell_type": "code",
   "execution_count": 50,
   "id": "1d2188cd",
   "metadata": {},
   "outputs": [
    {
     "name": "stdout",
     "output_type": "stream",
     "text": [
      "enter the two numbers4 9\n",
      "4 6 8 "
     ]
    }
   ],
   "source": [
    "def print_even_numbersd():\n",
    "    a , b = input(\"enter the two numbers\").split()\n",
    "\n",
    "    for i in range(int(a),(int(b))+1):\n",
    "        if i%2 == 0 :\n",
    "            print(i, end = ' ')\n",
    "\n",
    "print_even_numbersd()\n",
    "            "
   ]
  },
  {
   "cell_type": "raw",
   "id": "d296901e",
   "metadata": {},
   "source": [
    "Accept threee positive intergers as input and check if they form\n",
    "the sides of a right triangle. Print Yes if they form one, and No is they do not\n",
    ". The input wil have three lines, with one integer on each line. the output should be a \n",
    "single line containing one of these two strings: YES or NO."
   ]
  },
  {
   "cell_type": "code",
   "execution_count": 52,
   "id": "ec89764d",
   "metadata": {},
   "outputs": [],
   "source": [
    "def right_triangle():\n",
    "    L = int(input(\"Enter the length of the Triangle  :  \"))\n",
    "    B = int(input(\"Enter the breadth of the Triangle:  \"))\n",
    "    H = int(input(\"Enter the hypotenous of the triangle  :   \"))\n",
    "    sums = (L*L)+(B*B)\n",
    "    hsq = H*H\n",
    "    if sums == hsq:\n",
    "        print(\"It is the right  angled triangle\")\n",
    "    else:\n",
    "        print(\"\\n not a right angled triangled\")\n",
    "        "
   ]
  },
  {
   "cell_type": "code",
   "execution_count": 52,
   "id": "68f44490",
   "metadata": {},
   "outputs": [
    {
     "name": "stdout",
     "output_type": "stream",
     "text": [
      "Enter the length of the Triangle  :  3\n",
      "Enter the breadth of the Triangle:  4\n",
      "Enter the hypotenous of the triangle  :   5\n",
      "It is the right  angled triangle\n"
     ]
    }
   ],
   "source": [
    "right_triangle()"
   ]
  },
  {
   "cell_type": "code",
   "execution_count": 53,
   "id": "8038958c",
   "metadata": {},
   "outputs": [
    {
     "name": "stdout",
     "output_type": "stream",
     "text": [
      "Enter the side : 87\n",
      "Enter the side 2  8\n",
      "Enter the side 3  :8\n",
      "It is not a right angled trianle\n"
     ]
    }
   ],
   "source": [
    "def righttri():\n",
    "    a = int(input(\"Enter the side : \"))\n",
    "    b = int(input(\"Enter the side 2  \"))\n",
    "    c = int(input(\"Enter the side 3  :\"))\n",
    "    if a**2+b**2== c**2 or a**2+c**2 == b**2 or c**2+b**2 == a**2:\n",
    "        print(\"Hence, \\n it is the side of the right angled triangle\")\n",
    "    else:\n",
    "        print(\"It is not a right angled trianle\")\n",
    "righttri()"
   ]
  },
  {
   "cell_type": "markdown",
   "id": "6585c0d2",
   "metadata": {},
   "source": [
    "list tuple set  are the collection of the data  "
   ]
  },
  {
   "cell_type": "code",
   "execution_count": 54,
   "id": "4fb44e7a",
   "metadata": {},
   "outputs": [
    {
     "name": "stdout",
     "output_type": "stream",
     "text": [
      "0 1 2 3 4 5 6 7 8 9 10 "
     ]
    }
   ],
   "source": [
    "c = 0     # this position is called as counter \n",
    "while c<=10:\n",
    "    print(c,end=\" \")\n",
    "    c = c+1  #  here it will  calls as updater😊"
   ]
  },
  {
   "cell_type": "code",
   "execution_count": null,
   "id": "83e73885",
   "metadata": {},
   "outputs": [],
   "source": []
  },
  {
   "cell_type": "code",
   "execution_count": null,
   "id": "7c305582",
   "metadata": {},
   "outputs": [],
   "source": []
  },
  {
   "cell_type": "code",
   "execution_count": null,
   "id": "7fbc3421",
   "metadata": {},
   "outputs": [],
   "source": []
  },
  {
   "cell_type": "code",
   "execution_count": null,
   "id": "44964375",
   "metadata": {},
   "outputs": [],
   "source": []
  },
  {
   "cell_type": "code",
   "execution_count": null,
   "id": "4c6a5b73",
   "metadata": {},
   "outputs": [],
   "source": []
  },
  {
   "cell_type": "code",
   "execution_count": null,
   "id": "ebd22c69",
   "metadata": {},
   "outputs": [],
   "source": []
  },
  {
   "cell_type": "code",
   "execution_count": null,
   "id": "a83d8721",
   "metadata": {},
   "outputs": [],
   "source": []
  },
  {
   "cell_type": "code",
   "execution_count": null,
   "id": "2e1cf7c0",
   "metadata": {},
   "outputs": [],
   "source": []
  },
  {
   "cell_type": "code",
   "execution_count": null,
   "id": "b7479c17",
   "metadata": {},
   "outputs": [],
   "source": []
  },
  {
   "cell_type": "code",
   "execution_count": null,
   "id": "253e6e59",
   "metadata": {},
   "outputs": [],
   "source": []
  },
  {
   "cell_type": "code",
   "execution_count": null,
   "id": "49f86ae6",
   "metadata": {},
   "outputs": [],
   "source": []
  },
  {
   "cell_type": "code",
   "execution_count": null,
   "id": "98d43cb1",
   "metadata": {},
   "outputs": [],
   "source": []
  },
  {
   "cell_type": "code",
   "execution_count": null,
   "id": "c29e4c2e",
   "metadata": {},
   "outputs": [],
   "source": []
  },
  {
   "cell_type": "code",
   "execution_count": null,
   "id": "978fc5ad",
   "metadata": {},
   "outputs": [],
   "source": []
  },
  {
   "cell_type": "code",
   "execution_count": null,
   "id": "ccf249c9",
   "metadata": {},
   "outputs": [],
   "source": []
  },
  {
   "cell_type": "code",
   "execution_count": null,
   "id": "4ac1a337",
   "metadata": {},
   "outputs": [],
   "source": []
  },
  {
   "cell_type": "code",
   "execution_count": null,
   "id": "66bdef2b",
   "metadata": {},
   "outputs": [],
   "source": []
  },
  {
   "cell_type": "code",
   "execution_count": null,
   "id": "aa3e6ab1",
   "metadata": {},
   "outputs": [],
   "source": []
  },
  {
   "cell_type": "code",
   "execution_count": null,
   "id": "15d56660",
   "metadata": {},
   "outputs": [],
   "source": []
  },
  {
   "cell_type": "code",
   "execution_count": null,
   "id": "541fde7b",
   "metadata": {},
   "outputs": [],
   "source": []
  },
  {
   "cell_type": "code",
   "execution_count": null,
   "id": "c7323b89",
   "metadata": {},
   "outputs": [],
   "source": []
  },
  {
   "cell_type": "code",
   "execution_count": null,
   "id": "93029df3",
   "metadata": {},
   "outputs": [],
   "source": []
  },
  {
   "cell_type": "code",
   "execution_count": null,
   "id": "91aedb81",
   "metadata": {},
   "outputs": [],
   "source": []
  },
  {
   "cell_type": "code",
   "execution_count": null,
   "id": "42303a2d",
   "metadata": {},
   "outputs": [],
   "source": []
  },
  {
   "cell_type": "code",
   "execution_count": null,
   "id": "73b485ea",
   "metadata": {},
   "outputs": [],
   "source": []
  },
  {
   "cell_type": "code",
   "execution_count": null,
   "id": "22daa41c",
   "metadata": {},
   "outputs": [],
   "source": []
  },
  {
   "cell_type": "code",
   "execution_count": null,
   "id": "a73c8442",
   "metadata": {},
   "outputs": [],
   "source": []
  },
  {
   "cell_type": "code",
   "execution_count": null,
   "id": "8f7fa80c",
   "metadata": {},
   "outputs": [],
   "source": []
  },
  {
   "cell_type": "code",
   "execution_count": null,
   "id": "b3ad87bf",
   "metadata": {},
   "outputs": [],
   "source": []
  },
  {
   "cell_type": "code",
   "execution_count": null,
   "id": "95a48c76",
   "metadata": {},
   "outputs": [],
   "source": []
  },
  {
   "cell_type": "code",
   "execution_count": null,
   "id": "61564254",
   "metadata": {},
   "outputs": [],
   "source": []
  },
  {
   "cell_type": "code",
   "execution_count": null,
   "id": "c03123f7",
   "metadata": {},
   "outputs": [],
   "source": []
  },
  {
   "cell_type": "code",
   "execution_count": null,
   "id": "4a3cec71",
   "metadata": {},
   "outputs": [],
   "source": []
  },
  {
   "cell_type": "code",
   "execution_count": null,
   "id": "65d720fd",
   "metadata": {},
   "outputs": [],
   "source": []
  },
  {
   "cell_type": "code",
   "execution_count": null,
   "id": "356e043c",
   "metadata": {},
   "outputs": [],
   "source": []
  },
  {
   "cell_type": "code",
   "execution_count": null,
   "id": "f6319e4c",
   "metadata": {},
   "outputs": [],
   "source": []
  },
  {
   "cell_type": "code",
   "execution_count": null,
   "id": "b3f517e0",
   "metadata": {},
   "outputs": [],
   "source": []
  },
  {
   "cell_type": "code",
   "execution_count": null,
   "id": "87cb4c66",
   "metadata": {},
   "outputs": [],
   "source": []
  },
  {
   "cell_type": "code",
   "execution_count": null,
   "id": "7e07f0b4",
   "metadata": {},
   "outputs": [],
   "source": []
  },
  {
   "cell_type": "code",
   "execution_count": null,
   "id": "e5edd343",
   "metadata": {},
   "outputs": [],
   "source": []
  },
  {
   "cell_type": "code",
   "execution_count": null,
   "id": "b7cb7bbd",
   "metadata": {},
   "outputs": [],
   "source": []
  },
  {
   "cell_type": "code",
   "execution_count": null,
   "id": "35828576",
   "metadata": {},
   "outputs": [],
   "source": []
  },
  {
   "cell_type": "code",
   "execution_count": null,
   "id": "60da6078",
   "metadata": {},
   "outputs": [],
   "source": []
  },
  {
   "cell_type": "code",
   "execution_count": null,
   "id": "bdfa73ed",
   "metadata": {},
   "outputs": [],
   "source": []
  },
  {
   "cell_type": "code",
   "execution_count": null,
   "id": "6082625a",
   "metadata": {},
   "outputs": [],
   "source": []
  },
  {
   "cell_type": "code",
   "execution_count": null,
   "id": "2fdb7afe",
   "metadata": {},
   "outputs": [],
   "source": []
  },
  {
   "cell_type": "code",
   "execution_count": null,
   "id": "8a7dc7b2",
   "metadata": {},
   "outputs": [],
   "source": []
  },
  {
   "cell_type": "code",
   "execution_count": null,
   "id": "9cb35726",
   "metadata": {},
   "outputs": [],
   "source": []
  },
  {
   "cell_type": "code",
   "execution_count": null,
   "id": "daf8c1e4",
   "metadata": {},
   "outputs": [],
   "source": []
  },
  {
   "cell_type": "code",
   "execution_count": null,
   "id": "e86ddbda",
   "metadata": {},
   "outputs": [],
   "source": []
  },
  {
   "cell_type": "code",
   "execution_count": null,
   "id": "9488dc00",
   "metadata": {},
   "outputs": [],
   "source": []
  },
  {
   "cell_type": "code",
   "execution_count": null,
   "id": "0ab93ef0",
   "metadata": {},
   "outputs": [],
   "source": []
  },
  {
   "cell_type": "code",
   "execution_count": null,
   "id": "5ad1203c",
   "metadata": {},
   "outputs": [],
   "source": []
  },
  {
   "cell_type": "code",
   "execution_count": null,
   "id": "a14bad3b",
   "metadata": {},
   "outputs": [],
   "source": []
  },
  {
   "cell_type": "code",
   "execution_count": null,
   "id": "997e80ab",
   "metadata": {},
   "outputs": [],
   "source": []
  },
  {
   "cell_type": "code",
   "execution_count": null,
   "id": "bb4b1853",
   "metadata": {},
   "outputs": [],
   "source": []
  },
  {
   "cell_type": "code",
   "execution_count": null,
   "id": "52c63edf",
   "metadata": {},
   "outputs": [],
   "source": []
  },
  {
   "cell_type": "code",
   "execution_count": null,
   "id": "446e78be",
   "metadata": {},
   "outputs": [],
   "source": []
  },
  {
   "cell_type": "code",
   "execution_count": null,
   "id": "91073b56",
   "metadata": {},
   "outputs": [],
   "source": []
  },
  {
   "cell_type": "code",
   "execution_count": null,
   "id": "0da672d7",
   "metadata": {},
   "outputs": [],
   "source": []
  },
  {
   "cell_type": "code",
   "execution_count": null,
   "id": "19f68030",
   "metadata": {},
   "outputs": [],
   "source": []
  },
  {
   "cell_type": "code",
   "execution_count": null,
   "id": "28fa02cf",
   "metadata": {},
   "outputs": [],
   "source": []
  },
  {
   "cell_type": "code",
   "execution_count": null,
   "id": "b5de40d5",
   "metadata": {},
   "outputs": [],
   "source": []
  },
  {
   "cell_type": "code",
   "execution_count": null,
   "id": "b7db9b87",
   "metadata": {},
   "outputs": [],
   "source": []
  },
  {
   "cell_type": "code",
   "execution_count": null,
   "id": "aa17e33b",
   "metadata": {},
   "outputs": [],
   "source": []
  },
  {
   "cell_type": "code",
   "execution_count": null,
   "id": "6fb3157b",
   "metadata": {},
   "outputs": [],
   "source": []
  },
  {
   "cell_type": "code",
   "execution_count": null,
   "id": "4d89e3da",
   "metadata": {},
   "outputs": [],
   "source": []
  },
  {
   "cell_type": "code",
   "execution_count": null,
   "id": "19b3a9a6",
   "metadata": {},
   "outputs": [],
   "source": []
  },
  {
   "cell_type": "code",
   "execution_count": null,
   "id": "125fe7f0",
   "metadata": {},
   "outputs": [],
   "source": []
  },
  {
   "cell_type": "code",
   "execution_count": null,
   "id": "f0f84b07",
   "metadata": {},
   "outputs": [],
   "source": []
  },
  {
   "cell_type": "code",
   "execution_count": null,
   "id": "13a4d62e",
   "metadata": {},
   "outputs": [],
   "source": []
  },
  {
   "cell_type": "code",
   "execution_count": null,
   "id": "8a6dce13",
   "metadata": {},
   "outputs": [],
   "source": []
  },
  {
   "cell_type": "code",
   "execution_count": null,
   "id": "097f739f",
   "metadata": {},
   "outputs": [],
   "source": []
  },
  {
   "cell_type": "code",
   "execution_count": null,
   "id": "5bdd2114",
   "metadata": {},
   "outputs": [],
   "source": []
  },
  {
   "cell_type": "code",
   "execution_count": null,
   "id": "461a72aa",
   "metadata": {},
   "outputs": [],
   "source": []
  },
  {
   "cell_type": "code",
   "execution_count": null,
   "id": "d8d3395b",
   "metadata": {},
   "outputs": [],
   "source": []
  },
  {
   "cell_type": "code",
   "execution_count": null,
   "id": "5b3b1e3a",
   "metadata": {},
   "outputs": [],
   "source": []
  },
  {
   "cell_type": "code",
   "execution_count": null,
   "id": "86bb09f5",
   "metadata": {},
   "outputs": [],
   "source": []
  },
  {
   "cell_type": "code",
   "execution_count": null,
   "id": "30788103",
   "metadata": {},
   "outputs": [],
   "source": []
  },
  {
   "cell_type": "code",
   "execution_count": null,
   "id": "e2f28723",
   "metadata": {},
   "outputs": [],
   "source": []
  },
  {
   "cell_type": "code",
   "execution_count": null,
   "id": "39253f6d",
   "metadata": {},
   "outputs": [],
   "source": []
  },
  {
   "cell_type": "code",
   "execution_count": null,
   "id": "83ff0b3a",
   "metadata": {},
   "outputs": [],
   "source": []
  },
  {
   "cell_type": "code",
   "execution_count": null,
   "id": "311945e5",
   "metadata": {},
   "outputs": [],
   "source": []
  },
  {
   "cell_type": "code",
   "execution_count": null,
   "id": "47a64c71",
   "metadata": {},
   "outputs": [],
   "source": []
  },
  {
   "cell_type": "code",
   "execution_count": null,
   "id": "ebdc63ce",
   "metadata": {},
   "outputs": [],
   "source": []
  },
  {
   "cell_type": "code",
   "execution_count": null,
   "id": "0e74e1b4",
   "metadata": {},
   "outputs": [],
   "source": []
  },
  {
   "cell_type": "code",
   "execution_count": null,
   "id": "51768f90",
   "metadata": {},
   "outputs": [],
   "source": []
  },
  {
   "cell_type": "code",
   "execution_count": null,
   "id": "55fa0106",
   "metadata": {},
   "outputs": [],
   "source": []
  },
  {
   "cell_type": "code",
   "execution_count": null,
   "id": "6a9345ca",
   "metadata": {},
   "outputs": [],
   "source": []
  },
  {
   "cell_type": "code",
   "execution_count": null,
   "id": "19ace22c",
   "metadata": {},
   "outputs": [],
   "source": []
  },
  {
   "cell_type": "code",
   "execution_count": null,
   "id": "616f2a48",
   "metadata": {},
   "outputs": [],
   "source": []
  },
  {
   "cell_type": "code",
   "execution_count": null,
   "id": "6a56701a",
   "metadata": {},
   "outputs": [],
   "source": []
  },
  {
   "cell_type": "code",
   "execution_count": null,
   "id": "27b3ab22",
   "metadata": {},
   "outputs": [],
   "source": []
  },
  {
   "cell_type": "code",
   "execution_count": null,
   "id": "a36ce397",
   "metadata": {},
   "outputs": [],
   "source": []
  },
  {
   "cell_type": "code",
   "execution_count": null,
   "id": "171adaa6",
   "metadata": {},
   "outputs": [],
   "source": []
  },
  {
   "cell_type": "code",
   "execution_count": null,
   "id": "b0244c67",
   "metadata": {},
   "outputs": [],
   "source": []
  },
  {
   "cell_type": "code",
   "execution_count": null,
   "id": "2f4a2943",
   "metadata": {},
   "outputs": [],
   "source": []
  },
  {
   "cell_type": "code",
   "execution_count": null,
   "id": "14cec91d",
   "metadata": {},
   "outputs": [],
   "source": []
  },
  {
   "cell_type": "code",
   "execution_count": null,
   "id": "e8d46478",
   "metadata": {},
   "outputs": [],
   "source": []
  },
  {
   "cell_type": "code",
   "execution_count": null,
   "id": "77fa710f",
   "metadata": {},
   "outputs": [],
   "source": []
  },
  {
   "cell_type": "code",
   "execution_count": null,
   "id": "d46cef73",
   "metadata": {},
   "outputs": [],
   "source": []
  }
 ],
 "metadata": {
  "kernelspec": {
   "display_name": "Python 3 (ipykernel)",
   "language": "python",
   "name": "python3"
  },
  "language_info": {
   "codemirror_mode": {
    "name": "ipython",
    "version": 3
   },
   "file_extension": ".py",
   "mimetype": "text/x-python",
   "name": "python",
   "nbconvert_exporter": "python",
   "pygments_lexer": "ipython3",
   "version": "3.11.5"
  }
 },
 "nbformat": 4,
 "nbformat_minor": 5
}
