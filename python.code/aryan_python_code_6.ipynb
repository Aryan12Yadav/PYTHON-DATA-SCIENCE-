{
 "cells": [
  {
   "cell_type": "markdown",
   "id": "2a99c660",
   "metadata": {},
   "source": [
    "# Exceptional Handling"
   ]
  },
  {
   "cell_type": "code",
   "execution_count": 14,
   "id": "b42b4ee1",
   "metadata": {},
   "outputs": [],
   "source": [
    "a = 10 \n",
    "b = 0"
   ]
  },
  {
   "cell_type": "code",
   "execution_count": 15,
   "id": "17bcbb42",
   "metadata": {},
   "outputs": [
    {
     "data": {
      "text/plain": [
       "0"
      ]
     },
     "execution_count": 15,
     "metadata": {},
     "output_type": "execute_result"
    }
   ],
   "source": [
    "a*b"
   ]
  },
  {
   "cell_type": "code",
   "execution_count": 17,
   "id": "36a7fac2",
   "metadata": {},
   "outputs": [
    {
     "ename": "ZeroDivisionError",
     "evalue": "division by zero",
     "output_type": "error",
     "traceback": [
      "\u001b[1;31m---------------------------------------------------------------------------\u001b[0m",
      "\u001b[1;31mZeroDivisionError\u001b[0m                         Traceback (most recent call last)",
      "Cell \u001b[1;32mIn[17], line 1\u001b[0m\n\u001b[1;32m----> 1\u001b[0m a\u001b[38;5;241m/\u001b[39mb\n\u001b[0;32m      2\u001b[0m \u001b[38;5;28mprint\u001b[39m(\u001b[38;5;124m\"\u001b[39m\u001b[38;5;124mprint something\u001b[39m\u001b[38;5;124m\"\u001b[39m)\n",
      "\u001b[1;31mZeroDivisionError\u001b[0m: division by zero"
     ]
    }
   ],
   "source": [
    "a/b\n",
    "print(\"print something\")"
   ]
  },
  {
   "cell_type": "code",
   "execution_count": 20,
   "id": "1a92a49b",
   "metadata": {},
   "outputs": [],
   "source": [
    "l = [2,67,8,9,98]\n",
    "l1 = []\n",
    "def even(d):\n",
    "    for i in d:\n",
    "        if i%2 ==0:\n",
    "            l1.append(i)\n",
    "    return l1"
   ]
  },
  {
   "cell_type": "code",
   "execution_count": 21,
   "id": "5d614423",
   "metadata": {},
   "outputs": [
    {
     "data": {
      "text/plain": [
       "[2, 8, 98]"
      ]
     },
     "execution_count": 21,
     "metadata": {},
     "output_type": "execute_result"
    }
   ],
   "source": [
    "even(l)"
   ]
  },
  {
   "cell_type": "code",
   "execution_count": 22,
   "id": "fe4e7940",
   "metadata": {},
   "outputs": [
    {
     "ename": "TypeError",
     "evalue": "not all arguments converted during string formatting",
     "output_type": "error",
     "traceback": [
      "\u001b[1;31m---------------------------------------------------------------------------\u001b[0m",
      "\u001b[1;31mTypeError\u001b[0m                                 Traceback (most recent call last)",
      "Cell \u001b[1;32mIn[22], line 1\u001b[0m\n\u001b[1;32m----> 1\u001b[0m even(\u001b[38;5;124m\"\u001b[39m\u001b[38;5;124maryan\u001b[39m\u001b[38;5;124m\"\u001b[39m)\n",
      "Cell \u001b[1;32mIn[20], line 5\u001b[0m, in \u001b[0;36meven\u001b[1;34m(d)\u001b[0m\n\u001b[0;32m      3\u001b[0m \u001b[38;5;28;01mdef\u001b[39;00m \u001b[38;5;21meven\u001b[39m(d):\n\u001b[0;32m      4\u001b[0m     \u001b[38;5;28;01mfor\u001b[39;00m i \u001b[38;5;129;01min\u001b[39;00m d:\n\u001b[1;32m----> 5\u001b[0m         \u001b[38;5;28;01mif\u001b[39;00m i\u001b[38;5;241m%\u001b[39m\u001b[38;5;241m2\u001b[39m \u001b[38;5;241m==\u001b[39m\u001b[38;5;241m0\u001b[39m:\n\u001b[0;32m      6\u001b[0m             l1\u001b[38;5;241m.\u001b[39mappend(i)\n\u001b[0;32m      7\u001b[0m     \u001b[38;5;28;01mreturn\u001b[39;00m l1\n",
      "\u001b[1;31mTypeError\u001b[0m: not all arguments converted during string formatting"
     ]
    }
   ],
   "source": [
    "even(\"aryan\")"
   ]
  },
  {
   "cell_type": "code",
   "execution_count": 32,
   "id": "65361a7e",
   "metadata": {},
   "outputs": [
    {
     "name": "stdout",
     "output_type": "stream",
     "text": [
      "exceptional handling\n"
     ]
    }
   ],
   "source": [
    "a = 10 \n",
    "b = 0 \n",
    "try:\n",
    "    c = a/b\n",
    "    print(c)\n",
    "except:\n",
    "    print(\"exceptional handling\")"
   ]
  },
  {
   "cell_type": "code",
   "execution_count": 88,
   "id": "1d731190",
   "metadata": {},
   "outputs": [
    {
     "name": "stdout",
     "output_type": "stream",
     "text": [
      " Enter user input89\n",
      "Enter the user input: 8\n",
      "11.125\n",
      "print something\n"
     ]
    }
   ],
   "source": [
    "try:\n",
    "    a = int(input(\" Enter user input\"))\n",
    "    b = int(input(\"Enter the user input: \"))\n",
    "    c = a/b\n",
    "    print(c)\n",
    "except:\n",
    "    pass\n",
    "print(\"print something\")"
   ]
  },
  {
   "cell_type": "code",
   "execution_count": 89,
   "id": "61d9676f",
   "metadata": {},
   "outputs": [],
   "source": [
    "l = [2,67,8,9,98]\n",
    "l1 = []\n",
    "def even(d):\n",
    "    try:\n",
    "        for i in d:\n",
    "            if i%2 ==0:\n",
    "                l1.append(i)\n",
    "        return l1\n",
    "    except:\n",
    "        pass "
   ]
  },
  {
   "cell_type": "code",
   "execution_count": 90,
   "id": "af0f1267",
   "metadata": {},
   "outputs": [
    {
     "name": "stdout",
     "output_type": "stream",
     "text": [
      "exceptional handling\n"
     ]
    }
   ],
   "source": [
    "even(8)\n",
    "print(\"exceptional handling\")"
   ]
  },
  {
   "cell_type": "code",
   "execution_count": 91,
   "id": "86005cfd",
   "metadata": {},
   "outputs": [
    {
     "name": "stdout",
     "output_type": "stream",
     "text": [
      "yadav\n"
     ]
    }
   ],
   "source": [
    "even(\"string\")\n",
    "print(\"yadav\")"
   ]
  },
  {
   "cell_type": "code",
   "execution_count": 100,
   "id": "71dbed38",
   "metadata": {},
   "outputs": [
    {
     "name": "stdout",
     "output_type": "stream",
     "text": [
      "Enter the input:23\n",
      "Enter the input : 0\n",
      "division by zero\n"
     ]
    }
   ],
   "source": [
    "try:\n",
    "    a = int(input(\"Enter the input:\"))\n",
    "    b = int(input(\"Enter the input : \"))\n",
    "    c = a/b\n",
    "    print(c)\n",
    "except Exception as e:\n",
    "    print(e)"
   ]
  },
  {
   "cell_type": "code",
   "execution_count": 3,
   "id": "4b6d4095",
   "metadata": {},
   "outputs": [
    {
     "name": "stdout",
     "output_type": "stream",
     "text": [
      "Enter the input:4\n",
      "Enter the input : 0\n",
      "division by zero\n"
     ]
    }
   ],
   "source": [
    "try:\n",
    "    a = int(input(\"Enter the input:\"))\n",
    "    b = int(input(\"Enter the input : \"))\n",
    "    c = a/b\n",
    "    print(c)\n",
    "except Exception as e:  #superclass\n",
    "    print(e)"
   ]
  },
  {
   "cell_type": "code",
   "execution_count": null,
   "id": "9a1b07e6",
   "metadata": {},
   "outputs": [],
   "source": [
    "try:\n",
    "    a = int(input(\"Enter the input : \"))\n",
    "    b = int(input(\"Enter the input \"))\n",
    "    c = a/b\n",
    "    print(c)\n",
    "except:TypeError as t:\n",
    "        print(t)\n",
    "except:  ZeroDivisionError as z:\n",
    "            print(z)"
   ]
  },
  {
   "cell_type": "code",
   "execution_count": 8,
   "id": "25d9d6aa",
   "metadata": {},
   "outputs": [
    {
     "name": "stdout",
     "output_type": "stream",
     "text": [
      "division by zero\n",
      "invalid literal for int() with base 10: 'aryan'\n"
     ]
    }
   ],
   "source": [
    "try: \n",
    "    a = 10 \n",
    "    b= 0\n",
    "    x = a/b\n",
    "except ZeroDivisionError as z:\n",
    "        print(z)\n",
    "        try:\n",
    "            y = int(\"aryan\")\n",
    "        except ValueError as t:\n",
    "            print(t)"
   ]
  },
  {
   "cell_type": "code",
   "execution_count": 9,
   "id": "cbf2b4e5",
   "metadata": {},
   "outputs": [
    {
     "name": "stdout",
     "output_type": "stream",
     "text": [
      "division by zero\n"
     ]
    }
   ],
   "source": [
    "try:\n",
    "    p = a/b\n",
    "except ZeroDivisionError as i:\n",
    "    print(i)\n",
    "else:\n",
    "    print(\"aryan yadav from lucknow\")"
   ]
  },
  {
   "cell_type": "code",
   "execution_count": 10,
   "id": "81c48c39",
   "metadata": {},
   "outputs": [
    {
     "name": "stdout",
     "output_type": "stream",
     "text": [
      "yes it is working\n"
     ]
    }
   ],
   "source": [
    "try:\n",
    "    x = a/4\n",
    "except ZeroDivisionError as j :  # here the try:condition will getting failed\n",
    "    print(j)     # because here is not a ZeroDivisionError\n",
    "else:\n",
    "    print(\"yes it is working\")"
   ]
  },
  {
   "cell_type": "code",
   "execution_count": 1,
   "id": "e0941609",
   "metadata": {},
   "outputs": [
    {
     "name": "stdout",
     "output_type": "stream",
     "text": [
      "here is not error\n"
     ]
    },
    {
     "ename": "NameError",
     "evalue": "name 'a' is not defined",
     "output_type": "error",
     "traceback": [
      "\u001b[1;31m---------------------------------------------------------------------------\u001b[0m",
      "\u001b[1;31mNameError\u001b[0m                                 Traceback (most recent call last)",
      "Cell \u001b[1;32mIn[1], line 2\u001b[0m\n\u001b[0;32m      1\u001b[0m \u001b[38;5;28;01mtry\u001b[39;00m:\n\u001b[1;32m----> 2\u001b[0m     c \u001b[38;5;241m=\u001b[39m a\u001b[38;5;241m/\u001b[39mb\n\u001b[0;32m      3\u001b[0m \u001b[38;5;28;01mexcept\u001b[39;00m \u001b[38;5;167;01mZeroDivisionError\u001b[39;00m \u001b[38;5;28;01mas\u001b[39;00m k:\n\u001b[0;32m      4\u001b[0m     \u001b[38;5;28mprint\u001b[39m(k)\n",
      "\u001b[1;31mNameError\u001b[0m: name 'a' is not defined"
     ]
    }
   ],
   "source": [
    "try:\n",
    "    c = a/b\n",
    "except ZeroDivisionError as k:\n",
    "    print(k)\n",
    "else:\n",
    "    print(\"yes\")\n",
    "finally:\n",
    "    print(\"here is not error\")"
   ]
  },
  {
   "cell_type": "code",
   "execution_count": null,
   "id": "96a79ada",
   "metadata": {},
   "outputs": [],
   "source": [
    "try:\n",
    "    c = a/3\n",
    "except ZeroDivisionError as q:\n",
    "    print(q)\n",
    "finally:\n",
    "    print(\"here is not work\")"
   ]
  },
  {
   "cell_type": "code",
   "execution_count": 2,
   "id": "268f998b",
   "metadata": {},
   "outputs": [
    {
     "name": "stdout",
     "output_type": "stream",
     "text": [
      "'unnao'\n",
      "finnaly is working\n"
     ]
    }
   ],
   "source": [
    "try:\n",
    "    d = {\"aryan\":\"a\",\"yadav\": \"y\",\"lucknow\":32,'kanpur':78}\n",
    "    d[\"unnao\"] # here this key is not in the d\n",
    "except KeyError as o:\n",
    "    print(o)\n",
    "finally :\n",
    "    print(\"finnaly is working\")"
   ]
  },
  {
   "cell_type": "code",
   "execution_count": 21,
   "id": "064842ee",
   "metadata": {},
   "outputs": [
    {
     "data": {
      "text/plain": [
       "{'aryan': 'a', 'yadav': 'y', 'lucknow': 32, 'kanpur': 78}"
      ]
     },
     "execution_count": 21,
     "metadata": {},
     "output_type": "execute_result"
    }
   ],
   "source": [
    "d"
   ]
  },
  {
   "cell_type": "code",
   "execution_count": 30,
   "id": "093074dc",
   "metadata": {},
   "outputs": [
    {
     "name": "stdout",
     "output_type": "stream",
     "text": [
      "list index out of range\n",
      "it will not depend either try execute or not \n"
     ]
    }
   ],
   "source": [
    "try:\n",
    "    l = [6,7,898,4,3,4]\n",
    "    l[12]        # print index of 12 position\n",
    "except Exception as i:\n",
    "    print(i)\n",
    "else:\n",
    "    print(\"try condition is not  running\")\n",
    "finally:\n",
    "    print(\"it will not depend either try execute or not \")"
   ]
  },
  {
   "cell_type": "code",
   "execution_count": 31,
   "id": "459d5ceb",
   "metadata": {},
   "outputs": [
    {
     "name": "stdout",
     "output_type": "stream",
     "text": [
      "try condition is not  running\n",
      "it will not depend either try execute or not \n"
     ]
    }
   ],
   "source": [
    "try:\n",
    "    l = [6,7,898,4,3,4]\n",
    "    l[1]\n",
    "            # print index of 1 position\n",
    "except Exception as i:\n",
    "    print(i)\n",
    "else:\n",
    "    print(\"try condition is not  running\")\n",
    "finally:\n",
    "    print(\"it will not depend either try execute or not \")"
   ]
  },
  {
   "cell_type": "code",
   "execution_count": 33,
   "id": "b21beafd",
   "metadata": {},
   "outputs": [
    {
     "name": "stdout",
     "output_type": "stream",
     "text": [
      "[Errno 2] No such file or directory: 'test.txt'\n",
      "file is not aviable yet\n"
     ]
    }
   ],
   "source": [
    "try:\n",
    "    file_name = 'test.txt'\n",
    "    f = open(file_name)\n",
    "    f.read\n",
    "except Exception as k:\n",
    "    print(k)\n",
    "else:\n",
    "    print(\"here is a file\")\n",
    "finally:\n",
    "    print(\"file is not aviable yet\")"
   ]
  },
  {
   "cell_type": "code",
   "execution_count": 53,
   "id": "704d73e3",
   "metadata": {},
   "outputs": [
    {
     "name": "stdout",
     "output_type": "stream",
     "text": [
      "enter the number :ksd\n",
      "user has entered invalid input\n"
     ]
    }
   ],
   "source": [
    "try:\n",
    "    try:\n",
    "        n = int(input(\"enter the number :\"))\n",
    "        div = 342/n\n",
    "        div\n",
    "    except ZeroDivisionError :  # here it is a value error when entered the string\n",
    "        print(\"user has entered zero\")# error may also come in that string \n",
    "except ValueError:         # string given valueerror so  this condition will fullfill the condition\n",
    "    print(\"user has entered invalid input\")\n",
    "else:\n",
    "    print(div)"
   ]
  },
  {
   "cell_type": "code",
   "execution_count": 52,
   "id": "967349f8",
   "metadata": {},
   "outputs": [
    {
     "name": "stdout",
     "output_type": "stream",
     "text": [
      "dkwn\n"
     ]
    },
    {
     "ename": "ValueError",
     "evalue": "invalid literal for int() with base 10: 'dkwn'",
     "output_type": "error",
     "traceback": [
      "\u001b[1;31m---------------------------------------------------------------------------\u001b[0m",
      "\u001b[1;31mValueError\u001b[0m                                Traceback (most recent call last)",
      "Cell \u001b[1;32mIn[52], line 2\u001b[0m\n\u001b[0;32m      1\u001b[0m \u001b[38;5;28;01mtry\u001b[39;00m:\n\u001b[1;32m----> 2\u001b[0m     n  \u001b[38;5;241m=\u001b[39m \u001b[38;5;28mint\u001b[39m(\u001b[38;5;28minput\u001b[39m())\n\u001b[0;32m      3\u001b[0m     div \u001b[38;5;241m=\u001b[39m \u001b[38;5;241m342\u001b[39m\u001b[38;5;241m/\u001b[39mn\n\u001b[0;32m      4\u001b[0m     div\n",
      "\u001b[1;31mValueError\u001b[0m: invalid literal for int() with base 10: 'dkwn'"
     ]
    }
   ],
   "source": [
    "try:\n",
    "    n  = int(input())\n",
    "    div = 342/n\n",
    "    div\n",
    "except ZeroDivisionError:  # when write string its a Value Error\n",
    "    print(\"user has enter zero\")\n"
   ]
  },
  {
   "cell_type": "code",
   "execution_count": 8,
   "id": "b57721ab",
   "metadata": {},
   "outputs": [
    {
     "ename": "UnsupportedOperation",
     "evalue": "not writable",
     "output_type": "error",
     "traceback": [
      "\u001b[1;31m---------------------------------------------------------------------------\u001b[0m",
      "\u001b[1;31mUnsupportedOperation\u001b[0m                      Traceback (most recent call last)",
      "Cell \u001b[1;32mIn[8], line 2\u001b[0m\n\u001b[0;32m      1\u001b[0m f \u001b[38;5;241m=\u001b[39m \u001b[38;5;28mopen\u001b[39m(\u001b[38;5;124m'\u001b[39m\u001b[38;5;124mtest.txt\u001b[39m\u001b[38;5;124m'\u001b[39m)\n\u001b[1;32m----> 2\u001b[0m f\u001b[38;5;241m.\u001b[39mwrite(\u001b[38;5;124m\"\u001b[39m\u001b[38;5;124msdkfd \u001b[39m\u001b[38;5;124m\"\u001b[39m)\n\u001b[0;32m      3\u001b[0m f\u001b[38;5;241m.\u001b[39mclose()\n",
      "\u001b[1;31mUnsupportedOperation\u001b[0m: not writable"
     ]
    }
   ],
   "source": [
    "f = open('test.txt')\n",
    "f.write(\"sdkfd \")\n",
    "f.close()"
   ]
  },
  {
   "cell_type": "code",
   "execution_count": 19,
   "id": "320f2a44",
   "metadata": {},
   "outputs": [
    {
     "name": "stdout",
     "output_type": "stream",
     "text": [
      "Enter your current age: -7\n",
      "you entered the negative age.\n"
     ]
    }
   ],
   "source": [
    "try:\n",
    "    a = int(input(\"Enter your current age: \"))\n",
    "    if a<0:\n",
    "        raise ValueError(\"you entered the negative age.\")\n",
    "    elif a<18:\n",
    "        raise ValueError(\"user is underage\")\n",
    "    else:\n",
    "        print(\"valid user\")\n",
    "except ValueError as x:\n",
    "    print(x)"
   ]
  },
  {
   "cell_type": "code",
   "execution_count": 20,
   "id": "56ae8fbf",
   "metadata": {
    "scrolled": true
   },
   "outputs": [
    {
     "data": {
      "text/plain": [
       "'C:\\\\Users\\\\Lenovo\\\\Documents\\\\mr Tang\\\\MR TANG\\\\Python'"
      ]
     },
     "execution_count": 20,
     "metadata": {},
     "output_type": "execute_result"
    }
   ],
   "source": [
    "pwd"
   ]
  },
  {
   "cell_type": "markdown",
   "id": "938b11b0",
   "metadata": {},
   "source": [
    "# Loging"
   ]
  },
  {
   "cell_type": "code",
   "execution_count": 9,
   "id": "c99fa360",
   "metadata": {},
   "outputs": [],
   "source": [
    "import logging as i"
   ]
  },
  {
   "cell_type": "code",
   "execution_count": 10,
   "id": "dcf320f6",
   "metadata": {},
   "outputs": [],
   "source": [
    " i.basicConfig(filename = \"test.log\")"
   ]
  },
  {
   "cell_type": "code",
   "execution_count": 11,
   "id": "03132d37",
   "metadata": {},
   "outputs": [],
   "source": [
    "i.info(\"store a message\")"
   ]
  },
  {
   "cell_type": "raw",
   "id": "a4ebb24c",
   "metadata": {},
   "source": [
    "Debug 10 \n",
    "info 20 \n",
    "warning 30 \n",
    "error 40\n",
    "critical 50"
   ]
  },
  {
   "cell_type": "code",
   "execution_count": 12,
   "id": "20cf6b21",
   "metadata": {},
   "outputs": [],
   "source": [
    "i.debug(\"this a debug msg\")"
   ]
  },
  {
   "cell_type": "code",
   "execution_count": 13,
   "id": "fb7b0460",
   "metadata": {},
   "outputs": [],
   "source": [
    "i.warning(\"this is my warning\")"
   ]
  },
  {
   "cell_type": "code",
   "execution_count": 14,
   "id": "47d07733",
   "metadata": {},
   "outputs": [],
   "source": [
    "i.error(\"this is a error message\")"
   ]
  },
  {
   "cell_type": "code",
   "execution_count": 15,
   "id": "80e68937",
   "metadata": {},
   "outputs": [],
   "source": [
    "i.critical(\"this is a critical msg\")"
   ]
  },
  {
   "cell_type": "code",
   "execution_count": 16,
   "id": "c0ad1b39",
   "metadata": {},
   "outputs": [],
   "source": [
    "i.info(\"this is aryan\")"
   ]
  },
  {
   "cell_type": "code",
   "execution_count": 17,
   "id": "b1e23d25",
   "metadata": {},
   "outputs": [
    {
     "name": "stdout",
     "output_type": "stream",
     "text": [
      "Enter the age : 34\n"
     ]
    }
   ],
   "source": [
    "import logging\n",
    "logging.basicConfig(filename = 'trytest.log',level = logging.DEBUG,format = '%(asctime)s-%(message)s')\n",
    "try:\n",
    "    logging.info(\"this is a start of my prog\")\n",
    "    logging.info(\"asking user to enter age\")\n",
    "    age  = int(input(\"Enter the age : \"))\n",
    "    logging.info(\"user has entered the age = %d\",age)\n",
    "    if age<0:\n",
    "        logging.info(\"I am checking the negative condition\")\n",
    "        raise ValueError(\"user has entered a negative age \")\n",
    "    elif age<18:\n",
    "        logging.info(\"I am trying to check underage condition\")\n",
    "        raise Exception(\"user is underage.\")\n",
    "    else:\n",
    "        logging.info(\"valid user\")\n",
    "except Exception as p:\n",
    "    logging.error(p)"
   ]
  },
  {
   "cell_type": "code",
   "execution_count": 18,
   "id": "a91c92a6",
   "metadata": {},
   "outputs": [],
   "source": [
    "import logging\n",
    "logging.basicConfig(filename='even_parseR.log',level = logging.DEBUG, format = '%(asctime)s-%(levelname)s -%(message)s')\n",
    "l = [3,5]\n",
    "logging.info(l)\n",
    "l1= []\n",
    "def even_parser(l):\n",
    "    logging.info(\"appending element in l1\")\n",
    "    try:\n",
    "        logging.info(\"logging inside the block\")\n",
    "        for i in l:\n",
    "            logging.info(\"now in the for loop \",i)\n",
    "            if i%2== 0:\n",
    "                logging.info(\"checking the condition and value of i\")\n",
    "                l1.append(i)\n",
    "                logging.info(\"appending the value i = %d\",i)\n",
    "        return l1\n",
    "    except Exception as w:\n",
    "        logging.error(w)\n",
    "    "
   ]
  },
  {
   "cell_type": "code",
   "execution_count": 19,
   "id": "a86a8ae0",
   "metadata": {},
   "outputs": [
    {
     "data": {
      "text/plain": [
       "[]"
      ]
     },
     "execution_count": 19,
     "metadata": {},
     "output_type": "execute_result"
    }
   ],
   "source": [
    "even_parser(l)"
   ]
  },
  {
   "cell_type": "code",
   "execution_count": null,
   "id": "ce71f352",
   "metadata": {},
   "outputs": [],
   "source": []
  },
  {
   "cell_type": "code",
   "execution_count": null,
   "id": "74282081",
   "metadata": {},
   "outputs": [],
   "source": []
  }
 ],
 "metadata": {
  "kernelspec": {
   "display_name": "Python 3 (ipykernel)",
   "language": "python",
   "name": "python3"
  },
  "language_info": {
   "codemirror_mode": {
    "name": "ipython",
    "version": 3
   },
   "file_extension": ".py",
   "mimetype": "text/x-python",
   "name": "python",
   "nbconvert_exporter": "python",
   "pygments_lexer": "ipython3",
   "version": "3.11.5"
  }
 },
 "nbformat": 4,
 "nbformat_minor": 5
}
