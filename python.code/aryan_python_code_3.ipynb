{
 "cells": [
  {
   "cell_type": "markdown",
   "id": "809f03f6",
   "metadata": {},
   "source": [
    "# \"Today lecture no- 4 loop\\map\\\\filter \\ while\\\\recurrsion"
   ]
  },
  {
   "cell_type": "code",
   "execution_count": 5,
   "id": "f7430c42",
   "metadata": {},
   "outputs": [],
   "source": [
    "def test():\n",
    "    print(\"this is my revision fucition \")"
   ]
  },
  {
   "cell_type": "code",
   "execution_count": 10,
   "id": "e5399d19",
   "metadata": {},
   "outputs": [
    {
     "name": "stdout",
     "output_type": "stream",
     "text": [
      "this is my revision fucition \n"
     ]
    }
   ],
   "source": [
    "test()"
   ]
  },
  {
   "cell_type": "code",
   "execution_count": 11,
   "id": "e13779f5",
   "metadata": {},
   "outputs": [
    {
     "name": "stdout",
     "output_type": "stream",
     "text": [
      "this is my revision fucition \n"
     ]
    },
    {
     "ename": "TypeError",
     "evalue": "unsupported operand type(s) for +: 'NoneType' and 'str'",
     "output_type": "error",
     "traceback": [
      "\u001b[1;31m---------------------------------------------------------------------------\u001b[0m",
      "\u001b[1;31mTypeError\u001b[0m                                 Traceback (most recent call last)",
      "Cell \u001b[1;32mIn[11], line 1\u001b[0m\n\u001b[1;32m----> 1\u001b[0m test()\u001b[38;5;241m+\u001b[39m \u001b[38;5;124m\"\u001b[39m\u001b[38;5;124mSUDH\u001b[39m\u001b[38;5;124m\"\u001b[39m\n",
      "\u001b[1;31mTypeError\u001b[0m: unsupported operand type(s) for +: 'NoneType' and 'str'"
     ]
    }
   ],
   "source": [
    "test()+ \"SUDH\"  # concatination will not allowd \n",
    "     # because test() this is nonetype not a type of string"
   ]
  },
  {
   "cell_type": "code",
   "execution_count": 12,
   "id": "bdbd3155",
   "metadata": {},
   "outputs": [
    {
     "name": "stdout",
     "output_type": "stream",
     "text": [
      "6\n"
     ]
    }
   ],
   "source": [
    " def test_2():\n",
    "    print(1+5)\n",
    "test_2()"
   ]
  },
  {
   "cell_type": "code",
   "execution_count": 15,
   "id": "002370a5",
   "metadata": {},
   "outputs": [
    {
     "name": "stdout",
     "output_type": "stream",
     "text": [
      "6\n"
     ]
    },
    {
     "ename": "TypeError",
     "evalue": "unsupported operand type(s) for +: 'NoneType' and 'int'",
     "output_type": "error",
     "traceback": [
      "\u001b[1;31m---------------------------------------------------------------------------\u001b[0m",
      "\u001b[1;31mTypeError\u001b[0m                                 Traceback (most recent call last)",
      "Cell \u001b[1;32mIn[15], line 1\u001b[0m\n\u001b[1;32m----> 1\u001b[0m test_2()\u001b[38;5;241m+\u001b[39m\u001b[38;5;241m10\u001b[39m\n",
      "\u001b[1;31mTypeError\u001b[0m: unsupported operand type(s) for +: 'NoneType' and 'int'"
     ]
    }
   ],
   "source": [
    "test_2()+10 # this is also a none type.||"
   ]
  },
  {
   "cell_type": "code",
   "execution_count": 14,
   "id": "c4368b9a",
   "metadata": {},
   "outputs": [
    {
     "data": {
      "text/plain": [
       "3"
      ]
     },
     "execution_count": 14,
     "metadata": {},
     "output_type": "execute_result"
    }
   ],
   "source": [
    "def tes_3():\n",
    "    return 1+2\n",
    "tes_3()"
   ]
  },
  {
   "cell_type": "raw",
   "id": "a08c276b",
   "metadata": {},
   "source": [
    "return  return the data as it is \n",
    "like in the form of int string list float\n",
    "not a none type"
   ]
  },
  {
   "cell_type": "code",
   "execution_count": 22,
   "id": "91573388",
   "metadata": {},
   "outputs": [
    {
     "data": {
      "text/plain": [
       "13"
      ]
     },
     "execution_count": 22,
     "metadata": {},
     "output_type": "execute_result"
    }
   ],
   "source": [
    "tes_3() + 10"
   ]
  },
  {
   "cell_type": "code",
   "execution_count": 30,
   "id": "9757da52",
   "metadata": {},
   "outputs": [
    {
     "data": {
      "text/plain": [
       "int"
      ]
     },
     "execution_count": 30,
     "metadata": {},
     "output_type": "execute_result"
    }
   ],
   "source": [
    "type(tes_3())"
   ]
  },
  {
   "cell_type": "code",
   "execution_count": 15,
   "id": "b1eb5a84",
   "metadata": {},
   "outputs": [
    {
     "data": {
      "text/plain": [
       "(2, 'aryan', True, 3.34, [2, 434, 54, 35, 3, 'sugh'])"
      ]
     },
     "execution_count": 15,
     "metadata": {},
     "output_type": "execute_result"
    }
   ],
   "source": [
    "def test():\n",
    "    return 2,\"aryan\",True,3.34,[2,434,54,35,3,\"sugh\"]\n",
    "test()"
   ]
  },
  {
   "cell_type": "code",
   "execution_count": 16,
   "id": "5894363f",
   "metadata": {},
   "outputs": [
    {
     "data": {
      "text/plain": [
       "tuple"
      ]
     },
     "execution_count": 16,
     "metadata": {},
     "output_type": "execute_result"
    }
   ],
   "source": [
    "type(test())"
   ]
  },
  {
   "cell_type": "code",
   "execution_count": 17,
   "id": "b437214a",
   "metadata": {},
   "outputs": [],
   "source": [
    "p,q,r,s,t = test()"
   ]
  },
  {
   "cell_type": "code",
   "execution_count": 18,
   "id": "79815b8f",
   "metadata": {},
   "outputs": [
    {
     "data": {
      "text/plain": [
       "2"
      ]
     },
     "execution_count": 18,
     "metadata": {},
     "output_type": "execute_result"
    }
   ],
   "source": [
    "p"
   ]
  },
  {
   "cell_type": "code",
   "execution_count": 19,
   "id": "2a5d2d2d",
   "metadata": {},
   "outputs": [
    {
     "data": {
      "text/plain": [
       "'aryan'"
      ]
     },
     "execution_count": 19,
     "metadata": {},
     "output_type": "execute_result"
    }
   ],
   "source": [
    "q"
   ]
  },
  {
   "cell_type": "code",
   "execution_count": 20,
   "id": "14f4be9e",
   "metadata": {},
   "outputs": [
    {
     "data": {
      "text/plain": [
       "True"
      ]
     },
     "execution_count": 20,
     "metadata": {},
     "output_type": "execute_result"
    }
   ],
   "source": [
    "r"
   ]
  },
  {
   "cell_type": "code",
   "execution_count": 21,
   "id": "fc4f8ef4",
   "metadata": {},
   "outputs": [
    {
     "data": {
      "text/plain": [
       "3.34"
      ]
     },
     "execution_count": 21,
     "metadata": {},
     "output_type": "execute_result"
    }
   ],
   "source": [
    "s"
   ]
  },
  {
   "cell_type": "code",
   "execution_count": 22,
   "id": "0ed7dcdd",
   "metadata": {},
   "outputs": [
    {
     "data": {
      "text/plain": [
       "[2, 434, 54, 35, 3, 'sugh']"
      ]
     },
     "execution_count": 22,
     "metadata": {},
     "output_type": "execute_result"
    }
   ],
   "source": [
    "t"
   ]
  },
  {
   "cell_type": "raw",
   "id": "582a8a02",
   "metadata": {},
   "source": [
    "primitive data type == like add , subsract, multiply,dvision , concationation"
   ]
  },
  {
   "cell_type": "code",
   "execution_count": 23,
   "id": "d155b3e1",
   "metadata": {},
   "outputs": [],
   "source": [
    "def test5(x):\n",
    "    return x"
   ]
  },
  {
   "cell_type": "code",
   "execution_count": 48,
   "id": "86277991",
   "metadata": {},
   "outputs": [
    {
     "data": {
      "text/plain": [
       "'ice'"
      ]
     },
     "execution_count": 48,
     "metadata": {},
     "output_type": "execute_result"
    }
   ],
   "source": [
    "test5(\"ice\")"
   ]
  },
  {
   "cell_type": "code",
   "execution_count": 51,
   "id": "fe9a6164",
   "metadata": {},
   "outputs": [
    {
     "data": {
      "text/plain": [
       "[3, 5, 35, 35]"
      ]
     },
     "execution_count": 51,
     "metadata": {},
     "output_type": "execute_result"
    }
   ],
   "source": [
    "test5([3,5,35,35,])"
   ]
  },
  {
   "cell_type": "code",
   "execution_count": 107,
   "id": "65608341",
   "metadata": {},
   "outputs": [
    {
     "data": {
      "text/plain": [
       "('sudh', ['aryan', 'prince', [[[[[[8]]]]]], [65, 92, {0, 8, 'sharma'}]])"
      ]
     },
     "execution_count": 107,
     "metadata": {},
     "output_type": "execute_result"
    }
   ],
   "source": [
    "def test6(p,q):\n",
    "    return p,q\n",
    "test6(\"sudh\",[\"aryan\",\"prince\",[[[[[[8]]]]]],[65,92,{\"sharma\",0,8}]])\n"
   ]
  },
  {
   "cell_type": "code",
   "execution_count": 32,
   "id": "e391efed",
   "metadata": {},
   "outputs": [
    {
     "data": {
      "text/plain": [
       "9.88888888888889"
      ]
     },
     "execution_count": 32,
     "metadata": {},
     "output_type": "execute_result"
    }
   ],
   "source": [
    "def test8(a:int,b:int):\n",
    "    return a/b\n",
    "test8(89,9)\n"
   ]
  },
  {
   "cell_type": "code",
   "execution_count": 111,
   "id": "3a32f0b1",
   "metadata": {},
   "outputs": [
    {
     "data": {
      "text/plain": [
       "(2, 2, 2, 2, 2, 2, 2)"
      ]
     },
     "execution_count": 111,
     "metadata": {},
     "output_type": "execute_result"
    }
   ],
   "source": [
    "def test9(*args):  # * is called steric \n",
    "    return args\n",
    "test9(2,2,2,2,2,2,2)"
   ]
  },
  {
   "cell_type": "code",
   "execution_count": 144,
   "id": "455682bb",
   "metadata": {},
   "outputs": [
    {
     "data": {
      "text/plain": [
       "{'a': 3, 'b': 4, 'p': 'm'}"
      ]
     },
     "execution_count": 144,
     "metadata": {},
     "output_type": "execute_result"
    }
   ],
   "source": [
    "def test10(**kwargs):\n",
    "    return kwargs\n",
    "test10(a = 3, b= 4, p =\"m\")"
   ]
  },
  {
   "cell_type": "code",
   "execution_count": 147,
   "id": "8861e4cd",
   "metadata": {},
   "outputs": [
    {
     "data": {
      "text/plain": [
       "dict_items([('a', 3), ('b', 4), ('p', 'm')])"
      ]
     },
     "execution_count": 147,
     "metadata": {},
     "output_type": "execute_result"
    }
   ],
   "source": [
    "def test10(**kwargs):\n",
    "    return kwargs.items()\n",
    "test10(a = 3, b= 4, p =\"m\")"
   ]
  },
  {
   "cell_type": "code",
   "execution_count": 152,
   "id": "30c96fd3",
   "metadata": {},
   "outputs": [
    {
     "data": {
      "text/plain": [
       "(10, 23, 45)"
      ]
     },
     "execution_count": 152,
     "metadata": {},
     "output_type": "execute_result"
    }
   ],
   "source": [
    "def test11(a,b= 23,c = 45): # b and c are the default argument\n",
    "    return a,b,c            # a is non - default argument\n",
    "test11(10)"
   ]
  },
  {
   "cell_type": "code",
   "execution_count": 153,
   "id": "2e5cda6d",
   "metadata": {},
   "outputs": [
    {
     "data": {
      "text/plain": [
       "(34, 10, 3)"
      ]
     },
     "execution_count": 153,
     "metadata": {},
     "output_type": "execute_result"
    }
   ],
   "source": [
    "def est12(b, a= 34,c=3):\n",
    "    return  a,b,c\n",
    "est12(10)"
   ]
  },
  {
   "cell_type": "raw",
   "id": "323624d2",
   "metadata": {},
   "source": [
    "A function without name or anomoulous are called as lambda function"
   ]
  },
  {
   "cell_type": "code",
   "execution_count": 157,
   "id": "05110289",
   "metadata": {},
   "outputs": [
    {
     "data": {
      "text/plain": [
       "500"
      ]
     },
     "execution_count": 157,
     "metadata": {},
     "output_type": "execute_result"
    }
   ],
   "source": [
    "x = lambda a,b:a+b\n",
    "x(387,113)"
   ]
  },
  {
   "cell_type": "code",
   "execution_count": 159,
   "id": "0d353ea0",
   "metadata": {},
   "outputs": [
    {
     "data": {
      "text/plain": [
       "'the number is even'"
      ]
     },
     "execution_count": 159,
     "metadata": {},
     "output_type": "execute_result"
    }
   ],
   "source": [
    "def check_the_number(N):\n",
    "    if N%2==0:\n",
    "        return \"the number is even\"\n",
    "    else:\n",
    "        return \"the given number is not a even number it's a odd number .\"\n",
    "check_the_number(38)"
   ]
  },
  {
   "cell_type": "code",
   "execution_count": 164,
   "id": "bbda7eb9",
   "metadata": {},
   "outputs": [
    {
     "data": {
      "text/plain": [
       "'the number is odd'"
      ]
     },
     "execution_count": 164,
     "metadata": {},
     "output_type": "execute_result"
    }
   ],
   "source": [
    "m = lambda a:  \"the  number is even \" if a%2==0 else \"the number is odd\"\n",
    "m(3)"
   ]
  },
  {
   "cell_type": "code",
   "execution_count": 166,
   "id": "688313e6",
   "metadata": {},
   "outputs": [
    {
     "data": {
      "text/plain": [
       "0.12"
      ]
     },
     "execution_count": 166,
     "metadata": {},
     "output_type": "execute_result"
    }
   ],
   "source": [
    "lists = [4,56,67,787,5,42,2,1,1,0.34,0.3,0.334,0.12]\n",
    "min_value = lambda x: min(x)\n",
    "min_value(lists)"
   ]
  },
  {
   "cell_type": "code",
   "execution_count": 171,
   "id": "08d9d9b6",
   "metadata": {},
   "outputs": [
    {
     "data": {
      "text/plain": [
       "9.0"
      ]
     },
     "execution_count": 171,
     "metadata": {},
     "output_type": "execute_result"
    }
   ],
   "source": [
    "divide = lambda s,r: s/r\n",
    "divide(45,5)"
   ]
  },
  {
   "cell_type": "code",
   "execution_count": 172,
   "id": "1e6c2be2",
   "metadata": {},
   "outputs": [
    {
     "data": {
      "text/plain": [
       "'SUDHANSHU'"
      ]
     },
     "execution_count": 172,
     "metadata": {},
     "output_type": "execute_result"
    }
   ],
   "source": [
    "upper_string = lambda x : x.upper()\n",
    "upper_string(\"sudhanshu\")"
   ]
  },
  {
   "cell_type": "code",
   "execution_count": 526,
   "id": "715eaa62",
   "metadata": {},
   "outputs": [],
   "source": [
    "lists = [4,56,67,7,5,42,2,1,1,0.34,0.3,0.334 , 294829, 2487.12]\n",
    "def sum_odd(b):\n",
    "    listss = []\n",
    "    for i in b:\n",
    "        if i%2!=0:\n",
    "            listss.append(i)\n",
    "    return sum(listss)\n"
   ]
  },
  {
   "cell_type": "code",
   "execution_count": 534,
   "id": "11561e3b",
   "metadata": {},
   "outputs": [
    {
     "data": {
      "text/plain": [
       "297398.094"
      ]
     },
     "execution_count": 534,
     "metadata": {},
     "output_type": "execute_result"
    }
   ],
   "source": [
    "sum_odd(lists)"
   ]
  },
  {
   "cell_type": "code",
   "execution_count": 535,
   "id": "7a058117",
   "metadata": {},
   "outputs": [
    {
     "data": {
      "text/plain": [
       "297398.094"
      ]
     },
     "execution_count": 535,
     "metadata": {},
     "output_type": "execute_result"
    }
   ],
   "source": [
    "sum([X for X in lists if X%2!=0])"
   ]
  },
  {
   "cell_type": "code",
   "execution_count": 536,
   "id": "cb09cc27",
   "metadata": {},
   "outputs": [
    {
     "data": {
      "text/plain": [
       "297398.094"
      ]
     },
     "execution_count": 536,
     "metadata": {},
     "output_type": "execute_result"
    }
   ],
   "source": [
    "x = lambda som:sum([X for X in lists if X%2!=0])\n",
    "x(lists)"
   ]
  },
  {
   "cell_type": "raw",
   "id": "0dff5a7c",
   "metadata": {},
   "source": [
    "factorial of the number"
   ]
  },
  {
   "cell_type": "code",
   "execution_count": 34,
   "id": "f7f2baa4",
   "metadata": {},
   "outputs": [
    {
     "data": {
      "text/plain": [
       "720"
      ]
     },
     "execution_count": 34,
     "metadata": {},
     "output_type": "execute_result"
    }
   ],
   "source": [
    "def factorial(a):\n",
    "    if a == 0:\n",
    "        return 1\n",
    "    else: \n",
    "        x = 1\n",
    "        for i in range(1,a+1):\n",
    "            x = x*i\n",
    "#             print(x)\n",
    "#       print(x)\n",
    "        return x\n",
    "factorial(6)\n"
   ]
  },
  {
   "cell_type": "code",
   "execution_count": 39,
   "id": "5a127050",
   "metadata": {},
   "outputs": [
    {
     "name": "stdout",
     "output_type": "stream",
     "text": [
      "Enter the input : 8\n"
     ]
    },
    {
     "data": {
      "text/plain": [
       "40320"
      ]
     },
     "execution_count": 39,
     "metadata": {},
     "output_type": "execute_result"
    }
   ],
   "source": [
    "def factorial_num(x):\n",
    "    if x==0:\n",
    "        return 1\n",
    "    if x<0:\n",
    "        return \"invalid data\"\n",
    "    else:\n",
    "        return x*factorial_num(x-1)\n",
    "y = int(input(\"Enter the input : \"))\n",
    "factorial_num(y)            "
   ]
  },
  {
   "cell_type": "code",
   "execution_count": 785,
   "id": "9145a5ed",
   "metadata": {},
   "outputs": [
    {
     "name": "stdout",
     "output_type": "stream",
     "text": [
      "2\n"
     ]
    },
    {
     "data": {
      "text/plain": [
       "2"
      ]
     },
     "execution_count": 785,
     "metadata": {},
     "output_type": "execute_result"
    }
   ],
   "source": [
    "# find factorial with recurrsion with lambda function \n",
    "factorial_using_lambda = lambda x: 1 if (x== 0 or  x<0 )  else x*factorial_using_lambda(x-1)\n",
    "k = int(input())\n",
    "factorial_using_lambda(k)"
   ]
  },
  {
   "cell_type": "code",
   "execution_count": 542,
   "id": "3fdc02ff",
   "metadata": {},
   "outputs": [
    {
     "data": {
      "text/plain": [
       "58"
      ]
     },
     "execution_count": 542,
     "metadata": {},
     "output_type": "execute_result"
    }
   ],
   "source": [
    "a = \"thfgj76df\"\n",
    "import sys\n",
    "sys.getsizeof(a)"
   ]
  },
  {
   "cell_type": "code",
   "execution_count": 545,
   "id": "3c8e64d6",
   "metadata": {},
   "outputs": [],
   "source": [
    "L = [3,4,5,6,6,76,]\n",
    "list1 = []\n",
    "for i in L:\n",
    "    list1.append(i)\n"
   ]
  },
  {
   "cell_type": "code",
   "execution_count": 547,
   "id": "ee39f396",
   "metadata": {},
   "outputs": [
    {
     "data": {
      "text/plain": [
       "[3, 4, 5, 6, 6, 76]"
      ]
     },
     "execution_count": 547,
     "metadata": {},
     "output_type": "execute_result"
    }
   ],
   "source": [
    "list1"
   ]
  },
  {
   "cell_type": "code",
   "execution_count": 583,
   "id": "57ca4be3",
   "metadata": {},
   "outputs": [],
   "source": [
    "def add_num(a):\n",
    "    lq = []\n",
    "    for i in a:\n",
    "        lq.append(i+10)\n",
    "    return lq"
   ]
  },
  {
   "cell_type": "code",
   "execution_count": 584,
   "id": "2555b1c1",
   "metadata": {},
   "outputs": [
    {
     "data": {
      "text/plain": [
       "[13, 63, 16, 86]"
      ]
     },
     "execution_count": 584,
     "metadata": {},
     "output_type": "execute_result"
    }
   ],
   "source": [
    "add_num([3,53,6,76,])"
   ]
  },
  {
   "cell_type": "markdown",
   "id": "e5388b01",
   "metadata": {},
   "source": [
    "# Map"
   ]
  },
  {
   "cell_type": "code",
   "execution_count": 827,
   "id": "2af3c106",
   "metadata": {},
   "outputs": [
    {
     "data": {
      "text/plain": [
       "[42, 74, 45, 46, 41, 47, 48]"
      ]
     },
     "execution_count": 827,
     "metadata": {},
     "output_type": "execute_result"
    }
   ],
   "source": [
    "l = [2,34,5,6,1,7,8,]\n",
    "list(map(lambda x: x+40     ,l        ))\n",
    "               # argument | function"
   ]
  },
  {
   "cell_type": "code",
   "execution_count": 828,
   "id": "dfc4d5de",
   "metadata": {},
   "outputs": [
    {
     "data": {
      "text/plain": [
       "(18, 16, 14, 12, 10, 8, 6, 4, 2)"
      ]
     },
     "execution_count": 828,
     "metadata": {},
     "output_type": "execute_result"
    }
   ],
   "source": [
    "k = [9,8,7,6,5,4,3,2,1]\n",
    "m = tuple(map(lambda i: i*2,k))\n",
    "m"
   ]
  },
  {
   "cell_type": "code",
   "execution_count": 829,
   "id": "1b85758a",
   "metadata": {},
   "outputs": [
    {
     "data": {
      "text/plain": [
       "tuple"
      ]
     },
     "execution_count": 829,
     "metadata": {},
     "output_type": "execute_result"
    }
   ],
   "source": [
    "type(m)"
   ]
  },
  {
   "cell_type": "code",
   "execution_count": 830,
   "id": "72197929",
   "metadata": {},
   "outputs": [
    {
     "data": {
      "text/plain": [
       "[9.0, 8.0, 7.0, 6.0, 5.0, 4.0, 3.0, 2.0, 1.0]"
      ]
     },
     "execution_count": 830,
     "metadata": {},
     "output_type": "execute_result"
    }
   ],
   "source": [
    "list(map(lambda p:p/2,m))"
   ]
  },
  {
   "cell_type": "code",
   "execution_count": 831,
   "id": "082c6274",
   "metadata": {},
   "outputs": [],
   "source": [
    "def test34_(c):\n",
    "    return c+2"
   ]
  },
  {
   "cell_type": "code",
   "execution_count": 832,
   "id": "c9661fb3",
   "metadata": {},
   "outputs": [
    {
     "data": {
      "text/plain": [
       "[4, 36, 7, 8, 3, 9, 10]"
      ]
     },
     "execution_count": 832,
     "metadata": {},
     "output_type": "execute_result"
    }
   ],
   "source": [
    "list(map(test34_,l))"
   ]
  },
  {
   "cell_type": "code",
   "execution_count": 833,
   "id": "2f0c7e6d",
   "metadata": {},
   "outputs": [],
   "source": [
    "lists = [\"aryan\",\"lake\",\"people\",\"watch\",\"forloop\"]\n",
    "l2 = []\n",
    "for i in lists:\n",
    "    l2.append(len(i))"
   ]
  },
  {
   "cell_type": "code",
   "execution_count": 834,
   "id": "d57f8cb3",
   "metadata": {},
   "outputs": [
    {
     "data": {
      "text/plain": [
       "[5, 4, 6, 5, 7]"
      ]
     },
     "execution_count": 834,
     "metadata": {},
     "output_type": "execute_result"
    }
   ],
   "source": [
    "l2"
   ]
  },
  {
   "cell_type": "code",
   "execution_count": 835,
   "id": "a98992a8",
   "metadata": {},
   "outputs": [
    {
     "data": {
      "text/plain": [
       "5"
      ]
     },
     "execution_count": 835,
     "metadata": {},
     "output_type": "execute_result"
    }
   ],
   "source": [
    "len(\"aryan\")"
   ]
  },
  {
   "cell_type": "code",
   "execution_count": 836,
   "id": "0344c179",
   "metadata": {},
   "outputs": [
    {
     "data": {
      "text/plain": [
       "11"
      ]
     },
     "execution_count": 836,
     "metadata": {},
     "output_type": "execute_result"
    }
   ],
   "source": [
    "len(\"environment\")"
   ]
  },
  {
   "cell_type": "code",
   "execution_count": 837,
   "id": "a64cda3e",
   "metadata": {},
   "outputs": [],
   "source": [
    "def lenght_of_the_string(lists):\n",
    "    l2 = []\n",
    "    for i in lists:\n",
    "        l2.append(len(i))\n",
    "    return l2"
   ]
  },
  {
   "cell_type": "code",
   "execution_count": 838,
   "id": "2dbeb99b",
   "metadata": {},
   "outputs": [
    {
     "data": {
      "text/plain": [
       "[5, 4, 6, 5, 7]"
      ]
     },
     "execution_count": 838,
     "metadata": {},
     "output_type": "execute_result"
    }
   ],
   "source": [
    "lenght_of_the_string(lists)"
   ]
  },
  {
   "cell_type": "code",
   "execution_count": 839,
   "id": "bea06f17",
   "metadata": {},
   "outputs": [
    {
     "data": {
      "text/plain": [
       "[5, 4, 6, 5, 7]"
      ]
     },
     "execution_count": 839,
     "metadata": {},
     "output_type": "execute_result"
    }
   ],
   "source": [
    "list(map(lambda s:len(s),lists))"
   ]
  },
  {
   "cell_type": "code",
   "execution_count": 840,
   "id": "f7c8862d",
   "metadata": {},
   "outputs": [],
   "source": [
    "def length_string(x):\n",
    "    return len(x)"
   ]
  },
  {
   "cell_type": "code",
   "execution_count": 841,
   "id": "f17ce0f6",
   "metadata": {},
   "outputs": [
    {
     "data": {
      "text/plain": [
       "[5, 4, 6, 5, 7]"
      ]
     },
     "execution_count": 841,
     "metadata": {},
     "output_type": "execute_result"
    }
   ],
   "source": [
    "list(map(length_string , lists))"
   ]
  },
  {
   "cell_type": "code",
   "execution_count": 842,
   "id": "1e48e279",
   "metadata": {},
   "outputs": [
    {
     "data": {
      "text/plain": [
       "{4, 5, 6, 7}"
      ]
     },
     "execution_count": 842,
     "metadata": {},
     "output_type": "execute_result"
    }
   ],
   "source": [
    "set(map(len,lists))"
   ]
  },
  {
   "cell_type": "code",
   "execution_count": 843,
   "id": "ad3034eb",
   "metadata": {},
   "outputs": [
    {
     "data": {
      "text/plain": [
       "['aryan', 'lake', 'people', 'watch', 'forloop']"
      ]
     },
     "execution_count": 843,
     "metadata": {},
     "output_type": "execute_result"
    }
   ],
   "source": [
    "lists"
   ]
  },
  {
   "cell_type": "code",
   "execution_count": 844,
   "id": "1d081a21",
   "metadata": {},
   "outputs": [
    {
     "data": {
      "text/plain": [
       "['nayra', 'ekal', 'elpoep', 'hctaw', 'poolrof']"
      ]
     },
     "execution_count": 844,
     "metadata": {},
     "output_type": "execute_result"
    }
   ],
   "source": [
    "# rervese the list element\n",
    "list(map(lambda s : s[::-1],lists))"
   ]
  },
  {
   "cell_type": "markdown",
   "id": "d819cb83",
   "metadata": {},
   "source": [
    "# Reduce"
   ]
  },
  {
   "cell_type": "code",
   "execution_count": 45,
   "id": "01eeca55",
   "metadata": {},
   "outputs": [],
   "source": [
    "from functools import reduce"
   ]
  },
  {
   "cell_type": "code",
   "execution_count": 46,
   "id": "d2701fd9",
   "metadata": {},
   "outputs": [
    {
     "name": "stdout",
     "output_type": "stream",
     "text": [
      "Enter the user input : 45 78\n"
     ]
    },
    {
     "data": {
      "text/plain": [
       "123"
      ]
     },
     "execution_count": 46,
     "metadata": {},
     "output_type": "execute_result"
    }
   ],
   "source": [
    "# add the number from user input\n",
    "\n",
    "inp = (input(\"Enter the user input : \")).split()\n",
    "reduce(lambda a,b:int(a)+int(b),inp)"
   ]
  },
  {
   "cell_type": "code",
   "execution_count": 47,
   "id": "6b5385ed",
   "metadata": {},
   "outputs": [
    {
     "data": {
      "text/plain": [
       "2160"
      ]
     },
     "execution_count": 47,
     "metadata": {},
     "output_type": "execute_result"
    }
   ],
   "source": [
    "multi = [2,3,4,3,2,5,3]\n",
    "reduce(lambda i,j:i*j,multi)"
   ]
  },
  {
   "cell_type": "code",
   "execution_count": 48,
   "id": "baaf8a1e",
   "metadata": {},
   "outputs": [
    {
     "data": {
      "text/plain": [
       "756"
      ]
     },
     "execution_count": 48,
     "metadata": {},
     "output_type": "execute_result"
    }
   ],
   "source": [
    "#Find maximum without using inbuilt fucition max() in the program\n",
    "lists = [1,2,4 ,6,756]\n",
    "reduce(lambda a,b:a if a>b else b,lists)"
   ]
  },
  {
   "cell_type": "code",
   "execution_count": 817,
   "id": "c64ef95f",
   "metadata": {},
   "outputs": [
    {
     "name": "stdout",
     "output_type": "stream",
     "text": [
      "enter the user input : 6\n"
     ]
    },
    {
     "data": {
      "text/plain": [
       "720"
      ]
     },
     "execution_count": 817,
     "metadata": {},
     "output_type": "execute_result"
    }
   ],
   "source": [
    "# finding factorial using the using method \n",
    "fact = int(input(\"enter the user input : \"))\n",
    "reduce(lambda x,y:x*y ,range(1,fact+1))"
   ]
  },
  {
   "cell_type": "code",
   "execution_count": 818,
   "id": "d55cfcb5",
   "metadata": {},
   "outputs": [
    {
     "name": "stdout",
     "output_type": "stream",
     "text": [
      "7\n"
     ]
    },
    {
     "data": {
      "text/plain": [
       "5040"
      ]
     },
     "execution_count": 818,
     "metadata": {},
     "output_type": "execute_result"
    }
   ],
   "source": [
    "# find factorial with reduce without lambda\n",
    "i = int(input())\n",
    "def test(x,y):\n",
    "    return x*y\n",
    "reduce(test,range(1,i+1))"
   ]
  },
  {
   "cell_type": "code",
   "execution_count": 822,
   "id": "f1e430fe",
   "metadata": {},
   "outputs": [
    {
     "data": {
      "text/plain": [
       "[2, 6, 4, 6, 4, 6, 2]"
      ]
     },
     "execution_count": 822,
     "metadata": {},
     "output_type": "execute_result"
    }
   ],
   "source": [
    "#  print the multiplication of the even no. from the list\n",
    "now = [2,3,5,6,5,4,3,6,7,4,221,6,7,7,3,2,1]\n",
    "[i for i in now if i%2==0]"
   ]
  },
  {
   "cell_type": "code",
   "execution_count": 825,
   "id": "a746ae49",
   "metadata": {},
   "outputs": [
    {
     "data": {
      "text/plain": [
       "13824"
      ]
     },
     "execution_count": 825,
     "metadata": {},
     "output_type": "execute_result"
    }
   ],
   "source": [
    "#  print the multiplication of the even no. from the list\n",
    "now = [2,3,5,6,5,4,3,6,7,4,221,6,7,7,3,2,1]\n",
    "reduce(lambda a,b:a*b,[even for even in now if even%2==0])\n",
    "# this is filter out and print the output that's you wants"
   ]
  },
  {
   "cell_type": "markdown",
   "id": "9403180e",
   "metadata": {},
   "source": [
    "# filter"
   ]
  },
  {
   "cell_type": "code",
   "execution_count": 849,
   "id": "62da98fe",
   "metadata": {},
   "outputs": [
    {
     "data": {
      "text/plain": [
       "{2, 4, 6, 8, 64, 76, 312, 766}"
      ]
     },
     "execution_count": 849,
     "metadata": {},
     "output_type": "execute_result"
    }
   ],
   "source": [
    "# filter out the even no. form the given data \n",
    "l = [ 2,4,5,5,6,76,7,87,8,766,6,8,8,7,76,64,312,1,6,7,8,9,8]\n",
    "set(filter(lambda a:a%2==0,l))"
   ]
  },
  {
   "cell_type": "code",
   "execution_count": 853,
   "id": "53ad253d",
   "metadata": {},
   "outputs": [
    {
     "data": {
      "text/plain": [
       "[2, 4, 6, 76, 8, 766, 6, 8, 8, 76, 64, 312, 6, 8, 8]"
      ]
     },
     "execution_count": 853,
     "metadata": {},
     "output_type": "execute_result"
    }
   ],
   "source": [
    "list(filter(lambda a:a%2==0,l)) # filter work as a boolean "
   ]
  },
  {
   "cell_type": "code",
   "execution_count": 858,
   "id": "64d80890",
   "metadata": {},
   "outputs": [
    {
     "data": {
      "text/plain": [
       "['w', 'n', 'e', 'r', 'i', 'n', 'n', 'e', 'r']"
      ]
     },
     "execution_count": 858,
     "metadata": {},
     "output_type": "execute_result"
    }
   ],
   "source": [
    "u = \"wIIner Winner \"\n",
    "list(filter(lambda i:i.islower(),u))"
   ]
  },
  {
   "cell_type": "code",
   "execution_count": 863,
   "id": "2bc987c7",
   "metadata": {},
   "outputs": [
    {
     "data": {
      "text/plain": [
       "['fun', 'god', 'etc']"
      ]
     },
     "execution_count": 863,
     "metadata": {},
     "output_type": "execute_result"
    }
   ],
   "source": [
    "# only those data length is leser than four\n",
    "x = [\"pink\",\"orange\",\"fun\" , \"god\",\"cake\",\"toffee\",\"sync\",\"etc\"]\n",
    "list(filter(lambda i:len(i)<4,x))"
   ]
  },
  {
   "cell_type": "code",
   "execution_count": 51,
   "id": "e4806204",
   "metadata": {},
   "outputs": [
    {
     "data": {
      "text/plain": [
       "['prince', 'pizza', 'pubg']"
      ]
     },
     "execution_count": 51,
     "metadata": {},
     "output_type": "execute_result"
    }
   ],
   "source": [
    "# filter out those data which is starting with the p\n",
    "k=[\"prince\",\"amausi\",\"pizza\",\"sin\",\"xos\",\"pubg\"]\n",
    "list(filter(lambda a:a[0]==\"p\",k))"
   ]
  },
  {
   "cell_type": "markdown",
   "id": "9fab9635",
   "metadata": {},
   "source": [
    "# Reccurrsion \n",
    "Calling a function again and again said as recurrsion"
   ]
  },
  {
   "cell_type": "markdown",
   "id": "2af8ccf5",
   "metadata": {},
   "source": [
    "#### fabonicci series "
   ]
  },
  {
   "cell_type": "code",
   "execution_count": 912,
   "id": "5fa993d6",
   "metadata": {},
   "outputs": [
    {
     "name": "stdout",
     "output_type": "stream",
     "text": [
      "Enter the number that's you wants to fab : 6\n"
     ]
    },
    {
     "data": {
      "text/plain": [
       "8"
      ]
     },
     "execution_count": 912,
     "metadata": {},
     "output_type": "execute_result"
    }
   ],
   "source": [
    "# 0 1 1 2 3 5 8 13 21 34 55 89 144 \n",
    "def reccursion_fabonicci(n):\n",
    "    if n<=1:\n",
    "        return n\n",
    "    if n>1:\n",
    "        return reccursion_fabonicci(n-1)+reccursion_fabonicci(n-2)\n",
    "fab = int(input(\"Enter the number that's you wants to fab : \"))\n",
    "reccursion_fabonicci(fab)"
   ]
  },
  {
   "cell_type": "code",
   "execution_count": 52,
   "id": "8b4046f3",
   "metadata": {},
   "outputs": [
    {
     "name": "stdout",
     "output_type": "stream",
     "text": [
      "Enter the number : 6\n"
     ]
    },
    {
     "data": {
      "text/plain": [
       "21"
      ]
     },
     "execution_count": 52,
     "metadata": {},
     "output_type": "execute_result"
    }
   ],
   "source": [
    "def recurrsion(i):\n",
    "    if i <=1:\n",
    "        return i\n",
    "    else:\n",
    "        return i+recurrsion(i-1)\n",
    "x = int(input(\"Enter the number : \"))\n",
    "recurrsion(x)"
   ]
  },
  {
   "cell_type": "code",
   "execution_count": 48,
   "id": "b63d0388",
   "metadata": {},
   "outputs": [],
   "source": [
    "# find the prime numberes \n",
    "def check_prime(n):\n",
    "    if n<=1:\n",
    "        return False\n",
    "    elif n<=3:\n",
    "        return True\n",
    "    elif n%2==0 or n%3 ==0:\n",
    "        return False\n",
    "    i = 5\n",
    "    while i*i <= n:\n",
    "        if i%n==0 or n%(i+2) == 0 :\n",
    "            return False\n",
    "        i +=6\n",
    "    return True\n",
    "\n",
    "prime = [x for x in range(1,24) if check_prime(x)]"
   ]
  },
  {
   "cell_type": "code",
   "execution_count": 49,
   "id": "ef29c0d1",
   "metadata": {},
   "outputs": [
    {
     "name": "stdout",
     "output_type": "stream",
     "text": [
      "[2, 3, 5, 7, 11, 13, 17, 19, 23] "
     ]
    }
   ],
   "source": [
    "print(prime,end = \" \")"
   ]
  },
  {
   "cell_type": "code",
   "execution_count": null,
   "id": "8c4453dd",
   "metadata": {},
   "outputs": [],
   "source": [
    " "
   ]
  },
  {
   "cell_type": "code",
   "execution_count": null,
   "id": "514543f2",
   "metadata": {},
   "outputs": [],
   "source": []
  }
 ],
 "metadata": {
  "kernelspec": {
   "display_name": "Python 3 (ipykernel)",
   "language": "python",
   "name": "python3"
  },
  "language_info": {
   "codemirror_mode": {
    "name": "ipython",
    "version": 3
   },
   "file_extension": ".py",
   "mimetype": "text/x-python",
   "name": "python",
   "nbconvert_exporter": "python",
   "pygments_lexer": "ipython3",
   "version": "3.11.5"
  }
 },
 "nbformat": 4,
 "nbformat_minor": 5
}
