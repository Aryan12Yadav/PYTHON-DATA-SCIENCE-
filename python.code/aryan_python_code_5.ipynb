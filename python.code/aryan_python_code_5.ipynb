{
 "cells": [
  {
   "cell_type": "markdown",
   "id": "9c27fff3",
   "metadata": {},
   "source": [
    "# Recurrsion"
   ]
  },
  {
   "cell_type": "code",
   "execution_count": 30,
   "id": "57e4de63",
   "metadata": {},
   "outputs": [
    {
     "data": {
      "text/plain": [
       "9"
      ]
     },
     "execution_count": 30,
     "metadata": {},
     "output_type": "execute_result"
    }
   ],
   "source": [
    "s = \"sudhanshu\"\n",
    "len(s)"
   ]
  },
  {
   "cell_type": "code",
   "execution_count": 2,
   "id": "498eac75",
   "metadata": {},
   "outputs": [],
   "source": [
    "#lenth of the string by using recurrsion\n",
    "def find_len(s):                         #  1+\"udhanshu\"\n",
    "    if s == \"\":                          #  1+1+\"dhanshu\"\n",
    "        return 0                         #  1+1+1+\"handhu\"\n",
    "    else:                                #  1+1+1+1+\"andhu\"\n",
    "        return 1+find_len(s[1:])         #  1+1+1+.......\n",
    "                                         #  at the last 1+1+1+1+1+1+1+1+1 == 9"
   ]
  },
  {
   "cell_type": "code",
   "execution_count": 3,
   "id": "d20d512b",
   "metadata": {},
   "outputs": [
    {
     "data": {
      "text/plain": [
       "44"
      ]
     },
     "execution_count": 3,
     "metadata": {},
     "output_type": "execute_result"
    }
   ],
   "source": [
    "find_len(\"The quick brown fox jumped over the lazy dog\")"
   ]
  },
  {
   "cell_type": "code",
   "execution_count": 35,
   "id": "132d5f44",
   "metadata": {},
   "outputs": [],
   "source": [
    "a= \"aryanyadav\""
   ]
  },
  {
   "cell_type": "code",
   "execution_count": 36,
   "id": "b8e6046e",
   "metadata": {},
   "outputs": [
    {
     "data": {
      "text/plain": [
       "'vadaynayra'"
      ]
     },
     "execution_count": 36,
     "metadata": {},
     "output_type": "execute_result"
    }
   ],
   "source": [
    "a[::-1]"
   ]
  },
  {
   "cell_type": "code",
   "execution_count": 38,
   "id": "ccd22ca6",
   "metadata": {},
   "outputs": [],
   "source": [
    "# reverse the word by using recurrsion \n",
    "def find_len(x):        # logic find_len(s[1:])+s[0]\n",
    "                                   #    \"ryan\"+\"a\"\n",
    "                                    # \"yan\"+\"r\"+\"a\"\n",
    "    if x == \"\":                     # \"an\"+\"y\"+\"r\"+\"a\"\n",
    "        return \"\"                   #\"n\"+\"a\"+\"y\"+\"r\"+\"a\"\n",
    "    else:                                \n",
    "        return find_len(x[1:])+x[0]"
   ]
  },
  {
   "cell_type": "code",
   "execution_count": 5,
   "id": "e152ecb9",
   "metadata": {},
   "outputs": [
    {
     "data": {
      "text/plain": [
       "'shivaji boys hostel'"
      ]
     },
     "execution_count": 5,
     "metadata": {},
     "output_type": "execute_result"
    }
   ],
   "source": [
    "def revese_string(s):\n",
    "    if s == \"\":\n",
    "        return \"\"\n",
    "    else:\n",
    "        return revese_string(s[1:])+ s[0]\n",
    "revese_string(\"letsoh syob ijavihs\")"
   ]
  },
  {
   "cell_type": "code",
   "execution_count": 39,
   "id": "f35f7465",
   "metadata": {},
   "outputs": [
    {
     "data": {
      "text/plain": [
       "'nayra'"
      ]
     },
     "execution_count": 39,
     "metadata": {},
     "output_type": "execute_result"
    }
   ],
   "source": [
    "find_len(\"aryan\")"
   ]
  },
  {
   "cell_type": "code",
   "execution_count": 40,
   "id": "3dc72fc5",
   "metadata": {},
   "outputs": [],
   "source": [
    "x = \"sdksjdskdsldkj\"\n",
    "def find_char_count(x,y):\n",
    "    if x ==\"\":\n",
    "        return 0\n",
    "    elif x[0]==y:\n",
    "        return find_char_count(x[1:],y)+1\n",
    "    else:\n",
    "        return find_char_count(x[1:],y)"
   ]
  },
  {
   "cell_type": "code",
   "execution_count": 41,
   "id": "0d9bffd4",
   "metadata": {},
   "outputs": [
    {
     "data": {
      "text/plain": [
       "4"
      ]
     },
     "execution_count": 41,
     "metadata": {},
     "output_type": "execute_result"
    }
   ],
   "source": [
    "find_char_count(x,'d')"
   ]
  },
  {
   "cell_type": "code",
   "execution_count": 42,
   "id": "7de6ed32",
   "metadata": {},
   "outputs": [],
   "source": [
    "#Logic\n",
    "#    if \"sdksjkskdldkj\"\n",
    "#       \"dksjkskdldkj\"+0   # becoz s != y\n",
    "#          \"ksjkskdldkj\"+1+0\n",
    "#        0+0+1+0+0+1+0+0+1+0+0+0+1+0\n",
    "#   coming out to be a -=========  4 \n"
   ]
  },
  {
   "cell_type": "code",
   "execution_count": 11,
   "id": "b8c84ed8",
   "metadata": {},
   "outputs": [],
   "source": [
    "# now check whether the list is sort or not \n",
    "l = [2,3,4,3]\n"
   ]
  },
  {
   "cell_type": "code",
   "execution_count": 12,
   "id": "7c3a11e3",
   "metadata": {},
   "outputs": [],
   "source": [
    "def list_sort(l):\n",
    "    if len(l)<=1 :\n",
    "        return True\n",
    "    elif l[0]>l[1]:\n",
    "        return False\n",
    "    else:\n",
    "        return list_sort(l[1:])"
   ]
  },
  {
   "cell_type": "code",
   "execution_count": 13,
   "id": "78fca0b5",
   "metadata": {},
   "outputs": [
    {
     "data": {
      "text/plain": [
       "False"
      ]
     },
     "execution_count": 13,
     "metadata": {},
     "output_type": "execute_result"
    }
   ],
   "source": [
    "list_sort(l)"
   ]
  },
  {
   "cell_type": "code",
   "execution_count": 46,
   "id": "fb35513a",
   "metadata": {},
   "outputs": [],
   "source": [
    "def check_perfect_square(n,begin = 1):\n",
    "    if n ==begin**2:\n",
    "        return True \n",
    "    elif n<begin**2:\n",
    "        return False \n",
    "    else:\n",
    "        return check_perfect_square(n,begin+1)"
   ]
  },
  {
   "cell_type": "code",
   "execution_count": 47,
   "id": "ac48f0e9",
   "metadata": {},
   "outputs": [
    {
     "data": {
      "text/plain": [
       "True"
      ]
     },
     "execution_count": 47,
     "metadata": {},
     "output_type": "execute_result"
    }
   ],
   "source": [
    "check_perfect_square(9)"
   ]
  },
  {
   "cell_type": "code",
   "execution_count": 48,
   "id": "13ca2a96",
   "metadata": {},
   "outputs": [
    {
     "data": {
      "text/plain": [
       "False"
      ]
     },
     "execution_count": 48,
     "metadata": {},
     "output_type": "execute_result"
    }
   ],
   "source": [
    "check_perfect_square(8)"
   ]
  },
  {
   "cell_type": "code",
   "execution_count": 49,
   "id": "caf18ca4",
   "metadata": {},
   "outputs": [
    {
     "data": {
      "text/plain": [
       "False"
      ]
     },
     "execution_count": 49,
     "metadata": {},
     "output_type": "execute_result"
    }
   ],
   "source": [
    "check_perfect_square(0)"
   ]
  },
  {
   "cell_type": "code",
   "execution_count": 50,
   "id": "ffc620c4",
   "metadata": {},
   "outputs": [
    {
     "data": {
      "text/plain": [
       "True"
      ]
     },
     "execution_count": 50,
     "metadata": {},
     "output_type": "execute_result"
    }
   ],
   "source": [
    "check_perfect_square(100)"
   ]
  },
  {
   "cell_type": "code",
   "execution_count": 51,
   "id": "6c4e4b7d",
   "metadata": {},
   "outputs": [
    {
     "data": {
      "text/plain": [
       "True"
      ]
     },
     "execution_count": 51,
     "metadata": {},
     "output_type": "execute_result"
    }
   ],
   "source": [
    "check_perfect_square(625)"
   ]
  },
  {
   "cell_type": "code",
   "execution_count": 52,
   "id": "7334ef02",
   "metadata": {},
   "outputs": [
    {
     "data": {
      "text/plain": [
       "True"
      ]
     },
     "execution_count": 52,
     "metadata": {},
     "output_type": "execute_result"
    }
   ],
   "source": [
    "check_perfect_square(10000)"
   ]
  },
  {
   "cell_type": "markdown",
   "id": "6a19ae8f",
   "metadata": {},
   "source": [
    "# Iteration and Iterables "
   ]
  },
  {
   "cell_type": "code",
   "execution_count": 15,
   "id": "62ad53fc",
   "metadata": {},
   "outputs": [],
   "source": [
    "l = [23,7,98,9,97,]\n",
    "a = 34\n",
    "x = \"aryan\""
   ]
  },
  {
   "cell_type": "code",
   "execution_count": 54,
   "id": "49b3be82",
   "metadata": {},
   "outputs": [
    {
     "name": "stdout",
     "output_type": "stream",
     "text": [
      "23\n",
      "7\n",
      "98\n",
      "9\n",
      "97\n"
     ]
    }
   ],
   "source": [
    "for i in l:\n",
    "    print(i)"
   ]
  },
  {
   "cell_type": "code",
   "execution_count": 55,
   "id": "19514d11",
   "metadata": {},
   "outputs": [
    {
     "name": "stdout",
     "output_type": "stream",
     "text": [
      "a\n",
      "r\n",
      "y\n",
      "a\n",
      "n\n"
     ]
    }
   ],
   "source": [
    "for i in x:\n",
    "    print(i)"
   ]
  },
  {
   "cell_type": "code",
   "execution_count": 16,
   "id": "e4a1873a",
   "metadata": {},
   "outputs": [
    {
     "ename": "TypeError",
     "evalue": "object of type 'int' has no len()",
     "output_type": "error",
     "traceback": [
      "\u001b[1;31m---------------------------------------------------------------------------\u001b[0m",
      "\u001b[1;31mTypeError\u001b[0m                                 Traceback (most recent call last)",
      "Cell \u001b[1;32mIn[16], line 1\u001b[0m\n\u001b[1;32m----> 1\u001b[0m \u001b[38;5;28;01mfor\u001b[39;00m i \u001b[38;5;129;01min\u001b[39;00m \u001b[38;5;28mlen\u001b[39m(a):\n\u001b[0;32m      2\u001b[0m     \u001b[38;5;28mprint\u001b[39m(i)\n",
      "\u001b[1;31mTypeError\u001b[0m: object of type 'int' has no len()"
     ]
    }
   ],
   "source": [
    "for i in a:\n",
    "    print(i)"
   ]
  },
  {
   "cell_type": "code",
   "execution_count": 58,
   "id": "e90844fc",
   "metadata": {},
   "outputs": [
    {
     "data": {
      "text/plain": [
       "<list_iterator at 0x1a68342b5e0>"
      ]
     },
     "execution_count": 58,
     "metadata": {},
     "output_type": "execute_result"
    }
   ],
   "source": [
    "iter(l)"
   ]
  },
  {
   "cell_type": "code",
   "execution_count": 59,
   "id": "e483ea93",
   "metadata": {},
   "outputs": [
    {
     "ename": "TypeError",
     "evalue": "'int' object is not iterable",
     "output_type": "error",
     "traceback": [
      "\u001b[1;31m---------------------------------------------------------------------------\u001b[0m",
      "\u001b[1;31mTypeError\u001b[0m                                 Traceback (most recent call last)",
      "Cell \u001b[1;32mIn[59], line 1\u001b[0m\n\u001b[1;32m----> 1\u001b[0m \u001b[38;5;28miter\u001b[39m(a)\n",
      "\u001b[1;31mTypeError\u001b[0m: 'int' object is not iterable"
     ]
    }
   ],
   "source": [
    "iter(a)"
   ]
  },
  {
   "cell_type": "code",
   "execution_count": 60,
   "id": "b750bb57",
   "metadata": {},
   "outputs": [
    {
     "data": {
      "text/plain": [
       "<str_ascii_iterator at 0x1a6834266e0>"
      ]
     },
     "execution_count": 60,
     "metadata": {},
     "output_type": "execute_result"
    }
   ],
   "source": [
    "iter(x)"
   ]
  },
  {
   "cell_type": "code",
   "execution_count": 61,
   "id": "2ea37729",
   "metadata": {},
   "outputs": [],
   "source": [
    "X = \"aryanyadav\"\n"
   ]
  },
  {
   "cell_type": "code",
   "execution_count": 63,
   "id": "137b117d",
   "metadata": {},
   "outputs": [
    {
     "data": {
      "text/plain": [
       "'aryanyadav'"
      ]
     },
     "execution_count": 63,
     "metadata": {},
     "output_type": "execute_result"
    }
   ],
   "source": [
    "X"
   ]
  },
  {
   "cell_type": "code",
   "execution_count": 64,
   "id": "6078f7cb",
   "metadata": {},
   "outputs": [
    {
     "ename": "TypeError",
     "evalue": "'str' object is not an iterator",
     "output_type": "error",
     "traceback": [
      "\u001b[1;31m---------------------------------------------------------------------------\u001b[0m",
      "\u001b[1;31mTypeError\u001b[0m                                 Traceback (most recent call last)",
      "Cell \u001b[1;32mIn[64], line 1\u001b[0m\n\u001b[1;32m----> 1\u001b[0m \u001b[38;5;28mnext\u001b[39m(X)\n",
      "\u001b[1;31mTypeError\u001b[0m: 'str' object is not an iterator"
     ]
    }
   ],
   "source": [
    "next(X)"
   ]
  },
  {
   "cell_type": "code",
   "execution_count": 65,
   "id": "1a4f45f6",
   "metadata": {},
   "outputs": [
    {
     "ename": "TypeError",
     "evalue": "'str' object is not an iterator",
     "output_type": "error",
     "traceback": [
      "\u001b[1;31m---------------------------------------------------------------------------\u001b[0m",
      "\u001b[1;31mTypeError\u001b[0m                                 Traceback (most recent call last)",
      "Cell \u001b[1;32mIn[65], line 1\u001b[0m\n\u001b[1;32m----> 1\u001b[0m \u001b[38;5;28mnext\u001b[39m(X)\n",
      "\u001b[1;31mTypeError\u001b[0m: 'str' object is not an iterator"
     ]
    }
   ],
   "source": [
    "next(X)"
   ]
  },
  {
   "cell_type": "code",
   "execution_count": 66,
   "id": "ab29a31c",
   "metadata": {},
   "outputs": [],
   "source": [
    "i = iter(X)"
   ]
  },
  {
   "cell_type": "code",
   "execution_count": 67,
   "id": "5d2a8358",
   "metadata": {},
   "outputs": [
    {
     "data": {
      "text/plain": [
       "'a'"
      ]
     },
     "execution_count": 67,
     "metadata": {},
     "output_type": "execute_result"
    }
   ],
   "source": [
    "next(i) # next work as a pointer"
   ]
  },
  {
   "cell_type": "code",
   "execution_count": 68,
   "id": "cb8f94bf",
   "metadata": {},
   "outputs": [
    {
     "data": {
      "text/plain": [
       "'r'"
      ]
     },
     "execution_count": 68,
     "metadata": {},
     "output_type": "execute_result"
    }
   ],
   "source": [
    "next(i)"
   ]
  },
  {
   "cell_type": "code",
   "execution_count": 69,
   "id": "2714aaa5",
   "metadata": {},
   "outputs": [
    {
     "data": {
      "text/plain": [
       "'y'"
      ]
     },
     "execution_count": 69,
     "metadata": {},
     "output_type": "execute_result"
    }
   ],
   "source": [
    "next(i)"
   ]
  },
  {
   "cell_type": "code",
   "execution_count": 70,
   "id": "17fa3739",
   "metadata": {},
   "outputs": [
    {
     "data": {
      "text/plain": [
       "'a'"
      ]
     },
     "execution_count": 70,
     "metadata": {},
     "output_type": "execute_result"
    }
   ],
   "source": [
    "next(i)"
   ]
  },
  {
   "cell_type": "code",
   "execution_count": 71,
   "id": "89def4a3",
   "metadata": {},
   "outputs": [
    {
     "data": {
      "text/plain": [
       "'n'"
      ]
     },
     "execution_count": 71,
     "metadata": {},
     "output_type": "execute_result"
    }
   ],
   "source": [
    "next(i)"
   ]
  },
  {
   "cell_type": "code",
   "execution_count": 72,
   "id": "68a448ef",
   "metadata": {},
   "outputs": [
    {
     "name": "stdout",
     "output_type": "stream",
     "text": [
      "<str_ascii_iterator object at 0x000001A683432B30>\n",
      "<str_ascii_iterator object at 0x000001A683432B30>\n",
      "<str_ascii_iterator object at 0x000001A683432B30>\n",
      "<str_ascii_iterator object at 0x000001A683432B30>\n",
      "<str_ascii_iterator object at 0x000001A683432B30>\n"
     ]
    }
   ],
   "source": [
    "for j in i:\n",
    "    print(i)"
   ]
  },
  {
   "cell_type": "code",
   "execution_count": 17,
   "id": "f326189b",
   "metadata": {},
   "outputs": [],
   "source": [
    "u = [3,7,8,9,7]"
   ]
  },
  {
   "cell_type": "code",
   "execution_count": 21,
   "id": "dc66024e",
   "metadata": {},
   "outputs": [],
   "source": [
    "n = iter(u)"
   ]
  },
  {
   "cell_type": "code",
   "execution_count": 22,
   "id": "623c38ad",
   "metadata": {},
   "outputs": [
    {
     "data": {
      "text/plain": [
       "3"
      ]
     },
     "execution_count": 22,
     "metadata": {},
     "output_type": "execute_result"
    }
   ],
   "source": [
    "next(n)"
   ]
  },
  {
   "cell_type": "code",
   "execution_count": 9,
   "id": "b24e194d",
   "metadata": {},
   "outputs": [
    {
     "data": {
      "text/plain": [
       "7"
      ]
     },
     "execution_count": 9,
     "metadata": {},
     "output_type": "execute_result"
    }
   ],
   "source": [
    "next(n)"
   ]
  },
  {
   "cell_type": "code",
   "execution_count": 10,
   "id": "d77e54e9",
   "metadata": {},
   "outputs": [
    {
     "ename": "TypeError",
     "evalue": "'int' object is not iterable",
     "output_type": "error",
     "traceback": [
      "\u001b[1;31m---------------------------------------------------------------------------\u001b[0m",
      "\u001b[1;31mTypeError\u001b[0m                                 Traceback (most recent call last)",
      "Cell \u001b[1;32mIn[10], line 1\u001b[0m\n\u001b[1;32m----> 1\u001b[0m \u001b[38;5;28;01mfor\u001b[39;00m i \u001b[38;5;129;01min\u001b[39;00m \u001b[38;5;241m3454\u001b[39m:\n\u001b[0;32m      2\u001b[0m     \u001b[38;5;28mprint\u001b[39m(i)\n",
      "\u001b[1;31mTypeError\u001b[0m: 'int' object is not iterable"
     ]
    }
   ],
   "source": [
    "for i in 3454:\n",
    "    print(i)"
   ]
  },
  {
   "cell_type": "code",
   "execution_count": 12,
   "id": "a48f714f",
   "metadata": {},
   "outputs": [
    {
     "name": "stdout",
     "output_type": "stream",
     "text": [
      "3\n",
      "4\n",
      "56\n"
     ]
    }
   ],
   "source": [
    "for i in (3,4,56):\n",
    "    print(i)"
   ]
  },
  {
   "cell_type": "code",
   "execution_count": 13,
   "id": "8e6fb774",
   "metadata": {},
   "outputs": [
    {
     "data": {
      "text/plain": [
       "<tuple_iterator at 0x21337369b70>"
      ]
     },
     "execution_count": 13,
     "metadata": {},
     "output_type": "execute_result"
    }
   ],
   "source": [
    "iter((3,4,56))"
   ]
  },
  {
   "cell_type": "code",
   "execution_count": 15,
   "id": "7bbab3f4",
   "metadata": {},
   "outputs": [
    {
     "data": {
      "text/plain": [
       "<set_iterator at 0x21337f3e9c0>"
      ]
     },
     "execution_count": 15,
     "metadata": {},
     "output_type": "execute_result"
    }
   ],
   "source": [
    "iter({25,57,8,9,8})"
   ]
  },
  {
   "cell_type": "code",
   "execution_count": 21,
   "id": "04e1f539",
   "metadata": {},
   "outputs": [],
   "source": [
    "w = iter({'Key':'value'})"
   ]
  },
  {
   "cell_type": "code",
   "execution_count": 22,
   "id": "0175e710",
   "metadata": {},
   "outputs": [
    {
     "data": {
      "text/plain": [
       "'Key'"
      ]
     },
     "execution_count": 22,
     "metadata": {},
     "output_type": "execute_result"
    }
   ],
   "source": [
    "next(w)"
   ]
  },
  {
   "cell_type": "code",
   "execution_count": 24,
   "id": "ee0be74d",
   "metadata": {},
   "outputs": [
    {
     "ename": "TypeError",
     "evalue": "'bool' object is not iterable",
     "output_type": "error",
     "traceback": [
      "\u001b[1;31m---------------------------------------------------------------------------\u001b[0m",
      "\u001b[1;31mTypeError\u001b[0m                                 Traceback (most recent call last)",
      "Cell \u001b[1;32mIn[24], line 1\u001b[0m\n\u001b[1;32m----> 1\u001b[0m \u001b[38;5;28miter\u001b[39m(\u001b[38;5;28;01mTrue\u001b[39;00m)\n",
      "\u001b[1;31mTypeError\u001b[0m: 'bool' object is not iterable"
     ]
    }
   ],
   "source": [
    "iter(True)"
   ]
  },
  {
   "cell_type": "markdown",
   "id": "713b3fca",
   "metadata": {},
   "source": [
    "# generator function"
   ]
  },
  {
   "cell_type": "code",
   "execution_count": 25,
   "id": "102810a6",
   "metadata": {},
   "outputs": [
    {
     "data": {
      "text/plain": [
       "range(0, 5)"
      ]
     },
     "execution_count": 25,
     "metadata": {},
     "output_type": "execute_result"
    }
   ],
   "source": [
    "range(0,5)"
   ]
  },
  {
   "cell_type": "code",
   "execution_count": 26,
   "id": "05d3511d",
   "metadata": {},
   "outputs": [
    {
     "data": {
      "text/plain": [
       "'range(0, 5)'"
      ]
     },
     "execution_count": 26,
     "metadata": {},
     "output_type": "execute_result"
    }
   ],
   "source": [
    "str(range(0,5))"
   ]
  },
  {
   "cell_type": "code",
   "execution_count": 30,
   "id": "80586f75",
   "metadata": {},
   "outputs": [
    {
     "data": {
      "text/plain": [
       "[0, 1, 2, 3, 4]"
      ]
     },
     "execution_count": 30,
     "metadata": {},
     "output_type": "execute_result"
    }
   ],
   "source": [
    "p = list(range(0,5))\n",
    "p"
   ]
  },
  {
   "cell_type": "code",
   "execution_count": 1,
   "id": "e7273057",
   "metadata": {},
   "outputs": [],
   "source": [
    "i = iter(range(0,5))"
   ]
  },
  {
   "cell_type": "code",
   "execution_count": 41,
   "id": "bbc19447",
   "metadata": {},
   "outputs": [
    {
     "data": {
      "text/plain": [
       "0"
      ]
     },
     "execution_count": 41,
     "metadata": {},
     "output_type": "execute_result"
    }
   ],
   "source": [
    "# ';.??????????????????????next(i)"
   ]
  },
  {
   "cell_type": "code",
   "execution_count": 42,
   "id": "7f2214b6",
   "metadata": {},
   "outputs": [
    {
     "data": {
      "text/plain": [
       "1"
      ]
     },
     "execution_count": 42,
     "metadata": {},
     "output_type": "execute_result"
    }
   ],
   "source": [
    "next(i)"
   ]
  },
  {
   "cell_type": "code",
   "execution_count": 44,
   "id": "1acfe807",
   "metadata": {},
   "outputs": [
    {
     "data": {
      "text/plain": [
       "3"
      ]
     },
     "execution_count": 44,
     "metadata": {},
     "output_type": "execute_result"
    }
   ],
   "source": [
    "next(i)"
   ]
  },
  {
   "cell_type": "code",
   "execution_count": 61,
   "id": "3c026d09",
   "metadata": {},
   "outputs": [],
   "source": [
    "def count_func(s):\n",
    "    i = 1\n",
    "    while i<=s:\n",
    "        yield i\n",
    "        i = i+1"
   ]
  },
  {
   "cell_type": "code",
   "execution_count": 62,
   "id": "8c74582a",
   "metadata": {},
   "outputs": [
    {
     "name": "stdout",
     "output_type": "stream",
     "text": [
      "1\n",
      "2\n",
      "3\n",
      "4\n",
      "5\n",
      "6\n",
      "7\n",
      "8\n",
      "9\n"
     ]
    }
   ],
   "source": [
    "for i in count_func(9):\n",
    "    print(i)"
   ]
  },
  {
   "cell_type": "code",
   "execution_count": 55,
   "id": "6c661b4c",
   "metadata": {},
   "outputs": [],
   "source": [
    "j = iter(count_func(9))"
   ]
  },
  {
   "cell_type": "code",
   "execution_count": 56,
   "id": "6b157241",
   "metadata": {},
   "outputs": [
    {
     "data": {
      "text/plain": [
       "<generator object count_func at 0x0000021337733100>"
      ]
     },
     "execution_count": 56,
     "metadata": {},
     "output_type": "execute_result"
    }
   ],
   "source": [
    "j"
   ]
  },
  {
   "cell_type": "code",
   "execution_count": 65,
   "id": "110dbdd5",
   "metadata": {},
   "outputs": [],
   "source": [
    "# print fabonacci series \n",
    "def fab(n):\n",
    "    a,b = 0,1\n",
    "    for _ in range(n):\n",
    "        yield a \n",
    "        a,b = b , a+b"
   ]
  },
  {
   "cell_type": "code",
   "execution_count": null,
   "id": "810a612e",
   "metadata": {},
   "outputs": [
    {
     "name": "stdout",
     "output_type": "stream",
     "text": [
      "0\n",
      "1\n",
      "1\n",
      "2\n",
      "3\n",
      "5\n",
      "8\n",
      "13\n",
      "21\n"
     ]
    }
   ],
   "source": [
    "for _ in fab(8):\n",
    "    print(_)"
   ]
  },
  {
   "cell_type": "code",
   "execution_count": 23,
   "id": "952accb3",
   "metadata": {},
   "outputs": [
    {
     "name": "stdout",
     "output_type": "stream",
     "text": [
      "Hello world \n",
      "\n",
      "now let to user this file \n"
     ]
    }
   ],
   "source": [
    "for i in open('test.txt'):\n",
    "    print(i)"
   ]
  },
  {
   "cell_type": "code",
   "execution_count": 24,
   "id": "f8b7f9ae",
   "metadata": {},
   "outputs": [
    {
     "name": "stdout",
     "output_type": "stream",
     "text": [
      "lucknow is the capital of the \n",
      "\n",
      "\n",
      "\n",
      " uttarpradesh  datascience lover\n"
     ]
    }
   ],
   "source": [
    "for i in open(\"Akhilesh.txt\"):\n",
    "    print(i)"
   ]
  },
  {
   "cell_type": "code",
   "execution_count": 25,
   "id": "612b2794",
   "metadata": {},
   "outputs": [
    {
     "name": "stdout",
     "output_type": "stream",
     "text": [
      "INFO:root:the loop will begin\n",
      "\n",
      "INFO:root:8\n",
      "\n",
      "INFO:root:8\n",
      "\n",
      "INFO:root:this is the end of the program\n",
      "\n",
      "INFO:root:the loop will begin\n",
      "\n",
      "INFO:root:9\n",
      "\n",
      "INFO:root:9\n",
      "\n",
      "INFO:root:this is the end of the program\n",
      "\n",
      "INFO:root:the loop will begin\n",
      "\n",
      "INFO:root:10\n",
      "\n",
      "INFO:root:10\n",
      "\n",
      "INFO:root:this is the end of the program\n",
      "\n",
      "INFO:root:the loop will begin\n",
      "\n",
      "INFO:root:11\n",
      "\n",
      "INFO:root:11\n",
      "\n",
      "INFO:root:this is the end of the program\n",
      "\n",
      "INFO:root:the loop will begin\n",
      "\n",
      "INFO:root:12\n",
      "\n",
      "INFO:root:12\n",
      "\n",
      "INFO:root:this is the end of the program\n",
      "\n",
      "INFO:root:the loop will begin\n",
      "\n",
      "INFO:root:13\n",
      "\n",
      "INFO:root:13\n",
      "\n",
      "INFO:root:this is the end of the program\n",
      "\n",
      "INFO:root:the loop will begin\n",
      "\n",
      "INFO:root:14\n",
      "\n",
      "INFO:root:14\n",
      "\n",
      "INFO:root:this is the end of the program\n",
      "\n",
      "INFO:root:the loop will begin\n",
      "\n",
      "INFO:root:15\n",
      "\n",
      "INFO:root:15\n",
      "\n",
      "INFO:root:this is the end of the program\n",
      "\n",
      "INFO:root:the loop will begin\n",
      "\n",
      "INFO:root:16\n",
      "\n",
      "INFO:root:16\n",
      "\n",
      "INFO:root:this is the end of the program\n",
      "\n",
      "INFO:root:the loop will begin\n",
      "\n",
      "INFO:root:17\n",
      "\n",
      "INFO:root:17\n",
      "\n",
      "INFO:root:this is the end of the program\n",
      "\n",
      "INFO:root:the loop will begin\n",
      "\n",
      "INFO:root:18\n",
      "\n",
      "INFO:root:18\n",
      "\n",
      "INFO:root:this is the end of the program\n",
      "\n",
      "INFO:root:the loop will begin\n",
      "\n",
      "INFO:root:19\n",
      "\n",
      "INFO:root:19\n",
      "\n",
      "INFO:root:this is the end of the program\n",
      "\n",
      "INFO:root:the loop will begin\n",
      "\n",
      "INFO:root:20\n",
      "\n",
      "INFO:root:20\n",
      "\n",
      "INFO:root:this is the end of the program\n",
      "\n",
      "INFO:root:the loop will begin\n",
      "\n",
      "INFO:root:21\n",
      "\n",
      "INFO:root:21\n",
      "\n",
      "INFO:root:this is the end of the program\n",
      "\n",
      "INFO:root:the loop will begin\n",
      "\n",
      "INFO:root:22\n",
      "\n",
      "INFO:root:22\n",
      "\n",
      "INFO:root:this is the end of the program\n",
      "\n",
      "INFO:root:the loop will begin\n",
      "\n",
      "INFO:root:23\n",
      "\n",
      "INFO:root:23\n",
      "\n",
      "INFO:root:this is the end of the program\n",
      "\n",
      "INFO:root:the loop will begin\n",
      "\n",
      "INFO:root:24\n",
      "\n",
      "INFO:root:24\n",
      "\n",
      "INFO:root:this is the end of the program\n",
      "\n",
      "INFO:root:the loop will begin\n",
      "\n",
      "INFO:root:25\n",
      "\n",
      "INFO:root:25\n",
      "\n",
      "INFO:root:this is the end of the program\n",
      "\n",
      "INFO:root:the loop will begin\n",
      "\n",
      "INFO:root:26\n",
      "\n",
      "INFO:root:26\n",
      "\n",
      "INFO:root:this is the end of the program\n",
      "\n",
      "INFO:root:the loop will begin\n",
      "\n",
      "INFO:root:27\n",
      "\n",
      "INFO:root:27\n",
      "\n",
      "INFO:root:this is the end of the program\n",
      "\n",
      "INFO:root:the loop will begin\n",
      "\n",
      "INFO:root:28\n",
      "\n",
      "INFO:root:28\n",
      "\n",
      "INFO:root:this is the end of the program\n",
      "\n",
      "INFO:root:the loop will begin\n",
      "\n",
      "INFO:root:29\n",
      "\n",
      "INFO:root:29\n",
      "\n",
      "INFO:root:this is the end of the program\n",
      "\n",
      "INFO:root:the loop will begin\n",
      "\n",
      "INFO:root:30\n",
      "\n",
      "INFO:root:30\n",
      "\n",
      "INFO:root:this is the end of the program\n",
      "\n",
      "INFO:root:the loop will begin\n",
      "\n",
      "INFO:root:31\n",
      "\n",
      "INFO:root:31\n",
      "\n",
      "INFO:root:this is the end of the program\n",
      "\n",
      "INFO:root:the loop will begin\n",
      "\n",
      "INFO:root:32\n",
      "\n",
      "INFO:root:32\n",
      "\n",
      "INFO:root:this is the end of the program\n",
      "\n",
      "INFO:root:the loop will begin\n",
      "\n",
      "INFO:root:33\n",
      "\n",
      "INFO:root:33\n",
      "\n",
      "INFO:root:this is the end of the program\n",
      "\n",
      "INFO:root:the loop will begin\n",
      "\n",
      "INFO:root:34\n",
      "\n",
      "INFO:root:34\n",
      "\n",
      "INFO:root:this is the end of the program\n",
      "\n",
      "INFO:root:the loop will begin\n",
      "\n",
      "INFO:root:35\n",
      "\n",
      "INFO:root:35\n",
      "\n",
      "INFO:root:this is the end of the program\n",
      "\n",
      "INFO:root:the loop will begin\n",
      "\n",
      "INFO:root:36\n",
      "\n",
      "INFO:root:36\n",
      "\n",
      "INFO:root:this is the end of the program\n",
      "\n",
      "INFO:root:the loop will begin\n",
      "\n",
      "INFO:root:37\n",
      "\n",
      "INFO:root:37\n",
      "\n",
      "INFO:root:this is the end of the program\n",
      "\n",
      "INFO:root:the loop will begin\n",
      "\n",
      "INFO:root:38\n",
      "\n",
      "INFO:root:38\n",
      "\n",
      "INFO:root:this is the end of the program\n",
      "\n",
      "INFO:root:the loop will begin\n",
      "\n",
      "INFO:root:39\n",
      "\n",
      "INFO:root:39\n",
      "\n",
      "INFO:root:this is the end of the program\n",
      "\n",
      "INFO:root:the loop will begin\n",
      "\n",
      "INFO:root:40\n",
      "\n",
      "INFO:root:40\n",
      "\n",
      "INFO:root:this is the end of the program\n",
      "\n",
      "INFO:root:the loop will begin\n",
      "\n",
      "INFO:root:41\n",
      "\n",
      "INFO:root:41\n",
      "\n",
      "INFO:root:this is the end of the program\n",
      "\n",
      "INFO:root:the loop will begin\n",
      "\n",
      "INFO:root:42\n",
      "\n",
      "INFO:root:42\n",
      "\n",
      "INFO:root:this is the end of the program\n",
      "\n",
      "INFO:root:the loop will begin\n",
      "\n",
      "INFO:root:43\n",
      "\n",
      "INFO:root:43\n",
      "\n",
      "INFO:root:this is the end of the program\n",
      "\n",
      "INFO:root:the loop will begin\n",
      "\n",
      "INFO:root:44\n",
      "\n",
      "INFO:root:44\n",
      "\n",
      "INFO:root:this is the end of the program\n",
      "\n",
      "INFO:root:the loop will begin\n",
      "\n",
      "INFO:root:45\n",
      "\n",
      "INFO:root:45\n",
      "\n",
      "INFO:root:this is the end of the program\n",
      "\n",
      "INFO:root:the loop will begin\n",
      "\n",
      "INFO:root:46\n",
      "\n",
      "INFO:root:46\n",
      "\n",
      "INFO:root:this is the end of the program\n",
      "\n",
      "INFO:root:the loop will begin\n",
      "\n",
      "INFO:root:47\n",
      "\n",
      "INFO:root:47\n",
      "\n",
      "INFO:root:this is the end of the program\n",
      "\n",
      "INFO:root:the loop will begin\n",
      "\n",
      "INFO:root:48\n",
      "\n",
      "INFO:root:48\n",
      "\n",
      "INFO:root:this is the end of the program\n",
      "\n",
      "INFO:root:the loop will begin\n",
      "\n",
      "INFO:root:49\n",
      "\n",
      "INFO:root:49\n",
      "\n",
      "INFO:root:this is the end of the program\n",
      "\n",
      "INFO:root:the loop will begin\n",
      "\n",
      "INFO:root:50\n",
      "\n",
      "INFO:root:50\n",
      "\n",
      "INFO:root:this is the end of the program\n",
      "\n",
      "INFO:root:the loop will begin\n",
      "\n",
      "INFO:root:51\n",
      "\n",
      "INFO:root:51\n",
      "\n",
      "INFO:root:this is the end of the program\n",
      "\n",
      "INFO:root:the loop will begin\n",
      "\n",
      "INFO:root:52\n",
      "\n",
      "INFO:root:52\n",
      "\n",
      "INFO:root:this is the end of the program\n",
      "\n",
      "INFO:root:the loop will begin\n",
      "\n",
      "INFO:root:53\n",
      "\n",
      "INFO:root:53\n",
      "\n",
      "INFO:root:this is the end of the program\n",
      "\n",
      "INFO:root:the loop will begin\n",
      "\n",
      "INFO:root:54\n",
      "\n",
      "INFO:root:54\n",
      "\n",
      "INFO:root:this is the end of the program\n",
      "\n",
      "INFO:root:the loop will begin\n",
      "\n",
      "INFO:root:55\n",
      "\n",
      "INFO:root:55\n",
      "\n",
      "INFO:root:this is the end of the program\n",
      "\n",
      "INFO:root:the loop will begin\n",
      "\n",
      "INFO:root:56\n",
      "\n",
      "INFO:root:56\n",
      "\n",
      "INFO:root:this is the end of the program\n",
      "\n",
      "INFO:root:the loop will begin\n",
      "\n",
      "INFO:root:57\n",
      "\n",
      "INFO:root:57\n",
      "\n",
      "INFO:root:this is the end of the program\n",
      "\n",
      "INFO:root:the loop will begin\n",
      "\n",
      "INFO:root:58\n",
      "\n",
      "INFO:root:58\n",
      "\n",
      "INFO:root:this is the end of the program\n",
      "\n",
      "INFO:root:the loop will begin\n",
      "\n",
      "INFO:root:59\n",
      "\n",
      "INFO:root:59\n",
      "\n",
      "INFO:root:this is the end of the program\n",
      "\n",
      "INFO:root:the loop will begin\n",
      "\n",
      "INFO:root:60\n",
      "\n",
      "INFO:root:60\n",
      "\n",
      "INFO:root:this is the end of the program\n",
      "\n",
      "INFO:root:the loop will begin\n",
      "\n",
      "INFO:root:61\n",
      "\n",
      "INFO:root:61\n",
      "\n",
      "INFO:root:this is the end of the program\n",
      "\n",
      "INFO:root:the loop will begin\n",
      "\n",
      "INFO:root:62\n",
      "\n",
      "INFO:root:62\n",
      "\n",
      "INFO:root:this is the end of the program\n",
      "\n",
      "INFO:root:the loop will begin\n",
      "\n",
      "INFO:root:63\n",
      "\n",
      "INFO:root:63\n",
      "\n",
      "INFO:root:this is the end of the program\n",
      "\n",
      "INFO:root:the loop will begin\n",
      "\n",
      "INFO:root:64\n",
      "\n",
      "INFO:root:64\n",
      "\n",
      "INFO:root:this is the end of the program\n",
      "\n",
      "INFO:root:the loop will begin\n",
      "\n",
      "INFO:root:65\n",
      "\n",
      "INFO:root:65\n",
      "\n",
      "INFO:root:this is the end of the program\n",
      "\n",
      "INFO:root:the loop will begin\n",
      "\n",
      "INFO:root:66\n",
      "\n",
      "INFO:root:66\n",
      "\n",
      "INFO:root:this is the end of the program\n",
      "\n",
      "INFO:root:the loop will begin\n",
      "\n",
      "INFO:root:67\n",
      "\n",
      "INFO:root:67\n",
      "\n",
      "INFO:root:this is the end of the program\n",
      "\n",
      "INFO:root:the loop will begin\n",
      "\n",
      "INFO:root:68\n",
      "\n",
      "INFO:root:68\n",
      "\n",
      "INFO:root:this is the end of the program\n",
      "\n",
      "INFO:root:the loop will begin\n",
      "\n",
      "INFO:root:69\n",
      "\n",
      "INFO:root:69\n",
      "\n",
      "INFO:root:this is the end of the program\n",
      "\n",
      "INFO:root:the loop will begin\n",
      "\n",
      "INFO:root:70\n",
      "\n",
      "INFO:root:70\n",
      "\n",
      "INFO:root:this is the end of the program\n",
      "\n",
      "INFO:root:the loop will begin\n",
      "\n",
      "INFO:root:71\n",
      "\n",
      "INFO:root:71\n",
      "\n",
      "INFO:root:this is the end of the program\n",
      "\n",
      "INFO:root:the loop will begin\n",
      "\n",
      "INFO:root:72\n",
      "\n",
      "INFO:root:72\n",
      "\n",
      "INFO:root:this is the end of the program\n",
      "\n",
      "INFO:root:the loop will begin\n",
      "\n",
      "INFO:root:73\n",
      "\n",
      "INFO:root:73\n",
      "\n",
      "INFO:root:this is the end of the program\n",
      "\n",
      "INFO:root:the loop will begin\n",
      "\n",
      "INFO:root:74\n",
      "\n",
      "INFO:root:74\n",
      "\n",
      "INFO:root:this is the end of the program\n",
      "\n",
      "INFO:root:the loop will begin\n",
      "\n",
      "INFO:root:75\n",
      "\n",
      "INFO:root:75\n",
      "\n",
      "INFO:root:this is the end of the program\n",
      "\n",
      "INFO:root:the loop will begin\n",
      "\n",
      "INFO:root:76\n",
      "\n",
      "INFO:root:76\n",
      "\n",
      "INFO:root:this is the end of the program\n",
      "\n",
      "INFO:root:the loop will begin\n",
      "\n",
      "INFO:root:77\n",
      "\n",
      "INFO:root:77\n",
      "\n",
      "INFO:root:this is the end of the program\n",
      "\n",
      "INFO:root:the loop will begin\n",
      "\n",
      "INFO:root:78\n",
      "\n",
      "INFO:root:78\n",
      "\n",
      "INFO:root:this is the end of the program\n",
      "\n",
      "INFO:root:the loop will begin\n",
      "\n",
      "INFO:root:79\n",
      "\n",
      "INFO:root:79\n",
      "\n",
      "INFO:root:this is the end of the program\n",
      "\n",
      "INFO:root:the loop will begin\n",
      "\n",
      "INFO:root:80\n",
      "\n",
      "INFO:root:80\n",
      "\n",
      "INFO:root:this is the end of the program\n",
      "\n",
      "INFO:root:the loop will begin\n",
      "\n",
      "INFO:root:81\n",
      "\n",
      "INFO:root:81\n",
      "\n",
      "INFO:root:this is the end of the program\n",
      "\n",
      "INFO:root:the loop will begin\n",
      "\n",
      "INFO:root:82\n",
      "\n",
      "INFO:root:82\n",
      "\n",
      "INFO:root:this is the end of the program\n",
      "\n",
      "INFO:root:the loop will begin\n",
      "\n",
      "INFO:root:83\n",
      "\n",
      "INFO:root:83\n",
      "\n",
      "INFO:root:this is the end of the program\n",
      "\n",
      "INFO:root:the loop will begin\n",
      "\n",
      "INFO:root:84\n",
      "\n",
      "INFO:root:84\n",
      "\n",
      "INFO:root:this is the end of the program\n",
      "\n",
      "INFO:root:the loop will begin\n",
      "\n",
      "INFO:root:85\n",
      "\n",
      "INFO:root:85\n",
      "\n",
      "INFO:root:this is the end of the program\n",
      "\n",
      "INFO:root:the loop will begin\n",
      "\n",
      "INFO:root:86\n",
      "\n",
      "INFO:root:86\n",
      "\n",
      "INFO:root:this is the end of the program\n",
      "\n",
      "INFO:root:the loop will begin\n",
      "\n",
      "INFO:root:87\n",
      "\n",
      "INFO:root:87\n",
      "\n",
      "INFO:root:this is the end of the program\n",
      "\n",
      "INFO:root:the loop will begin\n",
      "\n",
      "INFO:root:88\n",
      "\n",
      "INFO:root:88\n",
      "\n",
      "INFO:root:this is the end of the program\n",
      "\n",
      "INFO:root:the loop will begin\n",
      "\n",
      "INFO:root:89\n",
      "\n",
      "INFO:root:89\n",
      "\n",
      "INFO:root:this is the end of the program\n",
      "\n",
      "INFO:root:the loop will begin\n",
      "\n",
      "INFO:root:90\n",
      "\n",
      "INFO:root:90\n",
      "\n",
      "INFO:root:this is the end of the program\n",
      "\n",
      "INFO:root:the loop will begin\n",
      "\n",
      "INFO:root:91\n",
      "\n",
      "INFO:root:91\n",
      "\n",
      "INFO:root:this is the end of the program\n",
      "\n",
      "INFO:root:the loop will begin\n",
      "\n",
      "INFO:root:92\n",
      "\n",
      "INFO:root:92\n",
      "\n",
      "INFO:root:this is the end of the program\n",
      "\n",
      "INFO:root:the loop will begin\n",
      "\n",
      "INFO:root:93\n",
      "\n",
      "INFO:root:93\n",
      "\n",
      "INFO:root:this is the end of the program\n",
      "\n",
      "INFO:root:the loop will begin\n",
      "\n",
      "INFO:root:94\n",
      "\n",
      "INFO:root:94\n",
      "\n",
      "INFO:root:this is the end of the program\n",
      "\n",
      "INFO:root:the loop will begin\n",
      "\n",
      "INFO:root:95\n",
      "\n",
      "INFO:root:95\n",
      "\n",
      "INFO:root:this is the end of the program\n",
      "\n",
      "INFO:root:the loop will begin\n",
      "\n",
      "INFO:root:96\n",
      "\n",
      "INFO:root:96\n",
      "\n",
      "INFO:root:this is the end of the program\n",
      "\n",
      "INFO:root:the loop will begin\n",
      "\n",
      "INFO:root:97\n",
      "\n",
      "INFO:root:97\n",
      "\n",
      "INFO:root:this is the end of the program\n",
      "\n",
      "INFO:root:the loop will begin\n",
      "\n",
      "INFO:root:98\n",
      "\n",
      "INFO:root:98\n",
      "\n",
      "INFO:root:this is the end of the program\n",
      "\n",
      "INFO:root:the loop will begin\n",
      "\n",
      "INFO:root:99\n",
      "\n",
      "INFO:root:99\n",
      "\n",
      "INFO:root:this is the end of the program\n",
      "\n",
      "INFO:root:the loop will begin\n",
      "\n",
      "INFO:root:100\n",
      "\n",
      "INFO:root:100\n",
      "\n",
      "INFO:root:this is the end of the program\n",
      "\n",
      "INFO:root:the loop will begin\n",
      "\n",
      "INFO:root:101\n",
      "\n",
      "INFO:root:101\n",
      "\n",
      "INFO:root:this is the end of the program\n",
      "\n",
      "INFO:root:the loop will begin\n",
      "\n",
      "INFO:root:102\n",
      "\n",
      "INFO:root:102\n",
      "\n",
      "INFO:root:this is the end of the program\n",
      "\n",
      "INFO:root:the loop will begin\n",
      "\n",
      "INFO:root:103\n",
      "\n",
      "INFO:root:103\n",
      "\n",
      "INFO:root:this is the end of the program\n",
      "\n",
      "INFO:root:the loop will begin\n",
      "\n",
      "INFO:root:104\n",
      "\n",
      "INFO:root:104\n",
      "\n",
      "INFO:root:this is the end of the program\n",
      "\n",
      "INFO:root:the loop will begin\n",
      "\n",
      "INFO:root:105\n",
      "\n",
      "INFO:root:105\n",
      "\n",
      "INFO:root:this is the end of the program\n",
      "\n",
      "INFO:root:the loop will begin\n",
      "\n",
      "INFO:root:106\n",
      "\n",
      "INFO:root:106\n",
      "\n",
      "INFO:root:8\n",
      "\n",
      "INFO:root:8\n",
      "\n",
      "INFO:root:the loop will begin\n",
      "\n",
      "INFO:root:8\n",
      "\n",
      "INFO:root:8\n",
      "\n",
      "INFO:root:this is the end of the program\n",
      "\n",
      "INFO:root:9\n",
      "\n",
      "INFO:root:the loop will begin\n",
      "\n",
      "INFO:root:9\n",
      "\n",
      "INFO:root:9\n",
      "\n",
      "INFO:root:this is the end of the program\n",
      "\n",
      "INFO:root:10\n",
      "\n",
      "INFO:root:the loop will begin\n",
      "\n",
      "INFO:root:10\n",
      "\n",
      "INFO:root:10\n",
      "\n",
      "INFO:root:this is the end of the program\n",
      "\n",
      "INFO:root:11\n",
      "\n",
      "INFO:root:the loop will begin\n",
      "\n",
      "INFO:root:11\n",
      "\n",
      "INFO:root:11\n",
      "\n",
      "INFO:root:this is the end of the program\n",
      "\n",
      "INFO:root:12\n",
      "\n",
      "INFO:root:the loop will begin\n",
      "\n",
      "INFO:root:12\n",
      "\n",
      "INFO:root:12\n",
      "\n",
      "INFO:root:this is the end of the program\n",
      "\n",
      "INFO:root:13\n",
      "\n",
      "INFO:root:the loop will begin\n",
      "\n",
      "INFO:root:13\n",
      "\n",
      "INFO:root:13\n",
      "\n",
      "INFO:root:this is the end of the program\n",
      "\n",
      "INFO:root:14\n",
      "\n",
      "INFO:root:the loop will begin\n",
      "\n",
      "INFO:root:14\n",
      "\n",
      "INFO:root:14\n",
      "\n",
      "INFO:root:this is the end of the program\n",
      "\n",
      "INFO:root:15\n",
      "\n",
      "INFO:root:the loop will begin\n",
      "\n",
      "INFO:root:15\n",
      "\n",
      "INFO:root:15\n",
      "\n",
      "INFO:root:this is the end of the program\n",
      "\n",
      "INFO:root:16\n",
      "\n",
      "INFO:root:the loop will begin\n",
      "\n",
      "INFO:root:16\n",
      "\n",
      "INFO:root:16\n",
      "\n",
      "INFO:root:this is the end of the program\n",
      "\n",
      "INFO:root:17\n",
      "\n",
      "INFO:root:the loop will begin\n",
      "\n",
      "INFO:root:17\n",
      "\n",
      "INFO:root:17\n",
      "\n",
      "INFO:root:this is the end of the program\n",
      "\n",
      "INFO:root:18\n",
      "\n",
      "INFO:root:the loop will begin\n",
      "\n",
      "INFO:root:18\n",
      "\n",
      "INFO:root:18\n",
      "\n",
      "INFO:root:this is the end of the program\n",
      "\n",
      "INFO:root:19\n",
      "\n",
      "INFO:root:the loop will begin\n",
      "\n",
      "INFO:root:19\n",
      "\n",
      "INFO:root:19\n",
      "\n",
      "INFO:root:this is the end of the program\n",
      "\n",
      "INFO:root:20\n",
      "\n",
      "INFO:root:the loop will begin\n",
      "\n",
      "INFO:root:20\n",
      "\n",
      "INFO:root:20\n",
      "\n",
      "INFO:root:this is the end of the program\n",
      "\n",
      "INFO:root:21\n",
      "\n",
      "INFO:root:the loop will begin\n",
      "\n",
      "INFO:root:21\n",
      "\n",
      "INFO:root:21\n",
      "\n",
      "INFO:root:this is the end of the program\n",
      "\n",
      "INFO:root:22\n",
      "\n",
      "INFO:root:the loop will begin\n",
      "\n",
      "INFO:root:22\n",
      "\n",
      "INFO:root:22\n",
      "\n",
      "INFO:root:this is the end of the program\n",
      "\n",
      "INFO:root:23\n",
      "\n",
      "INFO:root:the loop will begin\n",
      "\n",
      "INFO:root:23\n",
      "\n",
      "INFO:root:23\n",
      "\n",
      "INFO:root:this is the end of the program\n",
      "\n",
      "INFO:root:24\n",
      "\n",
      "INFO:root:the loop will begin\n",
      "\n",
      "INFO:root:24\n",
      "\n",
      "INFO:root:24\n",
      "\n",
      "INFO:root:this is the end of the program\n",
      "\n",
      "INFO:root:25\n",
      "\n",
      "INFO:root:the loop will begin\n",
      "\n",
      "INFO:root:25\n",
      "\n",
      "INFO:root:25\n",
      "\n",
      "INFO:root:this is the end of the program\n",
      "\n",
      "INFO:root:26\n",
      "\n",
      "INFO:root:the loop will begin\n",
      "\n",
      "INFO:root:26\n",
      "\n",
      "INFO:root:26\n",
      "\n",
      "INFO:root:this is the end of the program\n",
      "\n",
      "INFO:root:27\n",
      "\n",
      "INFO:root:the loop will begin\n",
      "\n",
      "INFO:root:27\n",
      "\n",
      "INFO:root:27\n",
      "\n",
      "INFO:root:this is the end of the program\n",
      "\n",
      "INFO:root:28\n",
      "\n",
      "INFO:root:the loop will begin\n",
      "\n",
      "INFO:root:28\n",
      "\n",
      "INFO:root:28\n",
      "\n",
      "INFO:root:this is the end of the program\n",
      "\n",
      "INFO:root:29\n",
      "\n",
      "INFO:root:the loop will begin\n",
      "\n",
      "INFO:root:29\n",
      "\n",
      "INFO:root:29\n",
      "\n",
      "INFO:root:this is the end of the program\n",
      "\n",
      "INFO:root:30\n",
      "\n",
      "INFO:root:the loop will begin\n",
      "\n",
      "INFO:root:30\n",
      "\n",
      "INFO:root:30\n",
      "\n",
      "INFO:root:this is the end of the program\n",
      "\n",
      "INFO:root:31\n",
      "\n",
      "INFO:root:the loop will begin\n",
      "\n",
      "INFO:root:31\n",
      "\n",
      "INFO:root:31\n",
      "\n",
      "INFO:root:this is the end of the program\n",
      "\n",
      "INFO:root:32\n",
      "\n",
      "INFO:root:the loop will begin\n",
      "\n",
      "INFO:root:32\n",
      "\n",
      "INFO:root:32\n",
      "\n",
      "INFO:root:this is the end of the program\n",
      "\n",
      "INFO:root:33\n",
      "\n",
      "INFO:root:the loop will begin\n",
      "\n",
      "INFO:root:33\n",
      "\n",
      "INFO:root:33\n",
      "\n",
      "INFO:root:this is the end of the program\n",
      "\n",
      "INFO:root:34\n",
      "\n",
      "INFO:root:the loop will begin\n",
      "\n",
      "INFO:root:34\n",
      "\n",
      "INFO:root:34\n",
      "\n",
      "INFO:root:this is the end of the program\n",
      "\n",
      "INFO:root:35\n",
      "\n",
      "INFO:root:the loop will begin\n",
      "\n",
      "INFO:root:35\n",
      "\n",
      "INFO:root:35\n",
      "\n",
      "INFO:root:this is the end of the program\n",
      "\n",
      "INFO:root:36\n",
      "\n",
      "INFO:root:the loop will begin\n",
      "\n",
      "INFO:root:36\n",
      "\n",
      "INFO:root:36\n",
      "\n",
      "INFO:root:this is the end of the program\n",
      "\n",
      "INFO:root:37\n",
      "\n",
      "INFO:root:the loop will begin\n",
      "\n",
      "INFO:root:37\n",
      "\n",
      "INFO:root:37\n",
      "\n",
      "INFO:root:this is the end of the program\n",
      "\n",
      "INFO:root:38\n",
      "\n",
      "INFO:root:the loop will begin\n",
      "\n",
      "INFO:root:38\n",
      "\n",
      "INFO:root:38\n",
      "\n",
      "INFO:root:this is the end of the program\n",
      "\n",
      "INFO:root:39\n",
      "\n",
      "INFO:root:the loop will begin\n",
      "\n",
      "INFO:root:39\n",
      "\n",
      "INFO:root:39\n",
      "\n",
      "INFO:root:this is the end of the program\n",
      "\n",
      "INFO:root:40\n",
      "\n",
      "INFO:root:the loop will begin\n",
      "\n",
      "INFO:root:40\n",
      "\n",
      "INFO:root:40\n",
      "\n",
      "INFO:root:this is the end of the program\n",
      "\n",
      "INFO:root:41\n",
      "\n",
      "INFO:root:the loop will begin\n",
      "\n",
      "INFO:root:41\n",
      "\n",
      "INFO:root:41\n",
      "\n",
      "INFO:root:this is the end of the program\n",
      "\n",
      "INFO:root:42\n",
      "\n",
      "INFO:root:the loop will begin\n",
      "\n",
      "INFO:root:42\n",
      "\n",
      "INFO:root:42\n",
      "\n",
      "INFO:root:this is the end of the program\n",
      "\n",
      "INFO:root:43\n",
      "\n",
      "INFO:root:the loop will begin\n",
      "\n",
      "INFO:root:43\n",
      "\n",
      "INFO:root:43\n",
      "\n",
      "INFO:root:this is the end of the program\n",
      "\n",
      "INFO:root:44\n",
      "\n",
      "INFO:root:the loop will begin\n",
      "\n",
      "INFO:root:44\n",
      "\n",
      "INFO:root:44\n",
      "\n",
      "INFO:root:this is the end of the program\n",
      "\n",
      "INFO:root:45\n",
      "\n",
      "INFO:root:the loop will begin\n",
      "\n",
      "INFO:root:45\n",
      "\n",
      "INFO:root:45\n",
      "\n",
      "INFO:root:this is the end of the program\n",
      "\n",
      "INFO:root:46\n",
      "\n",
      "INFO:root:the loop will begin\n",
      "\n",
      "INFO:root:46\n",
      "\n",
      "INFO:root:46\n",
      "\n",
      "INFO:root:this is the end of the program\n",
      "\n",
      "INFO:root:47\n",
      "\n",
      "INFO:root:the loop will begin\n",
      "\n",
      "INFO:root:47\n",
      "\n",
      "INFO:root:47\n",
      "\n",
      "INFO:root:8\n",
      "\n",
      "INFO:root:8\n",
      "\n",
      "INFO:root:the loop will begin\n",
      "\n",
      "INFO:root:8\n",
      "\n",
      "INFO:root:8\n",
      "\n",
      "INFO:root:this is the end of the program\n",
      "\n",
      "INFO:root:9\n",
      "\n",
      "INFO:root:the loop will begin\n",
      "\n",
      "INFO:root:9\n",
      "\n",
      "INFO:root:9\n",
      "\n",
      "INFO:root:this is the end of the program\n",
      "\n",
      "INFO:root:10\n",
      "\n",
      "INFO:root:the loop will begin\n",
      "\n",
      "INFO:root:10\n",
      "\n",
      "INFO:root:10\n",
      "\n",
      "INFO:root:this is the end of the program\n",
      "\n",
      "INFO:root:11\n",
      "\n",
      "INFO:root:the loop will begin\n",
      "\n",
      "INFO:root:11\n",
      "\n",
      "INFO:root:11\n",
      "\n",
      "INFO:root:this is the end of the program\n",
      "\n",
      "INFO:root:12\n",
      "\n",
      "INFO:root:the loop will begin\n",
      "\n",
      "INFO:root:12\n",
      "\n",
      "INFO:root:12\n",
      "\n",
      "INFO:root:this is the end of the program\n",
      "\n",
      "INFO:root:13\n",
      "\n",
      "INFO:root:the loop will begin\n",
      "\n",
      "INFO:root:13\n",
      "\n",
      "INFO:root:13\n",
      "\n",
      "INFO:root:this is the end of the program\n",
      "\n",
      "INFO:root:14\n",
      "\n",
      "INFO:root:the loop will begin\n",
      "\n",
      "INFO:root:14\n",
      "\n",
      "INFO:root:14\n",
      "\n",
      "INFO:root:this is the end of the program\n",
      "\n",
      "INFO:root:15\n",
      "\n",
      "INFO:root:the loop will begin\n",
      "\n",
      "INFO:root:15\n",
      "\n",
      "INFO:root:15\n",
      "\n",
      "INFO:root:this is the end of the program\n",
      "\n",
      "INFO:root:16\n",
      "\n",
      "INFO:root:the loop will begin\n",
      "\n",
      "INFO:root:16\n",
      "\n",
      "INFO:root:16\n",
      "\n",
      "INFO:root:this is the end of the program\n",
      "\n",
      "INFO:root:17\n",
      "\n",
      "INFO:root:the loop will begin\n",
      "\n",
      "INFO:root:17\n",
      "\n",
      "INFO:root:17\n",
      "\n",
      "INFO:root:this is the end of the program\n",
      "\n",
      "INFO:root:18\n",
      "\n",
      "INFO:root:the loop will begin\n",
      "\n",
      "INFO:root:18\n",
      "\n",
      "INFO:root:18\n",
      "\n",
      "INFO:root:this is the end of the program\n",
      "\n"
     ]
    }
   ],
   "source": [
    "for i in open(\"whileloop.txt\"):\n",
    "    print(i)"
   ]
  },
  {
   "cell_type": "code",
   "execution_count": null,
   "id": "11877203",
   "metadata": {},
   "outputs": [],
   "source": []
  },
  {
   "cell_type": "code",
   "execution_count": null,
   "id": "70a0baac",
   "metadata": {},
   "outputs": [],
   "source": []
  },
  {
   "cell_type": "code",
   "execution_count": null,
   "id": "196bec9d",
   "metadata": {},
   "outputs": [],
   "source": []
  },
  {
   "cell_type": "code",
   "execution_count": null,
   "id": "7e206058",
   "metadata": {},
   "outputs": [],
   "source": []
  }
 ],
 "metadata": {
  "kernelspec": {
   "display_name": "Python 3 (ipykernel)",
   "language": "python",
   "name": "python3"
  },
  "language_info": {
   "codemirror_mode": {
    "name": "ipython",
    "version": 3
   },
   "file_extension": ".py",
   "mimetype": "text/x-python",
   "name": "python",
   "nbconvert_exporter": "python",
   "pygments_lexer": "ipython3",
   "version": "3.11.5"
  }
 },
 "nbformat": 4,
 "nbformat_minor": 5
}
