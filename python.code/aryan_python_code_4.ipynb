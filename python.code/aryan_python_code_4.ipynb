{
 "cells": [
  {
   "cell_type": "code",
   "execution_count": 1,
   "id": "6618b6f6",
   "metadata": {},
   "outputs": [
    {
     "data": {
      "text/plain": [
       "'for loop functions on break'"
      ]
     },
     "execution_count": 1,
     "metadata": {},
     "output_type": "execute_result"
    }
   ],
   "source": [
    "\"for loop functions on break\""
   ]
  },
  {
   "cell_type": "code",
   "execution_count": 2,
   "id": "2c7f8353",
   "metadata": {},
   "outputs": [
    {
     "name": "stdout",
     "output_type": "stream",
     "text": [
      "100 99 98 97 96 95 94 93 92 91 90 89 88 87 86 "
     ]
    }
   ],
   "source": [
    "num = 100\n",
    "while num>=86:\n",
    "    print(num,end=' ')\n",
    "    num = num-1"
   ]
  },
  {
   "cell_type": "code",
   "execution_count": 3,
   "id": "f596e215",
   "metadata": {},
   "outputs": [
    {
     "name": "stdout",
     "output_type": "stream",
     "text": [
      "55\n"
     ]
    }
   ],
   "source": [
    "s =0\n",
    "m = 1\n",
    "n = 10\n",
    "while m<=n:\n",
    "    s = m+s\n",
    "    m =  m+1\n",
    "print(s)\n",
    "    "
   ]
  },
  {
   "cell_type": "code",
   "execution_count": 4,
   "id": "d07233e4",
   "metadata": {},
   "outputs": [
    {
     "data": {
      "text/plain": [
       "42"
      ]
     },
     "execution_count": 4,
     "metadata": {},
     "output_type": "execute_result"
    }
   ],
   "source": [
    "f = [3,4,5,6,7,8,9]\n",
    "from functools import reduce\n",
    "reduce(lambda a,b:a+b,f)"
   ]
  },
  {
   "cell_type": "code",
   "execution_count": 5,
   "id": "cc02b90a",
   "metadata": {},
   "outputs": [
    {
     "name": "stdout",
     "output_type": "stream",
     "text": [
      "120\n"
     ]
    }
   ],
   "source": [
    "# multiplication \n",
    "p = 1 \n",
    "q = 1\n",
    "r= 5\n",
    "while q<= r:\n",
    "    p = p*q\n",
    "    q = q+1\n",
    "print(p)"
   ]
  },
  {
   "cell_type": "code",
   "execution_count": 6,
   "id": "4e9004bf",
   "metadata": {},
   "outputs": [
    {
     "name": "stdout",
     "output_type": "stream",
     "text": [
      "Enter the number that you wants to accomodate : 34\n",
      "34 x 1  = 34\n",
      "34 x 2  = 68\n",
      "34 x 3  = 102\n",
      "34 x 4  = 136\n",
      "34 x 5  = 170\n",
      "34 x 6  = 204\n",
      "34 x 7  = 238\n",
      "34 x 8  = 272\n",
      "34 x 9  = 306\n",
      "34 x 10  = 340\n"
     ]
    }
   ],
   "source": [
    "# table of 18 \n",
    "a = int(input(\"Enter the number that you wants to accomodate : \"))\n",
    "x = 1\n",
    "while x<=10:\n",
    "    i  = a*x\n",
    "    print(a,\"x\",x ,\" =\",i)\n",
    "    x = x+1"
   ]
  },
  {
   "cell_type": "code",
   "execution_count": 9,
   "id": "c56ef7ae",
   "metadata": {},
   "outputs": [
    {
     "name": "stdout",
     "output_type": "stream",
     "text": [
      "8  9  10  11  12  13  14  15  16  17  18  break time is over now \n"
     ]
    }
   ],
   "source": [
    "import time \n",
    "import logging\n",
    "s = 8\n",
    "logging.basicConfig(filename = 'whileloop.txt',level = logging.INFO)\n",
    "logging.info(s)\n",
    "while s<19:\n",
    "    logging.info(s)\n",
    "    logging.info(\"the loop will begin\")\n",
    "    logging.info(s)\n",
    "    print(s,end = '  ')\n",
    "    logging.info(s)\n",
    "    time.sleep(0.61) # in second \n",
    "#     time.sleep(0.3)  # time funtion print s in after 0.3 second \n",
    "#     time.sleep(3)  this function print s in after three second\n",
    "    s = s+1\n",
    "    logging.info(\"this is the end of the program\")\n",
    "print(\"break time is over now \")"
   ]
  },
  {
   "cell_type": "code",
   "execution_count": 14,
   "id": "8fe01a8a",
   "metadata": {},
   "outputs": [
    {
     "name": "stdout",
     "output_type": "stream",
     "text": [
      "Enter the number s to stop the stopwatch :\n",
      "Enter the code to stop the watch\n",
      "Enter the number s to stop the stopwatch :\n",
      "Enter the code to stop the watchs\n",
      "start the class break is over \n"
     ]
    }
   ],
   "source": [
    " # user to stop time when input the s\n",
    "import time\n",
    "stop = False\n",
    "while not stop:  # not stop means True  \n",
    "    print(\"Enter the number s to stop the stopwatch :\" )\n",
    "    time.sleep(2)\n",
    "    a = str(input(\"Enter the code to stop the watch\"))\n",
    "    if a.lower()=='s':\n",
    "          stop = True  # after looping stop == not stop = false then condition false\n",
    "print(\"start the class break is over \")"
   ]
  },
  {
   "cell_type": "code",
   "execution_count": 28,
   "id": "475ce901",
   "metadata": {},
   "outputs": [
    {
     "name": "stdout",
     "output_type": "stream",
     "text": [
      "Enter your registered mobile number :123456789\n",
      "Phone number is varfied\n",
      "Enter the pass: 7899\n",
      "oops! inncorrect password\n",
      "Enter the pass: 780026\n",
      "oops! inncorrect password\n",
      "Enter the pass: 2839\n",
      "oops! inncorrect password\n",
      "your account freeze for 24 hours becoz of the inncorrect passn\n",
      " please loggin after 24 hours\n"
     ]
    }
   ],
   "source": [
    "# In the bank we loogin in the account if \n",
    "# your entered  password is inncorrect more than three time \n",
    "# than freeze the account due to wrong password\n",
    "user_registered_num = int(input(\"Enter your registered mobile number :\"))\n",
    "if user_registered_num == 123456789:\n",
    "    print(\"Phone number is varfied\")\n",
    "    n = 3\n",
    "    while n> 0:\n",
    "        user_pass = int(input(\"Enter the pass: \"))\n",
    "        if user_pass ==2345:\n",
    "            print(\"Logged in the account\")\n",
    "            break\n",
    "            \n",
    "        else:\n",
    "            print(\"oops! inncorrect password\")\n",
    "        \n",
    "        n=n-1 \n",
    "        if n == 0:\n",
    "            print(\"your account freeze for 24 hours becoz of the inncorrect password\\n please loggin after 24 hours\")\n",
    "            \n",
    "else:\n",
    "    print(\"invalid User registered phone no.\")\n",
    "   "
   ]
  },
  {
   "cell_type": "code",
   "execution_count": 15,
   "id": "a8a4cf14",
   "metadata": {},
   "outputs": [
    {
     "name": "stdout",
     "output_type": "stream",
     "text": [
      "Enter your registered id ik\n",
      "inncorrect user id\n"
     ]
    }
   ],
   "source": [
    "# teacher method to solved the problem\n",
    "user_id = \"aryanyadav\"\n",
    "pass_word = \"yadav\"\n",
    "count = 1\n",
    "regis_id = False  # flag 1\n",
    "regis_id = input(\"Enter your registered id \")\n",
    "while count<=3:\n",
    "    if regis_id==user_id:\n",
    "        regis_id = True   # flag\n",
    "    else: \n",
    "        print(\"inncorrect user id\")\n",
    "        break\n",
    "    if regis_id == True:            \n",
    "        password = input(\"Enter the password : \")         \n",
    "        if password == pass_word:\n",
    "            print(\"logged in  the account.\")\n",
    "            break\n",
    "        count = count+1\n",
    "        \n",
    "else:\n",
    "    print(\"sorry you have complete your maximum limit.\")"
   ]
  },
  {
   "cell_type": "code",
   "execution_count": 30,
   "id": "186f647e",
   "metadata": {},
   "outputs": [
    {
     "name": "stdout",
     "output_type": "stream",
     "text": [
      "enter the object that you want to add : hj\n",
      "Enter the y to stop the function: h\n",
      "enter the object that you want to add : y\n",
      "Enter the y to stop the function: y\n",
      "['hj', 'y']\n"
     ]
    }
   ],
   "source": [
    "todo_list = []\n",
    "if_end_code = 'n'\n",
    "while if_end_code != 'y':\n",
    "    add_list = input(\"enter the object that you want to add : \")\n",
    "    todo_list.append(add_list)\n",
    "    if_end_code = input(\"Enter the y to stop the function: \")\n",
    "print(todo_list)"
   ]
  },
  {
   "cell_type": "markdown",
   "id": "404284cb",
   "metadata": {},
   "source": [
    "# recurrsion \n",
    "function inside the function "
   ]
  },
  {
   "cell_type": "code",
   "execution_count": 31,
   "id": "ce51ac4f",
   "metadata": {},
   "outputs": [
    {
     "name": "stdout",
     "output_type": "stream",
     "text": [
      "Enter the factorial :5\n"
     ]
    },
    {
     "data": {
      "text/plain": [
       "120"
      ]
     },
     "execution_count": 31,
     "metadata": {},
     "output_type": "execute_result"
    }
   ],
   "source": [
    "def calc_factorial(i):\n",
    "    if i  == 0:\n",
    "        return 1\n",
    "    else:\n",
    "        return i*calc_factorial(i-1)\n",
    "    \n",
    "x = int(input(\"Enter the factorial :\"))\n",
    "calc_factorial(x)"
   ]
  },
  {
   "cell_type": "code",
   "execution_count": 37,
   "id": "3de4bfc2",
   "metadata": {},
   "outputs": [
    {
     "name": "stdout",
     "output_type": "stream",
     "text": [
      "Enter the number that you wants to multiply :0\n"
     ]
    }
   ],
   "source": [
    "# Multiply the odd number till user input\n",
    "def odd_mult(x):\n",
    "    if x%2!=0:\n",
    "        return x*odd_mult(x-2)\n",
    "num = int(input(\"Enter the number that you wants to multiply :\"))\n",
    "odd_mult(num)"
   ]
  },
  {
   "cell_type": "code",
   "execution_count": 38,
   "id": "7351568e",
   "metadata": {},
   "outputs": [
    {
     "name": "stdout",
     "output_type": "stream",
     "text": [
      "user input :5\n"
     ]
    },
    {
     "data": {
      "text/plain": [
       "5"
      ]
     },
     "execution_count": 38,
     "metadata": {},
     "output_type": "execute_result"
    }
   ],
   "source": [
    "##### fiboncinumber\n",
    "# 0 1 1 2 3 5 8 13 21 34 55 \n",
    "def fib(num):\n",
    "    if num <=1:\n",
    "        return num\n",
    "    else:\n",
    "        return fib(num-1)+fib(num-2) # recirrsive call \n",
    "m= int(input(\"user input :\"))\n",
    "fib(m)"
   ]
  },
  {
   "cell_type": "code",
   "execution_count": 63,
   "id": "77401669",
   "metadata": {},
   "outputs": [
    {
     "data": {
      "text/plain": [
       "65"
      ]
     },
     "execution_count": 63,
     "metadata": {},
     "output_type": "execute_result"
    }
   ],
   "source": [
    "6536//100     # floor division     "
   ]
  },
  {
   "cell_type": "code",
   "execution_count": 117,
   "id": "fa3f1427",
   "metadata": {},
   "outputs": [
    {
     "data": {
      "text/plain": [
       "4"
      ]
     },
     "execution_count": 117,
     "metadata": {},
     "output_type": "execute_result"
    }
   ],
   "source": [
    "234%10 # ==== 4 remainder "
   ]
  },
  {
   "cell_type": "code",
   "execution_count": 39,
   "id": "3d5ce5cd",
   "metadata": {},
   "outputs": [
    {
     "name": "stdout",
     "output_type": "stream",
     "text": [
      "taking user input: 342\n"
     ]
    },
    {
     "data": {
      "text/plain": [
       "9"
      ]
     },
     "execution_count": 39,
     "metadata": {},
     "output_type": "execute_result"
    }
   ],
   "source": [
    "# sum of the the digit in the number  \n",
    "# using recurrsion \n",
    "def sum_of_digits(sum):\n",
    "    if sum <=9:\n",
    "        return sum \n",
    "    else:\n",
    "        return sum%10+sum_of_digits(sum//10)\n",
    "x = int(input(\"taking user input: \"))\n",
    "sum_of_digits(x)"
   ]
  },
  {
   "cell_type": "code",
   "execution_count": 132,
   "id": "2f754b7b",
   "metadata": {},
   "outputs": [],
   "source": [
    "h = [3,35,3,563,650,89,3,54,3 ]"
   ]
  },
  {
   "cell_type": "code",
   "execution_count": 134,
   "id": "ecf5f5da",
   "metadata": {},
   "outputs": [
    {
     "data": {
      "text/plain": [
       "650"
      ]
     },
     "execution_count": 134,
     "metadata": {},
     "output_type": "execute_result"
    }
   ],
   "source": [
    "max(h)"
   ]
  },
  {
   "cell_type": "code",
   "execution_count": 161,
   "id": "9d11faa0",
   "metadata": {},
   "outputs": [
    {
     "data": {
      "text/plain": [
       "650"
      ]
     },
     "execution_count": 161,
     "metadata": {},
     "output_type": "execute_result"
    }
   ],
   "source": [
    "#find the maximum value using the recurrsion \n",
    "h = [3,35,3,563,650,89,3,54,3 ]\n",
    "def mx_value(u):\n",
    "    if len(u)==1:\n",
    "        return u[0]\n",
    "    else:\n",
    "        return max(u[0],mx_value(u[1:]))\n",
    "mx_value([3,35,3,563,650,89,3,54,3 ])"
   ]
  },
  {
   "cell_type": "code",
   "execution_count": 163,
   "id": "4cef8dcb",
   "metadata": {},
   "outputs": [
    {
     "data": {
      "text/plain": [
       "27"
      ]
     },
     "execution_count": 163,
     "metadata": {},
     "output_type": "execute_result"
    }
   ],
   "source": [
    "3**3"
   ]
  },
  {
   "cell_type": "code",
   "execution_count": 40,
   "id": "188cf7b6",
   "metadata": {},
   "outputs": [
    {
     "data": {
      "text/plain": [
       "37822859361"
      ]
     },
     "execution_count": 40,
     "metadata": {},
     "output_type": "execute_result"
    }
   ],
   "source": [
    "# power function \n",
    "pow(-21,8)"
   ]
  },
  {
   "cell_type": "code",
   "execution_count": 171,
   "id": "095ef9e4",
   "metadata": {},
   "outputs": [
    {
     "data": {
      "text/plain": [
       "-64"
      ]
     },
     "execution_count": 171,
     "metadata": {},
     "output_type": "execute_result"
    }
   ],
   "source": [
    "pow(-4,3)\n"
   ]
  },
  {
   "cell_type": "code",
   "execution_count": 44,
   "id": "89fbc81b",
   "metadata": {},
   "outputs": [
    {
     "data": {
      "text/plain": [
       "0.01716529839896184"
      ]
     },
     "execution_count": 44,
     "metadata": {},
     "output_type": "execute_result"
    }
   ],
   "source": [
    "pow(3,-3.7)"
   ]
  },
  {
   "cell_type": "code",
   "execution_count": 176,
   "id": "e62d6eb2",
   "metadata": {},
   "outputs": [
    {
     "data": {
      "text/plain": [
       "0.00017313019390581717"
      ]
     },
     "execution_count": 176,
     "metadata": {},
     "output_type": "execute_result"
    }
   ],
   "source": [
    "76**- 2"
   ]
  },
  {
   "cell_type": "code",
   "execution_count": 47,
   "id": "7147d7bf",
   "metadata": {},
   "outputs": [
    {
     "name": "stdout",
     "output_type": "stream",
     "text": [
      "Enter the user input :  5\n",
      "Enter the user input power :3\n"
     ]
    },
    {
     "data": {
      "text/plain": [
       "125"
      ]
     },
     "execution_count": 47,
     "metadata": {},
     "output_type": "execute_result"
    }
   ],
   "source": [
    "# using recurrsion find the power of function\n",
    "def powr_func(p,q):\n",
    "    if q==0:\n",
    "        return 1\n",
    "    else:\n",
    "        return p*powr_func(p,q-1)\n",
    "w = int(input(\"Enter the user input :  \"))\n",
    "z = int(input(\"Enter the user input power :\"))\n",
    "powr_func(w,z)"
   ]
  },
  {
   "cell_type": "code",
   "execution_count": null,
   "id": "4e8792c4",
   "metadata": {},
   "outputs": [],
   "source": []
  }
 ],
 "metadata": {
  "kernelspec": {
   "display_name": "Python 3 (ipykernel)",
   "language": "python",
   "name": "python3"
  },
  "language_info": {
   "codemirror_mode": {
    "name": "ipython",
    "version": 3
   },
   "file_extension": ".py",
   "mimetype": "text/x-python",
   "name": "python",
   "nbconvert_exporter": "python",
   "pygments_lexer": "ipython3",
   "version": "3.11.5"
  }
 },
 "nbformat": 4,
 "nbformat_minor": 5
}
